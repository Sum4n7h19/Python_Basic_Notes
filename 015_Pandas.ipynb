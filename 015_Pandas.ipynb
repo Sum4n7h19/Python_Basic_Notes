{
 "cells": [
  {
   "cell_type": "markdown",
   "id": "243a91c2-6e57-461b-8fca-2d45c83b5488",
   "metadata": {},
   "source": [
    "<div style='background:#B1F9E3; color:#000000' class='alert alert-box'>\n",
    "  <h1>Pandas</h1>\n",
    "  <p>Pandas is an important library for data scientists. It is an open-source machine learning library that provides flexible high-level data structures and a variety of analysis tools. It eases data analysis, data manipulation, and cleaning of data. Pandas supports operations like sorting, re-indexing, iteration, concatenation, conversion of data, visualizations, aggregations, etc.</p>\n",
    "</div>\n"
   ]
  },
  {
   "cell_type": "code",
   "execution_count": 1,
   "id": "b022c7a5-8443-400b-9a01-7be46d4e3d25",
   "metadata": {},
   "outputs": [],
   "source": [
    "# Importing pandas library\n",
    "import numpy as np\n",
    "import pandas as pd"
   ]
  },
  {
   "cell_type": "code",
   "execution_count": 2,
   "id": "bcaf450f-6701-4e7f-a6ef-d17fec74f4f0",
   "metadata": {},
   "outputs": [],
   "source": [
    "# Creating series object from python list\n",
    "names = ['Vinay','Manohar','Sumanth','Sharath','Nithya','Shanthakumari']"
   ]
  },
  {
   "cell_type": "code",
   "execution_count": 3,
   "id": "65328a94-33d3-4266-8de2-01fabd533454",
   "metadata": {},
   "outputs": [
    {
     "data": {
      "text/plain": [
       "0            Vinay\n",
       "1          Manohar\n",
       "2          Sumanth\n",
       "3          Sharath\n",
       "4           Nithya\n",
       "5    Shanthakumari\n",
       "dtype: object"
      ]
     },
     "execution_count": 3,
     "metadata": {},
     "output_type": "execute_result"
    }
   ],
   "source": [
    "# Converting list to series\n",
    "pd.Series(names)"
   ]
  },
  {
   "cell_type": "code",
   "execution_count": 4,
   "id": "42973c48-5bb5-484f-9052-c5ebd6513548",
   "metadata": {},
   "outputs": [
    {
     "name": "stdout",
     "output_type": "stream",
     "text": [
      "0            Vinay\n",
      "1          Manohar\n",
      "2          Sumanth\n",
      "3          Sharath\n",
      "4           Nithya\n",
      "5    Shanthakumari\n",
      "dtype: object\n"
     ]
    }
   ],
   "source": [
    "# Storing the series to variable\n",
    "df = pd.Series(names)\n",
    "print(df)"
   ]
  },
  {
   "cell_type": "code",
   "execution_count": 5,
   "id": "dd22bf21-8a7d-4c72-b6ac-74160f66d322",
   "metadata": {},
   "outputs": [
    {
     "data": {
      "text/plain": [
       "pandas.core.series.Series"
      ]
     },
     "execution_count": 5,
     "metadata": {},
     "output_type": "execute_result"
    }
   ],
   "source": [
    "# type checking\n",
    "type(df)"
   ]
  },
  {
   "cell_type": "code",
   "execution_count": 6,
   "id": "6fa2833e-3615-4e37-a3ca-9cf0d2ca155f",
   "metadata": {},
   "outputs": [
    {
     "data": {
      "text/plain": [
       "0            Vinay\n",
       "1          Manohar\n",
       "2          Sumanth\n",
       "3          Sharath\n",
       "4           Nithya\n",
       "5    Shanthakumari\n",
       "dtype: object"
      ]
     },
     "execution_count": 6,
     "metadata": {},
     "output_type": "execute_result"
    }
   ],
   "source": [
    "df"
   ]
  },
  {
   "cell_type": "code",
   "execution_count": 7,
   "id": "960573e7-61df-409e-9f18-701b74729fa0",
   "metadata": {},
   "outputs": [
    {
     "data": {
      "text/plain": [
       "0            Vinay\n",
       "1          Manohar\n",
       "2          Sumanth\n",
       "3          Sharath\n",
       "4           Nithya\n",
       "5    Shanthakumari\n",
       "dtype: object"
      ]
     },
     "metadata": {},
     "output_type": "display_data"
    }
   ],
   "source": [
    "# Using display function to display data frame\n",
    "display(df)"
   ]
  },
  {
   "cell_type": "code",
   "execution_count": 8,
   "id": "71d66204-70fa-4ee2-9a3a-c04361de0d09",
   "metadata": {},
   "outputs": [
    {
     "name": "stdout",
     "output_type": "stream",
     "text": [
      "0      1\n",
      "1     34\n",
      "2     65\n",
      "3     78\n",
      "4     32\n",
      "5      6\n",
      "6    889\n",
      "dtype: int64\n"
     ]
    }
   ],
   "source": [
    "# Create a series using numbers\n",
    "num1 = [1,34,65,78,32,6,889]\n",
    "df_1 = pd.Series(num1)\n",
    "print(df_1)"
   ]
  },
  {
   "cell_type": "code",
   "execution_count": 9,
   "id": "5820495b-67a7-44b7-a129-ffd1650ef819",
   "metadata": {},
   "outputs": [
    {
     "name": "stdout",
     "output_type": "stream",
     "text": [
      "0     True\n",
      "1    False\n",
      "2    False\n",
      "3     True\n",
      "dtype: bool\n"
     ]
    }
   ],
   "source": [
    "# Create a series using booleans\n",
    "bools = [True,False,False,True]\n",
    "df_2 = pd.Series(bools)\n",
    "print(df_2)"
   ]
  },
  {
   "cell_type": "code",
   "execution_count": 10,
   "id": "f4718475-e903-4188-afe1-3964894bf83b",
   "metadata": {},
   "outputs": [
    {
     "name": "stdout",
     "output_type": "stream",
     "text": [
      "0      1.230\n",
      "1     34.340\n",
      "2     65.567\n",
      "3     78.678\n",
      "4     32.422\n",
      "5      6.000\n",
      "6    889.000\n",
      "dtype: float64\n"
     ]
    }
   ],
   "source": [
    "# Create a series using Float\n",
    "num2 = [1.23,34.34,65.567,78.678,32.422,6,889.00]\n",
    "df_3 = pd.Series(num2)\n",
    "print(df_3)"
   ]
  },
  {
   "attachments": {
    "502f3f4d-c534-4440-803b-f99c57ae6af7.png": {
     "image/png": "[encoded data removed]"
    }
   },
   "cell_type": "markdown",
   "id": "51242bb1-d6e9-43a6-905b-126386fa91aa",
   "metadata": {},
   "source": [
    "![pandas_dtypes.png](attachment:502f3f4d-c534-4440-803b-f99c57ae6af7.png)"
   ]
  },
  {
   "cell_type": "code",
   "execution_count": 11,
   "id": "66151fd9-cddc-49a0-ad35-365065f62bf3",
   "metadata": {},
   "outputs": [],
   "source": [
    "# Creating a series from dictionary\n",
    "student = {\n",
    "    \"Name\": \"Sumanth\",\n",
    "    \"Age\": 23,\n",
    "    \"Place\": \"Mysore\"\n",
    "}"
   ]
  },
  {
   "cell_type": "code",
   "execution_count": 12,
   "id": "6967d270-82ba-418f-94c7-ac08dd55dc74",
   "metadata": {},
   "outputs": [
    {
     "data": {
      "text/plain": [
       "Name     Sumanth\n",
       "Age           23\n",
       "Place     Mysore\n",
       "dtype: object"
      ]
     },
     "execution_count": 12,
     "metadata": {},
     "output_type": "execute_result"
    }
   ],
   "source": [
    "# Converting dictionry into series\n",
    "pd.Series(student)"
   ]
  },
  {
   "cell_type": "code",
   "execution_count": 13,
   "id": "57146003-5128-432a-8342-f3a1e9bccf9a",
   "metadata": {},
   "outputs": [],
   "source": [
    "# Assigning variable to series\n",
    "df_4 = pd.Series(student)"
   ]
  },
  {
   "cell_type": "code",
   "execution_count": 14,
   "id": "18713706-4d57-4e85-abe6-c90d44f8601a",
   "metadata": {},
   "outputs": [
    {
     "data": {
      "text/plain": [
       "Name     Sumanth\n",
       "Age           23\n",
       "Place     Mysore\n",
       "dtype: object"
      ]
     },
     "execution_count": 14,
     "metadata": {},
     "output_type": "execute_result"
    }
   ],
   "source": [
    "df_4"
   ]
  },
  {
   "cell_type": "code",
   "execution_count": 15,
   "id": "120c9b6d-1300-4b58-8d64-836f4d853b0f",
   "metadata": {},
   "outputs": [
    {
     "data": {
      "text/html": [
       "<div>\n",
       "<style scoped>\n",
       "    .dataframe tbody tr th:only-of-type {\n",
       "        vertical-align: middle;\n",
       "    }\n",
       "\n",
       "    .dataframe tbody tr th {\n",
       "        vertical-align: top;\n",
       "    }\n",
       "\n",
       "    .dataframe thead th {\n",
       "        text-align: right;\n",
       "    }\n",
       "</style>\n",
       "<table border=\"1\" class=\"dataframe\">\n",
       "  <thead>\n",
       "    <tr style=\"text-align: right;\">\n",
       "      <th></th>\n",
       "      <th>NAME</th>\n",
       "      <th>Age</th>\n",
       "      <th>Height</th>\n",
       "      <th>salary</th>\n",
       "    </tr>\n",
       "  </thead>\n",
       "  <tbody>\n",
       "    <tr>\n",
       "      <th>0</th>\n",
       "      <td>ADITHIA M</td>\n",
       "      <td>22</td>\n",
       "      <td>153</td>\n",
       "      <td>15000</td>\n",
       "    </tr>\n",
       "    <tr>\n",
       "      <th>1</th>\n",
       "      <td>DIVYA R</td>\n",
       "      <td>22</td>\n",
       "      <td>156</td>\n",
       "      <td>15000</td>\n",
       "    </tr>\n",
       "    <tr>\n",
       "      <th>2</th>\n",
       "      <td>HARSHITHA</td>\n",
       "      <td>25</td>\n",
       "      <td>152</td>\n",
       "      <td>17000</td>\n",
       "    </tr>\n",
       "    <tr>\n",
       "      <th>3</th>\n",
       "      <td>HARSHITHA K</td>\n",
       "      <td>21</td>\n",
       "      <td>152</td>\n",
       "      <td>16000</td>\n",
       "    </tr>\n",
       "    <tr>\n",
       "      <th>4</th>\n",
       "      <td>INCHARA R</td>\n",
       "      <td>22</td>\n",
       "      <td>167</td>\n",
       "      <td>19000</td>\n",
       "    </tr>\n",
       "    <tr>\n",
       "      <th>5</th>\n",
       "      <td>MANOJ K</td>\n",
       "      <td>23</td>\n",
       "      <td>180</td>\n",
       "      <td>15000</td>\n",
       "    </tr>\n",
       "    <tr>\n",
       "      <th>6</th>\n",
       "      <td>NIDHA C P</td>\n",
       "      <td>22</td>\n",
       "      <td>153</td>\n",
       "      <td>17000</td>\n",
       "    </tr>\n",
       "    <tr>\n",
       "      <th>7</th>\n",
       "      <td>NIRANJAN</td>\n",
       "      <td>23</td>\n",
       "      <td>170</td>\n",
       "      <td>15699</td>\n",
       "    </tr>\n",
       "    <tr>\n",
       "      <th>8</th>\n",
       "      <td>NITHYA D PAL</td>\n",
       "      <td>23</td>\n",
       "      <td>150</td>\n",
       "      <td>17800</td>\n",
       "    </tr>\n",
       "    <tr>\n",
       "      <th>9</th>\n",
       "      <td>PAVAN KUMAR G</td>\n",
       "      <td>22</td>\n",
       "      <td>170</td>\n",
       "      <td>18900</td>\n",
       "    </tr>\n",
       "    <tr>\n",
       "      <th>10</th>\n",
       "      <td>SHIVASHANKAR AMBEDKAR</td>\n",
       "      <td>22</td>\n",
       "      <td>150</td>\n",
       "      <td>16483</td>\n",
       "    </tr>\n",
       "    <tr>\n",
       "      <th>11</th>\n",
       "      <td>SAGAR D S</td>\n",
       "      <td>23</td>\n",
       "      <td>182</td>\n",
       "      <td>18094</td>\n",
       "    </tr>\n",
       "    <tr>\n",
       "      <th>12</th>\n",
       "      <td>SANJAY N</td>\n",
       "      <td>23</td>\n",
       "      <td>170</td>\n",
       "      <td>19172</td>\n",
       "    </tr>\n",
       "    <tr>\n",
       "      <th>13</th>\n",
       "      <td>SANJOK CHAWHAN</td>\n",
       "      <td>23</td>\n",
       "      <td>155</td>\n",
       "      <td>17882</td>\n",
       "    </tr>\n",
       "    <tr>\n",
       "      <th>14</th>\n",
       "      <td>SHANTHAKUMARI K</td>\n",
       "      <td>21</td>\n",
       "      <td>164</td>\n",
       "      <td>18904</td>\n",
       "    </tr>\n",
       "    <tr>\n",
       "      <th>15</th>\n",
       "      <td>SHARATHKUMAR K C</td>\n",
       "      <td>22</td>\n",
       "      <td>185</td>\n",
       "      <td>17989</td>\n",
       "    </tr>\n",
       "    <tr>\n",
       "      <th>16</th>\n",
       "      <td>SHIVAPRASAD N</td>\n",
       "      <td>23</td>\n",
       "      <td>172</td>\n",
       "      <td>15704</td>\n",
       "    </tr>\n",
       "    <tr>\n",
       "      <th>17</th>\n",
       "      <td>SUMANTH M</td>\n",
       "      <td>23</td>\n",
       "      <td>165</td>\n",
       "      <td>16009</td>\n",
       "    </tr>\n",
       "    <tr>\n",
       "      <th>18</th>\n",
       "      <td>YASHASWINI G K</td>\n",
       "      <td>22</td>\n",
       "      <td>150</td>\n",
       "      <td>18009</td>\n",
       "    </tr>\n",
       "  </tbody>\n",
       "</table>\n",
       "</div>"
      ],
      "text/plain": [
       "                     NAME  Age  Height  salary\n",
       "0               ADITHIA M   22     153   15000\n",
       "1                 DIVYA R   22     156   15000\n",
       "2               HARSHITHA   25     152   17000\n",
       "3             HARSHITHA K   21     152   16000\n",
       "4               INCHARA R   22     167   19000\n",
       "5                 MANOJ K   23     180   15000\n",
       "6               NIDHA C P   22     153   17000\n",
       "7                NIRANJAN   23     170   15699\n",
       "8            NITHYA D PAL   23     150   17800\n",
       "9           PAVAN KUMAR G   22     170   18900\n",
       "10  SHIVASHANKAR AMBEDKAR   22     150   16483\n",
       "11              SAGAR D S   23     182   18094\n",
       "12               SANJAY N   23     170   19172\n",
       "13         SANJOK CHAWHAN   23     155   17882\n",
       "14        SHANTHAKUMARI K   21     164   18904\n",
       "15       SHARATHKUMAR K C   22     185   17989\n",
       "16          SHIVAPRASAD N   23     172   15704\n",
       "17             SUMANTH M    23     165   16009\n",
       "18         YASHASWINI G K   22     150   18009"
      ]
     },
     "execution_count": 15,
     "metadata": {},
     "output_type": "execute_result"
    }
   ],
   "source": [
    "# Creating a series from dataset (csv)\n",
    "pd.read_csv(\"employees.csv\")"
   ]
  },
  {
   "cell_type": "code",
   "execution_count": 16,
   "id": "c9037034-01c6-48f4-9897-a87fbf859676",
   "metadata": {},
   "outputs": [],
   "source": [
    "# Storing the csv file in a variable\n",
    "dfEmp = pd.read_csv(\"employees.csv\")"
   ]
  },
  {
   "cell_type": "code",
   "execution_count": 17,
   "id": "4dbc9d25-cc6c-4f48-86d1-5d490e2ed431",
   "metadata": {},
   "outputs": [
    {
     "data": {
      "text/plain": [
       "pandas.core.frame.DataFrame"
      ]
     },
     "execution_count": 17,
     "metadata": {},
     "output_type": "execute_result"
    }
   ],
   "source": [
    "# Type checking\n",
    "type(dfEmp)"
   ]
  },
  {
   "cell_type": "code",
   "execution_count": 18,
   "id": "a6a6d888-f699-46e3-a7a3-2f17073448b7",
   "metadata": {},
   "outputs": [
    {
     "name": "stdout",
     "output_type": "stream",
     "text": [
      "                     NAME  Age  Height  salary\n",
      "0               ADITHIA M   22     153   15000\n",
      "1                 DIVYA R   22     156   15000\n",
      "2               HARSHITHA   25     152   17000\n",
      "3             HARSHITHA K   21     152   16000\n",
      "4               INCHARA R   22     167   19000\n",
      "5                 MANOJ K   23     180   15000\n",
      "6               NIDHA C P   22     153   17000\n",
      "7                NIRANJAN   23     170   15699\n",
      "8            NITHYA D PAL   23     150   17800\n",
      "9           PAVAN KUMAR G   22     170   18900\n",
      "10  SHIVASHANKAR AMBEDKAR   22     150   16483\n",
      "11              SAGAR D S   23     182   18094\n",
      "12               SANJAY N   23     170   19172\n",
      "13         SANJOK CHAWHAN   23     155   17882\n",
      "14        SHANTHAKUMARI K   21     164   18904\n",
      "15       SHARATHKUMAR K C   22     185   17989\n",
      "16          SHIVAPRASAD N   23     172   15704\n",
      "17             SUMANTH M    23     165   16009\n",
      "18         YASHASWINI G K   22     150   18009\n"
     ]
    }
   ],
   "source": [
    "# using print function to display data frame\n",
    "print(dfEmp)"
   ]
  },
  {
   "cell_type": "code",
   "execution_count": 19,
   "id": "538edd1f-382a-4dc3-986e-64b5a916c48a",
   "metadata": {},
   "outputs": [
    {
     "data": {
      "text/html": [
       "<div>\n",
       "<style scoped>\n",
       "    .dataframe tbody tr th:only-of-type {\n",
       "        vertical-align: middle;\n",
       "    }\n",
       "\n",
       "    .dataframe tbody tr th {\n",
       "        vertical-align: top;\n",
       "    }\n",
       "\n",
       "    .dataframe thead th {\n",
       "        text-align: right;\n",
       "    }\n",
       "</style>\n",
       "<table border=\"1\" class=\"dataframe\">\n",
       "  <thead>\n",
       "    <tr style=\"text-align: right;\">\n",
       "      <th></th>\n",
       "      <th>NAME</th>\n",
       "      <th>Age</th>\n",
       "      <th>Height</th>\n",
       "      <th>salary</th>\n",
       "    </tr>\n",
       "  </thead>\n",
       "  <tbody>\n",
       "    <tr>\n",
       "      <th>0</th>\n",
       "      <td>ADITHIA M</td>\n",
       "      <td>22</td>\n",
       "      <td>153</td>\n",
       "      <td>15000</td>\n",
       "    </tr>\n",
       "    <tr>\n",
       "      <th>1</th>\n",
       "      <td>DIVYA R</td>\n",
       "      <td>22</td>\n",
       "      <td>156</td>\n",
       "      <td>15000</td>\n",
       "    </tr>\n",
       "    <tr>\n",
       "      <th>2</th>\n",
       "      <td>HARSHITHA</td>\n",
       "      <td>25</td>\n",
       "      <td>152</td>\n",
       "      <td>17000</td>\n",
       "    </tr>\n",
       "    <tr>\n",
       "      <th>3</th>\n",
       "      <td>HARSHITHA K</td>\n",
       "      <td>21</td>\n",
       "      <td>152</td>\n",
       "      <td>16000</td>\n",
       "    </tr>\n",
       "    <tr>\n",
       "      <th>4</th>\n",
       "      <td>INCHARA R</td>\n",
       "      <td>22</td>\n",
       "      <td>167</td>\n",
       "      <td>19000</td>\n",
       "    </tr>\n",
       "    <tr>\n",
       "      <th>5</th>\n",
       "      <td>MANOJ K</td>\n",
       "      <td>23</td>\n",
       "      <td>180</td>\n",
       "      <td>15000</td>\n",
       "    </tr>\n",
       "    <tr>\n",
       "      <th>6</th>\n",
       "      <td>NIDHA C P</td>\n",
       "      <td>22</td>\n",
       "      <td>153</td>\n",
       "      <td>17000</td>\n",
       "    </tr>\n",
       "    <tr>\n",
       "      <th>7</th>\n",
       "      <td>NIRANJAN</td>\n",
       "      <td>23</td>\n",
       "      <td>170</td>\n",
       "      <td>15699</td>\n",
       "    </tr>\n",
       "    <tr>\n",
       "      <th>8</th>\n",
       "      <td>NITHYA D PAL</td>\n",
       "      <td>23</td>\n",
       "      <td>150</td>\n",
       "      <td>17800</td>\n",
       "    </tr>\n",
       "    <tr>\n",
       "      <th>9</th>\n",
       "      <td>PAVAN KUMAR G</td>\n",
       "      <td>22</td>\n",
       "      <td>170</td>\n",
       "      <td>18900</td>\n",
       "    </tr>\n",
       "    <tr>\n",
       "      <th>10</th>\n",
       "      <td>SHIVASHANKAR AMBEDKAR</td>\n",
       "      <td>22</td>\n",
       "      <td>150</td>\n",
       "      <td>16483</td>\n",
       "    </tr>\n",
       "    <tr>\n",
       "      <th>11</th>\n",
       "      <td>SAGAR D S</td>\n",
       "      <td>23</td>\n",
       "      <td>182</td>\n",
       "      <td>18094</td>\n",
       "    </tr>\n",
       "    <tr>\n",
       "      <th>12</th>\n",
       "      <td>SANJAY N</td>\n",
       "      <td>23</td>\n",
       "      <td>170</td>\n",
       "      <td>19172</td>\n",
       "    </tr>\n",
       "    <tr>\n",
       "      <th>13</th>\n",
       "      <td>SANJOK CHAWHAN</td>\n",
       "      <td>23</td>\n",
       "      <td>155</td>\n",
       "      <td>17882</td>\n",
       "    </tr>\n",
       "    <tr>\n",
       "      <th>14</th>\n",
       "      <td>SHANTHAKUMARI K</td>\n",
       "      <td>21</td>\n",
       "      <td>164</td>\n",
       "      <td>18904</td>\n",
       "    </tr>\n",
       "    <tr>\n",
       "      <th>15</th>\n",
       "      <td>SHARATHKUMAR K C</td>\n",
       "      <td>22</td>\n",
       "      <td>185</td>\n",
       "      <td>17989</td>\n",
       "    </tr>\n",
       "    <tr>\n",
       "      <th>16</th>\n",
       "      <td>SHIVAPRASAD N</td>\n",
       "      <td>23</td>\n",
       "      <td>172</td>\n",
       "      <td>15704</td>\n",
       "    </tr>\n",
       "    <tr>\n",
       "      <th>17</th>\n",
       "      <td>SUMANTH M</td>\n",
       "      <td>23</td>\n",
       "      <td>165</td>\n",
       "      <td>16009</td>\n",
       "    </tr>\n",
       "    <tr>\n",
       "      <th>18</th>\n",
       "      <td>YASHASWINI G K</td>\n",
       "      <td>22</td>\n",
       "      <td>150</td>\n",
       "      <td>18009</td>\n",
       "    </tr>\n",
       "  </tbody>\n",
       "</table>\n",
       "</div>"
      ],
      "text/plain": [
       "                     NAME  Age  Height  salary\n",
       "0               ADITHIA M   22     153   15000\n",
       "1                 DIVYA R   22     156   15000\n",
       "2               HARSHITHA   25     152   17000\n",
       "3             HARSHITHA K   21     152   16000\n",
       "4               INCHARA R   22     167   19000\n",
       "5                 MANOJ K   23     180   15000\n",
       "6               NIDHA C P   22     153   17000\n",
       "7                NIRANJAN   23     170   15699\n",
       "8            NITHYA D PAL   23     150   17800\n",
       "9           PAVAN KUMAR G   22     170   18900\n",
       "10  SHIVASHANKAR AMBEDKAR   22     150   16483\n",
       "11              SAGAR D S   23     182   18094\n",
       "12               SANJAY N   23     170   19172\n",
       "13         SANJOK CHAWHAN   23     155   17882\n",
       "14        SHANTHAKUMARI K   21     164   18904\n",
       "15       SHARATHKUMAR K C   22     185   17989\n",
       "16          SHIVAPRASAD N   23     172   15704\n",
       "17             SUMANTH M    23     165   16009\n",
       "18         YASHASWINI G K   22     150   18009"
      ]
     },
     "metadata": {},
     "output_type": "display_data"
    }
   ],
   "source": [
    "# Using display function to properly display data frame\n",
    "display(dfEmp)"
   ]
  },
  {
   "cell_type": "code",
   "execution_count": 20,
   "id": "9fe1d31f-15b4-4251-9092-9cd721a69fb9",
   "metadata": {},
   "outputs": [
    {
     "data": {
      "text/html": [
       "<div>\n",
       "<style scoped>\n",
       "    .dataframe tbody tr th:only-of-type {\n",
       "        vertical-align: middle;\n",
       "    }\n",
       "\n",
       "    .dataframe tbody tr th {\n",
       "        vertical-align: top;\n",
       "    }\n",
       "\n",
       "    .dataframe thead th {\n",
       "        text-align: right;\n",
       "    }\n",
       "</style>\n",
       "<table border=\"1\" class=\"dataframe\">\n",
       "  <thead>\n",
       "    <tr style=\"text-align: right;\">\n",
       "      <th></th>\n",
       "      <th>NAME</th>\n",
       "      <th>salary</th>\n",
       "    </tr>\n",
       "  </thead>\n",
       "  <tbody>\n",
       "    <tr>\n",
       "      <th>0</th>\n",
       "      <td>ADITHIA M</td>\n",
       "      <td>15000</td>\n",
       "    </tr>\n",
       "    <tr>\n",
       "      <th>1</th>\n",
       "      <td>DIVYA R</td>\n",
       "      <td>15000</td>\n",
       "    </tr>\n",
       "    <tr>\n",
       "      <th>2</th>\n",
       "      <td>HARSHITHA</td>\n",
       "      <td>17000</td>\n",
       "    </tr>\n",
       "    <tr>\n",
       "      <th>3</th>\n",
       "      <td>HARSHITHA K</td>\n",
       "      <td>16000</td>\n",
       "    </tr>\n",
       "    <tr>\n",
       "      <th>4</th>\n",
       "      <td>INCHARA R</td>\n",
       "      <td>19000</td>\n",
       "    </tr>\n",
       "    <tr>\n",
       "      <th>5</th>\n",
       "      <td>MANOJ K</td>\n",
       "      <td>15000</td>\n",
       "    </tr>\n",
       "    <tr>\n",
       "      <th>6</th>\n",
       "      <td>NIDHA C P</td>\n",
       "      <td>17000</td>\n",
       "    </tr>\n",
       "    <tr>\n",
       "      <th>7</th>\n",
       "      <td>NIRANJAN</td>\n",
       "      <td>15699</td>\n",
       "    </tr>\n",
       "    <tr>\n",
       "      <th>8</th>\n",
       "      <td>NITHYA D PAL</td>\n",
       "      <td>17800</td>\n",
       "    </tr>\n",
       "    <tr>\n",
       "      <th>9</th>\n",
       "      <td>PAVAN KUMAR G</td>\n",
       "      <td>18900</td>\n",
       "    </tr>\n",
       "    <tr>\n",
       "      <th>10</th>\n",
       "      <td>SHIVASHANKAR AMBEDKAR</td>\n",
       "      <td>16483</td>\n",
       "    </tr>\n",
       "    <tr>\n",
       "      <th>11</th>\n",
       "      <td>SAGAR D S</td>\n",
       "      <td>18094</td>\n",
       "    </tr>\n",
       "    <tr>\n",
       "      <th>12</th>\n",
       "      <td>SANJAY N</td>\n",
       "      <td>19172</td>\n",
       "    </tr>\n",
       "    <tr>\n",
       "      <th>13</th>\n",
       "      <td>SANJOK CHAWHAN</td>\n",
       "      <td>17882</td>\n",
       "    </tr>\n",
       "    <tr>\n",
       "      <th>14</th>\n",
       "      <td>SHANTHAKUMARI K</td>\n",
       "      <td>18904</td>\n",
       "    </tr>\n",
       "    <tr>\n",
       "      <th>15</th>\n",
       "      <td>SHARATHKUMAR K C</td>\n",
       "      <td>17989</td>\n",
       "    </tr>\n",
       "    <tr>\n",
       "      <th>16</th>\n",
       "      <td>SHIVAPRASAD N</td>\n",
       "      <td>15704</td>\n",
       "    </tr>\n",
       "    <tr>\n",
       "      <th>17</th>\n",
       "      <td>SUMANTH M</td>\n",
       "      <td>16009</td>\n",
       "    </tr>\n",
       "    <tr>\n",
       "      <th>18</th>\n",
       "      <td>YASHASWINI G K</td>\n",
       "      <td>18009</td>\n",
       "    </tr>\n",
       "  </tbody>\n",
       "</table>\n",
       "</div>"
      ],
      "text/plain": [
       "                     NAME  salary\n",
       "0               ADITHIA M   15000\n",
       "1                 DIVYA R   15000\n",
       "2               HARSHITHA   17000\n",
       "3             HARSHITHA K   16000\n",
       "4               INCHARA R   19000\n",
       "5                 MANOJ K   15000\n",
       "6               NIDHA C P   17000\n",
       "7                NIRANJAN   15699\n",
       "8            NITHYA D PAL   17800\n",
       "9           PAVAN KUMAR G   18900\n",
       "10  SHIVASHANKAR AMBEDKAR   16483\n",
       "11              SAGAR D S   18094\n",
       "12               SANJAY N   19172\n",
       "13         SANJOK CHAWHAN   17882\n",
       "14        SHANTHAKUMARI K   18904\n",
       "15       SHARATHKUMAR K C   17989\n",
       "16          SHIVAPRASAD N   15704\n",
       "17             SUMANTH M    16009\n",
       "18         YASHASWINI G K   18009"
      ]
     },
     "metadata": {},
     "output_type": "display_data"
    }
   ],
   "source": [
    "# Reading a specific columns from csv\n",
    "requiredCol = ['NAME','salary']\n",
    "dfEmp1 = pd.read_csv(\"employees.csv\",usecols=requiredCol) \n",
    "display(dfEmp1)"
   ]
  },
  {
   "cell_type": "code",
   "execution_count": 21,
   "id": "f0aee963-5e29-420a-8522-570844d6cad7",
   "metadata": {},
   "outputs": [
    {
     "data": {
      "text/plain": [
       "array([['ADITHIA M', 15000],\n",
       "       ['DIVYA R', 15000],\n",
       "       ['HARSHITHA', 17000],\n",
       "       ['HARSHITHA K', 16000],\n",
       "       ['INCHARA R', 19000],\n",
       "       ['MANOJ K', 15000],\n",
       "       ['NIDHA C P', 17000],\n",
       "       ['NIRANJAN', 15699],\n",
       "       ['NITHYA D PAL', 17800],\n",
       "       ['PAVAN KUMAR G', 18900],\n",
       "       ['SHIVASHANKAR AMBEDKAR', 16483],\n",
       "       ['SAGAR D S', 18094],\n",
       "       ['SANJAY N', 19172],\n",
       "       ['SANJOK CHAWHAN', 17882],\n",
       "       ['SHANTHAKUMARI K', 18904],\n",
       "       ['SHARATHKUMAR K C', 17989],\n",
       "       ['SHIVAPRASAD N', 15704],\n",
       "       ['SUMANTH M ', 16009],\n",
       "       ['YASHASWINI G K', 18009]], dtype=object)"
      ]
     },
     "execution_count": 21,
     "metadata": {},
     "output_type": "execute_result"
    }
   ],
   "source": [
    "# Attributes of pandas series\n",
    "dfEmp1.values"
   ]
  },
  {
   "cell_type": "code",
   "execution_count": 22,
   "id": "848fe064-147c-4e15-a95a-58ebacad4c27",
   "metadata": {},
   "outputs": [
    {
     "data": {
      "text/plain": [
       "RangeIndex(start=0, stop=19, step=1)"
      ]
     },
     "execution_count": 22,
     "metadata": {},
     "output_type": "execute_result"
    }
   ],
   "source": [
    "# Checking index in dataframe\n",
    "dfEmp1.index"
   ]
  },
  {
   "cell_type": "code",
   "execution_count": 23,
   "id": "84fc98ba-2099-4752-a031-1319a6255ea7",
   "metadata": {},
   "outputs": [
    {
     "data": {
      "text/plain": [
       "NAME      object\n",
       "salary     int64\n",
       "dtype: object"
      ]
     },
     "execution_count": 23,
     "metadata": {},
     "output_type": "execute_result"
    }
   ],
   "source": [
    "# Checking data types in the dataframe\n",
    "dfEmp1.dtypes"
   ]
  },
  {
   "cell_type": "code",
   "execution_count": 24,
   "id": "f5fa7f39-27fd-4fac-8c1d-e6c5feab7373",
   "metadata": {},
   "outputs": [
    {
     "name": "stdout",
     "output_type": "stream",
     "text": [
      "<class 'pandas.core.frame.DataFrame'>\n",
      "RangeIndex: 19 entries, 0 to 18\n",
      "Data columns (total 2 columns):\n",
      " #   Column  Non-Null Count  Dtype \n",
      "---  ------  --------------  ----- \n",
      " 0   NAME    19 non-null     object\n",
      " 1   salary  19 non-null     int64 \n",
      "dtypes: int64(1), object(1)\n",
      "memory usage: 436.0+ bytes\n"
     ]
    }
   ],
   "source": [
    "# Checking data types using info function in the dataframe\n",
    "dfEmp1.info()"
   ]
  },
  {
   "cell_type": "code",
   "execution_count": 25,
   "id": "7781ef4a-4577-4aaa-a01c-96d455946036",
   "metadata": {},
   "outputs": [
    {
     "data": {
      "text/plain": [
       "0     15000.0\n",
       "1     15000.0\n",
       "2     17000.0\n",
       "3     16000.0\n",
       "4     19000.0\n",
       "5     15000.0\n",
       "6     17000.0\n",
       "7     15699.0\n",
       "8     17800.0\n",
       "9     18900.0\n",
       "10    16483.0\n",
       "11    18094.0\n",
       "12    19172.0\n",
       "13    17882.0\n",
       "14    18904.0\n",
       "15    17989.0\n",
       "16    15704.0\n",
       "17    16009.0\n",
       "18    18009.0\n",
       "Name: salary, dtype: float64"
      ]
     },
     "execution_count": 25,
     "metadata": {},
     "output_type": "execute_result"
    }
   ],
   "source": [
    "# Converting salary dtype from object to int\n",
    "# Typecasting\n",
    "dfEmp1['salary'].astype('float64')"
   ]
  },
  {
   "cell_type": "code",
   "execution_count": 26,
   "id": "47d27ee3-8894-400b-bfaa-9b30f97f38cd",
   "metadata": {},
   "outputs": [
    {
     "name": "stdout",
     "output_type": "stream",
     "text": [
      "<class 'pandas.core.frame.DataFrame'>\n",
      "RangeIndex: 19 entries, 0 to 18\n",
      "Data columns (total 2 columns):\n",
      " #   Column  Non-Null Count  Dtype \n",
      "---  ------  --------------  ----- \n",
      " 0   NAME    19 non-null     object\n",
      " 1   salary  19 non-null     int64 \n",
      "dtypes: int64(1), object(1)\n",
      "memory usage: 436.0+ bytes\n"
     ]
    }
   ],
   "source": [
    "# Checking data types using info function in the dataframe\n",
    "dfEmp1.info()"
   ]
  },
  {
   "cell_type": "code",
   "execution_count": 27,
   "id": "7f30e7a7-6705-4b0f-81dc-712e22a3c77f",
   "metadata": {},
   "outputs": [
    {
     "data": {
      "text/html": [
       "<div>\n",
       "<style scoped>\n",
       "    .dataframe tbody tr th:only-of-type {\n",
       "        vertical-align: middle;\n",
       "    }\n",
       "\n",
       "    .dataframe tbody tr th {\n",
       "        vertical-align: top;\n",
       "    }\n",
       "\n",
       "    .dataframe thead th {\n",
       "        text-align: right;\n",
       "    }\n",
       "</style>\n",
       "<table border=\"1\" class=\"dataframe\">\n",
       "  <thead>\n",
       "    <tr style=\"text-align: right;\">\n",
       "      <th></th>\n",
       "      <th>NAME</th>\n",
       "      <th>salary</th>\n",
       "    </tr>\n",
       "  </thead>\n",
       "  <tbody>\n",
       "    <tr>\n",
       "      <th>0</th>\n",
       "      <td>ADITHIA M</td>\n",
       "      <td>15000</td>\n",
       "    </tr>\n",
       "    <tr>\n",
       "      <th>1</th>\n",
       "      <td>DIVYA R</td>\n",
       "      <td>15000</td>\n",
       "    </tr>\n",
       "    <tr>\n",
       "      <th>2</th>\n",
       "      <td>HARSHITHA</td>\n",
       "      <td>17000</td>\n",
       "    </tr>\n",
       "    <tr>\n",
       "      <th>3</th>\n",
       "      <td>HARSHITHA K</td>\n",
       "      <td>16000</td>\n",
       "    </tr>\n",
       "    <tr>\n",
       "      <th>4</th>\n",
       "      <td>INCHARA R</td>\n",
       "      <td>19000</td>\n",
       "    </tr>\n",
       "    <tr>\n",
       "      <th>5</th>\n",
       "      <td>MANOJ K</td>\n",
       "      <td>15000</td>\n",
       "    </tr>\n",
       "    <tr>\n",
       "      <th>6</th>\n",
       "      <td>NIDHA C P</td>\n",
       "      <td>17000</td>\n",
       "    </tr>\n",
       "    <tr>\n",
       "      <th>7</th>\n",
       "      <td>NIRANJAN</td>\n",
       "      <td>15699</td>\n",
       "    </tr>\n",
       "    <tr>\n",
       "      <th>8</th>\n",
       "      <td>NITHYA D PAL</td>\n",
       "      <td>17800</td>\n",
       "    </tr>\n",
       "    <tr>\n",
       "      <th>9</th>\n",
       "      <td>PAVAN KUMAR G</td>\n",
       "      <td>18900</td>\n",
       "    </tr>\n",
       "    <tr>\n",
       "      <th>10</th>\n",
       "      <td>SHIVASHANKAR AMBEDKAR</td>\n",
       "      <td>16483</td>\n",
       "    </tr>\n",
       "    <tr>\n",
       "      <th>11</th>\n",
       "      <td>SAGAR D S</td>\n",
       "      <td>18094</td>\n",
       "    </tr>\n",
       "    <tr>\n",
       "      <th>12</th>\n",
       "      <td>SANJAY N</td>\n",
       "      <td>19172</td>\n",
       "    </tr>\n",
       "    <tr>\n",
       "      <th>13</th>\n",
       "      <td>SANJOK CHAWHAN</td>\n",
       "      <td>17882</td>\n",
       "    </tr>\n",
       "    <tr>\n",
       "      <th>14</th>\n",
       "      <td>SHANTHAKUMARI K</td>\n",
       "      <td>18904</td>\n",
       "    </tr>\n",
       "    <tr>\n",
       "      <th>15</th>\n",
       "      <td>SHARATHKUMAR K C</td>\n",
       "      <td>17989</td>\n",
       "    </tr>\n",
       "    <tr>\n",
       "      <th>16</th>\n",
       "      <td>SHIVAPRASAD N</td>\n",
       "      <td>15704</td>\n",
       "    </tr>\n",
       "    <tr>\n",
       "      <th>17</th>\n",
       "      <td>SUMANTH M</td>\n",
       "      <td>16009</td>\n",
       "    </tr>\n",
       "    <tr>\n",
       "      <th>18</th>\n",
       "      <td>YASHASWINI G K</td>\n",
       "      <td>18009</td>\n",
       "    </tr>\n",
       "  </tbody>\n",
       "</table>\n",
       "</div>"
      ],
      "text/plain": [
       "                     NAME  salary\n",
       "0               ADITHIA M   15000\n",
       "1                 DIVYA R   15000\n",
       "2               HARSHITHA   17000\n",
       "3             HARSHITHA K   16000\n",
       "4               INCHARA R   19000\n",
       "5                 MANOJ K   15000\n",
       "6               NIDHA C P   17000\n",
       "7                NIRANJAN   15699\n",
       "8            NITHYA D PAL   17800\n",
       "9           PAVAN KUMAR G   18900\n",
       "10  SHIVASHANKAR AMBEDKAR   16483\n",
       "11              SAGAR D S   18094\n",
       "12               SANJAY N   19172\n",
       "13         SANJOK CHAWHAN   17882\n",
       "14        SHANTHAKUMARI K   18904\n",
       "15       SHARATHKUMAR K C   17989\n",
       "16          SHIVAPRASAD N   15704\n",
       "17             SUMANTH M    16009\n",
       "18         YASHASWINI G K   18009"
      ]
     },
     "metadata": {},
     "output_type": "display_data"
    }
   ],
   "source": [
    "display(dfEmp1)"
   ]
  },
  {
   "cell_type": "code",
   "execution_count": 28,
   "id": "1c789c91-eeb8-4931-8d70-ad1e80820311",
   "metadata": {},
   "outputs": [
    {
     "data": {
      "text/html": [
       "<div>\n",
       "<style scoped>\n",
       "    .dataframe tbody tr th:only-of-type {\n",
       "        vertical-align: middle;\n",
       "    }\n",
       "\n",
       "    .dataframe tbody tr th {\n",
       "        vertical-align: top;\n",
       "    }\n",
       "\n",
       "    .dataframe thead th {\n",
       "        text-align: right;\n",
       "    }\n",
       "</style>\n",
       "<table border=\"1\" class=\"dataframe\">\n",
       "  <thead>\n",
       "    <tr style=\"text-align: right;\">\n",
       "      <th></th>\n",
       "      <th>NAME</th>\n",
       "      <th>salary</th>\n",
       "    </tr>\n",
       "  </thead>\n",
       "  <tbody>\n",
       "    <tr>\n",
       "      <th>0</th>\n",
       "      <td>ADITHIA M</td>\n",
       "      <td>15000</td>\n",
       "    </tr>\n",
       "    <tr>\n",
       "      <th>1</th>\n",
       "      <td>DIVYA R</td>\n",
       "      <td>15000</td>\n",
       "    </tr>\n",
       "    <tr>\n",
       "      <th>2</th>\n",
       "      <td>HARSHITHA</td>\n",
       "      <td>17000</td>\n",
       "    </tr>\n",
       "    <tr>\n",
       "      <th>3</th>\n",
       "      <td>HARSHITHA K</td>\n",
       "      <td>16000</td>\n",
       "    </tr>\n",
       "    <tr>\n",
       "      <th>4</th>\n",
       "      <td>INCHARA R</td>\n",
       "      <td>19000</td>\n",
       "    </tr>\n",
       "  </tbody>\n",
       "</table>\n",
       "</div>"
      ],
      "text/plain": [
       "          NAME  salary\n",
       "0    ADITHIA M   15000\n",
       "1      DIVYA R   15000\n",
       "2    HARSHITHA   17000\n",
       "3  HARSHITHA K   16000\n",
       "4    INCHARA R   19000"
      ]
     },
     "execution_count": 28,
     "metadata": {},
     "output_type": "execute_result"
    }
   ],
   "source": [
    "# Calling first five rows\n",
    "dfEmp1.head()"
   ]
  },
  {
   "cell_type": "code",
   "execution_count": 29,
   "id": "d090ebc9-408e-4f8f-b8c0-7a3e6435947e",
   "metadata": {},
   "outputs": [
    {
     "data": {
      "text/html": [
       "<div>\n",
       "<style scoped>\n",
       "    .dataframe tbody tr th:only-of-type {\n",
       "        vertical-align: middle;\n",
       "    }\n",
       "\n",
       "    .dataframe tbody tr th {\n",
       "        vertical-align: top;\n",
       "    }\n",
       "\n",
       "    .dataframe thead th {\n",
       "        text-align: right;\n",
       "    }\n",
       "</style>\n",
       "<table border=\"1\" class=\"dataframe\">\n",
       "  <thead>\n",
       "    <tr style=\"text-align: right;\">\n",
       "      <th></th>\n",
       "      <th>NAME</th>\n",
       "      <th>salary</th>\n",
       "    </tr>\n",
       "  </thead>\n",
       "  <tbody>\n",
       "    <tr>\n",
       "      <th>14</th>\n",
       "      <td>SHANTHAKUMARI K</td>\n",
       "      <td>18904</td>\n",
       "    </tr>\n",
       "    <tr>\n",
       "      <th>15</th>\n",
       "      <td>SHARATHKUMAR K C</td>\n",
       "      <td>17989</td>\n",
       "    </tr>\n",
       "    <tr>\n",
       "      <th>16</th>\n",
       "      <td>SHIVAPRASAD N</td>\n",
       "      <td>15704</td>\n",
       "    </tr>\n",
       "    <tr>\n",
       "      <th>17</th>\n",
       "      <td>SUMANTH M</td>\n",
       "      <td>16009</td>\n",
       "    </tr>\n",
       "    <tr>\n",
       "      <th>18</th>\n",
       "      <td>YASHASWINI G K</td>\n",
       "      <td>18009</td>\n",
       "    </tr>\n",
       "  </tbody>\n",
       "</table>\n",
       "</div>"
      ],
      "text/plain": [
       "                NAME  salary\n",
       "14   SHANTHAKUMARI K   18904\n",
       "15  SHARATHKUMAR K C   17989\n",
       "16     SHIVAPRASAD N   15704\n",
       "17        SUMANTH M    16009\n",
       "18    YASHASWINI G K   18009"
      ]
     },
     "execution_count": 29,
     "metadata": {},
     "output_type": "execute_result"
    }
   ],
   "source": [
    "# Calling last five rows\n",
    "dfEmp1.tail()"
   ]
  },
  {
   "cell_type": "code",
   "execution_count": 30,
   "id": "f11143f7-b22f-41e0-97f7-c8a3d20cf76e",
   "metadata": {},
   "outputs": [
    {
     "data": {
      "text/html": [
       "<div>\n",
       "<style scoped>\n",
       "    .dataframe tbody tr th:only-of-type {\n",
       "        vertical-align: middle;\n",
       "    }\n",
       "\n",
       "    .dataframe tbody tr th {\n",
       "        vertical-align: top;\n",
       "    }\n",
       "\n",
       "    .dataframe thead th {\n",
       "        text-align: right;\n",
       "    }\n",
       "</style>\n",
       "<table border=\"1\" class=\"dataframe\">\n",
       "  <thead>\n",
       "    <tr style=\"text-align: right;\">\n",
       "      <th></th>\n",
       "      <th>NAME</th>\n",
       "      <th>salary</th>\n",
       "    </tr>\n",
       "  </thead>\n",
       "  <tbody>\n",
       "    <tr>\n",
       "      <th>0</th>\n",
       "      <td>ADITHIA M</td>\n",
       "      <td>15000</td>\n",
       "    </tr>\n",
       "    <tr>\n",
       "      <th>1</th>\n",
       "      <td>DIVYA R</td>\n",
       "      <td>15000</td>\n",
       "    </tr>\n",
       "    <tr>\n",
       "      <th>2</th>\n",
       "      <td>HARSHITHA</td>\n",
       "      <td>17000</td>\n",
       "    </tr>\n",
       "  </tbody>\n",
       "</table>\n",
       "</div>"
      ],
      "text/plain": [
       "        NAME  salary\n",
       "0  ADITHIA M   15000\n",
       "1    DIVYA R   15000\n",
       "2  HARSHITHA   17000"
      ]
     },
     "execution_count": 30,
     "metadata": {},
     "output_type": "execute_result"
    }
   ],
   "source": [
    "# Calling first three rows\n",
    "dfEmp1.head(3)"
   ]
  },
  {
   "cell_type": "code",
   "execution_count": 31,
   "id": "96de4bf6-6f77-4e44-bfb5-a8d110955d42",
   "metadata": {},
   "outputs": [
    {
     "data": {
      "text/html": [
       "<div>\n",
       "<style scoped>\n",
       "    .dataframe tbody tr th:only-of-type {\n",
       "        vertical-align: middle;\n",
       "    }\n",
       "\n",
       "    .dataframe tbody tr th {\n",
       "        vertical-align: top;\n",
       "    }\n",
       "\n",
       "    .dataframe thead th {\n",
       "        text-align: right;\n",
       "    }\n",
       "</style>\n",
       "<table border=\"1\" class=\"dataframe\">\n",
       "  <thead>\n",
       "    <tr style=\"text-align: right;\">\n",
       "      <th></th>\n",
       "      <th>NAME</th>\n",
       "      <th>salary</th>\n",
       "    </tr>\n",
       "  </thead>\n",
       "  <tbody>\n",
       "    <tr>\n",
       "      <th>16</th>\n",
       "      <td>SHIVAPRASAD N</td>\n",
       "      <td>15704</td>\n",
       "    </tr>\n",
       "    <tr>\n",
       "      <th>17</th>\n",
       "      <td>SUMANTH M</td>\n",
       "      <td>16009</td>\n",
       "    </tr>\n",
       "    <tr>\n",
       "      <th>18</th>\n",
       "      <td>YASHASWINI G K</td>\n",
       "      <td>18009</td>\n",
       "    </tr>\n",
       "  </tbody>\n",
       "</table>\n",
       "</div>"
      ],
      "text/plain": [
       "              NAME  salary\n",
       "16   SHIVAPRASAD N   15704\n",
       "17      SUMANTH M    16009\n",
       "18  YASHASWINI G K   18009"
      ]
     },
     "execution_count": 31,
     "metadata": {},
     "output_type": "execute_result"
    }
   ],
   "source": [
    "# Calling last three rows\n",
    "dfEmp1.tail(3)"
   ]
  }
 ],
 "metadata": {
  "kernelspec": {
   "display_name": "Python 3 (ipykernel)",
   "language": "python",
   "name": "python3"
  },
  "language_info": {
   "codemirror_mode": {
    "name": "ipython",
    "version": 3
   },
   "file_extension": ".py",
   "mimetype": "text/x-python",
   "name": "python",
   "nbconvert_exporter": "python",
   "pygments_lexer": "ipython3",
   "version": "3.12.4"
  }
 },
 "nbformat": 4,
 "nbformat_minor": 5
}
