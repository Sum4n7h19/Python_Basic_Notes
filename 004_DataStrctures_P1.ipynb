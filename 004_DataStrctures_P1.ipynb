{
 "cells": [
  {
   "cell_type": "markdown",
   "id": "8d2222dc-d8f0-4fe0-b63f-cf2556356e7c",
   "metadata": {},
   "source": [
    "# Python Data Structures"
   ]
  },
  {
   "cell_type": "markdown",
   "id": "2f96e155-2314-433c-a113-1b0db9ce886a",
   "metadata": {},
   "source": [
    "<div style='background:#B1F9E3; color:#000000' class= 'alert alert-box'>\n",
    "<ul>\n",
    "    <li>Numbers</li>\n",
    "    <ol type=\"i\">\n",
    "        <li>Int</li>\n",
    "        <li>Float</li>\n",
    "        <li>Complex</li>\n",
    "    </ol>\n",
    "    <li>Boolean</li>\n",
    "    <ol type=\"i\">\n",
    "            <li>True</li>\n",
    "            <li>False</li>\n",
    "    </ol>\n",
    "    <li>Sequences</li>\n",
    "    <ol type=\"i\">\n",
    "        <li>Strings</li>\n",
    "        <li>Lists</li>\n",
    "        <li>Tuples</li>\n",
    "    </ol>\n",
    "    <li>Sets</li>\n",
    "    <li>Dictionaries</li>\n",
    "</ul>\n",
    "</div>"
   ]
  },
  {
   "cell_type": "markdown",
   "id": "9c3038d3-5b62-4c14-91cd-6df9cdef65bf",
   "metadata": {},
   "source": [
    "<div style='background:#B1F9E3; color:#000000' class= 'alert alert-box'>\n",
    "    <h4>Numbers</h4>\n",
    "    <b>Int</b>\n",
    "\n",
    "Int, or integer, is a whole number, positive or negative, without decimals, of unlimited length.\n",
    "</div>"
   ]
  },
  {
   "cell_type": "code",
   "execution_count": 1,
   "id": "35e0d625-3e3c-4fe2-8c6b-3b98e0e36ac7",
   "metadata": {},
   "outputs": [
    {
     "name": "stdout",
     "output_type": "stream",
     "text": [
      "<class 'int'>\n",
      "<class 'int'>\n",
      "<class 'int'>\n"
     ]
    }
   ],
   "source": [
    "x = 1\n",
    "y = 35656222554887711\n",
    "z = -3255522\n",
    "\n",
    "print(type(x))\n",
    "print(type(y))\n",
    "print(type(z))"
   ]
  },
  {
   "cell_type": "markdown",
   "id": "61ce9a26-0cd2-4971-bfaf-30d05a50de76",
   "metadata": {},
   "source": [
    "<div style='background:#B1F9E3; color:#000000' class= 'alert alert-box'>\n",
    "    <b>Float</b>\n",
    "\n",
    "Float, or \"floating point number\" is a number, positive or negative, containing one or more decimals.\n",
    "</div> "
   ]
  },
  {
   "cell_type": "code",
   "execution_count": 2,
   "id": "c5e3a4c8-3d62-4eae-a614-5c5a887da63d",
   "metadata": {},
   "outputs": [
    {
     "name": "stdout",
     "output_type": "stream",
     "text": [
      "<class 'float'>\n",
      "<class 'float'>\n",
      "<class 'float'>\n",
      "<class 'float'>\n"
     ]
    }
   ],
   "source": [
    "a = 1.10\n",
    "b = 1.0\n",
    "c = -35.59\n",
    "d = -87.7e100\n",
    "\n",
    "print(type(a))\n",
    "print(type(b))\n",
    "print(type(c))\n",
    "print(type(d))"
   ]
  },
  {
   "cell_type": "markdown",
   "id": "5a3ffb80-9640-471a-aad3-73eeb0d5b85d",
   "metadata": {},
   "source": [
    "<div style='background:#B1F9E3; color:#000000' class= 'alert alert-box'>\n",
    "    <b>Complex</b>\n",
    "\n",
    "Complex numbers are written with a \"j\" as the imaginary part:\n",
    "</div> "
   ]
  },
  {
   "cell_type": "code",
   "execution_count": 3,
   "id": "7951b850-bb0b-41f6-872e-60e1ebea92f8",
   "metadata": {},
   "outputs": [
    {
     "name": "stdout",
     "output_type": "stream",
     "text": [
      "<class 'complex'>\n",
      "<class 'complex'>\n",
      "<class 'complex'>\n"
     ]
    }
   ],
   "source": [
    "x = 3+5j\n",
    "y = 5j\n",
    "z = -5j\n",
    "\n",
    "print(type(x))\n",
    "print(type(y))\n",
    "print(type(z))"
   ]
  },
  {
   "cell_type": "markdown",
   "id": "9fcac19c-ac75-4279-aedc-69e8abea5ae1",
   "metadata": {},
   "source": [
    "<div style='background:#B1F9E3; color:#000000' class= 'alert alert-box'>\n",
    "    <h4>Type Conversion</h4>\n",
    "</div>"
   ]
  },
  {
   "cell_type": "code",
   "execution_count": 4,
   "id": "f05d98fe-6d54-421e-8e2a-4be380ecd00f",
   "metadata": {},
   "outputs": [
    {
     "name": "stdout",
     "output_type": "stream",
     "text": [
      "1.0\n",
      "2\n",
      "(1+0j)\n",
      "<class 'float'>\n",
      "<class 'int'>\n",
      "<class 'complex'>\n"
     ]
    }
   ],
   "source": [
    "x = 1    # int\n",
    "y = 2.8  # float\n",
    "z = 1j   # complex\n",
    "\n",
    "#convert from int to float:\n",
    "a = float(x)\n",
    "\n",
    "#convert from float to int:\n",
    "b = int(y)\n",
    "\n",
    "#convert from int to complex:\n",
    "c = complex(x)\n",
    "\n",
    "print(a)\n",
    "print(b)\n",
    "print(c)\n",
    "\n",
    "print(type(a))\n",
    "print(type(b))\n",
    "print(type(c))"
   ]
  },
  {
   "cell_type": "markdown",
   "id": "d847a816-9327-4109-8189-6182a4439b11",
   "metadata": {},
   "source": [
    "<div style='background:#B1F9E3; color:#000000' class= 'alert alert-box'>\n",
    "    <h4>Boolean</h4>\n",
    "\n",
    "<li>Python boolean type is one of the built-in data types provided by Python, which represents one of the two values i.e. True or False. Generally, it is used to represent the truth values of the expressions</li>\n",
    "    <br>\n",
    "<li>You can evaluate any expression in Python, and get one of two answers, True or False.</li>\n",
    "</div>"
   ]
  },
  {
   "cell_type": "code",
   "execution_count": 5,
   "id": "2090c205-220d-496b-9c4c-18e66c3d9d48",
   "metadata": {},
   "outputs": [
    {
     "name": "stdout",
     "output_type": "stream",
     "text": [
      "True\n",
      "False\n",
      "False\n"
     ]
    }
   ],
   "source": [
    "# Boolean output when two values are compared\n",
    "print(10 > 9)\n",
    "print(10 == 9)\n",
    "print(10 < 9)"
   ]
  },
  {
   "cell_type": "markdown",
   "id": "9acdb37d-fa1d-4d66-925c-a71a98fdd242",
   "metadata": {},
   "source": [
    "<div style='background:#B1F9E3; color:#000000' class= 'alert alert-box'>\n",
    "    <h4>Sequences</h4>\n",
    "\n",
    "<li>A sequence is a positionally ordered collection of items. And you can refer to any item in the sequence by using its index number.</li>\n",
    "<br>\n",
    "    <li>In Python, the sequence index starts at 0, not 1.</li>\n",
    "</div> "
   ]
  },
  {
   "cell_type": "markdown",
   "id": "ba62684e-9482-4cdd-9b68-061aeb678652",
   "metadata": {},
   "source": [
    "<div style='background:#B1F9E3; color:#000000' class= 'alert alert-box'>\n",
    "    <h4>Strings</h4>\n",
    "\n",
    "<li>A string in Python is a sequence of characters that can be represented by either single quotes (' '), double quotes (\" \"), or triple quotes (''' ''')</li>\n",
    "<br>\n",
    "<li>Strings are immutable data types, meaning that they cannot be changed after they are created</li>\n",
    "<br>\n",
    "    <li>Strings are used to store and manipulate text data, such as names, addresses, messages, etc</li>\n",
    "</div> "
   ]
  },
  {
   "cell_type": "markdown",
   "id": "f5c6b933-ea79-48da-b222-f31e1ca7fbb8",
   "metadata": {},
   "source": [
    "<div style='background:#B1F9E3; color:#000000' class= 'alert alert-box'>\n",
    "    <b>i. Creating String and Printing Strings</b>\n",
    "</div>"
   ]
  },
  {
   "cell_type": "code",
   "execution_count": 6,
   "id": "ed0fb6a0-860c-4113-aab9-55db8dcffda1",
   "metadata": {},
   "outputs": [
    {
     "name": "stdout",
     "output_type": "stream",
     "text": [
      "INDIA\n"
     ]
    }
   ],
   "source": [
    "# String with letters\n",
    "country = \"INDIA\"\n",
    "# INDIA is a string assigned to variable country.\n",
    "print(country)"
   ]
  },
  {
   "cell_type": "code",
   "execution_count": 7,
   "id": "1b6b93f1-fec8-4996-ac47-72e9f9786e51",
   "metadata": {},
   "outputs": [
    {
     "name": "stdout",
     "output_type": "stream",
     "text": [
      "08212420241\n"
     ]
    },
    {
     "data": {
      "text/plain": [
       "str"
      ]
     },
     "execution_count": 7,
     "metadata": {},
     "output_type": "execute_result"
    }
   ],
   "source": [
    "## String with numbers\n",
    "landline = \"08212420241\"\n",
    "# 08212420241 is a string assigned to variable landline.\n",
    "print(landline)\n",
    "type(landline)"
   ]
  },
  {
   "cell_type": "code",
   "execution_count": 8,
   "id": "4ae2a24d-e3e7-473f-bbb4-e75dd4875f7f",
   "metadata": {},
   "outputs": [
    {
     "name": "stdout",
     "output_type": "stream",
     "text": [
      "sumanth2023\n"
     ]
    },
    {
     "data": {
      "text/plain": [
       "str"
      ]
     },
     "execution_count": 8,
     "metadata": {},
     "output_type": "execute_result"
    }
   ],
   "source": [
    "## String with both letters and numbers\n",
    "username = \"sumanth2023\"\n",
    "# sumanth2023 is a string assigned to variable username.\n",
    "print(username)\n",
    "type(username)"
   ]
  },
  {
   "cell_type": "code",
   "execution_count": 9,
   "id": "e771d2a9-0f92-4edd-9072-b5219728fe9e",
   "metadata": {},
   "outputs": [
    {
     "name": "stdout",
     "output_type": "stream",
     "text": [
      "##@$_-#@\n"
     ]
    },
    {
     "data": {
      "text/plain": [
       "str"
      ]
     },
     "execution_count": 9,
     "metadata": {},
     "output_type": "execute_result"
    }
   ],
   "source": [
    "## String with special characters\n",
    "password = \"##@$_-#@\"\n",
    "# ##@$_-#@ is a string assigned to variable password.\n",
    "print(password)\n",
    "type(password)"
   ]
  },
  {
   "cell_type": "code",
   "execution_count": 10,
   "id": "b8792df8-a03b-44af-bc53-c7a1e06663dd",
   "metadata": {},
   "outputs": [
    {
     "name": "stdout",
     "output_type": "stream",
     "text": [
      "sumanth2023@gmail.com\n"
     ]
    },
    {
     "data": {
      "text/plain": [
       "str"
      ]
     },
     "execution_count": 10,
     "metadata": {},
     "output_type": "execute_result"
    }
   ],
   "source": [
    "## String with letter,number and special characters\n",
    "mailId = \"sumanth2023@gmail.com\"\n",
    "# sumanth2023@gmail.com is a string assigned to variable mailId.\n",
    "print(mailId)\n",
    "type(mailId)"
   ]
  },
  {
   "cell_type": "markdown",
   "id": "d0ea57dd-5506-4c7d-8511-b2d9d1f3796c",
   "metadata": {},
   "source": [
    "<div style='background:#B1F9E3; color:#000000' class= 'alert alert-box'>\n",
    "    <h5>Creating a string and accessing the memory location</h5>\n",
    "</div>"
   ]
  },
  {
   "cell_type": "code",
   "execution_count": 11,
   "id": "dbba2ffd-78a7-416e-b196-4589359725ae",
   "metadata": {},
   "outputs": [
    {
     "data": {
      "text/plain": [
       "'0x2832068c370'"
      ]
     },
     "execution_count": 11,
     "metadata": {},
     "output_type": "execute_result"
    }
   ],
   "source": [
    "# Sumanth is string assinged to the variable myName\n",
    "myName = 'Sumanth'\n",
    "\n",
    "# Hexadecimal location of the variable in a memory\n",
    "hex(id(myName))"
   ]
  },
  {
   "cell_type": "markdown",
   "id": "3af2bb96-2a85-4651-b4fe-c60789adf2f7",
   "metadata": {},
   "source": [
    "<div style='background:#B1F9E3; color:#000000' class= 'alert alert-box'>\n",
    "    <b>ii.String Indexing</b>\n",
    "</div>"
   ]
  },
  {
   "cell_type": "markdown",
   "id": "e1f46b6e-23b4-4050-be07-d348f966ae42",
   "metadata": {},
   "source": [
    "<div style='background:#B1F9E3; color:#000000' class= 'alert alert-box'>\n",
    "In Python, indexing refers to the process of accessing a specific element in a sequence, such\n",
    "as a string or list, using its position or index number. Indexing in Python starts at 0, which\n",
    "means that the first element in a sequence has an index of 0, the second element has an\n",
    "index of 1, and so on.</div>"
   ]
  },
  {
   "cell_type": "markdown",
   "id": "83728e8f-e3d7-48c5-a3b2-c7c6d8a95745",
   "metadata": {},
   "source": [
    "<div style='background:#B1F9E3; color:#000000' class= 'alert alert-box'>\n",
    "<i>Forward indexing</i> \n",
    "<br>\n",
    "<p>In Python, forward indexing is a method of accessing individual characters of a string by referring to an element of the string by its position within the string. The index number starts from 0 (which denotes the first character of a string) and increases by 1 for each subsequent character.</p>\n",
    "<br>\n",
    "    <i>Backward indexing</i>\n",
    "\n",
    "<p>In Python, backward indexing refers to the process of accessing elements in a list in reverse order. To achieve this, we can use negative indices, which start at -1.</p>\n",
    "</div>"
   ]
  },
  {
   "attachments": {
    "1e244739-dfc8-4f88-b110-25717a31b598.png": {
     "image/png": "[encoded data removed]"
    }
   },
   "cell_type": "markdown",
   "id": "58628bae-0adb-4b6a-928c-9d3f56605f12",
   "metadata": {},
   "source": [
    "![python-string.png](attachment:1e244739-dfc8-4f88-b110-25717a31b598.png)"
   ]
  },
  {
   "cell_type": "markdown",
   "id": "b789b9fc-0d0d-46cb-81ee-aea1b2dfe7e1",
   "metadata": {},
   "source": [
    "<div style='background:#B1F9E3; color:#000000' class= 'alert alert-box'>\n",
    "    <i>Accessing elements from string</i>\n",
    "</div>"
   ]
  },
  {
   "cell_type": "code",
   "execution_count": 12,
   "id": "055ec115-1f73-412f-b135-b920488f5b5d",
   "metadata": {},
   "outputs": [
    {
     "data": {
      "text/plain": [
       "'S'"
      ]
     },
     "execution_count": 12,
     "metadata": {},
     "output_type": "execute_result"
    }
   ],
   "source": [
    "# Accessing first element in string\n",
    "myName[0]"
   ]
  },
  {
   "cell_type": "code",
   "execution_count": 13,
   "id": "99ccce59-80d6-484b-8322-bdee454f2dd1",
   "metadata": {},
   "outputs": [
    {
     "data": {
      "text/plain": [
       "'u'"
      ]
     },
     "execution_count": 13,
     "metadata": {},
     "output_type": "execute_result"
    }
   ],
   "source": [
    "# Accessing second element in string\n",
    "myName[1]"
   ]
  },
  {
   "cell_type": "code",
   "execution_count": 14,
   "id": "5456faee-c3d2-429b-9538-140cb84d25c3",
   "metadata": {},
   "outputs": [],
   "source": [
    "# Accessing tenth element in string\n",
    "# myName[10]\n",
    "# This will throw an error IndexError: string index out of range "
   ]
  },
  {
   "cell_type": "code",
   "execution_count": 15,
   "id": "c0e531e7-792d-4ecf-adba-df3a39a4c58b",
   "metadata": {},
   "outputs": [
    {
     "data": {
      "text/plain": [
       "7"
      ]
     },
     "execution_count": 15,
     "metadata": {},
     "output_type": "execute_result"
    }
   ],
   "source": [
    "# Checking maximum length of string\n",
    "len(myName)"
   ]
  },
  {
   "cell_type": "code",
   "execution_count": 16,
   "id": "fa26e419-f611-4c29-ba50-8d88fddcf349",
   "metadata": {},
   "outputs": [
    {
     "data": {
      "text/plain": [
       "'h'"
      ]
     },
     "execution_count": 16,
     "metadata": {},
     "output_type": "execute_result"
    }
   ],
   "source": [
    "myName[6]"
   ]
  },
  {
   "cell_type": "code",
   "execution_count": 17,
   "id": "96c6ff6b-5c93-42b2-a3f8-b3f82c28980f",
   "metadata": {},
   "outputs": [
    {
     "data": {
      "text/plain": [
       "'h'"
      ]
     },
     "execution_count": 17,
     "metadata": {},
     "output_type": "execute_result"
    }
   ],
   "source": [
    "# Backward indexing method to access last element\n",
    "myName[-1]"
   ]
  },
  {
   "cell_type": "markdown",
   "id": "c9960b17-27b6-4f52-8ba6-a5c4e79b0d50",
   "metadata": {},
   "source": [
    "<div style='background:#B1F9E3; color:#000000' class= 'alert alert-box'>\n",
    "    <h5>String Slicing</h5>\n",
    "    <br>\n",
    "    <li>Extracting range of elements from a string using index positions.</li><br>\n",
    "<li>Specify the start index and the end index, separated by a colon, to return a part of the\n",
    "    string.</li>\n",
    "</div>"
   ]
  },
  {
   "cell_type": "code",
   "execution_count": 18,
   "id": "b3811698-8a8b-48b2-ab86-2a3380d87ef0",
   "metadata": {},
   "outputs": [
    {
     "name": "stdout",
     "output_type": "stream",
     "text": [
      "Center for Geoinformatics Technology\n"
     ]
    }
   ],
   "source": [
    "# dept is a variable assigned to string 'Center for Geoinformatics Technology'\n",
    "dept = \"Center for Geoinformatics Technology\"\n",
    "print(dept)"
   ]
  },
  {
   "cell_type": "code",
   "execution_count": 19,
   "id": "6f21a767-1757-45b2-b3af-d2950d753338",
   "metadata": {},
   "outputs": [
    {
     "data": {
      "text/plain": [
       "'Center'"
      ]
     },
     "execution_count": 19,
     "metadata": {},
     "output_type": "execute_result"
    }
   ],
   "source": [
    "# Extracting Center \n",
    "# Syntax [start:stop:step]\n",
    "# Syntax 2 [inclusive:exclusive:stride]\n",
    "dept[0:6]"
   ]
  },
  {
   "cell_type": "code",
   "execution_count": 20,
   "id": "6b963394-f54b-4afb-95b2-a22f1f71ddbb",
   "metadata": {},
   "outputs": [
    {
     "data": {
      "text/plain": [
       "'for'"
      ]
     },
     "execution_count": 20,
     "metadata": {},
     "output_type": "execute_result"
    }
   ],
   "source": [
    "# Extracting for\n",
    "dept[7:10]"
   ]
  },
  {
   "cell_type": "code",
   "execution_count": 21,
   "id": "f9204719-a737-4ee9-8076-ac72f81b18cc",
   "metadata": {},
   "outputs": [
    {
     "data": {
      "text/plain": [
       "'Center'"
      ]
     },
     "execution_count": 21,
     "metadata": {},
     "output_type": "execute_result"
    }
   ],
   "source": [
    "# Extracting first 5 \n",
    "dept[:6]"
   ]
  },
  {
   "cell_type": "code",
   "execution_count": 22,
   "id": "fb3858de-b168-4487-9ed9-e9f3c150d808",
   "metadata": {},
   "outputs": [
    {
     "data": {
      "text/plain": [
       "'Technology'"
      ]
     },
     "execution_count": 22,
     "metadata": {},
     "output_type": "execute_result"
    }
   ],
   "source": [
    "# Extracting Technology\n",
    "dept[26:]"
   ]
  },
  {
   "cell_type": "code",
   "execution_count": 23,
   "id": "fb1861e4-6388-47a5-a56e-7ea75ccc662b",
   "metadata": {},
   "outputs": [
    {
     "data": {
      "text/plain": [
       "'Technology'"
      ]
     },
     "execution_count": 23,
     "metadata": {},
     "output_type": "execute_result"
    }
   ],
   "source": [
    "# Extracting last 10 characters using backward indexing\n",
    "dept[-10:]"
   ]
  },
  {
   "cell_type": "code",
   "execution_count": 24,
   "id": "1ba8685a-f605-4758-8a36-03bcaf8e6677",
   "metadata": {},
   "outputs": [
    {
     "data": {
      "text/plain": [
       "'Cne o eifraisTcnlg'"
      ]
     },
     "execution_count": 24,
     "metadata": {},
     "output_type": "execute_result"
    }
   ],
   "source": [
    "# String steping\n",
    "dept[0::2]"
   ]
  },
  {
   "cell_type": "code",
   "execution_count": 25,
   "id": "8dc3cd8f-cd00-4eae-bb71-968d66f10cd7",
   "metadata": {},
   "outputs": [
    {
     "data": {
      "text/plain": [
       "'Center for Geoinformatics Technology'"
      ]
     },
     "execution_count": 25,
     "metadata": {},
     "output_type": "execute_result"
    }
   ],
   "source": [
    "dept[0::1]"
   ]
  },
  {
   "cell_type": "markdown",
   "id": "484cd6e1-4a4c-42ab-befa-3269b0fee10d",
   "metadata": {},
   "source": [
    "<div style='background:#B1F9E3; color:#000000' class= 'alert alert-box'>\n",
    "    <i>Deleting a string variable</i>\n",
    "</div>"
   ]
  },
  {
   "cell_type": "code",
   "execution_count": 26,
   "id": "82cd7ec8-5e98-4ff2-b8d2-779f8aa2b048",
   "metadata": {},
   "outputs": [
    {
     "name": "stdout",
     "output_type": "stream",
     "text": [
      "Center for Geoinformatics Technology\n"
     ]
    }
   ],
   "source": [
    "# before deleting\n",
    "print(dept)"
   ]
  },
  {
   "cell_type": "code",
   "execution_count": 27,
   "id": "8e73677b-ceaf-4d82-9411-8165ec8bacfd",
   "metadata": {},
   "outputs": [],
   "source": [
    "# deleting del()\n",
    "del dept"
   ]
  },
  {
   "cell_type": "code",
   "execution_count": 28,
   "id": "e78a5409-a387-4907-bcb6-01d3e5ea4b94",
   "metadata": {},
   "outputs": [],
   "source": [
    "# After deleting\n",
    "#print(dept)\n",
    "# This will throw an error NameError: name 'dept' is not defined "
   ]
  },
  {
   "cell_type": "markdown",
   "id": "4bd4f7d8-a825-4168-bc07-63c9fb441044",
   "metadata": {},
   "source": [
    "<div style='background:#B1F9E3; color:#000000' class= 'alert alert-box'>\n",
    "    <i>Updating String</i>\n",
    "</div>"
   ]
  },
  {
   "cell_type": "code",
   "execution_count": 29,
   "id": "1b78b562-3767-467c-b6de-859902825cfb",
   "metadata": {},
   "outputs": [],
   "source": [
    "fullName = \"Sumanth\""
   ]
  },
  {
   "cell_type": "code",
   "execution_count": 30,
   "id": "fde5785f-9dca-4913-90c0-aa3dce455f80",
   "metadata": {},
   "outputs": [
    {
     "data": {
      "text/plain": [
       "'Suman'"
      ]
     },
     "execution_count": 30,
     "metadata": {},
     "output_type": "execute_result"
    }
   ],
   "source": [
    "# extracting shiva\n",
    "fullName[:5]"
   ]
  },
  {
   "cell_type": "code",
   "execution_count": 31,
   "id": "b528c49c-b364-4398-b934-83054585106c",
   "metadata": {},
   "outputs": [],
   "source": [
    "# extracting shiva\n",
    "# fullName[0:5] = \"SUMAN\"\n",
    "# String are immutable which means once the string is created you cannot able to modify partially but you can overwrite full"
   ]
  },
  {
   "cell_type": "code",
   "execution_count": 32,
   "id": "750541f0-8a4c-4087-9267-bb3308dcc557",
   "metadata": {},
   "outputs": [
    {
     "name": "stdout",
     "output_type": "stream",
     "text": [
      "Sumanth\n"
     ]
    }
   ],
   "source": [
    "# Overwritting String\n",
    "# Before overwritting\n",
    "print(fullName)"
   ]
  },
  {
   "cell_type": "code",
   "execution_count": 33,
   "id": "db0788b0-fea2-4332-986c-6dafe74df699",
   "metadata": {},
   "outputs": [],
   "source": [
    "# Overwritting\n",
    "fullName = \"Appu\""
   ]
  },
  {
   "cell_type": "code",
   "execution_count": 34,
   "id": "82f7fd75-7d8d-4b46-a0cf-ec24a375faec",
   "metadata": {},
   "outputs": [
    {
     "name": "stdout",
     "output_type": "stream",
     "text": [
      "Appu\n"
     ]
    }
   ],
   "source": [
    "# After overwritting\n",
    "print(fullName)"
   ]
  },
  {
   "cell_type": "markdown",
   "id": "63e28e86-50c1-4495-bc75-2ac8149f0109",
   "metadata": {},
   "source": [
    "<div style='background:#B1F9E3; color:#000000' class= 'alert alert-box'>\n",
    "    <i>String Concatenation</i>\n",
    "</div>"
   ]
  },
  {
   "cell_type": "markdown",
   "id": "fc6c5ffc-1cd4-48d5-bd11-551f41ec9be2",
   "metadata": {},
   "source": [
    "<div style='background:#B1F9E3; color:#000000' class= 'alert alert-box'>\n",
    "String concatenation is the process of joining one or more strings together to create a single\n",
    "new string. It's a common operation in programming and is the same in all programming\n",
    "languages.</div>"
   ]
  },
  {
   "cell_type": "code",
   "execution_count": 35,
   "id": "40ee702e-ccc6-4ce4-9c2b-efefb6fc8334",
   "metadata": {},
   "outputs": [],
   "source": [
    "firstName = \"Sumanth\"\n",
    "secondName = \"M\""
   ]
  },
  {
   "cell_type": "code",
   "execution_count": 36,
   "id": "4f277dad-f94f-4802-b448-5cdf33e57ed5",
   "metadata": {},
   "outputs": [
    {
     "name": "stdout",
     "output_type": "stream",
     "text": [
      "Sumanth\n",
      "M\n"
     ]
    }
   ],
   "source": [
    "print(firstName)\n",
    "print(secondName)"
   ]
  },
  {
   "cell_type": "code",
   "execution_count": 37,
   "id": "82a321d4-360f-45f9-a504-7d0b28e9fad2",
   "metadata": {},
   "outputs": [
    {
     "name": "stdout",
     "output_type": "stream",
     "text": [
      "SumanthM\n"
     ]
    }
   ],
   "source": [
    "# Concatenating\n",
    "fullName = firstName + secondName\n",
    "print(fullName)"
   ]
  },
  {
   "cell_type": "code",
   "execution_count": 38,
   "id": "af85f4d5-bf58-44ba-a583-31dac5106a5f",
   "metadata": {},
   "outputs": [
    {
     "name": "stdout",
     "output_type": "stream",
     "text": [
      "Sumanth M\n"
     ]
    }
   ],
   "source": [
    "# Concatenating and inserting space between\n",
    "fullName = firstName +\" \"+ secondName\n",
    "print(fullName)"
   ]
  },
  {
   "cell_type": "markdown",
   "id": "cb10c0bd-756a-4914-ba26-a10bf825c81c",
   "metadata": {},
   "source": [
    "<div style='background:#B1F9E3; color:#000000' class= 'alert alert-box'>\n",
    "    <i>Reversing a String</i>\n",
    "</div>"
   ]
  },
  {
   "cell_type": "code",
   "execution_count": 39,
   "id": "49ee901f-1597-49aa-a356-ae706ec8760c",
   "metadata": {},
   "outputs": [
    {
     "name": "stdout",
     "output_type": "stream",
     "text": [
      "pan\n"
     ]
    }
   ],
   "source": [
    "word = \"pan\"\n",
    "print(word)"
   ]
  },
  {
   "cell_type": "code",
   "execution_count": 40,
   "id": "b07b821d-e23f-4f21-b627-0bd816e5f6ab",
   "metadata": {},
   "outputs": [
    {
     "data": {
      "text/plain": [
       "'nap'"
      ]
     },
     "execution_count": 40,
     "metadata": {},
     "output_type": "execute_result"
    }
   ],
   "source": [
    "word[::-1]"
   ]
  },
  {
   "cell_type": "code",
   "execution_count": 41,
   "id": "40fd30b9-d891-4797-b6e8-bc5ce15a5941",
   "metadata": {},
   "outputs": [
    {
     "name": "stdout",
     "output_type": "stream",
     "text": [
      "MADAM\n"
     ]
    }
   ],
   "source": [
    "title = \"MADAM\"\n",
    "print(title)"
   ]
  },
  {
   "cell_type": "code",
   "execution_count": 42,
   "id": "a027382a-41b5-4ed3-92ea-1fcc1628e3ad",
   "metadata": {},
   "outputs": [
    {
     "data": {
      "text/plain": [
       "'MADAM'"
      ]
     },
     "execution_count": 42,
     "metadata": {},
     "output_type": "execute_result"
    }
   ],
   "source": [
    "title[::-1]"
   ]
  },
  {
   "cell_type": "code",
   "execution_count": 43,
   "id": "3269cbae-13ba-44da-99cf-f9270018c7a9",
   "metadata": {},
   "outputs": [
    {
     "data": {
      "text/plain": [
       "True"
      ]
     },
     "execution_count": 43,
     "metadata": {},
     "output_type": "execute_result"
    }
   ],
   "source": [
    "# Checking two strings are equal or not\n",
    "title == title[::-1]"
   ]
  },
  {
   "cell_type": "code",
   "execution_count": 44,
   "id": "1d34124e-27ae-43c9-8ce8-f7dc17814554",
   "metadata": {},
   "outputs": [
    {
     "data": {
      "text/plain": [
       "False"
      ]
     },
     "execution_count": 44,
     "metadata": {},
     "output_type": "execute_result"
    }
   ],
   "source": [
    "word == word[::-1]"
   ]
  },
  {
   "cell_type": "code",
   "execution_count": 45,
   "id": "1111236b-fbcd-40a6-a6e5-23d526cea632",
   "metadata": {},
   "outputs": [
    {
     "data": {
      "text/plain": [
       "True"
      ]
     },
     "execution_count": 45,
     "metadata": {},
     "output_type": "execute_result"
    }
   ],
   "source": [
    "\"MADAM\" == \"MADAM\""
   ]
  },
  {
   "cell_type": "code",
   "execution_count": 46,
   "id": "1936d826-0a91-4a30-a156-de40cab2645e",
   "metadata": {},
   "outputs": [
    {
     "data": {
      "text/plain": [
       "False"
      ]
     },
     "execution_count": 46,
     "metadata": {},
     "output_type": "execute_result"
    }
   ],
   "source": [
    "\"MADAM\" == \"Madam\"\n",
    "# It will throw False as python is case sensitive"
   ]
  },
  {
   "cell_type": "markdown",
   "id": "90e5c38c-cd2b-4337-92e7-7f454a741eae",
   "metadata": {},
   "source": [
    "<div style='background:#B1F9E3; color:#000000' class= 'alert alert-box'>\n",
    "    <b>iii.String functions</b>\n",
    "</div>"
   ]
  },
  {
   "cell_type": "markdown",
   "id": "f8d7cb8e-e7d3-466e-85ac-3ffada02ea0f",
   "metadata": {},
   "source": [
    "<div style='background:#B1F9E3; color:#000000' class= 'alert alert-box'>\n",
    "    <ol>\n",
    "        <li>Striping (Removal of empty spaces before and after the string)</li>\n",
    "        <ol type='i'>\n",
    "    <li>left strip</li>\n",
    "    <li>right strip</li>\n",
    "    <li>full strip</li>\n",
    "        </ol>\n",
    "    </ol>\n",
    "</div>"
   ]
  },
  {
   "cell_type": "code",
   "execution_count": 47,
   "id": "18ee0f11-cefa-48a9-9a01-8d214ccca275",
   "metadata": {},
   "outputs": [
    {
     "name": "stdout",
     "output_type": "stream",
     "text": [
      "    LIG 625 , 2nd Stage Rajivanagara     \n"
     ]
    }
   ],
   "source": [
    "address = \"    LIG 625 , 2nd Stage Rajivanagara     \"\n",
    "print(address)"
   ]
  },
  {
   "cell_type": "code",
   "execution_count": 48,
   "id": "a009e76e-c624-4475-98b8-08d6d8f00d38",
   "metadata": {},
   "outputs": [
    {
     "data": {
      "text/plain": [
       "'LIG 625 , 2nd Stage Rajivanagara     '"
      ]
     },
     "execution_count": 48,
     "metadata": {},
     "output_type": "execute_result"
    }
   ],
   "source": [
    "# left strip\n",
    "address.lstrip()"
   ]
  },
  {
   "cell_type": "code",
   "execution_count": 49,
   "id": "cf67091c-4bad-487f-af9b-63a85a9755fc",
   "metadata": {},
   "outputs": [
    {
     "name": "stdout",
     "output_type": "stream",
     "text": [
      "    LIG 625 , 2nd Stage Rajivanagara     \n"
     ]
    }
   ],
   "source": [
    "print(address)"
   ]
  },
  {
   "cell_type": "code",
   "execution_count": 50,
   "id": "a7423a75-13b9-4e2e-9f4c-fd62c8574d96",
   "metadata": {},
   "outputs": [
    {
     "name": "stdout",
     "output_type": "stream",
     "text": [
      "LIG 625 , 2nd Stage Rajivanagara     \n"
     ]
    }
   ],
   "source": [
    "address = address.lstrip()\n",
    "print(address)"
   ]
  },
  {
   "cell_type": "code",
   "execution_count": 51,
   "id": "8a829a89-3bd6-4f5c-b643-8ae94854eec1",
   "metadata": {},
   "outputs": [
    {
     "data": {
      "text/plain": [
       "'LIG 625 , 2nd Stage Rajivanagara'"
      ]
     },
     "execution_count": 51,
     "metadata": {},
     "output_type": "execute_result"
    }
   ],
   "source": [
    "# right strip\n",
    "address.rstrip()"
   ]
  },
  {
   "cell_type": "code",
   "execution_count": 52,
   "id": "137f8a18-bc71-4ded-a794-d83d28edff0f",
   "metadata": {},
   "outputs": [
    {
     "name": "stdout",
     "output_type": "stream",
     "text": [
      "LIG 625 , 2nd Stage Rajivanagara\n"
     ]
    }
   ],
   "source": [
    "address = address.rstrip()\n",
    "print(address)"
   ]
  },
  {
   "cell_type": "code",
   "execution_count": 53,
   "id": "cf86cec2-0bc2-47b7-b1dc-c2452b7b10f8",
   "metadata": {},
   "outputs": [
    {
     "name": "stdout",
     "output_type": "stream",
     "text": [
      " INDIA \n"
     ]
    }
   ],
   "source": [
    "# full strip\n",
    "country = \" INDIA \"\n",
    "print(country)"
   ]
  },
  {
   "cell_type": "code",
   "execution_count": 54,
   "id": "49586b12-5840-4034-a38e-221c43eff47f",
   "metadata": {},
   "outputs": [
    {
     "data": {
      "text/plain": [
       "'INDIA'"
      ]
     },
     "execution_count": 54,
     "metadata": {},
     "output_type": "execute_result"
    }
   ],
   "source": [
    "# Removes empty spaces both side of the string\n",
    "country.strip()"
   ]
  },
  {
   "cell_type": "markdown",
   "id": "afa4bbb2-5d87-4a87-abce-342a96c4af46",
   "metadata": {},
   "source": [
    "<div style='background:#B1F9E3; color:#000000' class= 'alert alert-box'>\n",
    "<ol>\n",
    "    <li>Changing Cases</li>\n",
    "    <Ol>\n",
    "        <li>Lower Case</li>\n",
    "        <li>Upper Case</li>\n",
    "        <li>Title/Capitalize</li>\n",
    "        <li>Swap</li>\n",
    "        </ol>\n",
    "    </ol>\n",
    "</div>"
   ]
  },
  {
   "cell_type": "code",
   "execution_count": 55,
   "id": "06441e9c-88dd-482e-9e11-792411efae4c",
   "metadata": {},
   "outputs": [
    {
     "name": "stdout",
     "output_type": "stream",
     "text": [
      "UNIVERSITY OF MYSORE\n"
     ]
    }
   ],
   "source": [
    "uni = \"UNIVERSITY OF MYSORE\"\n",
    "print(uni)"
   ]
  },
  {
   "cell_type": "code",
   "execution_count": 56,
   "id": "2de5e9ea-d4ed-4012-90db-b14920914385",
   "metadata": {},
   "outputs": [
    {
     "name": "stdout",
     "output_type": "stream",
     "text": [
      "university of mysore\n"
     ]
    }
   ],
   "source": [
    "# prints lowercase\n",
    "print(uni.lower())"
   ]
  },
  {
   "cell_type": "code",
   "execution_count": 57,
   "id": "722e8368-cd4c-4cdf-89dc-ad1605025bd7",
   "metadata": {},
   "outputs": [
    {
     "name": "stdout",
     "output_type": "stream",
     "text": [
      "UNIVERSITY OF MYSORE\n"
     ]
    }
   ],
   "source": [
    "# Prints uppercase\n",
    "print(uni.upper())"
   ]
  },
  {
   "cell_type": "code",
   "execution_count": 58,
   "id": "bc576ef0-8f9c-4d3c-bd59-92fffd1bbe72",
   "metadata": {},
   "outputs": [
    {
     "name": "stdout",
     "output_type": "stream",
     "text": [
      "University of mysore\n"
     ]
    }
   ],
   "source": [
    "# capitalizes first element of the string\n",
    "print(uni.capitalize())"
   ]
  },
  {
   "cell_type": "code",
   "execution_count": 59,
   "id": "8a4ae641-40e0-4728-a0ed-9eaafae9fa67",
   "metadata": {},
   "outputs": [
    {
     "name": "stdout",
     "output_type": "stream",
     "text": [
      "University Of Mysore\n"
     ]
    }
   ],
   "source": [
    "#Converts the first character of each word to upper case \n",
    "print(uni.title())"
   ]
  },
  {
   "cell_type": "code",
   "execution_count": 60,
   "id": "446eedf2-cc11-43b7-b3fd-afd0fbbd7fdb",
   "metadata": {},
   "outputs": [
    {
     "name": "stdout",
     "output_type": "stream",
     "text": [
      "university of mysore\n"
     ]
    }
   ],
   "source": [
    "#Swaps cases, lower case becomes upper case and vice versa\n",
    "print(uni.swapcase())"
   ]
  },
  {
   "cell_type": "markdown",
   "id": "42140426-5700-4473-85c7-36bae52874e8",
   "metadata": {},
   "source": [
    "<div style='background:#B1F9E3; color:#000000' class= 'alert alert-box'>\n",
    "    <i>Replace some string in a string</i>\n",
    "</div>"
   ]
  },
  {
   "cell_type": "code",
   "execution_count": 61,
   "id": "cbce3954-b670-4281-8cfd-cd9e28920dc6",
   "metadata": {},
   "outputs": [
    {
     "name": "stdout",
     "output_type": "stream",
     "text": [
      "Twinkle twinkle little star\n"
     ]
    }
   ],
   "source": [
    "poem = \"Twinkle twinkle little star\"\n",
    "print(poem)"
   ]
  },
  {
   "cell_type": "code",
   "execution_count": 62,
   "id": "9cba3d5f-cb8b-4b7e-b417-32391286925e",
   "metadata": {},
   "outputs": [
    {
     "data": {
      "text/plain": [
       "'Twinkle twinkle big star'"
      ]
     },
     "execution_count": 62,
     "metadata": {},
     "output_type": "execute_result"
    }
   ],
   "source": [
    "#Returns a string where a specified value is replaced with a specified value\n",
    "poem.replace(\"little\", \"big\")"
   ]
  },
  {
   "cell_type": "code",
   "execution_count": 63,
   "id": "990a67f9-c376-46f1-9f2f-fa42f6881487",
   "metadata": {},
   "outputs": [
    {
     "name": "stdout",
     "output_type": "stream",
     "text": [
      "Twinkle twinkle big star\n"
     ]
    }
   ],
   "source": [
    "poemUpdated = poem.replace(\"little\", \"big\")\n",
    "print(poemUpdated)"
   ]
  },
  {
   "cell_type": "markdown",
   "id": "2ceeb930-aa30-4987-8c26-f4148b0c8068",
   "metadata": {},
   "source": [
    "<div style='background:#B1F9E3; color:#000000' class= 'alert alert-box'>\n",
    "    <i>Replace some string based on string position</i>\n",
    "</div>"
   ]
  },
  {
   "cell_type": "code",
   "execution_count": 64,
   "id": "636ec7ef-1016-4e80-ae0d-430f004c8e2a",
   "metadata": {},
   "outputs": [
    {
     "name": "stdout",
     "output_type": "stream",
     "text": [
      "Chapathi chap chap\n"
     ]
    }
   ],
   "source": [
    "newPoem = \"Chapathi chap chap\"\n",
    "print(newPoem)"
   ]
  },
  {
   "cell_type": "code",
   "execution_count": 65,
   "id": "bfd7bbd6-9153-4f36-8cc6-a3d24d86f86d",
   "metadata": {},
   "outputs": [
    {
     "data": {
      "text/plain": [
       "'Chapathi Chapathi chap'"
      ]
     },
     "execution_count": 65,
     "metadata": {},
     "output_type": "execute_result"
    }
   ],
   "source": [
    "# Replacing chapathi at 1 st occurrence of chap \n",
    "newPoem.replace(\"chap\", \"Chapathi\", 1)"
   ]
  },
  {
   "cell_type": "markdown",
   "id": "51811487-e27a-4013-8ba7-5eab150b3d5c",
   "metadata": {},
   "source": [
    "<div style='background:#B1F9E3; color:#000000' class= 'alert alert-box'>\n",
    "    <i>Counting the characters from a string</i>\n",
    "</div>"
   ]
  },
  {
   "cell_type": "code",
   "execution_count": 66,
   "id": "ee25756c-e867-4d23-9f3d-2d84b06a7856",
   "metadata": {},
   "outputs": [
    {
     "name": "stdout",
     "output_type": "stream",
     "text": [
      "Abrakadabra\n"
     ]
    }
   ],
   "source": [
    "magic = \"Abrakadabra\"\n",
    "print(magic)"
   ]
  },
  {
   "cell_type": "code",
   "execution_count": 67,
   "id": "abb0182c-9c5b-40e3-b32b-7450e804dfd4",
   "metadata": {},
   "outputs": [
    {
     "data": {
      "text/plain": [
       "4"
      ]
     },
     "execution_count": 67,
     "metadata": {},
     "output_type": "execute_result"
    }
   ],
   "source": [
    "#Returns the number of times a specified value occurs in a string\n",
    "magic.count(\"a\")"
   ]
  },
  {
   "cell_type": "code",
   "execution_count": 68,
   "id": "b7f2270f-917a-45bf-9b35-c27da0da5a1d",
   "metadata": {},
   "outputs": [
    {
     "data": {
      "text/plain": [
       "1"
      ]
     },
     "execution_count": 68,
     "metadata": {},
     "output_type": "execute_result"
    }
   ],
   "source": [
    "#Returns the number of times a specified value occurs in a string\n",
    "magic.count(\"A\")"
   ]
  },
  {
   "cell_type": "code",
   "execution_count": 69,
   "id": "89f3d3f7-31de-49d8-95d1-87d754ade6d9",
   "metadata": {},
   "outputs": [
    {
     "name": "stdout",
     "output_type": "stream",
     "text": [
      "Center for material science\n"
     ]
    }
   ],
   "source": [
    "dept = \"Center for material science\"\n",
    "print(dept)"
   ]
  },
  {
   "cell_type": "code",
   "execution_count": 70,
   "id": "1658c6fe-b3f3-4be9-b8ef-9809f29a34a2",
   "metadata": {},
   "outputs": [
    {
     "data": {
      "text/plain": [
       "2"
      ]
     },
     "execution_count": 70,
     "metadata": {},
     "output_type": "execute_result"
    }
   ],
   "source": [
    "# Counting the occurance of a from 10th position\n",
    "dept.count(\"a\",10,100)"
   ]
  },
  {
   "cell_type": "markdown",
   "id": "cc7c8027-c4d6-4593-9f46-efbc5fa7b686",
   "metadata": {},
   "source": [
    "<div style='background:#B1F9E3; color:#000000' class= 'alert alert-box'>\n",
    "    <i>Checking the string contains alphabet or not</i>\n",
    "</div>"
   ]
  },
  {
   "cell_type": "code",
   "execution_count": 71,
   "id": "8d228a99-a7bb-4561-aec3-3ae11c890e3b",
   "metadata": {},
   "outputs": [
    {
     "data": {
      "text/plain": [
       "True"
      ]
     },
     "execution_count": 71,
     "metadata": {},
     "output_type": "execute_result"
    }
   ],
   "source": [
    "#Returns True if all characters in the string are in the alphabet\n",
    "userName = \"Sumanth\"\n",
    "userName.isalpha()"
   ]
  },
  {
   "cell_type": "code",
   "execution_count": 72,
   "id": "bc7591c9-cf7e-4ef2-8355-1db40b9c1b14",
   "metadata": {},
   "outputs": [
    {
     "data": {
      "text/plain": [
       "False"
      ]
     },
     "execution_count": 72,
     "metadata": {},
     "output_type": "execute_result"
    }
   ],
   "source": [
    "userName = \"Sumanth123\"\n",
    "userName.isalpha()"
   ]
  },
  {
   "cell_type": "markdown",
   "id": "8abe3fd9-ed05-4e4e-b8f5-4b90dbd55229",
   "metadata": {},
   "source": [
    "<div style='background:#B1F9E3; color:#000000' class= 'alert alert-box'>\n",
    "    <i>Checking string contains alphanumeric</i>\n",
    "</div>"
   ]
  },
  {
   "cell_type": "code",
   "execution_count": 73,
   "id": "30bd4918-5fe2-4177-a8be-8af7837610ba",
   "metadata": {},
   "outputs": [
    {
     "data": {
      "text/plain": [
       "True"
      ]
     },
     "execution_count": 73,
     "metadata": {},
     "output_type": "execute_result"
    }
   ],
   "source": [
    "#Returns True if all characters in the string are alphanumeric\n",
    "userName = \"Sumanth\"\n",
    "userName.isalnum()"
   ]
  },
  {
   "cell_type": "code",
   "execution_count": 74,
   "id": "377bb59b-5aec-40e1-b053-a0de2356125c",
   "metadata": {},
   "outputs": [
    {
     "data": {
      "text/plain": [
       "True"
      ]
     },
     "execution_count": 74,
     "metadata": {},
     "output_type": "execute_result"
    }
   ],
   "source": [
    "userName = \"Sumanth123\"\n",
    "userName.isalnum()"
   ]
  },
  {
   "cell_type": "code",
   "execution_count": 75,
   "id": "761940bb-5e78-43a1-8415-388bd1295065",
   "metadata": {},
   "outputs": [
    {
     "data": {
      "text/plain": [
       "False"
      ]
     },
     "execution_count": 75,
     "metadata": {},
     "output_type": "execute_result"
    }
   ],
   "source": [
    "userName = \"Sumanth@123\"\n",
    "userName.isalnum()"
   ]
  },
  {
   "cell_type": "markdown",
   "id": "6bed5f85-4c1f-4995-8c37-642c4e4c8fdc",
   "metadata": {},
   "source": [
    "<div style='background:#B1F9E3; color:#000000' class= 'alert alert-box'>\n",
    "    <i>Checking string if it contains only numbers or not</i>\n",
    "</div>"
   ]
  },
  {
   "cell_type": "code",
   "execution_count": 76,
   "id": "c36207f0-0a2b-458b-aa36-c863e230a904",
   "metadata": {},
   "outputs": [
    {
     "data": {
      "text/plain": [
       "False"
      ]
     },
     "execution_count": 76,
     "metadata": {},
     "output_type": "execute_result"
    }
   ],
   "source": [
    "#Returns True if all characters in the string are digits\n",
    "password = \"sumanth@123\"\n",
    "password.isdigit()"
   ]
  },
  {
   "cell_type": "code",
   "execution_count": 77,
   "id": "193e319a-2f7c-4ee3-8c4a-63365455fcf2",
   "metadata": {},
   "outputs": [
    {
     "data": {
      "text/plain": [
       "True"
      ]
     },
     "execution_count": 77,
     "metadata": {},
     "output_type": "execute_result"
    }
   ],
   "source": [
    "password = \"123456789\"\n",
    "password.isdigit()"
   ]
  },
  {
   "cell_type": "code",
   "execution_count": 78,
   "id": "08688274-ca81-4c7b-a1c9-030f67f19593",
   "metadata": {},
   "outputs": [
    {
     "name": "stdout",
     "output_type": "stream",
     "text": [
      "jhony jhony yes pappa\n"
     ]
    }
   ],
   "source": [
    "poem = \"jhony jhony yes pappa\"\n",
    "print(poem)"
   ]
  },
  {
   "cell_type": "code",
   "execution_count": 79,
   "id": "a1e99a8b-d88c-427b-a0d6-7dc1d46512fd",
   "metadata": {},
   "outputs": [
    {
     "data": {
      "text/plain": [
       "False"
      ]
     },
     "execution_count": 79,
     "metadata": {},
     "output_type": "execute_result"
    }
   ],
   "source": [
    "#Returns true if the string starts with the specified value\n",
    "poem.startswith(\"pappa\")"
   ]
  },
  {
   "cell_type": "code",
   "execution_count": 80,
   "id": "a880d271-eb0a-4aae-ad5e-987ae33482e7",
   "metadata": {},
   "outputs": [
    {
     "data": {
      "text/plain": [
       "True"
      ]
     },
     "execution_count": 80,
     "metadata": {},
     "output_type": "execute_result"
    }
   ],
   "source": [
    "#Returns true if the string ends with the specified value\n",
    "poem.endswith(\"pappa\")"
   ]
  },
  {
   "cell_type": "markdown",
   "id": "90c7cec5-cd84-4f7d-9fbe-34ebe5031486",
   "metadata": {},
   "source": [
    "<div style='background:#B1F9E3; color:#000000' class= 'alert alert-box'>\n",
    "    <table style=\"width:100%; border-collapse: collapse; background-color: #E4F9F2;\">\n",
    "        <tr>\n",
    "            <th>Method</th>\n",
    "            <th>Description</th>\n",
    "        </tr>\n",
    "        <tr>\n",
    "            <td>capitalize()</td>\n",
    "            <td>Converts the first character to upper case</td>\n",
    "        </tr>\n",
    "        <tr>\n",
    "            <td>casefold()</td>\n",
    "            <td>Converts string into lower case</td>\n",
    "        </tr>\n",
    "        <tr>\n",
    "            <td>center()</td>\n",
    "            <td>Returns a centered string</td>\n",
    "        </tr>\n",
    "        <tr>\n",
    "            <td>count()</td>\n",
    "            <td>Returns the number of times a specified value occurs in a string</td>\n",
    "        </tr>\n",
    "        <tr>\n",
    "            <td>encode()</td>\n",
    "            <td>Returns an encoded version of the string</td>\n",
    "        </tr>\n",
    "        <tr>\n",
    "            <td>endswith()</td>\n",
    "            <td>Returns true if the string ends with the specified value</td>\n",
    "        </tr>\n",
    "        <tr>\n",
    "            <td>expandtabs()</td>\n",
    "            <td>Sets the tab size of the string</td>\n",
    "        </tr>\n",
    "        <tr>\n",
    "            <td>find()</td>\n",
    "            <td>Searches the string for a specified value and returns the position of where it was found</td>\n",
    "        </tr>\n",
    "        <tr>\n",
    "            <td>format()</td>\n",
    "            <td>Formats specified values in a string</td>\n",
    "        </tr>\n",
    "        <tr>\n",
    "            <td>format_map()</td>\n",
    "            <td>Formats specified values in a string</td>\n",
    "        </tr>\n",
    "        <tr>\n",
    "            <td>index()</td>\n",
    "            <td>Searches the string for a specified value and returns the position of where it was found</td>\n",
    "        </tr>\n",
    "        <tr>\n",
    "            <td>isalnum()</td>\n",
    "            <td>Returns True if all characters in the string are alphanumeric</td>\n",
    "        </tr>\n",
    "        <tr>\n",
    "            <td>isalpha()</td>\n",
    "            <td>Returns True if all characters in the string are in the alphabet</td>\n",
    "        </tr>\n",
    "        <tr>\n",
    "            <td>isascii()</td>\n",
    "            <td>Returns True if all characters in the string are ascii characters</td>\n",
    "        </tr>\n",
    "        <tr>\n",
    "            <td>isdecimal()</td>\n",
    "            <td>Returns True if all characters in the string are decimals</td>\n",
    "        </tr>\n",
    "        <tr>\n",
    "            <td>isdigit()</td>\n",
    "            <td>Returns True if all characters in the string are digits</td>\n",
    "        </tr>\n",
    "        <tr>\n",
    "            <td>isidentifier()</td>\n",
    "            <td>Returns True if the string is an identifier</td>\n",
    "        </tr>\n",
    "        <tr>\n",
    "            <td>islower()</td>\n",
    "            <td>Returns True if all characters in the string are lower case</td>\n",
    "        </tr>\n",
    "        <tr>\n",
    "            <td>isnumeric()</td>\n",
    "            <td>Returns True if all characters in the string are numeric</td>\n",
    "        </tr>\n",
    "        <tr>\n",
    "            <td>isprintable()</td>\n",
    "<td>Returns True if all characters in the string are printable</td>\n",
    "</tr>\n",
    "<tr>\n",
    "<td>isspace()</td>\n",
    "<td>Returns True if all characters in the string are whitespaces</td>\n",
    "</tr>\n",
    "<tr>\n",
    "<td>istitle()</td>\n",
    "<td>Returns True if the string follows the rules of a title</td>\n",
    "</tr>\n",
    "<tr>\n",
    "<td>isupper()</td>\n",
    "<td>Returns True if all characters in the string are upper case</td>\n",
    "</tr>\n",
    "<tr>\n",
    "<td>join()</td>\n",
    "<td>Joins the elements of an iterable to the end of the string</td>\n",
    "</tr>\n",
    "<tr>\n",
    "<td>ljust()</td>\n",
    "<td>Returns a left justified version of the string</td>\n",
    "</tr>\n",
    "<tr>\n",
    "<td>lower()</td>\n",
    "<td>Converts a string into lower case</td>\n",
    "</tr>\n",
    "<tr>\n",
    "<td>lstrip()</td>\n",
    "<td>Returns a left trim version of the string</td>\n",
    "</tr>\n",
    "<tr>\n",
    "<td>maketrans()</td>\n",
    "<td>Returns a translation table to be used in translations</td>\n",
    "</tr>\n",
    "<tr>\n",
    "<td>partition()</td>\n",
    "<td>Returns a tuple where the string is parted into three parts</td>\n",
    "</tr>\n",
    "<tr>\n",
    "<td>replace()</td>\n",
    "<td>Returns a string where a specified value is replaced with a specified value</td>\n",
    "</tr>\n",
    "<tr>\n",
    "<td>rfind()</td>\n",
    "<td>Searches the string for a specified value and returns the last position of where it was found</td>\n",
    "</tr>\n",
    "<tr>\n",
    "<td>rindex()</td>\n",
    "<td>Searches the string for a specified value and returns the last position of where it was found</td>\n",
    "</tr>\n",
    "<tr>\n",
    "<td>rjust()</td>\n",
    "<td>Returns a right justified version of the string</td>\n",
    "</tr>\n",
    "<tr>\n",
    "<td>rpartition()</td>\n",
    "<td>Returns a tuple where the string is parted into three parts</td>\n",
    "</tr>\n",
    "<tr>\n",
    "<td>rsplit()</td>\n",
    "<td>Splits the string at the specified separator, and returns a list</td>\n",
    "</tr>\n",
    "<tr>\n",
    "<td>rstrip()</td>\n",
    "<td>Returns a right trim version of the string</td>\n",
    "</tr>\n",
    "<tr>\n",
    "<td>split()</td>\n",
    "<td>Splits the string at the specified separator, and returns a list</td>\n",
    "</tr>\n",
    "<tr>\n",
    "<td>splitlines()</td>\n",
    "<td>Splits the string at line breaks and returns a list</td>\n",
    "</tr>\n",
    "<tr>\n",
    "<td>startswith()</td>\n",
    "<td>Returns true if the string starts with the specified value</td>\n",
    "</tr>\n",
    "<tr>\n",
    "<td>strip()</td>\n",
    "<td>Returns a trimmed version of the string</td>\n",
    "</tr>\n",
    "<tr>\n",
    "<td>swapcase()</td>\n",
    "<td>Swaps cases, lower case becomes upper case and vice versa</td>\n",
    "</tr>\n",
    "<tr>\n",
    "<td>title()</td>\n",
    "<td>Converts the first character of each word to upper case</td>\n",
    "</tr>\n",
    "<tr>\n",
    "<td>translate()</td>\n",
    "<td>Returns a translated string</td>\n",
    "</tr>\n",
    "<tr>\n",
    "<td>upper()</td>\n",
    "<td>Converts a string into upper case</td>\n",
    "</tr>\n",
    "<tr>\n",
    "<td>zfill()</td>\n",
    "<td>Fills the string with a specified number of 0 values at the beginning</td>\n",
    "</tr>\n",
    "</table>\n",
    "\n",
    "</div>"
   ]
  },
  {
   "cell_type": "code",
   "execution_count": null,
   "id": "8eca6ed3-411a-4f1d-9227-4332ffd8543e",
   "metadata": {},
   "outputs": [],
   "source": []
  }
 ],
 "metadata": {
  "kernelspec": {
   "display_name": "Python 3 (ipykernel)",
   "language": "python",
   "name": "python3"
  },
  "language_info": {
   "codemirror_mode": {
    "name": "ipython",
    "version": 3
   },
   "file_extension": ".py",
   "mimetype": "text/x-python",
   "name": "python",
   "nbconvert_exporter": "python",
   "pygments_lexer": "ipython3",
   "version": "3.9.18"
  }
 },
 "nbformat": 4,
 "nbformat_minor": 5
}
