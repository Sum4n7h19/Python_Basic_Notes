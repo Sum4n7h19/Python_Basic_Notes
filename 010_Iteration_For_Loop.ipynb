{
 "cells": [
  {
   "cell_type": "markdown",
   "id": "fbd8b22d-c805-40bd-bffb-f66b6271bfbc",
   "metadata": {},
   "source": [
    "<div style='background:#B1F9E3; color:#000000' class='alert alert-box'>\n",
    "  <h2>Iterations in Python (Loops)</h2>\n",
    "     <p>In Python, an iterator is an object that allows you to iterate over collections of data, such as lists, tuples, dictionaries, and sets.</p>\n",
    "  <ul>\n",
    "    <li><strong>For-Loops with Range Functions</strong></li>\n",
    "    <li><strong>For-Loops with Sequences</strong></li>\n",
    "    <li><strong>For Loops with Enumerations</strong></li>\n",
    "    <li><strong>Nested For Loops</strong></li>\n",
    "    <li><strong>While Loops</strong></li>\n",
    "    <li><strong>Loop Controls</strong>\n",
    "      <ul>\n",
    "        <li><code>Continue</code></li>\n",
    "        <li><code>Pass</code></li>\n",
    "        <li><code>Break</code></li>\n",
    "      </ul>\n",
    "    </li>\n",
    "    <li><strong>Comprehension</strong></li>\n",
    "  </ul>\n",
    "</div>\n"
   ]
  },
  {
   "cell_type": "markdown",
   "id": "3d44bcc8-3c50-4a0b-9980-b17eca766f94",
   "metadata": {},
   "source": [
    "<div style='background:#B1F9E3; color:#000000' class='alert alert-box'>\n",
    "  <h3>For-Loops with Range Functions</h3>\n",
    "  <p><strong>Loops:</strong></p>\n",
    "  <ul>\n",
    "    <li>Repetition of a set of instructions until the condition is satisfied</li>\n",
    "    <li>Loops are nothing but iterations</li>\n",
    "  </ul>\n",
    "  <p>Example: Cutting the tree or daily routines again and again</p>\n",
    "</div>\n"
   ]
  },
  {
   "cell_type": "code",
   "execution_count": 1,
   "id": "8a568cf7-a40f-43ed-b9c8-21e35c4adba2",
   "metadata": {},
   "outputs": [],
   "source": [
    "# Range functions \n",
    "# Range generates set of sequential numbers \n"
   ]
  },
  {
   "cell_type": "code",
   "execution_count": 2,
   "id": "6c93e2d1-2e3e-4934-b1b3-04515932ae79",
   "metadata": {},
   "outputs": [
    {
     "data": {
      "text/plain": [
       "range(0, 5)"
      ]
     },
     "execution_count": 2,
     "metadata": {},
     "output_type": "execute_result"
    }
   ],
   "source": [
    "range(0,5)"
   ]
  },
  {
   "cell_type": "markdown",
   "id": "a3695171-c2c2-4c46-af98-44de2904c2e7",
   "metadata": {},
   "source": [
    "<div style='background:#B1F9E3; color:#000000' class='alert alert-box'>\n",
    " <p><strong>Note:</strong> The above lines do not generate any values.</p>"
   ]
  },
  {
   "cell_type": "code",
   "execution_count": 3,
   "id": "c5807f93-2404-439d-bc7c-7ce0820ce3b5",
   "metadata": {},
   "outputs": [],
   "source": [
    "a = list(range(0,5))"
   ]
  },
  {
   "cell_type": "code",
   "execution_count": 4,
   "id": "c6201823-5512-4694-99bd-3b34e71091ee",
   "metadata": {},
   "outputs": [
    {
     "name": "stdout",
     "output_type": "stream",
     "text": [
      "[0, 1, 2, 3, 4]\n"
     ]
    }
   ],
   "source": [
    "print(a)"
   ]
  },
  {
   "cell_type": "code",
   "execution_count": 5,
   "id": "84c085ba-23f8-409c-b012-eb32c5caa81b",
   "metadata": {},
   "outputs": [
    {
     "name": "stdout",
     "output_type": "stream",
     "text": [
      "[0, 1, 2, 3, 4, 5, 6, 7, 8, 9]\n"
     ]
    }
   ],
   "source": [
    "b = list(range(0,10))\n",
    "print(b)"
   ]
  },
  {
   "cell_type": "code",
   "execution_count": 6,
   "id": "82aa7511-effd-4b6d-8c82-5b681214a58e",
   "metadata": {},
   "outputs": [
    {
     "name": "stdout",
     "output_type": "stream",
     "text": [
      "[10, 11, 12, 13, 14, 15]\n"
     ]
    }
   ],
   "source": [
    "c = list(range(10,16))\n",
    "print(c)"
   ]
  },
  {
   "cell_type": "code",
   "execution_count": 7,
   "id": "0d278b71-55eb-44a8-9c7f-34c12a8612ae",
   "metadata": {},
   "outputs": [
    {
     "name": "stdout",
     "output_type": "stream",
     "text": [
      "[0, 2, 4, 6, 8, 10, 12, 14, 16, 18, 20]\n"
     ]
    }
   ],
   "source": [
    "# Generating even numbers in range function.\n",
    "even = list(range(0,21,2))\n",
    "print(even)"
   ]
  },
  {
   "cell_type": "code",
   "execution_count": 8,
   "id": "495990f8-7eb4-4909-95c3-75c45bcd2cd3",
   "metadata": {},
   "outputs": [
    {
     "name": "stdout",
     "output_type": "stream",
     "text": [
      "[1, 3, 5, 7, 9, 11, 13, 15, 17, 19]\n"
     ]
    }
   ],
   "source": [
    "# Generating odd numbers in range function\n",
    "odd = list(range(1,21,2))\n",
    "print(odd)"
   ]
  },
  {
   "cell_type": "code",
   "execution_count": 9,
   "id": "70eb8140-f2b3-4dee-8edb-b04fa9d3e1e2",
   "metadata": {},
   "outputs": [
    {
     "name": "stdout",
     "output_type": "stream",
     "text": [
      "[21, 20, 19, 18, 17, 16, 15, 14, 13, 12, 11, 10, 9, 8, 7, 6, 5, 4, 3, 2, 1]\n"
     ]
    }
   ],
   "source": [
    "# Generating reversed values with in a range\n",
    "reverse = list(range(21,0,-1))\n",
    "print(reverse)"
   ]
  },
  {
   "cell_type": "markdown",
   "id": "2af6c880-8b54-4913-8dc3-54d59db96bd0",
   "metadata": {},
   "source": [
    "<div style='background:#B1F9E3; color:#000000' class='alert alert-box'>\n",
    "  <h3>For Loop</h3>\n",
    "</div>\n"
   ]
  },
  {
   "cell_type": "code",
   "execution_count": 10,
   "id": "e53fbce1-4de6-4900-8147-2a5a85b966c4",
   "metadata": {},
   "outputs": [
    {
     "name": "stdout",
     "output_type": "stream",
     "text": [
      "['laptop', 'charger', 'pen', 'notebook']\n"
     ]
    }
   ],
   "source": [
    "bag = ['laptop', 'charger', 'pen', 'notebook']\n",
    "print(bag)"
   ]
  },
  {
   "cell_type": "code",
   "execution_count": 11,
   "id": "7549f498-4e60-4cc7-bd5f-5f2abdadbb3b",
   "metadata": {},
   "outputs": [
    {
     "name": "stdout",
     "output_type": "stream",
     "text": [
      "laptop\n",
      "charger\n",
      "pen\n",
      "notebook\n"
     ]
    }
   ],
   "source": [
    "# Traversing through a list\n",
    "for item in bag:\n",
    "    print(item)"
   ]
  },
  {
   "cell_type": "code",
   "execution_count": 12,
   "id": "a07d948a-7878-4933-98e4-08ef20680e22",
   "metadata": {},
   "outputs": [
    {
     "name": "stdout",
     "output_type": "stream",
     "text": [
      "laptop\n",
      "charger\n",
      "pen\n",
      "notebook\n"
     ]
    }
   ],
   "source": [
    "for i in bag:\n",
    "    print(i)"
   ]
  },
  {
   "cell_type": "code",
   "execution_count": 13,
   "id": "872687c6-e1b0-4d99-b98e-7a0a52889ffc",
   "metadata": {},
   "outputs": [
    {
     "name": "stdout",
     "output_type": "stream",
     "text": [
      "laptop found in bag\n",
      "charger found in bag\n",
      "pen found in bag\n",
      "notebook found in bag\n"
     ]
    }
   ],
   "source": [
    "# Customizing printing\n",
    "for i in bag:\n",
    "    print(f\"{i} found in bag\")"
   ]
  },
  {
   "cell_type": "code",
   "execution_count": 14,
   "id": "b850e349-7c98-438c-858a-b4880cbc892c",
   "metadata": {},
   "outputs": [
    {
     "name": "stdout",
     "output_type": "stream",
     "text": [
      "0\n",
      "1\n",
      "2\n",
      "3\n",
      "4\n",
      "5\n",
      "6\n",
      "7\n",
      "8\n",
      "9\n"
     ]
    }
   ],
   "source": [
    "# Using range function for printing values\n",
    "for i in range(0,10):\n",
    "    print(i)"
   ]
  },
  {
   "cell_type": "code",
   "execution_count": 15,
   "id": "e2fc112d-be90-485b-8997-e2a7af26ddc0",
   "metadata": {},
   "outputs": [
    {
     "name": "stdout",
     "output_type": "stream",
     "text": [
      "2\n",
      "4\n",
      "6\n",
      "8\n",
      "10\n",
      "12\n",
      "14\n",
      "16\n",
      "18\n",
      "20\n"
     ]
    }
   ],
   "source": [
    "# Use of range function with airthmetic operators\n",
    "for i in range(1,11):\n",
    "    print(i * 2)"
   ]
  },
  {
   "cell_type": "code",
   "execution_count": 16,
   "id": "8aaf2fe4-b958-4058-b67a-226958741f4e",
   "metadata": {},
   "outputs": [],
   "source": [
    "# Use of range function with trignometric functions\n",
    "import math"
   ]
  },
  {
   "cell_type": "code",
   "execution_count": 17,
   "id": "b2d17476-9d1c-4507-bbcb-9036d6027f5b",
   "metadata": {},
   "outputs": [
    {
     "name": "stdout",
     "output_type": "stream",
     "text": [
      "0.8414709848078965\n",
      "0.9092974268256817\n",
      "0.1411200080598672\n",
      "-0.7568024953079282\n",
      "-0.9589242746631385\n",
      "-0.27941549819892586\n",
      "0.6569865987187891\n",
      "0.9893582466233818\n",
      "0.4121184852417566\n",
      "-0.5440211108893698\n"
     ]
    }
   ],
   "source": [
    "for i in range(1,11):\n",
    "    print(math.sin(i))"
   ]
  },
  {
   "cell_type": "code",
   "execution_count": 18,
   "id": "50b3ace9-4ab5-430b-a982-2d136320c0ce",
   "metadata": {},
   "outputs": [
    {
     "name": "stdout",
     "output_type": "stream",
     "text": [
      "0.84\n",
      "0.91\n",
      "0.14\n",
      "-0.76\n",
      "-0.96\n",
      "-0.28\n",
      "0.66\n",
      "0.99\n",
      "0.41\n",
      "-0.54\n"
     ]
    }
   ],
   "source": [
    "# Rounding of the values\n",
    "for i in range(1,11):\n",
    "    print(round(math.sin(i),2))"
   ]
  },
  {
   "cell_type": "code",
   "execution_count": 19,
   "id": "935deca9-eba1-4ddc-8c58-6d3ac63de7dc",
   "metadata": {},
   "outputs": [],
   "source": [
    "# Traversing through a list and finding sum of all values"
   ]
  },
  {
   "cell_type": "code",
   "execution_count": 20,
   "id": "5aec7318-31ff-416d-ab04-93e412333e0f",
   "metadata": {},
   "outputs": [
    {
     "name": "stdout",
     "output_type": "stream",
     "text": [
      "[1, 2, 3, 4, 5, 6, 7, 8, 9]\n"
     ]
    }
   ],
   "source": [
    "# Step 1:\n",
    "# generate a list of numbers\n",
    "a = list(range(1,10))\n",
    "print(a)"
   ]
  },
  {
   "cell_type": "code",
   "execution_count": 21,
   "id": "f149678f-966b-41c9-addb-6cbc70794f04",
   "metadata": {},
   "outputs": [],
   "source": [
    "# Step 2:\n",
    "# declare a temporary variable\n",
    "Total = 0"
   ]
  },
  {
   "cell_type": "code",
   "execution_count": 22,
   "id": "7dd8cb48-3667-4b26-a3eb-c2438049857a",
   "metadata": {},
   "outputs": [],
   "source": [
    "# Step 3:\n",
    "for num in a:\n",
    "    Total = num + Total"
   ]
  },
  {
   "cell_type": "code",
   "execution_count": 23,
   "id": "b6c00a55-dc6d-44db-be02-1bc1732f0e20",
   "metadata": {},
   "outputs": [
    {
     "name": "stdout",
     "output_type": "stream",
     "text": [
      "45\n"
     ]
    }
   ],
   "source": [
    "# Step 4: \n",
    "# Print the total\n",
    "print(Total)"
   ]
  },
  {
   "cell_type": "code",
   "execution_count": 24,
   "id": "57a02caa-c4af-4c3e-bb28-a5e255f99bd1",
   "metadata": {},
   "outputs": [
    {
     "name": "stdout",
     "output_type": "stream",
     "text": [
      "55\n"
     ]
    }
   ],
   "source": [
    "# Merging all line and creating a final code\n",
    "b = list(range(1,11))\n",
    "sum = 0\n",
    "for num in b:\n",
    "    sum = sum + num\n",
    "print(sum)"
   ]
  },
  {
   "cell_type": "code",
   "execution_count": 25,
   "id": "c6758ad8-3fe0-4b3d-aab9-b9acf1fc517f",
   "metadata": {},
   "outputs": [
    {
     "name": "stdout",
     "output_type": "stream",
     "text": [
      "24\n"
     ]
    }
   ],
   "source": [
    "# Generatin a product of all the numbers\n",
    "c = list(range(1,5))\n",
    "product = 1\n",
    "for number in c:\n",
    "    product = product * number\n",
    "print(product)"
   ]
  },
  {
   "cell_type": "markdown",
   "id": "f27fba1f-05c0-48e7-a3d5-796c8134c7c4",
   "metadata": {},
   "source": [
    "<div style='background:#B1F9E3; color:#000000' class='alert alert-box'>\n",
    "  <h3>For Loops with Enumerations</h3>\n",
    "</div>\n"
   ]
  },
  {
   "cell_type": "code",
   "execution_count": 26,
   "id": "7955d743-3d40-4b5a-8938-75492e1db915",
   "metadata": {},
   "outputs": [
    {
     "name": "stdout",
     "output_type": "stream",
     "text": [
      "[(0, 'laptop'), (1, 'charger'), (2, 'pen'), (3, 'notebook')]\n"
     ]
    }
   ],
   "source": [
    "print(list(enumerate(bag)))"
   ]
  },
  {
   "cell_type": "code",
   "execution_count": 27,
   "id": "98c7eced-629c-419d-9c36-aa6d7677d636",
   "metadata": {},
   "outputs": [
    {
     "name": "stdout",
     "output_type": "stream",
     "text": [
      "((0, 'laptop'), (1, 'charger'), (2, 'pen'), (3, 'notebook'))\n"
     ]
    }
   ],
   "source": [
    "print(tuple(enumerate(bag)))"
   ]
  },
  {
   "cell_type": "code",
   "execution_count": 28,
   "id": "e3012556-dd4d-4a18-9bff-7d77849c0fd0",
   "metadata": {},
   "outputs": [
    {
     "name": "stdout",
     "output_type": "stream",
     "text": [
      "0 laptop\n",
      "1 charger\n",
      "2 pen\n",
      "3 notebook\n"
     ]
    }
   ],
   "source": [
    "for index, item in enumerate(bag):\n",
    "    print(index, item)"
   ]
  },
  {
   "cell_type": "code",
   "execution_count": 29,
   "id": "332a3bd5-54b3-4d69-9cf6-3e6464a3093e",
   "metadata": {},
   "outputs": [
    {
     "name": "stdout",
     "output_type": "stream",
     "text": [
      "at the 0 position laptop is stored.\n",
      "at the 1 position charger is stored.\n",
      "at the 2 position pen is stored.\n",
      "at the 3 position notebook is stored.\n"
     ]
    }
   ],
   "source": [
    "for index, item in enumerate(bag):\n",
    "    print(f'at the {index} position {item} is stored.')"
   ]
  },
  {
   "cell_type": "markdown",
   "id": "e2c57b18-74ce-42bd-a062-7c75fc7017aa",
   "metadata": {},
   "source": [
    "<div style='background:#B1F9E3; color:#000000' class='alert alert-box'>\n",
    "  <h3>Nested For Loops</h3>\n",
    "</div>\n"
   ]
  },
  {
   "cell_type": "code",
   "execution_count": 30,
   "id": "0bca53b8-7463-4c95-bfd0-0f32e5519f83",
   "metadata": {},
   "outputs": [],
   "source": [
    "# Create a nested list\n",
    "school = [['Sumanth', 'Sanjay', 'Shivashankar'], ['Divya', 'Harshitha', 'Inchara']]"
   ]
  },
  {
   "cell_type": "code",
   "execution_count": 31,
   "id": "ada72f98-c1d0-4ce2-8926-e532304bd722",
   "metadata": {},
   "outputs": [
    {
     "name": "stdout",
     "output_type": "stream",
     "text": [
      "['Sumanth', 'Sanjay', 'Shivashankar']\n",
      "['Divya', 'Harshitha', 'Inchara']\n"
     ]
    }
   ],
   "source": [
    "for i in school:\n",
    "    print(i)"
   ]
  },
  {
   "cell_type": "code",
   "execution_count": 32,
   "id": "143aac66-7abd-456d-ac95-de691e5b6726",
   "metadata": {},
   "outputs": [
    {
     "name": "stdout",
     "output_type": "stream",
     "text": [
      "Sumanth\n",
      "Sanjay\n",
      "Shivashankar\n",
      "Divya\n",
      "Harshitha\n",
      "Inchara\n"
     ]
    }
   ],
   "source": [
    "for i in school:\n",
    "    for name in i:\n",
    "        print(name)"
   ]
  },
  {
   "cell_type": "code",
   "execution_count": 33,
   "id": "faab548f-90e0-4e3b-81a3-5e899d9aa164",
   "metadata": {},
   "outputs": [],
   "source": [
    "family = [['Sumanth'],['Maheshkumar', 'Saritha'], [['Leelavathi', 'Shivakumar']]]"
   ]
  },
  {
   "cell_type": "code",
   "execution_count": 34,
   "id": "518fcdf2-6eb3-4152-a9ea-661bdd01ba50",
   "metadata": {},
   "outputs": [
    {
     "name": "stdout",
     "output_type": "stream",
     "text": [
      "['Sumanth']\n",
      "['Maheshkumar', 'Saritha']\n",
      "[['Leelavathi', 'Shivakumar']]\n"
     ]
    }
   ],
   "source": [
    "for i in family:\n",
    "    print(i)"
   ]
  },
  {
   "cell_type": "code",
   "execution_count": 35,
   "id": "11b09686-624f-4da5-bf81-04ec371b2d17",
   "metadata": {},
   "outputs": [
    {
     "name": "stdout",
     "output_type": "stream",
     "text": [
      "Sumanth\n",
      "Maheshkumar\n",
      "Saritha\n",
      "['Leelavathi', 'Shivakumar']\n"
     ]
    }
   ],
   "source": [
    "for i in family:\n",
    "    for j in i:\n",
    "        print(j)"
   ]
  },
  {
   "cell_type": "code",
   "execution_count": 36,
   "id": "de3fedc4-9627-48e0-8a0c-901993ffb9d2",
   "metadata": {},
   "outputs": [
    {
     "name": "stdout",
     "output_type": "stream",
     "text": [
      "Sumanth\n",
      "Maheshkumar\n",
      "Saritha\n",
      "['Leelavathi', 'Shivakumar']\n"
     ]
    }
   ],
   "source": [
    "for i in family:\n",
    "    for j in i:\n",
    "        print(j)"
   ]
  },
  {
   "cell_type": "markdown",
   "id": "09099b31-4faf-47ac-9573-8c22b234501d",
   "metadata": {},
   "source": [
    "<div style='background:#B1F9E3; color:#000000' class='alert alert-box'>\n",
    "  <h3>While Loops</h3>\n",
    "  <p>A <code>while</code> loop is also called an infinite loop until you flag it with a condition.</p>\n",
    "</div>\n"
   ]
  },
  {
   "cell_type": "code",
   "execution_count": 37,
   "id": "9b296e02-3b72-4570-96c5-c26b14b4ed76",
   "metadata": {},
   "outputs": [
    {
     "name": "stdout",
     "output_type": "stream",
     "text": [
      "Happy new year\n",
      "Happy new year\n",
      "Happy new year\n",
      "Happy new year\n",
      "Happy new year\n",
      "Happy new year\n",
      "Happy new year\n",
      "Happy new year\n",
      "Happy new year\n",
      "Happy new year\n"
     ]
    }
   ],
   "source": [
    "i = 0\n",
    "while i < 10:\n",
    "    print('Happy new year')\n",
    "    i = i + 1"
   ]
  },
  {
   "cell_type": "markdown",
   "id": "6ec6a7c2-6e9a-4ed1-a439-3bcd06b91684",
   "metadata": {},
   "source": [
    "<div style='background:#B1F9E3; color:#000000' class='alert alert-box'>\n",
    "  <h3>Loop Controls</h3>\n",
    "  <ul>\n",
    "    <li><code>pass</code></li>\n",
    "    <li><code>continue</code></li>\n",
    "    <li><code>break</code></li>\n",
    "  </ul>\n",
    "</div>\n"
   ]
  },
  {
   "cell_type": "code",
   "execution_count": 38,
   "id": "0471b251-d6b2-4aa8-b802-88bc9c38463b",
   "metadata": {},
   "outputs": [],
   "source": [
    "names = ['Sharath', 'Harshitha','Inchara']"
   ]
  },
  {
   "cell_type": "code",
   "execution_count": 39,
   "id": "217e2acf-8c28-442e-97f1-893adcce53ce",
   "metadata": {},
   "outputs": [],
   "source": [
    "for name in names:\n",
    "    pass"
   ]
  },
  {
   "cell_type": "code",
   "execution_count": 40,
   "id": "b0338cbb-a587-496e-8e5e-6d8b59a012b9",
   "metadata": {},
   "outputs": [],
   "source": [
    "z = list(range(0,10))"
   ]
  },
  {
   "cell_type": "code",
   "execution_count": 41,
   "id": "d213c4fb-f8e7-449c-a94d-7f278b56001f",
   "metadata": {},
   "outputs": [
    {
     "name": "stdout",
     "output_type": "stream",
     "text": [
      "[0, 1, 2, 3, 4, 5, 6, 7, 8, 9]\n"
     ]
    }
   ],
   "source": [
    "print(z)"
   ]
  },
  {
   "cell_type": "code",
   "execution_count": 42,
   "id": "2bfaca85-986a-46ad-9dce-817868afb12c",
   "metadata": {},
   "outputs": [
    {
     "name": "stdout",
     "output_type": "stream",
     "text": [
      "0\n",
      "1\n",
      "2\n",
      "3\n",
      "4\n",
      "5\n",
      "6\n",
      "7\n",
      "8\n",
      "9\n"
     ]
    }
   ],
   "source": [
    "for number in z:\n",
    "    if number <=10:\n",
    "        print(number)\n",
    "    else:\n",
    "        pass"
   ]
  },
  {
   "cell_type": "code",
   "execution_count": 43,
   "id": "a0a3ee7b-d7df-4e76-adaa-ce3d21ecbc43",
   "metadata": {},
   "outputs": [
    {
     "name": "stdout",
     "output_type": "stream",
     "text": [
      "odd numbers 1\n",
      "odd numbers 3\n",
      "odd numbers 5\n",
      "odd numbers 7\n",
      "odd numbers 9\n"
     ]
    }
   ],
   "source": [
    "for number in z:\n",
    "    if number % 2 != 0:\n",
    "        print(f'odd numbers {number}')\n",
    "    else:\n",
    "        pass"
   ]
  },
  {
   "cell_type": "code",
   "execution_count": 44,
   "id": "e3d16616-c1e2-49ae-9db7-feda610028f4",
   "metadata": {},
   "outputs": [
    {
     "name": "stdout",
     "output_type": "stream",
     "text": [
      "even numbers 0\n",
      "even numbers 2\n",
      "even numbers 4\n",
      "even numbers 6\n",
      "even numbers 8\n"
     ]
    }
   ],
   "source": [
    "for number in z:\n",
    "    if number % 2 == 0:\n",
    "        print(f'even numbers {number}')\n",
    "    else:\n",
    "        pass"
   ]
  },
  {
   "cell_type": "code",
   "execution_count": 45,
   "id": "8ccd823a-7bb9-4352-a20b-c1beb1ed8f35",
   "metadata": {},
   "outputs": [
    {
     "name": "stdout",
     "output_type": "stream",
     "text": [
      "even numbers 0\n",
      "odd numbers 1\n",
      "even numbers 2\n",
      "odd numbers 3\n",
      "even numbers 4\n",
      "odd numbers 5\n",
      "even numbers 6\n",
      "odd numbers 7\n",
      "even numbers 8\n",
      "odd numbers 9\n"
     ]
    }
   ],
   "source": [
    "for number in z:\n",
    "    if number % 2 != 0:\n",
    "        print(f'odd numbers {number}')\n",
    "    else:\n",
    "        print(f'even numbers {number}')"
   ]
  },
  {
   "cell_type": "markdown",
   "id": "073ffbef-035e-4db9-ba8a-b0964962eedc",
   "metadata": {},
   "source": [
    "***Continue function***\n",
    "\n",
    "continue function is used to skip when condition is satisfied"
   ]
  },
  {
   "cell_type": "code",
   "execution_count": 46,
   "id": "345b8f87-df87-4a94-9173-b13323dd0d59",
   "metadata": {},
   "outputs": [],
   "source": [
    "names = ['ravi', 'ram', 'sita', 'ravan']"
   ]
  },
  {
   "cell_type": "code",
   "execution_count": 47,
   "id": "c229dc20-c350-4000-8d49-213589b1464e",
   "metadata": {},
   "outputs": [
    {
     "name": "stdout",
     "output_type": "stream",
     "text": [
      "ravi\n",
      "ram\n",
      "sita\n",
      "ravan\n"
     ]
    }
   ],
   "source": [
    "for name in names:\n",
    "    print(name)"
   ]
  },
  {
   "cell_type": "code",
   "execution_count": 48,
   "id": "3af1324c-67ca-42f6-b9e7-8a7338ee6170",
   "metadata": {},
   "outputs": [
    {
     "name": "stdout",
     "output_type": "stream",
     "text": [
      "ravi\n",
      "sita\n",
      "ravan\n"
     ]
    }
   ],
   "source": [
    "for name in names:\n",
    "    if len(name) == 3:\n",
    "        continue\n",
    "    print(name)"
   ]
  },
  {
   "cell_type": "code",
   "execution_count": 49,
   "id": "61c415f8-7931-4f34-be7d-cc02a1dbce40",
   "metadata": {},
   "outputs": [
    {
     "name": "stdout",
     "output_type": "stream",
     "text": [
      "1\n",
      "2\n",
      "3\n",
      "4\n",
      "5\n",
      "6\n",
      "7\n",
      "13\n",
      "14\n",
      "15\n",
      "16\n",
      "17\n",
      "18\n",
      "19\n",
      "20\n"
     ]
    }
   ],
   "source": [
    "for num in range(1,21):\n",
    "    if num >= 8 and num <=12:\n",
    "        continue\n",
    "    print(num)"
   ]
  },
  {
   "cell_type": "code",
   "execution_count": 50,
   "id": "e8d5392b-3fdb-4f9d-9faa-ccd0d27a003e",
   "metadata": {},
   "outputs": [],
   "source": [
    "# Gets out of the loop when condition is satisfied\n",
    "names = ['ravi', 'sita', 'ram', 'ravan']"
   ]
  },
  {
   "cell_type": "code",
   "execution_count": 51,
   "id": "40e2b9f9-17c3-4965-aec5-8a1489051d31",
   "metadata": {},
   "outputs": [
    {
     "name": "stdout",
     "output_type": "stream",
     "text": [
      "ravi\n",
      "sita\n"
     ]
    }
   ],
   "source": [
    "for name in names:\n",
    "    if len(name) == 3:\n",
    "        break\n",
    "    print(name)"
   ]
  },
  {
   "cell_type": "markdown",
   "id": "59358d0e-6a33-4d57-9aac-4b1a42405636",
   "metadata": {},
   "source": [
    "<div style='background:#B1F9E3; color:#000000' class='alert alert-box'>\n",
    "  <h2>For-Else</h2>\n",
    "  <p>If the <code>else</code> statement is used with the <code>for</code> loop, the <code>else</code> block is executed only if the <code>for</code> loop terminates normally.</p>\n",
    "</div>\n"
   ]
  },
  {
   "cell_type": "code",
   "execution_count": 52,
   "id": "6d183913-b324-4336-a9a8-1ca9fe2a5ef8",
   "metadata": {},
   "outputs": [
    {
     "name": "stdout",
     "output_type": "stream",
     "text": [
      "It has even number\n"
     ]
    }
   ],
   "source": [
    "number = [11, 33, 55, 2, 39]\n",
    "for num in number:\n",
    "    if num % 2 == 0:\n",
    "        print('It has even number')\n",
    "        break\n",
    "else:\n",
    "    print('List does not contain even numbers')"
   ]
  },
  {
   "cell_type": "markdown",
   "id": "8ad83371-02cf-48d8-a168-6200bf2bd003",
   "metadata": {},
   "source": [
    "<div style='background:#B1F9E3; color:#000000' class='alert alert-box'>\n",
    "  <h3>Comprehension</h3>\n",
    "  <p>Comprehension is one of the elegant ways to generate a set of numbers using a condition within a sequence.</p>\n",
    "</div>\n"
   ]
  },
  {
   "cell_type": "code",
   "execution_count": 53,
   "id": "867ea073-3cb2-45aa-ba93-ac9f58e9c90c",
   "metadata": {},
   "outputs": [],
   "source": [
    "# Traditional method of generating a series of numbers using range function\n",
    "a = list(range(1,101))"
   ]
  },
  {
   "cell_type": "code",
   "execution_count": 54,
   "id": "76456b24-c789-4389-be3f-605d28d0b088",
   "metadata": {},
   "outputs": [
    {
     "name": "stdout",
     "output_type": "stream",
     "text": [
      "[1, 2, 3, 4, 5, 6, 7, 8, 9, 10, 11, 12, 13, 14, 15, 16, 17, 18, 19, 20, 21, 22, 23, 24, 25, 26, 27, 28, 29, 30, 31, 32, 33, 34, 35, 36, 37, 38, 39, 40, 41, 42, 43, 44, 45, 46, 47, 48, 49, 50, 51, 52, 53, 54, 55, 56, 57, 58, 59, 60, 61, 62, 63, 64, 65, 66, 67, 68, 69, 70, 71, 72, 73, 74, 75, 76, 77, 78, 79, 80, 81, 82, 83, 84, 85, 86, 87, 88, 89, 90, 91, 92, 93, 94, 95, 96, 97, 98, 99, 100]\n"
     ]
    }
   ],
   "source": [
    "print(a)"
   ]
  },
  {
   "cell_type": "code",
   "execution_count": 55,
   "id": "21616a10-aa82-4d0e-968a-a628de972d31",
   "metadata": {},
   "outputs": [],
   "source": [
    "# Comprehension method to generate a series of numbers\n",
    "b = [i for i in range(1,101)]"
   ]
  },
  {
   "cell_type": "code",
   "execution_count": 56,
   "id": "37028c4d-7730-45d2-852c-b88257780f59",
   "metadata": {},
   "outputs": [
    {
     "name": "stdout",
     "output_type": "stream",
     "text": [
      "[1, 2, 3, 4, 5, 6, 7, 8, 9, 10, 11, 12, 13, 14, 15, 16, 17, 18, 19, 20, 21, 22, 23, 24, 25, 26, 27, 28, 29, 30, 31, 32, 33, 34, 35, 36, 37, 38, 39, 40, 41, 42, 43, 44, 45, 46, 47, 48, 49, 50, 51, 52, 53, 54, 55, 56, 57, 58, 59, 60, 61, 62, 63, 64, 65, 66, 67, 68, 69, 70, 71, 72, 73, 74, 75, 76, 77, 78, 79, 80, 81, 82, 83, 84, 85, 86, 87, 88, 89, 90, 91, 92, 93, 94, 95, 96, 97, 98, 99, 100]\n"
     ]
    }
   ],
   "source": [
    "print(b)"
   ]
  },
  {
   "cell_type": "code",
   "execution_count": 57,
   "id": "521f4924-f086-4397-807f-6498b3cdec00",
   "metadata": {},
   "outputs": [],
   "source": [
    "b = [i for i in range(1,101) if i % 2 == 0]"
   ]
  },
  {
   "cell_type": "code",
   "execution_count": 58,
   "id": "79366e2c-f018-4ad4-834b-884a9c8d99b4",
   "metadata": {},
   "outputs": [
    {
     "name": "stdout",
     "output_type": "stream",
     "text": [
      "[2, 4, 6, 8, 10, 12, 14, 16, 18, 20, 22, 24, 26, 28, 30, 32, 34, 36, 38, 40, 42, 44, 46, 48, 50, 52, 54, 56, 58, 60, 62, 64, 66, 68, 70, 72, 74, 76, 78, 80, 82, 84, 86, 88, 90, 92, 94, 96, 98, 100]\n"
     ]
    }
   ],
   "source": [
    "print(b)"
   ]
  },
  {
   "cell_type": "code",
   "execution_count": 59,
   "id": "723caf5c-38c3-4133-a306-3bf3bb9e41a0",
   "metadata": {},
   "outputs": [],
   "source": [
    "b = [i for i in range(1,101) if i % 2 != 0]"
   ]
  },
  {
   "cell_type": "code",
   "execution_count": 60,
   "id": "718b9489-0293-45ca-80a2-ee25a156e259",
   "metadata": {},
   "outputs": [
    {
     "name": "stdout",
     "output_type": "stream",
     "text": [
      "[1, 3, 5, 7, 9, 11, 13, 15, 17, 19, 21, 23, 25, 27, 29, 31, 33, 35, 37, 39, 41, 43, 45, 47, 49, 51, 53, 55, 57, 59, 61, 63, 65, 67, 69, 71, 73, 75, 77, 79, 81, 83, 85, 87, 89, 91, 93, 95, 97, 99]\n"
     ]
    }
   ],
   "source": [
    "print(b)"
   ]
  },
  {
   "cell_type": "code",
   "execution_count": 61,
   "id": "8b33821a-58c4-4d38-b65b-fc6665e3eaba",
   "metadata": {},
   "outputs": [],
   "source": [
    "# Using compherension to apply a mathematical funtion to a list"
   ]
  },
  {
   "cell_type": "code",
   "execution_count": 62,
   "id": "ecb0c745-5e42-4010-a445-b1e6975fc77e",
   "metadata": {},
   "outputs": [],
   "source": [
    "a = [1, 2, 3, 4, 5]"
   ]
  },
  {
   "cell_type": "code",
   "execution_count": 63,
   "id": "720b3f1b-6923-4a7b-943c-d1b550374a6a",
   "metadata": {},
   "outputs": [],
   "source": [
    "# Syntax is [do for item in list(Variable) ]\n",
    "b = [item*2 for item in a]"
   ]
  },
  {
   "cell_type": "code",
   "execution_count": 64,
   "id": "2fc32615-71e0-41c3-9f04-25d98aea6d81",
   "metadata": {},
   "outputs": [
    {
     "name": "stdout",
     "output_type": "stream",
     "text": [
      "[2, 4, 6, 8, 10]\n"
     ]
    }
   ],
   "source": [
    "print(b)"
   ]
  },
  {
   "cell_type": "code",
   "execution_count": 65,
   "id": "ff3f7a05-7122-4e66-bda3-65712fd0b870",
   "metadata": {},
   "outputs": [],
   "source": [
    "c = [item/2 for item in a]"
   ]
  },
  {
   "cell_type": "code",
   "execution_count": 66,
   "id": "fe467e4a-7d6e-4010-af87-85225a92c302",
   "metadata": {},
   "outputs": [
    {
     "name": "stdout",
     "output_type": "stream",
     "text": [
      "[0.5, 1.0, 1.5, 2.0, 2.5]\n"
     ]
    }
   ],
   "source": [
    "print(c)"
   ]
  },
  {
   "cell_type": "code",
   "execution_count": 67,
   "id": "e5f8f8ca-d5e0-4d26-b328-8b87b673d680",
   "metadata": {},
   "outputs": [
    {
     "name": "stdout",
     "output_type": "stream",
     "text": [
      "[1, 2, 3, 4, 5]\n"
     ]
    }
   ],
   "source": [
    "print(a)"
   ]
  },
  {
   "cell_type": "code",
   "execution_count": 68,
   "id": "00b12112-885d-4376-bfab-6d3532172499",
   "metadata": {},
   "outputs": [
    {
     "name": "stdout",
     "output_type": "stream",
     "text": [
      "[0.5, 1.0, 1.5, 2.0, 2.5]\n"
     ]
    }
   ],
   "source": [
    "# Traditional method\n",
    "d = []\n",
    "for item in a:\n",
    "    temp = item/2\n",
    "    d.append(temp)\n",
    "print(d)"
   ]
  },
  {
   "cell_type": "code",
   "execution_count": 69,
   "id": "cabd56c9-c399-4f8b-b65c-f8b3f2ced34e",
   "metadata": {},
   "outputs": [
    {
     "name": "stdout",
     "output_type": "stream",
     "text": [
      "1\n",
      "2\n",
      "3\n",
      "4\n",
      "5\n"
     ]
    }
   ],
   "source": [
    "i = 1\n",
    "while i < 6:\n",
    "  print(i)\n",
    "  i += 1"
   ]
  },
  {
   "cell_type": "markdown",
   "id": "003bea27-2846-4146-9ce6-33e4535ae4fa",
   "metadata": {},
   "source": [
    "## The break Statement\n",
    "\n",
    "With the break statement we can stop the loop even if the while condition is true:"
   ]
  },
  {
   "cell_type": "code",
   "execution_count": 70,
   "id": "8414fda9-3fa5-4b2b-9092-931e1d0a5b4f",
   "metadata": {},
   "outputs": [
    {
     "name": "stdout",
     "output_type": "stream",
     "text": [
      "1\n",
      "2\n",
      "3\n"
     ]
    }
   ],
   "source": [
    "i = 1\n",
    "while i < 6:\n",
    "  print(i)\n",
    "  if i == 3:\n",
    "    break\n",
    "  i += 1"
   ]
  },
  {
   "cell_type": "markdown",
   "id": "c74b3c8a-a39b-4dba-be86-9c40afbd216b",
   "metadata": {},
   "source": [
    "## The continue Statement\n",
    "\n",
    "With the continue statement we can stop the current iteration, and continue with the next:"
   ]
  },
  {
   "cell_type": "code",
   "execution_count": 71,
   "id": "284ec4b8-2196-4ab1-9fc0-c24484ffd319",
   "metadata": {},
   "outputs": [
    {
     "name": "stdout",
     "output_type": "stream",
     "text": [
      "1\n",
      "2\n",
      "4\n",
      "5\n",
      "6\n"
     ]
    }
   ],
   "source": [
    "i = 0\n",
    "while i < 6:\n",
    "  i += 1\n",
    "  if i == 3:\n",
    "    continue\n",
    "  print(i)"
   ]
  },
  {
   "cell_type": "markdown",
   "id": "905705e8-70f9-40b4-841d-0e9860350f63",
   "metadata": {},
   "source": [
    "## The else Statement\n",
    "With the else statement we can run a block of code once when the condition no longer is true:"
   ]
  },
  {
   "cell_type": "code",
   "execution_count": 72,
   "id": "31636d82-82c1-4833-931e-8eb204708b0c",
   "metadata": {},
   "outputs": [
    {
     "name": "stdout",
     "output_type": "stream",
     "text": [
      "1\n",
      "2\n",
      "3\n",
      "4\n",
      "5\n",
      "i is no longer less than 6\n"
     ]
    }
   ],
   "source": [
    "i = 1\n",
    "while i < 6:\n",
    "  print(i)\n",
    "  i += 1\n",
    "else:\n",
    "  print(\"i is no longer less than 6\")"
   ]
  },
  {
   "cell_type": "code",
   "execution_count": null,
   "id": "1651ed0c-f881-4e62-aa70-02129625381e",
   "metadata": {},
   "outputs": [],
   "source": []
  }
 ],
 "metadata": {
  "kernelspec": {
   "display_name": "Python 3 (ipykernel)",
   "language": "python",
   "name": "python3"
  },
  "language_info": {
   "codemirror_mode": {
    "name": "ipython",
    "version": 3
   },
   "file_extension": ".py",
   "mimetype": "text/x-python",
   "name": "python",
   "nbconvert_exporter": "python",
   "pygments_lexer": "ipython3",
   "version": "3.12.4"
  }
 },
 "nbformat": 4,
 "nbformat_minor": 5
}
