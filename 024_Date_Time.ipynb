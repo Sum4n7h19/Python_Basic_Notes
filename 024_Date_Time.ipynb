{
 "cells": [
  {
   "cell_type": "markdown",
   "id": "779e3de1-8ff2-4eae-b2f2-917dc6757a07",
   "metadata": {},
   "source": [
    "<div style='background:#B1F9E3; color:#000000' class='alert alert-box'>\n",
    "  <h1>Working with Date and Time</h1>\n",
    "</div>\n"
   ]
  },
  {
   "cell_type": "code",
   "execution_count": 1,
   "id": "113a7ab0-2a15-4b67-9fad-ae504dde6808",
   "metadata": {},
   "outputs": [],
   "source": [
    "# Import pandas and numpy\n",
    "import numpy as np\n",
    "import pandas as pd"
   ]
  },
  {
   "cell_type": "code",
   "execution_count": 2,
   "id": "e6bcf9d9-a26d-4875-a562-45405524adff",
   "metadata": {},
   "outputs": [],
   "source": [
    "# Import time module\n",
    "import datetime as dt"
   ]
  },
  {
   "cell_type": "code",
   "execution_count": 3,
   "id": "090183ba-d53c-4693-91a3-f28961233e69",
   "metadata": {},
   "outputs": [],
   "source": [
    "dob = dt.date(2001,4,19)"
   ]
  },
  {
   "cell_type": "code",
   "execution_count": 4,
   "id": "f66897c8-e7fc-4849-b446-cabbdd7db239",
   "metadata": {},
   "outputs": [
    {
     "data": {
      "text/plain": [
       "datetime.date(2001, 4, 19)"
      ]
     },
     "execution_count": 4,
     "metadata": {},
     "output_type": "execute_result"
    }
   ],
   "source": [
    "dob"
   ]
  },
  {
   "cell_type": "code",
   "execution_count": 5,
   "id": "6c570065-e776-4e8f-83fd-c06ff3e1ddb7",
   "metadata": {},
   "outputs": [
    {
     "data": {
      "text/plain": [
       "2001"
      ]
     },
     "execution_count": 5,
     "metadata": {},
     "output_type": "execute_result"
    }
   ],
   "source": [
    "dob.year"
   ]
  },
  {
   "cell_type": "code",
   "execution_count": 6,
   "id": "e60d8c3f-aaa1-4b6e-ac9f-c9e55933e664",
   "metadata": {},
   "outputs": [
    {
     "data": {
      "text/plain": [
       "4"
      ]
     },
     "execution_count": 6,
     "metadata": {},
     "output_type": "execute_result"
    }
   ],
   "source": [
    "dob.month"
   ]
  },
  {
   "cell_type": "code",
   "execution_count": 7,
   "id": "eb1ea250-9332-419d-adb4-36ac49b7917c",
   "metadata": {},
   "outputs": [
    {
     "data": {
      "text/plain": [
       "19"
      ]
     },
     "execution_count": 7,
     "metadata": {},
     "output_type": "execute_result"
    }
   ],
   "source": [
    "dob.day"
   ]
  },
  {
   "cell_type": "code",
   "execution_count": 8,
   "id": "d60b9078-1ef1-4858-bcba-0227b60e5251",
   "metadata": {},
   "outputs": [],
   "source": [
    "dob_full = dt.datetime(2001, 4, 19, 18,45,0)"
   ]
  },
  {
   "cell_type": "code",
   "execution_count": 9,
   "id": "3aef0ae9-81f9-4138-be4e-b2a647a5a952",
   "metadata": {},
   "outputs": [
    {
     "data": {
      "text/plain": [
       "18"
      ]
     },
     "execution_count": 9,
     "metadata": {},
     "output_type": "execute_result"
    }
   ],
   "source": [
    "dob_full.hour"
   ]
  },
  {
   "cell_type": "code",
   "execution_count": 10,
   "id": "287ed3db-4c19-4d06-8ede-23ed43a79e82",
   "metadata": {},
   "outputs": [
    {
     "data": {
      "text/plain": [
       "45"
      ]
     },
     "execution_count": 10,
     "metadata": {},
     "output_type": "execute_result"
    }
   ],
   "source": [
    "dob_full.minute"
   ]
  },
  {
   "cell_type": "code",
   "execution_count": 11,
   "id": "1a3acb0c-0acc-4fb4-984e-5814a608325e",
   "metadata": {},
   "outputs": [
    {
     "data": {
      "text/plain": [
       "0"
      ]
     },
     "execution_count": 11,
     "metadata": {},
     "output_type": "execute_result"
    }
   ],
   "source": [
    "dob_full.second"
   ]
  },
  {
   "cell_type": "code",
   "execution_count": 12,
   "id": "622e19fd-70b1-44ad-a6b5-f15d3098696e",
   "metadata": {},
   "outputs": [
    {
     "data": {
      "text/plain": [
       "Timestamp('2001-04-19 00:00:00')"
      ]
     },
     "execution_count": 12,
     "metadata": {},
     "output_type": "execute_result"
    }
   ],
   "source": [
    "# Pandas timestamp object\n",
    "pd.Timestamp('2001-4-19')"
   ]
  },
  {
   "cell_type": "code",
   "execution_count": 13,
   "id": "282cdbc3-ad6b-4afa-b4e1-b311c5b76da0",
   "metadata": {},
   "outputs": [
    {
     "data": {
      "text/plain": [
       "Timestamp('2001-04-19 00:00:00')"
      ]
     },
     "execution_count": 13,
     "metadata": {},
     "output_type": "execute_result"
    }
   ],
   "source": [
    "pd.Timestamp('2001/4/19')"
   ]
  },
  {
   "cell_type": "code",
   "execution_count": 14,
   "id": "33970f64-aa7b-43ab-a77d-d9e096907d8a",
   "metadata": {},
   "outputs": [
    {
     "data": {
      "text/plain": [
       "Timestamp('2001-04-19 00:00:00')"
      ]
     },
     "execution_count": 14,
     "metadata": {},
     "output_type": "execute_result"
    }
   ],
   "source": [
    "pd.Timestamp('April 19th, 2001')"
   ]
  },
  {
   "cell_type": "code",
   "execution_count": 15,
   "id": "fe4dc2bf-c4e5-473e-9bcb-b5e03224d803",
   "metadata": {},
   "outputs": [],
   "source": [
    "# Creating datetime index\n",
    "dates = ['2024-1-26','2024-1-27','2024-1-28']"
   ]
  },
  {
   "cell_type": "code",
   "execution_count": 16,
   "id": "f4d2660b-a9e9-4bf4-ad0b-dd258dd9d5a1",
   "metadata": {},
   "outputs": [],
   "source": [
    "# Converting dates into datetime index\n",
    "dt = pd.DatetimeIndex(dates)"
   ]
  },
  {
   "cell_type": "code",
   "execution_count": 17,
   "id": "acabbd53-0d40-4551-b4c6-514fac4e8cbc",
   "metadata": {},
   "outputs": [
    {
     "data": {
      "text/plain": [
       "DatetimeIndex(['2024-01-26', '2024-01-27', '2024-01-28'], dtype='datetime64[ns]', freq=None)"
      ]
     },
     "execution_count": 17,
     "metadata": {},
     "output_type": "execute_result"
    }
   ],
   "source": [
    "dt"
   ]
  },
  {
   "cell_type": "code",
   "execution_count": 18,
   "id": "c8de8d73-9dc1-4e48-b168-80a6d6dbedff",
   "metadata": {},
   "outputs": [],
   "source": [
    "loss = [12000,9000,8800]"
   ]
  },
  {
   "cell_type": "code",
   "execution_count": 19,
   "id": "bbedf8ea-7c62-45a4-b0b6-1ebb4a01c13e",
   "metadata": {},
   "outputs": [],
   "source": [
    "df = pd.DataFrame(data=loss,index=dt)"
   ]
  },
  {
   "cell_type": "code",
   "execution_count": 20,
   "id": "f6e891d3-e402-4a3d-9731-4f59ccb6f6e0",
   "metadata": {},
   "outputs": [
    {
     "data": {
      "text/html": [
       "<div>\n",
       "<style scoped>\n",
       "    .dataframe tbody tr th:only-of-type {\n",
       "        vertical-align: middle;\n",
       "    }\n",
       "\n",
       "    .dataframe tbody tr th {\n",
       "        vertical-align: top;\n",
       "    }\n",
       "\n",
       "    .dataframe thead th {\n",
       "        text-align: right;\n",
       "    }\n",
       "</style>\n",
       "<table border=\"1\" class=\"dataframe\">\n",
       "  <thead>\n",
       "    <tr style=\"text-align: right;\">\n",
       "      <th></th>\n",
       "      <th>0</th>\n",
       "    </tr>\n",
       "  </thead>\n",
       "  <tbody>\n",
       "    <tr>\n",
       "      <th>2024-01-26</th>\n",
       "      <td>12000</td>\n",
       "    </tr>\n",
       "    <tr>\n",
       "      <th>2024-01-27</th>\n",
       "      <td>9000</td>\n",
       "    </tr>\n",
       "    <tr>\n",
       "      <th>2024-01-28</th>\n",
       "      <td>8800</td>\n",
       "    </tr>\n",
       "  </tbody>\n",
       "</table>\n",
       "</div>"
      ],
      "text/plain": [
       "                0\n",
       "2024-01-26  12000\n",
       "2024-01-27   9000\n",
       "2024-01-28   8800"
      ]
     },
     "execution_count": 20,
     "metadata": {},
     "output_type": "execute_result"
    }
   ],
   "source": [
    "df"
   ]
  },
  {
   "cell_type": "code",
   "execution_count": 21,
   "id": "983dd707-ca3f-4830-86dc-1bd2545d8abe",
   "metadata": {},
   "outputs": [],
   "source": [
    "df.columns = ['Losses']"
   ]
  },
  {
   "cell_type": "code",
   "execution_count": 22,
   "id": "0f4db2b7-f99e-49e1-940f-438dcf246161",
   "metadata": {},
   "outputs": [
    {
     "data": {
      "text/html": [
       "<div>\n",
       "<style scoped>\n",
       "    .dataframe tbody tr th:only-of-type {\n",
       "        vertical-align: middle;\n",
       "    }\n",
       "\n",
       "    .dataframe tbody tr th {\n",
       "        vertical-align: top;\n",
       "    }\n",
       "\n",
       "    .dataframe thead th {\n",
       "        text-align: right;\n",
       "    }\n",
       "</style>\n",
       "<table border=\"1\" class=\"dataframe\">\n",
       "  <thead>\n",
       "    <tr style=\"text-align: right;\">\n",
       "      <th></th>\n",
       "      <th>Losses</th>\n",
       "    </tr>\n",
       "  </thead>\n",
       "  <tbody>\n",
       "    <tr>\n",
       "      <th>2024-01-26</th>\n",
       "      <td>12000</td>\n",
       "    </tr>\n",
       "    <tr>\n",
       "      <th>2024-01-27</th>\n",
       "      <td>9000</td>\n",
       "    </tr>\n",
       "    <tr>\n",
       "      <th>2024-01-28</th>\n",
       "      <td>8800</td>\n",
       "    </tr>\n",
       "  </tbody>\n",
       "</table>\n",
       "</div>"
      ],
      "text/plain": [
       "            Losses\n",
       "2024-01-26   12000\n",
       "2024-01-27    9000\n",
       "2024-01-28    8800"
      ]
     },
     "execution_count": 22,
     "metadata": {},
     "output_type": "execute_result"
    }
   ],
   "source": [
    "df"
   ]
  }
 ],
 "metadata": {
  "kernelspec": {
   "display_name": "Python 3 (ipykernel)",
   "language": "python",
   "name": "python3"
  },
  "language_info": {
   "codemirror_mode": {
    "name": "ipython",
    "version": 3
   },
   "file_extension": ".py",
   "mimetype": "text/x-python",
   "name": "python",
   "nbconvert_exporter": "python",
   "pygments_lexer": "ipython3",
   "version": "3.12.4"
  }
 },
 "nbformat": 4,
 "nbformat_minor": 5
}
