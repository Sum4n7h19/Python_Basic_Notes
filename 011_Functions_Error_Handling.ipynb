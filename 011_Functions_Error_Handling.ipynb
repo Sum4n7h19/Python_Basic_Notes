{
 "cells": [
  {
   "cell_type": "markdown",
   "id": "8f6a53a6-c874-40a6-b1e9-a2d39efe63fa",
   "metadata": {},
   "source": [
    "<div style='background:#B1F9E3; color:#000000' class='alert alert-box'>\n",
    "  <h1>Functions in Python</h1>\n",
    "  <p>Python functions are blocks of statements that perform a specific task. The idea is to group commonly or repeatedly performed tasks into a function so that instead of writing the same code repeatedly for different inputs, you can call the function to reuse the code contained within it.</p>\n",
    "  <h3>Some Benefits of Using Functions</h3>\n",
    "  <ul>\n",
    "    <li>Increase Code Readability</li>\n",
    "    <li>Increase Code Reusability</li>\n",
    "  </ul>\n",
    "</div>\n"
   ]
  },
  {
   "cell_type": "markdown",
   "id": "577a1318-b809-41ae-be1a-b8189ba6e45d",
   "metadata": {},
   "source": [
    "<div style='background:#B1F9E3; color:#000000' class='alert alert-box'>\n",
    "  <h2>Syntax for Writing a Function</h2>\n",
    "  <pre><code>def functionName(arguments):\n",
    "    code\n",
    "  </code></pre>\n",
    "  <ul>\n",
    "    <li><strong>In-built functions:</strong> These are standard functions in Python that are available for use.</li>\n",
    "    <li><strong>User-defined functions:</strong> We can create our own functions based on our requirements.</li>\n",
    "  </ul>\n",
    "</div>\n"
   ]
  },
  {
   "cell_type": "markdown",
   "id": "73be2a1c-2bcf-45e5-96e1-4112dfc21258",
   "metadata": {},
   "source": [
    "<div style='background:#B1F9E3; color:#000000' class='alert alert-box'>\n",
    "  <h4>In-built Functions</h4>\n",
    "  <p>Refer to: <a href=\"https://www.geeksforgeeks.org/python-built-in-functions/\" target=\"_blank\">Python Built-in Functions on GeeksforGeeks</a></p>\n",
    "</div>"
   ]
  },
  {
   "cell_type": "code",
   "execution_count": 1,
   "id": "04b056b1-668a-4fb6-ad6e-124a26c6fbbf",
   "metadata": {},
   "outputs": [],
   "source": [
    "# User defined function\n",
    "def hello():\n",
    "    print(\"Welcome to Python programming\")"
   ]
  },
  {
   "cell_type": "code",
   "execution_count": 3,
   "id": "b6d93bef-713a-4810-bf9e-b52c77da4b7d",
   "metadata": {},
   "outputs": [
    {
     "name": "stdout",
     "output_type": "stream",
     "text": [
      "Welcome to Python programming\n"
     ]
    }
   ],
   "source": [
    "# Calling a function\n",
    "hello()"
   ]
  },
  {
   "cell_type": "code",
   "execution_count": 4,
   "id": "38878716-6bbd-4eb7-9f6a-969184e9c765",
   "metadata": {},
   "outputs": [],
   "source": [
    "# function with arguments\n",
    "def addi(a,b):\n",
    "    c = a + b\n",
    "    return c"
   ]
  },
  {
   "cell_type": "code",
   "execution_count": 5,
   "id": "9a08a0a9-745c-40c6-a683-809604d222e3",
   "metadata": {},
   "outputs": [
    {
     "data": {
      "text/plain": [
       "5"
      ]
     },
     "execution_count": 5,
     "metadata": {},
     "output_type": "execute_result"
    }
   ],
   "source": [
    "# Calling a function with arguments\n",
    "addi(2,3)"
   ]
  },
  {
   "cell_type": "code",
   "execution_count": 6,
   "id": "9d36135f-45e8-42d4-bf32-8fa116910a48",
   "metadata": {},
   "outputs": [
    {
     "data": {
      "text/plain": [
       "9"
      ]
     },
     "execution_count": 6,
     "metadata": {},
     "output_type": "execute_result"
    }
   ],
   "source": [
    "addi(4,5)"
   ]
  },
  {
   "cell_type": "code",
   "execution_count": 9,
   "id": "43704d69-021b-46aa-bb8e-73536fcd09ed",
   "metadata": {},
   "outputs": [],
   "source": [
    "# changing the position of the arguments\n",
    "def welcome(name,age,place):\n",
    "    print(f'hi! {name}, your age is {age} and you are from {place}.')"
   ]
  },
  {
   "cell_type": "code",
   "execution_count": 10,
   "id": "1eea6891-e6a1-4d8f-b4ba-3162dca23ca7",
   "metadata": {},
   "outputs": [
    {
     "name": "stdout",
     "output_type": "stream",
     "text": [
      "hi! Sumanth, your age is 23 and you are from Mysore.\n"
     ]
    }
   ],
   "source": [
    "welcome('Sumanth',23,'Mysore')"
   ]
  },
  {
   "cell_type": "code",
   "execution_count": 12,
   "id": "896fc8b1-6bdd-4071-8993-863e96e343db",
   "metadata": {},
   "outputs": [
    {
     "name": "stdout",
     "output_type": "stream",
     "text": [
      "hi! Mysore, your age is 23 and you are from Sumanth.\n"
     ]
    }
   ],
   "source": [
    "# Positional argument is mismatched\n",
    "welcome('Mysore',23,'Sumanth')"
   ]
  },
  {
   "cell_type": "code",
   "execution_count": 14,
   "id": "df1206eb-32a6-48a7-addf-9217e7994f26",
   "metadata": {},
   "outputs": [
    {
     "name": "stdout",
     "output_type": "stream",
     "text": [
      "hi! Sumanth, your age is 23 and you are from Mysore.\n"
     ]
    }
   ],
   "source": [
    "# Specify argument name with argument value at any order\n",
    "welcome(place='Mysore',name='Sumanth',age=23)"
   ]
  },
  {
   "cell_type": "code",
   "execution_count": 15,
   "id": "f79568d5-2395-4f6a-84ef-0979c0dee571",
   "metadata": {},
   "outputs": [],
   "source": [
    "# Calling a function and storing a value in a variable\n",
    "def power(value):\n",
    "    temp = value**3\n",
    "    return temp"
   ]
  },
  {
   "cell_type": "code",
   "execution_count": 16,
   "id": "5c7a22ba-6ad2-4583-ae8a-b624bb8b11de",
   "metadata": {},
   "outputs": [
    {
     "data": {
      "text/plain": [
       "27"
      ]
     },
     "execution_count": 16,
     "metadata": {},
     "output_type": "execute_result"
    }
   ],
   "source": [
    "power(3)"
   ]
  },
  {
   "cell_type": "code",
   "execution_count": 17,
   "id": "90dc9610-7b9b-46af-a0c0-d97ded14fc67",
   "metadata": {},
   "outputs": [],
   "source": [
    "a = power(3)"
   ]
  },
  {
   "cell_type": "code",
   "execution_count": 18,
   "id": "2dd85938-6de1-4cf1-91a6-17651b0376b9",
   "metadata": {},
   "outputs": [
    {
     "data": {
      "text/plain": [
       "27"
      ]
     },
     "execution_count": 18,
     "metadata": {},
     "output_type": "execute_result"
    }
   ],
   "source": [
    "a"
   ]
  },
  {
   "cell_type": "code",
   "execution_count": 19,
   "id": "774b124f-89f3-480c-819b-521e52678ff9",
   "metadata": {},
   "outputs": [],
   "source": [
    "# task write a function to build a calculator"
   ]
  },
  {
   "cell_type": "code",
   "execution_count": 20,
   "id": "37097eb5-7422-4be5-b518-8290d7332aa4",
   "metadata": {},
   "outputs": [],
   "source": [
    "def summ(a,b):\n",
    "    c = a+b\n",
    "    return c\n",
    "def subt(a,b):\n",
    "    c = a-b\n",
    "    return c\n",
    "def prod(a,b):\n",
    "    c = a*b\n",
    "    return c\n",
    "def divi(a,b):\n",
    "    c = a/b\n",
    "    return c"
   ]
  },
  {
   "cell_type": "code",
   "execution_count": 23,
   "id": "77cee3f5-a6e5-4558-8fe0-f4ddfdc793d4",
   "metadata": {},
   "outputs": [
    {
     "name": "stdin",
     "output_type": "stream",
     "text": [
      "Enter a:  4\n",
      "Enter b:  7\n"
     ]
    },
    {
     "name": "stdout",
     "output_type": "stream",
     "text": [
      "Addition of 4.0 and 7.0 is 11.0\n",
      "Subtraction of 4.0 and 7.0 is -3.0\n",
      "Product of 4.0 and 7.0 is 28.0\n",
      "Division of 4.0 and 7.0 is 0.5714285714285714\n"
     ]
    }
   ],
   "source": [
    "a = float(input(\"Enter a: \"))\n",
    "b = float(input(\"Enter b: \"))\n",
    "print(f\"Addition of {a} and {b} is {summ(a,b)}\")\n",
    "print(f\"Subtraction of {a} and {b} is {subt(a,b)}\")\n",
    "print(f\"Product of {a} and {b} is {prod(a,b)}\")\n",
    "print(f\"Division of {a} and {b} is {divi(a,b)}\")"
   ]
  },
  {
   "cell_type": "code",
   "execution_count": 24,
   "id": "3a3490c3-784d-4a62-8656-ea2e6dc64b39",
   "metadata": {},
   "outputs": [],
   "source": [
    "# Write a function to calculate area of rectangle\n",
    "def areaRect(l,b):\n",
    "    area = l*b\n",
    "    return area"
   ]
  },
  {
   "cell_type": "code",
   "execution_count": 25,
   "id": "ccf3e977-fbf9-4a8b-bf61-00528681e9da",
   "metadata": {},
   "outputs": [
    {
     "data": {
      "text/plain": [
       "12"
      ]
     },
     "execution_count": 25,
     "metadata": {},
     "output_type": "execute_result"
    }
   ],
   "source": [
    "areaRect(2,6)"
   ]
  },
  {
   "cell_type": "code",
   "execution_count": 26,
   "id": "33acbd86-fb64-4d1a-aaf6-76fc13081baf",
   "metadata": {},
   "outputs": [],
   "source": [
    "# Write a function to calculate area of cicle\n",
    "def areaCir(radius):\n",
    "    area = 2*3.14*radius\n",
    "    return area\n",
    "    "
   ]
  },
  {
   "cell_type": "code",
   "execution_count": 27,
   "id": "80790525-b95a-412c-9da5-5bcd9d5c4e60",
   "metadata": {},
   "outputs": [
    {
     "data": {
      "text/plain": [
       "6.28"
      ]
     },
     "execution_count": 27,
     "metadata": {},
     "output_type": "execute_result"
    }
   ],
   "source": [
    "areaCir(1)"
   ]
  },
  {
   "cell_type": "code",
   "execution_count": 28,
   "id": "e1d64db3-8ff6-424b-81f9-c70fd2b9db5f",
   "metadata": {},
   "outputs": [
    {
     "data": {
      "text/plain": [
       "12.56"
      ]
     },
     "execution_count": 28,
     "metadata": {},
     "output_type": "execute_result"
    }
   ],
   "source": [
    "areaCir(2)"
   ]
  },
  {
   "cell_type": "code",
   "execution_count": 29,
   "id": "27ec0db8-18bf-4835-8f0d-dea43f742d02",
   "metadata": {},
   "outputs": [],
   "source": [
    "# Write a function to take two values and find the maximum out of it\n",
    "def findMax(a,b):\n",
    "    if a > b:\n",
    "        print(f\"{a} is greater\")\n",
    "    elif a == b:\n",
    "        print(\"Both are equal\")\n",
    "    else:\n",
    "        print(f\"{b} is greater\")"
   ]
  },
  {
   "cell_type": "code",
   "execution_count": 30,
   "id": "1b4b1f86-798b-4901-8216-81e314ea04d1",
   "metadata": {},
   "outputs": [
    {
     "name": "stdout",
     "output_type": "stream",
     "text": [
      "3 is greater\n"
     ]
    }
   ],
   "source": [
    "findMax(2,3)"
   ]
  },
  {
   "cell_type": "code",
   "execution_count": 31,
   "id": "b52e7c33-a062-4437-8023-31d9a51272f7",
   "metadata": {},
   "outputs": [
    {
     "name": "stdout",
     "output_type": "stream",
     "text": [
      "Both are equal\n"
     ]
    }
   ],
   "source": [
    "findMax(2,2)"
   ]
  },
  {
   "cell_type": "code",
   "execution_count": 32,
   "id": "17299549-4a2a-4ab0-bda3-036429c00bec",
   "metadata": {},
   "outputs": [
    {
     "name": "stdout",
     "output_type": "stream",
     "text": [
      "8 is greater\n"
     ]
    }
   ],
   "source": [
    "findMax(8,2)"
   ]
  },
  {
   "cell_type": "markdown",
   "id": "c37c1fe5-9cd3-4b40-a4a0-845e02bbf2ca",
   "metadata": {},
   "source": [
    "<div style='background:#B1F9E3; color:#000000' class='alert alert-box'>\n",
    "  <h3>Function with Global and Local Variables</h3>\n",
    "</div>\n"
   ]
  },
  {
   "cell_type": "code",
   "execution_count": 33,
   "id": "e7a2a5a0-0e65-4567-871d-230211ab4751",
   "metadata": {},
   "outputs": [],
   "source": [
    "# Inside a function there is no local variable so function scanned the value from global\n",
    "x = 5\n",
    "def display():\n",
    "    print(x)"
   ]
  },
  {
   "cell_type": "code",
   "execution_count": 34,
   "id": "d485a121-9d4f-4da8-b743-154a7695917c",
   "metadata": {},
   "outputs": [
    {
     "name": "stdout",
     "output_type": "stream",
     "text": [
      "5\n"
     ]
    }
   ],
   "source": [
    "display()"
   ]
  },
  {
   "cell_type": "code",
   "execution_count": 35,
   "id": "8390e775-e80b-432f-b076-4b93b3b63aa3",
   "metadata": {},
   "outputs": [],
   "source": [
    "# Inside a function there is a local variable so function scanned the value from local insted of global\n",
    "x = 5\n",
    "def display():\n",
    "    x = 10\n",
    "    print(x)"
   ]
  },
  {
   "cell_type": "code",
   "execution_count": 36,
   "id": "b0ad9f69-0781-4035-8690-1a199a9d116b",
   "metadata": {},
   "outputs": [
    {
     "name": "stdout",
     "output_type": "stream",
     "text": [
      "10\n"
     ]
    }
   ],
   "source": [
    "display()"
   ]
  },
  {
   "cell_type": "markdown",
   "id": "001d0474-8f4c-43e4-b1f7-48c607086eea",
   "metadata": {},
   "source": [
    "<div style='background:#B1F9E3; color:#000000' class='alert alert-box'>\n",
    "  <h1>Error Handling</h1>\n",
    "  <p>There are several types of errors that can occur in Python. Each type indicates a different kind of problem in the code, and understanding these error types is crucial in creating effective Python applications.</p>\n",
    "  <p>The most common types of errors you'll encounter in Python are:</p>\n",
    "  <ul>\n",
    "    <li>Syntax errors</li>\n",
    "    <li>Runtime errors</li>\n",
    "    <li>Logical errors</li>\n",
    "    <li>Name errors</li>\n",
    "    <li>Type errors</li>\n",
    "    <li>Index errors</li>\n",
    "    <li>Attribute errors</li>\n",
    "  </ul>\n",
    "</div>\n"
   ]
  },
  {
   "cell_type": "code",
   "execution_count": 37,
   "id": "8d82eddf-9da0-418c-9ae5-a9ba60b220bb",
   "metadata": {},
   "outputs": [],
   "source": [
    "a = 3\n",
    "b = 'python'"
   ]
  },
  {
   "cell_type": "code",
   "execution_count": 39,
   "id": "a0032d7a-0908-405a-b359-ddabe77ad5b6",
   "metadata": {},
   "outputs": [
    {
     "ename": "TypeError",
     "evalue": "unsupported operand type(s) for +: 'int' and 'str'",
     "output_type": "error",
     "traceback": [
      "\u001b[1;31m---------------------------------------------------------------------------\u001b[0m",
      "\u001b[1;31mTypeError\u001b[0m                                 Traceback (most recent call last)",
      "Cell \u001b[1;32mIn[39], line 1\u001b[0m\n\u001b[1;32m----> 1\u001b[0m \u001b[38;5;28msum\u001b[39m \u001b[38;5;241m=\u001b[39m a \u001b[38;5;241m+\u001b[39m b\n",
      "\u001b[1;31mTypeError\u001b[0m: unsupported operand type(s) for +: 'int' and 'str'"
     ]
    }
   ],
   "source": [
    "sum = a + b"
   ]
  },
  {
   "cell_type": "code",
   "execution_count": 40,
   "id": "bef26fdc-ea5d-4842-8d4c-42c9f79f3aa6",
   "metadata": {},
   "outputs": [
    {
     "name": "stdout",
     "output_type": "stream",
     "text": [
      "Invalid input\n"
     ]
    }
   ],
   "source": [
    "try:\n",
    "    sum = a + b\n",
    "    print(sum)\n",
    "except:\n",
    "    print('Invalid input')"
   ]
  },
  {
   "cell_type": "code",
   "execution_count": 42,
   "id": "b3109ee2-15d0-4ef0-a1cb-66ff2d65b0b3",
   "metadata": {},
   "outputs": [
    {
     "name": "stdout",
     "output_type": "stream",
     "text": [
      "Invalid input\n"
     ]
    }
   ],
   "source": [
    "a = 3\n",
    "b = 'python'\n",
    "try:\n",
    "    sum = a + b\n",
    "    print(sum)\n",
    "except:\n",
    "    print('Invalid input')"
   ]
  },
  {
   "cell_type": "code",
   "execution_count": 43,
   "id": "71d912ba-434c-41ea-a20a-e82fd2cc1976",
   "metadata": {},
   "outputs": [
    {
     "name": "stdout",
     "output_type": "stream",
     "text": [
      "5\n"
     ]
    }
   ],
   "source": [
    "a = 3\n",
    "b = 2\n",
    "try:\n",
    "    sum = a + b\n",
    "    print(sum)\n",
    "except:\n",
    "    print('Invalid input')"
   ]
  },
  {
   "cell_type": "code",
   "execution_count": 45,
   "id": "0f7d0254-7ac8-4547-9e61-d514c79a3806",
   "metadata": {},
   "outputs": [
    {
     "name": "stdout",
     "output_type": "stream",
     "text": [
      "1.5\n"
     ]
    }
   ],
   "source": [
    "a = 3\n",
    "b = 2\n",
    "result = a/b\n",
    "print(result)"
   ]
  },
  {
   "cell_type": "code",
   "execution_count": 46,
   "id": "a7705922-4b33-4e73-b034-40d5a8052d28",
   "metadata": {},
   "outputs": [
    {
     "ename": "ZeroDivisionError",
     "evalue": "division by zero",
     "output_type": "error",
     "traceback": [
      "\u001b[1;31m---------------------------------------------------------------------------\u001b[0m",
      "\u001b[1;31mZeroDivisionError\u001b[0m                         Traceback (most recent call last)",
      "Cell \u001b[1;32mIn[46], line 3\u001b[0m\n\u001b[0;32m      1\u001b[0m a \u001b[38;5;241m=\u001b[39m \u001b[38;5;241m3\u001b[39m\n\u001b[0;32m      2\u001b[0m b \u001b[38;5;241m=\u001b[39m \u001b[38;5;241m0\u001b[39m\n\u001b[1;32m----> 3\u001b[0m result \u001b[38;5;241m=\u001b[39m a\u001b[38;5;241m/\u001b[39mb\n\u001b[0;32m      4\u001b[0m \u001b[38;5;28mprint\u001b[39m(result)\n",
      "\u001b[1;31mZeroDivisionError\u001b[0m: division by zero"
     ]
    }
   ],
   "source": [
    "a = 3\n",
    "b = 0\n",
    "result = a/b\n",
    "print(result)"
   ]
  },
  {
   "cell_type": "code",
   "execution_count": 47,
   "id": "567140b1-d234-4dd1-b9b7-7f25e3ed0fbf",
   "metadata": {},
   "outputs": [
    {
     "ename": "TypeError",
     "evalue": "unsupported operand type(s) for /: 'int' and 'str'",
     "output_type": "error",
     "traceback": [
      "\u001b[1;31m---------------------------------------------------------------------------\u001b[0m",
      "\u001b[1;31mTypeError\u001b[0m                                 Traceback (most recent call last)",
      "Cell \u001b[1;32mIn[47], line 3\u001b[0m\n\u001b[0;32m      1\u001b[0m a \u001b[38;5;241m=\u001b[39m \u001b[38;5;241m3\u001b[39m\n\u001b[0;32m      2\u001b[0m b \u001b[38;5;241m=\u001b[39m \u001b[38;5;124m'\u001b[39m\u001b[38;5;124mx\u001b[39m\u001b[38;5;124m'\u001b[39m\n\u001b[1;32m----> 3\u001b[0m result \u001b[38;5;241m=\u001b[39m a\u001b[38;5;241m/\u001b[39mb\n\u001b[0;32m      4\u001b[0m \u001b[38;5;28mprint\u001b[39m(result)\n",
      "\u001b[1;31mTypeError\u001b[0m: unsupported operand type(s) for /: 'int' and 'str'"
     ]
    }
   ],
   "source": [
    "a = 3\n",
    "b = 'x'\n",
    "result = a/b\n",
    "print(result)"
   ]
  },
  {
   "cell_type": "code",
   "execution_count": 48,
   "id": "c6c12141-25f5-4d15-97c3-383619157785",
   "metadata": {},
   "outputs": [
    {
     "name": "stdout",
     "output_type": "stream",
     "text": [
      "Enter numbers only\n"
     ]
    }
   ],
   "source": [
    "a = 3\n",
    "b = 'x'\n",
    "try:\n",
    "    result = a/b\n",
    "    print(result)\n",
    "except(ZeroDivisionError):\n",
    "    print('Enter non zero')\n",
    "except(TypeError):\n",
    "    print('Enter numbers only')"
   ]
  },
  {
   "cell_type": "code",
   "execution_count": 49,
   "id": "542a3980-82bb-482d-af63-bdee2f62fa8c",
   "metadata": {},
   "outputs": [
    {
     "name": "stdout",
     "output_type": "stream",
     "text": [
      "Enter non zero\n"
     ]
    }
   ],
   "source": [
    "a = 3\n",
    "b = 0\n",
    "try:\n",
    "    result = a/b\n",
    "    print(result)\n",
    "except(ZeroDivisionError):\n",
    "    print('Enter non zero')\n",
    "except(TypeError):\n",
    "    print('Enter numbers only')"
   ]
  },
  {
   "cell_type": "code",
   "execution_count": 53,
   "id": "f39bd235-8c09-4d4c-b06e-4c5b77b2272d",
   "metadata": {},
   "outputs": [
    {
     "ename": "NameError",
     "evalue": "name 'f' is not defined",
     "output_type": "error",
     "traceback": [
      "\u001b[1;31m---------------------------------------------------------------------------\u001b[0m",
      "\u001b[1;31mNameError\u001b[0m                                 Traceback (most recent call last)",
      "Cell \u001b[1;32mIn[53], line 2\u001b[0m\n\u001b[0;32m      1\u001b[0m a \u001b[38;5;241m=\u001b[39m \u001b[38;5;241m3\u001b[39m\n\u001b[1;32m----> 2\u001b[0m b \u001b[38;5;241m=\u001b[39m f\n\u001b[0;32m      3\u001b[0m \u001b[38;5;28;01mtry\u001b[39;00m:\n\u001b[0;32m      4\u001b[0m     result \u001b[38;5;241m=\u001b[39m a\u001b[38;5;241m/\u001b[39mb\n",
      "\u001b[1;31mNameError\u001b[0m: name 'f' is not defined"
     ]
    }
   ],
   "source": [
    "a = 3\n",
    "b = f\n",
    "try:\n",
    "    result = a/b\n",
    "    print(result)\n",
    "except(ZeroDivisionError):\n",
    "    print('Enter non zero')\n",
    "except(TypeError):\n",
    "    print('Enter numbers only')\n",
    "except(NameError):\n",
    "    print('Enter valid number')"
   ]
  },
  {
   "cell_type": "code",
   "execution_count": 55,
   "id": "59184e6c-5267-4922-a870-c270f0112a1b",
   "metadata": {},
   "outputs": [
    {
     "name": "stdout",
     "output_type": "stream",
     "text": [
      "Enter valid number\n"
     ]
    }
   ],
   "source": [
    "try:\n",
    "    a = 3\n",
    "    b = f\n",
    "    result = a/b\n",
    "    print(result)\n",
    "except(ZeroDivisionError):\n",
    "    print('Enter non zero')\n",
    "except(TypeError):\n",
    "    print('Enter numbers only')\n",
    "except(NameError):\n",
    "    print('Enter valid number')"
   ]
  },
  {
   "cell_type": "code",
   "execution_count": 56,
   "id": "71ff6a6d-8599-470e-8e30-951a19f80d1c",
   "metadata": {},
   "outputs": [
    {
     "name": "stdout",
     "output_type": "stream",
     "text": [
      "Division is not possible\n",
      "Error in input\n"
     ]
    }
   ],
   "source": [
    "# try,except,else and finally\n",
    "try:\n",
    "    x = 4\n",
    "    y = 0\n",
    "    z = x/y\n",
    "except ZeroDivisionError:\n",
    "    print('Division is not possible')\n",
    "else:\n",
    "    print(f\"Division of {x} and {y} is {z}\")\n",
    "finally:\n",
    "    print(\"Error in input\")"
   ]
  },
  {
   "cell_type": "code",
   "execution_count": 61,
   "id": "3c66d0cc-0f79-4f99-b63b-c55a20375c15",
   "metadata": {},
   "outputs": [
    {
     "name": "stdout",
     "output_type": "stream",
     "text": [
      "Enter numbers only\n",
      "End of calculations\n"
     ]
    }
   ],
   "source": [
    "# try,except,else and finally\n",
    "try:\n",
    "    x = 4\n",
    "    y = 'python'\n",
    "    z = x/y\n",
    "except ZeroDivisionError:\n",
    "    print('Division is not possible')\n",
    "except(TypeError):\n",
    "    print('Enter numbers only')\n",
    "except(NameError):\n",
    "    print('Enter valid number')\n",
    "else:\n",
    "    print(f\"Division of {x} and {y} is {z}\")\n",
    "finally:\n",
    "    print(\"End of calculations\")"
   ]
  }
 ],
 "metadata": {
  "kernelspec": {
   "display_name": "Python 3 (ipykernel)",
   "language": "python",
   "name": "python3"
  },
  "language_info": {
   "codemirror_mode": {
    "name": "ipython",
    "version": 3
   },
   "file_extension": ".py",
   "mimetype": "text/x-python",
   "name": "python",
   "nbconvert_exporter": "python",
   "pygments_lexer": "ipython3",
   "version": "3.12.4"
  }
 },
 "nbformat": 4,
 "nbformat_minor": 5
}
