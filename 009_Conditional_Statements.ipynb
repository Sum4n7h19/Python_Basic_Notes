{
 "cells": [
  {
   "cell_type": "markdown",
   "id": "1173ada8-2dff-4522-a824-364526ee646e",
   "metadata": {},
   "source": [
    "<div style='background:#B1F9E3; color:#000000' class='alert alert-box'>\n",
    "  <h3>Conditional Statements</h3>\n",
    "  <p>In a Python program, the <code>if</code> statement is used to perform decision-making. It allows for conditional execution of a statement or group of statements based on the value of an expression.</p>\n",
    "  <ul>\n",
    "    <li><strong>If Statement</strong></li>\n",
    "    <li><strong>If-Else Statement</strong></li>\n",
    "    <li><strong>If-Elif-Else Statement</strong></li>\n",
    "    <li><strong>Nested-If</strong></li>\n",
    "  </ul>\n",
    "</div>\n"
   ]
  },
  {
   "cell_type": "markdown",
   "id": "e9451667-b47b-4f95-ac14-ab7ac9ce2dad",
   "metadata": {},
   "source": [
    "<div style='background:#B1F9E3; color:#000000' class='alert alert-box'>\n",
    "  <h2>If Statement</h2>\n",
    "</div>\n"
   ]
  },
  {
   "cell_type": "code",
   "execution_count": 1,
   "id": "9ff834ad-44da-4d02-ac34-a37c84d99a8a",
   "metadata": {},
   "outputs": [
    {
     "name": "stdout",
     "output_type": "stream",
     "text": [
      "Greater\n"
     ]
    }
   ],
   "source": [
    "# If statement only one condition is passed\n",
    "# Conditions with numbers\n",
    "if 100 > 50:\n",
    "    print(\"Greater\")"
   ]
  },
  {
   "cell_type": "code",
   "execution_count": 2,
   "id": "d995aba7-8a80-403d-9e9b-c52a27a8af4a",
   "metadata": {},
   "outputs": [],
   "source": [
    "if 100 < 50:\n",
    "    print(\"Greater\")"
   ]
  },
  {
   "cell_type": "code",
   "execution_count": 3,
   "id": "337678e6-2d0c-4843-a4d2-d70512be72eb",
   "metadata": {},
   "outputs": [
    {
     "name": "stdout",
     "output_type": "stream",
     "text": [
      "Greater\n"
     ]
    }
   ],
   "source": [
    "# Conditions with variables\n",
    "a = 30\n",
    "if a > 10:\n",
    "    print(\"Greater\")"
   ]
  },
  {
   "cell_type": "code",
   "execution_count": 4,
   "id": "0753cd18-1fdb-4b4a-9cae-256bd54367f3",
   "metadata": {},
   "outputs": [],
   "source": [
    "a = 30\n",
    "if a < 10:\n",
    "    print(\"Greater\")"
   ]
  },
  {
   "cell_type": "markdown",
   "id": "a9397162-2230-43d0-9be0-33d8c2c97cf1",
   "metadata": {},
   "source": [
    "<div style='background:#B1F9E3; color:#000000' class='alert alert-box'>\n",
    "  <h2>If-Else Statements</h2>\n",
    "</div>\n"
   ]
  },
  {
   "cell_type": "code",
   "execution_count": 5,
   "id": "e065fc06-b738-4414-91ec-cf899c3bb0f2",
   "metadata": {},
   "outputs": [
    {
     "name": "stdout",
     "output_type": "stream",
     "text": [
      "Greater\n"
     ]
    }
   ],
   "source": [
    "# If-else statement only two condition is passed\n",
    "# Conditions with numbers\n",
    "if 100 > 50:\n",
    "    print(\"Greater\")\n",
    "else:\n",
    "    print(\"Lesser\")"
   ]
  },
  {
   "cell_type": "code",
   "execution_count": 6,
   "id": "7dc2b727-d88c-4e74-9380-955b4c315431",
   "metadata": {},
   "outputs": [
    {
     "name": "stdout",
     "output_type": "stream",
     "text": [
      "Lesser\n"
     ]
    }
   ],
   "source": [
    "if 100 < 50:\n",
    "    print(\"Greater\")\n",
    "else:\n",
    "    print(\"Lesser\")"
   ]
  },
  {
   "cell_type": "code",
   "execution_count": 7,
   "id": "08b90481-d7c9-4493-9d79-6bd078d2a017",
   "metadata": {},
   "outputs": [
    {
     "name": "stdout",
     "output_type": "stream",
     "text": [
      "Lesser\n"
     ]
    }
   ],
   "source": [
    "# Conditions with variables\n",
    "a = 30\n",
    "if a < 10:\n",
    "    print(\"Greater\")\n",
    "else:\n",
    "    print(\"Lesser\")"
   ]
  },
  {
   "cell_type": "code",
   "execution_count": 8,
   "id": "76755d9d-1d20-48d8-a7dc-4db049824131",
   "metadata": {},
   "outputs": [
    {
     "name": "stdout",
     "output_type": "stream",
     "text": [
      "Greater\n"
     ]
    }
   ],
   "source": [
    "a = 30\n",
    "if a > 10:\n",
    "    print(\"Greater\")\n",
    "else:\n",
    "    print(\"Lesser\")"
   ]
  },
  {
   "cell_type": "markdown",
   "id": "951b87ef-df83-426d-bf28-8d1caf55c607",
   "metadata": {},
   "source": [
    "<div style='background:#B1F9E3; color:#000000' class='alert alert-box'>\n",
    "  <h2>If-Elif-Else Statement</h2>\n",
    "</div>\n"
   ]
  },
  {
   "cell_type": "code",
   "execution_count": 9,
   "id": "2e751b66-e308-48ad-8b22-da1a930105f4",
   "metadata": {},
   "outputs": [
    {
     "name": "stdout",
     "output_type": "stream",
     "text": [
      "Teenager\n"
     ]
    }
   ],
   "source": [
    "age = 15\n",
    "if age <= 12:\n",
    "    print(\"Child\")\n",
    "elif age > 12 and age < 21:\n",
    "    print(\"Teenager\")\n",
    "else:\n",
    "    print(\"Adult\")    "
   ]
  },
  {
   "cell_type": "code",
   "execution_count": 10,
   "id": "109f01d9-0602-41f9-99ff-1ccf6c0110df",
   "metadata": {},
   "outputs": [
    {
     "name": "stdout",
     "output_type": "stream",
     "text": [
      "Adult\n"
     ]
    }
   ],
   "source": [
    "age = 60\n",
    "if age <= 12:\n",
    "    print(\"Child\")\n",
    "elif age > 12 and age < 21:\n",
    "    print(\"Teenager\")\n",
    "else:\n",
    "    print(\"Adult\")"
   ]
  },
  {
   "cell_type": "code",
   "execution_count": 11,
   "id": "3cdd65ed-9bb5-4926-9a5f-dd71eec71706",
   "metadata": {},
   "outputs": [
    {
     "name": "stdout",
     "output_type": "stream",
     "text": [
      "Teenager\n"
     ]
    }
   ],
   "source": [
    "age = 16\n",
    "if age <= 12:\n",
    "    print(\"Child\")\n",
    "elif age > 12 and age < 21:\n",
    "    print(\"Teenager\")\n",
    "else:\n",
    "    print(\"Adult\")"
   ]
  },
  {
   "cell_type": "code",
   "execution_count": 12,
   "id": "8db756ec-6727-459a-8342-ca1c96e5659c",
   "metadata": {},
   "outputs": [
    {
     "name": "stdout",
     "output_type": "stream",
     "text": [
      "Older adult\n"
     ]
    }
   ],
   "source": [
    "#Multiple elif\n",
    "age = 100\n",
    "if age <= 1:\n",
    "    print(\"Infant\")\n",
    "elif age > 1 and age <= 3:\n",
    "    print(\"Toddler\")\n",
    "elif age > 3 and age <= 5:\n",
    "    print(\"Pre-school kid\")\n",
    "elif age > 6 and age <= 12:\n",
    "    print(\"school age kid\")\n",
    "elif age > 13 and age <= 18:\n",
    "    print(\"Adolscent\")\n",
    "elif age > 19 and age <= 40:\n",
    "    print(\"Young adult\")\n",
    "elif age > 41 and age <= 65:\n",
    "    print(\"Middle aged Adult\")\n",
    "else:\n",
    "    print(\"Older adult\")"
   ]
  },
  {
   "cell_type": "code",
   "execution_count": 13,
   "id": "73927999-1b35-4341-9104-f6cbe5139667",
   "metadata": {},
   "outputs": [
    {
     "name": "stdin",
     "output_type": "stream",
     "text": [
      "Enter a value:  23\n"
     ]
    }
   ],
   "source": [
    "# Dynamically passing the value.\n",
    "a = int(input(\"Enter a value: \"))"
   ]
  },
  {
   "cell_type": "code",
   "execution_count": 14,
   "id": "e02091ac-6e41-443d-8281-cca4c970051a",
   "metadata": {},
   "outputs": [
    {
     "name": "stdout",
     "output_type": "stream",
     "text": [
      "23\n"
     ]
    }
   ],
   "source": [
    "print(a)"
   ]
  },
  {
   "cell_type": "code",
   "execution_count": 15,
   "id": "884d8551-05b1-49bf-8490-b02862ffa60c",
   "metadata": {},
   "outputs": [
    {
     "name": "stdin",
     "output_type": "stream",
     "text": [
      "Enter an age:  35\n"
     ]
    },
    {
     "name": "stdout",
     "output_type": "stream",
     "text": [
      "Young adult\n"
     ]
    }
   ],
   "source": [
    "age = int(input(\"Enter an age: \"))\n",
    "if age <= 1:\n",
    "    print(\"Infant\")\n",
    "elif age > 1 and age <= 3:\n",
    "    print(\"Toddler\")\n",
    "elif age > 3 and age <= 5:\n",
    "    print(\"Pre-school kid\")\n",
    "elif age > 6 and age <= 12:\n",
    "    print(\"school age kid\")\n",
    "elif age > 13 and age <= 18:\n",
    "    print(\"Adolscent\")\n",
    "elif age > 19 and age <= 40:\n",
    "    print(\"Young adult\")\n",
    "elif age > 41 and age <= 65:\n",
    "    print(\"Middle aged Adult\")\n",
    "else:\n",
    "    print(\"Older adult\")"
   ]
  },
  {
   "cell_type": "markdown",
   "id": "fb945d32-53f5-48ea-98db-089d8def7984",
   "metadata": {},
   "source": [
    "<div style='background:#B1F9E3; color:#000000' class='alert alert-box'>\n",
    "  <h2>Nested If</h2>\n",
    "  <p>You can have <code>if</code> statements inside other <code>if</code> statements; this is called nested <code>if</code> statements.</p>\n",
    "</div>\n"
   ]
  },
  {
   "cell_type": "code",
   "execution_count": 16,
   "id": "4faf5b9c-0664-4007-9fa5-48c6e027b33a",
   "metadata": {},
   "outputs": [
    {
     "name": "stdout",
     "output_type": "stream",
     "text": [
      "You are eligible for passport\n",
      "You are not eligible to fly\n"
     ]
    }
   ],
   "source": [
    "age = 30\n",
    "criminal = True\n",
    "if age >= 21:\n",
    "    print(\"You are eligible for passport\")\n",
    "    if criminal == False:\n",
    "        print(\"You are eligible to fly\")\n",
    "    else:\n",
    "        print(\"You are not eligible to fly\")\n",
    "else:\n",
    "    print(\"You need to meet the age criteria\")"
   ]
  },
  {
   "cell_type": "code",
   "execution_count": 17,
   "id": "a933fe4f-1ebc-428e-aa59-4410dfaa2862",
   "metadata": {},
   "outputs": [
    {
     "name": "stdout",
     "output_type": "stream",
     "text": [
      "You are broke because of too many loans\n"
     ]
    }
   ],
   "source": [
    "# Checking the financial stability of a person.\n",
    "cibil_score = 500\n",
    "bank_balance = 300000\n",
    "age = 30\n",
    "if cibil_score >= 700:\n",
    "    #print(\"You have a good score\")\n",
    "    if bank_balance > 100000:\n",
    "        print(\"You have good score and good bank balance\")\n",
    "        if age < 40:\n",
    "            print(\"You are stable with your age\")\n",
    "        else:\n",
    "            print(\"You are unstable and need to save more money because you are getting older\")\n",
    "    else:\n",
    "        print(\"You have good score but bank balance is less\")\n",
    "else:\n",
    "    print(\"You are broke because of too many loans\")"
   ]
  },
  {
   "cell_type": "code",
   "execution_count": 18,
   "id": "bf3fcc52-526e-4051-9197-7665d6c42ca9",
   "metadata": {},
   "outputs": [
    {
     "name": "stdin",
     "output_type": "stream",
     "text": [
      "Enter your height 4\n"
     ]
    }
   ],
   "source": [
    "height = float(input(\"Enter your height\"))"
   ]
  },
  {
   "cell_type": "code",
   "execution_count": 19,
   "id": "aea6fbfc-5546-4b9a-b964-3a2aa53cbf47",
   "metadata": {},
   "outputs": [
    {
     "name": "stdout",
     "output_type": "stream",
     "text": [
      "You are short and fat\n"
     ]
    }
   ],
   "source": [
    "isTall = False\n",
    "isFat = True\n",
    "if isTall == True:\n",
    "    if isFat == True:\n",
    "        print(\"You are tall and fat\")\n",
    "    else:\n",
    "        print(\"You are tall and lean\")\n",
    "elif isTall == False:\n",
    "    if isFat == False:\n",
    "        print(\"You are short and lean\")\n",
    "    else:\n",
    "        print(\"You are short and fat\")"
   ]
  },
  {
   "cell_type": "code",
   "execution_count": 20,
   "id": "d37a11b3-e2c6-4186-84ae-3f6116f9e730",
   "metadata": {},
   "outputs": [],
   "source": [
    "# Searching an element using if function.\n",
    "bag = [\"onion\", \"ginger\", \"garlic\", \"egg\"]"
   ]
  },
  {
   "cell_type": "code",
   "execution_count": 21,
   "id": "25ccd4ab-3aad-4ed1-9ba0-53806dae157d",
   "metadata": {},
   "outputs": [
    {
     "name": "stdout",
     "output_type": "stream",
     "text": [
      "brush not found\n"
     ]
    }
   ],
   "source": [
    "if \"brush\" in bag:\n",
    "    print(\"Found brush\")\n",
    "else:\n",
    "    print(\"brush not found\")"
   ]
  },
  {
   "cell_type": "code",
   "execution_count": 22,
   "id": "8c1e4647-8257-465b-8273-34f8dc4ab349",
   "metadata": {},
   "outputs": [],
   "source": [
    "bag = [\"onion\", \"ginger\", \"garlic\", \"egg\"]\n",
    "search = \"egg\""
   ]
  },
  {
   "cell_type": "code",
   "execution_count": 23,
   "id": "cb6a884b-a6d4-4cba-895c-461630fa66da",
   "metadata": {},
   "outputs": [
    {
     "name": "stdout",
     "output_type": "stream",
     "text": [
      "Found egg\n"
     ]
    }
   ],
   "source": [
    "if search in bag:\n",
    "    print(f\"Found {search}\")\n",
    "else:\n",
    "    print(f\"{search} not found\")"
   ]
  }
 ],
 "metadata": {
  "kernelspec": {
   "display_name": "Python 3 (ipykernel)",
   "language": "python",
   "name": "python3"
  },
  "language_info": {
   "codemirror_mode": {
    "name": "ipython",
    "version": 3
   },
   "file_extension": ".py",
   "mimetype": "text/x-python",
   "name": "python",
   "nbconvert_exporter": "python",
   "pygments_lexer": "ipython3",
   "version": "3.12.4"
  }
 },
 "nbformat": 4,
 "nbformat_minor": 5
}
