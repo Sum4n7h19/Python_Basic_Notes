{
 "cells": [
  {
   "cell_type": "markdown",
   "id": "ae7eb046-2faa-4bdc-a0fc-1fd45ef1213d",
   "metadata": {},
   "source": [
    "# Variables and Assignments\n",
    "\n",
    "<div style='background:#B1F9E3; color:#000000' class= 'alert alert-box'>\n",
    "Python variables are simply containers for storing data values.<br><br>\n",
    "\n",
    "ex: A hand bag with money or A wallet with money. A bottle with the water, A cup with a\n",
    "tea/coffee.\n",
    "    </div>"
   ]
  },
  {
   "cell_type": "code",
   "execution_count": 1,
   "id": "c6dc5f1a-f79b-4c49-9541-c5547ab3b0c0",
   "metadata": {
    "tags": []
   },
   "outputs": [],
   "source": [
    "a = 1"
   ]
  },
  {
   "cell_type": "code",
   "execution_count": 2,
   "id": "048fd89b-adb5-44bc-b7d2-2e92d3d6eac7",
   "metadata": {
    "tags": []
   },
   "outputs": [],
   "source": [
    "b = 2"
   ]
  },
  {
   "cell_type": "code",
   "execution_count": 3,
   "id": "fd898bea-c15e-444c-8df6-03bf2e6c79bb",
   "metadata": {
    "tags": []
   },
   "outputs": [],
   "source": [
    "Student = 10\n",
    "Faculty = 5"
   ]
  },
  {
   "cell_type": "code",
   "execution_count": 4,
   "id": "f1f938a3-eb57-4be5-a88d-1413b35042de",
   "metadata": {
    "tags": []
   },
   "outputs": [],
   "source": [
    "# a,b,Student,Faculty acting as Variables\n",
    "# = acting as assignment operator\n",
    "# 1,2,10,5 acting as data for the variables"
   ]
  },
  {
   "cell_type": "code",
   "execution_count": 5,
   "id": "248b1293-149a-4619-a23f-e486b9f1f810",
   "metadata": {
    "tags": []
   },
   "outputs": [],
   "source": [
    "a = 'Apple'\n",
    "b = 'Ball'"
   ]
  },
  {
   "cell_type": "markdown",
   "id": "a4728614-ea7b-4f8b-80cf-db3784be024e",
   "metadata": {},
   "source": [
    "Apple and Ball is a text based data assigned using = operator to the variables a and b\n",
    "respectively"
   ]
  },
  {
   "cell_type": "markdown",
   "id": "d9b54935-5b4c-47a5-bcd8-62d41a603e10",
   "metadata": {},
   "source": [
    "### Calling a Variables"
   ]
  },
  {
   "cell_type": "code",
   "execution_count": 6,
   "id": "fedb7803-261f-4dc0-bd4d-5aa517c2191a",
   "metadata": {
    "tags": []
   },
   "outputs": [
    {
     "data": {
      "text/plain": [
       "'Apple'"
      ]
     },
     "execution_count": 6,
     "metadata": {},
     "output_type": "execute_result"
    }
   ],
   "source": [
    "a"
   ]
  },
  {
   "cell_type": "code",
   "execution_count": 7,
   "id": "3035aee6-81dc-4357-b840-c4738d42346b",
   "metadata": {
    "tags": []
   },
   "outputs": [
    {
     "data": {
      "text/plain": [
       "'Ball'"
      ]
     },
     "execution_count": 7,
     "metadata": {},
     "output_type": "execute_result"
    }
   ],
   "source": [
    "b"
   ]
  },
  {
   "cell_type": "code",
   "execution_count": 8,
   "id": "23603979-f8b5-43a0-9401-c23218ef9f58",
   "metadata": {
    "tags": []
   },
   "outputs": [
    {
     "data": {
      "text/plain": [
       "10"
      ]
     },
     "execution_count": 8,
     "metadata": {},
     "output_type": "execute_result"
    }
   ],
   "source": [
    "Student"
   ]
  },
  {
   "cell_type": "code",
   "execution_count": 9,
   "id": "bc59b585-f9c4-4d80-bc1c-75a3f2f13efa",
   "metadata": {
    "tags": []
   },
   "outputs": [
    {
     "data": {
      "text/plain": [
       "5"
      ]
     },
     "execution_count": 9,
     "metadata": {},
     "output_type": "execute_result"
    }
   ],
   "source": [
    "Faculty"
   ]
  },
  {
   "cell_type": "markdown",
   "id": "c84e9024-eb9b-4371-ab9e-8ad808c778a8",
   "metadata": {},
   "source": [
    "### Calling the variable using Linting/Autocomplete function\n",
    "<div style='background:#B1F9E3; color:#000000' class= 'alert alert-box'>\n",
    "Just type the first letter of the variable and hit 'tab' button\n",
    "    </div>"
   ]
  },
  {
   "cell_type": "code",
   "execution_count": 10,
   "id": "3e8b5ee9-5439-42cf-8c5a-441e2dfd6eb1",
   "metadata": {
    "tags": []
   },
   "outputs": [
    {
     "data": {
      "text/plain": [
       "10"
      ]
     },
     "execution_count": 10,
     "metadata": {},
     "output_type": "execute_result"
    }
   ],
   "source": [
    "Student"
   ]
  },
  {
   "cell_type": "code",
   "execution_count": 11,
   "id": "1690e9d0-8bb4-4c7f-b591-e967e7237258",
   "metadata": {
    "tags": []
   },
   "outputs": [
    {
     "data": {
      "text/plain": [
       "5"
      ]
     },
     "execution_count": 11,
     "metadata": {},
     "output_type": "execute_result"
    }
   ],
   "source": [
    "Faculty"
   ]
  },
  {
   "cell_type": "markdown",
   "id": "f383869c-9ea0-488b-8ae8-998fd68eee90",
   "metadata": {},
   "source": [
    "### Calling variable using print function"
   ]
  },
  {
   "cell_type": "code",
   "execution_count": 12,
   "id": "8d869da9-502b-47fe-ab9c-8d428fbf3372",
   "metadata": {
    "tags": []
   },
   "outputs": [
    {
     "name": "stdout",
     "output_type": "stream",
     "text": [
      "Apple\n"
     ]
    }
   ],
   "source": [
    "print(a)"
   ]
  },
  {
   "cell_type": "code",
   "execution_count": 13,
   "id": "d21a3b34-9f3d-47bc-ae30-edc17917575e",
   "metadata": {
    "tags": []
   },
   "outputs": [
    {
     "name": "stdout",
     "output_type": "stream",
     "text": [
      "Ball\n"
     ]
    }
   ],
   "source": [
    "print(b)"
   ]
  },
  {
   "cell_type": "code",
   "execution_count": 14,
   "id": "1a76102d-9b9b-46d8-b8ab-fefcbacfbbe9",
   "metadata": {
    "tags": []
   },
   "outputs": [
    {
     "name": "stdout",
     "output_type": "stream",
     "text": [
      "10\n"
     ]
    }
   ],
   "source": [
    "print(Student)"
   ]
  },
  {
   "cell_type": "code",
   "execution_count": 15,
   "id": "6fe4e1f1-7082-4c4c-a241-ed177e82a9b0",
   "metadata": {
    "tags": []
   },
   "outputs": [
    {
     "name": "stdout",
     "output_type": "stream",
     "text": [
      "5\n"
     ]
    }
   ],
   "source": [
    "print(Faculty)"
   ]
  },
  {
   "cell_type": "code",
   "execution_count": 16,
   "id": "617235cc-0455-4818-8a16-835ee72426ff",
   "metadata": {
    "tags": []
   },
   "outputs": [
    {
     "data": {
      "text/plain": [
       "'Ball'"
      ]
     },
     "execution_count": 16,
     "metadata": {},
     "output_type": "execute_result"
    }
   ],
   "source": [
    "a\n",
    "b"
   ]
  },
  {
   "cell_type": "markdown",
   "id": "dc27a1ca-5033-4e3d-9bee-8d0c8e2e4ec1",
   "metadata": {},
   "source": [
    "If you use multiple variabel like 'a' and 'b' in a single cell only the last variable will be\n",
    "displayed"
   ]
  },
  {
   "cell_type": "code",
   "execution_count": 17,
   "id": "d4a4a230-d353-42e1-8095-8498c0aaeb3f",
   "metadata": {
    "tags": []
   },
   "outputs": [
    {
     "name": "stdout",
     "output_type": "stream",
     "text": [
      "Apple\n",
      "Ball\n"
     ]
    }
   ],
   "source": [
    "print(a)\n",
    "print(b)"
   ]
  },
  {
   "cell_type": "code",
   "execution_count": 18,
   "id": "7a3f9c39-06ba-4c98-94bb-71c359b0dfa9",
   "metadata": {
    "tags": []
   },
   "outputs": [
    {
     "data": {
      "text/plain": [
       "'Apple'"
      ]
     },
     "metadata": {},
     "output_type": "display_data"
    },
    {
     "data": {
      "text/plain": [
       "'Ball'"
      ]
     },
     "metadata": {},
     "output_type": "display_data"
    }
   ],
   "source": [
    "# Alternative to 'print' function is 'display'\n",
    "display(a)\n",
    "display(b)"
   ]
  },
  {
   "cell_type": "markdown",
   "id": "718b1b06-9ca4-4ea7-9f5d-4bc74cb5e507",
   "metadata": {},
   "source": [
    "### Rules for Variable declaration"
   ]
  },
  {
   "cell_type": "markdown",
   "id": "e37aca27-cea9-4c6b-bf41-5a4fcbce387b",
   "metadata": {},
   "source": [
    "<div style='background:#B1F9E3; color:#000000' class= 'alert alert-box'>\n",
    "    <b>Rule 1:</b> You cannot use numbers as a variable\n",
    "</div>"
   ]
  },
  {
   "cell_type": "code",
   "execution_count": 19,
   "id": "08480ab4-433d-4278-b572-6ec087f4e447",
   "metadata": {
    "tags": []
   },
   "outputs": [
    {
     "ename": "SyntaxError",
     "evalue": "cannot assign to literal here. Maybe you meant '==' instead of '='? (215713925.py, line 1)",
     "output_type": "error",
     "traceback": [
      "\u001b[1;36m  Cell \u001b[1;32mIn[19], line 1\u001b[1;36m\u001b[0m\n\u001b[1;33m    1 = 'a'\u001b[0m\n\u001b[1;37m    ^\u001b[0m\n\u001b[1;31mSyntaxError\u001b[0m\u001b[1;31m:\u001b[0m cannot assign to literal here. Maybe you meant '==' instead of '='?\n"
     ]
    }
   ],
   "source": [
    "1 = 'a'"
   ]
  },
  {
   "cell_type": "code",
   "execution_count": 20,
   "id": "5f6f8f9b-b2b0-4bce-92ae-79b146f7a41c",
   "metadata": {
    "tags": []
   },
   "outputs": [],
   "source": [
    "a = 'a'"
   ]
  },
  {
   "cell_type": "code",
   "execution_count": 21,
   "id": "804c9ba3-76e6-4429-9172-079982a3f3b5",
   "metadata": {
    "tags": []
   },
   "outputs": [
    {
     "data": {
      "text/plain": [
       "'a'"
      ]
     },
     "execution_count": 21,
     "metadata": {},
     "output_type": "execute_result"
    }
   ],
   "source": [
    "a"
   ]
  },
  {
   "cell_type": "markdown",
   "id": "3eb1895e-e8be-48ef-b5e5-ab999229c411",
   "metadata": {},
   "source": [
    "<div style='background:#B1F9E3; color:#000000' class= 'alert alert-box'>\n",
    "    <b>Rule 2:</b> Cannot start with digit\n",
    "</div>"
   ]
  },
  {
   "cell_type": "code",
   "execution_count": 22,
   "id": "80869972-4b0f-440a-bf40-5b60cb0743e0",
   "metadata": {
    "tags": []
   },
   "outputs": [
    {
     "ename": "SyntaxError",
     "evalue": "invalid decimal literal (2251791319.py, line 1)",
     "output_type": "error",
     "traceback": [
      "\u001b[1;36m  Cell \u001b[1;32mIn[22], line 1\u001b[1;36m\u001b[0m\n\u001b[1;33m    1student = 30\u001b[0m\n\u001b[1;37m    ^\u001b[0m\n\u001b[1;31mSyntaxError\u001b[0m\u001b[1;31m:\u001b[0m invalid decimal literal\n"
     ]
    }
   ],
   "source": [
    "1student = 30"
   ]
  },
  {
   "cell_type": "markdown",
   "id": "5f5d3db9-be2c-4d13-87f2-ac7106095422",
   "metadata": {},
   "source": [
    "**Rule 3:** You can start with text end with digit"
   ]
  },
  {
   "cell_type": "code",
   "execution_count": 23,
   "id": "9274c3af-bc77-4fae-8e86-1f8b32ab93ba",
   "metadata": {
    "tags": []
   },
   "outputs": [],
   "source": [
    "student1 = 30"
   ]
  },
  {
   "cell_type": "code",
   "execution_count": 24,
   "id": "b397538c-ce09-4297-b222-e4ad6ad921c3",
   "metadata": {
    "tags": []
   },
   "outputs": [
    {
     "name": "stdout",
     "output_type": "stream",
     "text": [
      "30\n"
     ]
    }
   ],
   "source": [
    "print(student1)"
   ]
  },
  {
   "cell_type": "markdown",
   "id": "77b4ac3b-d5d9-4e5a-abe0-005fac01f3ac",
   "metadata": {},
   "source": [
    "<div style='background:#B1F9E3; color:#000000' class= 'alert alert-box'>\n",
    "    <b>Rule 4:</b> Variable cannot use special character\n",
    "</div>\n"
   ]
  },
  {
   "cell_type": "code",
   "execution_count": 25,
   "id": "f48a0218-9560-4121-8ecd-4ffd7ea76bf6",
   "metadata": {
    "tags": []
   },
   "outputs": [
    {
     "ename": "SyntaxError",
     "evalue": "invalid syntax (2431823554.py, line 1)",
     "output_type": "error",
     "traceback": [
      "\u001b[1;36m  Cell \u001b[1;32mIn[25], line 1\u001b[1;36m\u001b[0m\n\u001b[1;33m    door@ = 30\u001b[0m\n\u001b[1;37m          ^\u001b[0m\n\u001b[1;31mSyntaxError\u001b[0m\u001b[1;31m:\u001b[0m invalid syntax\n"
     ]
    }
   ],
   "source": [
    "door@ = 30"
   ]
  },
  {
   "cell_type": "code",
   "execution_count": 26,
   "id": "daf11c66-70a4-4444-9bac-815c7f6b4f39",
   "metadata": {
    "tags": []
   },
   "outputs": [
    {
     "ename": "SyntaxError",
     "evalue": "invalid syntax (1644615676.py, line 1)",
     "output_type": "error",
     "traceback": [
      "\u001b[1;36m  Cell \u001b[1;32mIn[26], line 1\u001b[1;36m\u001b[0m\n\u001b[1;33m    door/ = 30\u001b[0m\n\u001b[1;37m          ^\u001b[0m\n\u001b[1;31mSyntaxError\u001b[0m\u001b[1;31m:\u001b[0m invalid syntax\n"
     ]
    }
   ],
   "source": [
    "door/ = 30"
   ]
  },
  {
   "cell_type": "code",
   "execution_count": 27,
   "id": "b7de1a90-f58e-4fcd-8427-7e79877ddeb0",
   "metadata": {
    "tags": []
   },
   "outputs": [
    {
     "ename": "SyntaxError",
     "evalue": "unexpected character after line continuation character (1397249483.py, line 1)",
     "output_type": "error",
     "traceback": [
      "\u001b[1;36m  Cell \u001b[1;32mIn[27], line 1\u001b[1;36m\u001b[0m\n\u001b[1;33m    door\\ = 30\u001b[0m\n\u001b[1;37m         ^\u001b[0m\n\u001b[1;31mSyntaxError\u001b[0m\u001b[1;31m:\u001b[0m unexpected character after line continuation character\n"
     ]
    }
   ],
   "source": [
    "door\\ = 30"
   ]
  },
  {
   "cell_type": "code",
   "execution_count": 28,
   "id": "d2214b48-d1fc-4b49-a890-10e6c61bdfec",
   "metadata": {
    "tags": []
   },
   "outputs": [],
   "source": [
    "door_ = 30 # except the underscore"
   ]
  },
  {
   "cell_type": "markdown",
   "id": "4f79a8e1-1bf6-4970-ba44-a14e0b3734f9",
   "metadata": {},
   "source": [
    "<div style='background:#B1F9E3; color:#000000' class= 'alert alert-box'>\n",
    "    <b>Rule 5:</b> You cannot use Keyword as a variable.\n",
    "    </div>"
   ]
  },
  {
   "cell_type": "code",
   "execution_count": 29,
   "id": "9ec1ae95-9351-4cdf-a2f3-037b82a2475c",
   "metadata": {
    "tags": []
   },
   "outputs": [
    {
     "ename": "SyntaxError",
     "evalue": "invalid syntax (574851001.py, line 1)",
     "output_type": "error",
     "traceback": [
      "\u001b[1;36m  Cell \u001b[1;32mIn[29], line 1\u001b[1;36m\u001b[0m\n\u001b[1;33m    if = 30\u001b[0m\n\u001b[1;37m       ^\u001b[0m\n\u001b[1;31mSyntaxError\u001b[0m\u001b[1;31m:\u001b[0m invalid syntax\n"
     ]
    }
   ],
   "source": [
    "if = 30"
   ]
  },
  {
   "cell_type": "code",
   "execution_count": 30,
   "id": "326b072c-38cf-416f-acc4-1143d1fd74b3",
   "metadata": {
    "tags": []
   },
   "outputs": [
    {
     "ename": "SyntaxError",
     "evalue": "cannot assign to False (1608502544.py, line 1)",
     "output_type": "error",
     "traceback": [
      "\u001b[1;36m  Cell \u001b[1;32mIn[30], line 1\u001b[1;36m\u001b[0m\n\u001b[1;33m    False = 30\u001b[0m\n\u001b[1;37m    ^\u001b[0m\n\u001b[1;31mSyntaxError\u001b[0m\u001b[1;31m:\u001b[0m cannot assign to False\n"
     ]
    }
   ],
   "source": [
    "False = 30"
   ]
  },
  {
   "cell_type": "code",
   "execution_count": 31,
   "id": "4f6d3fb2-c7b0-4e3f-8e78-bcc2ec3fa8a2",
   "metadata": {
    "tags": []
   },
   "outputs": [
    {
     "ename": "SyntaxError",
     "evalue": "cannot assign to True (3699601676.py, line 1)",
     "output_type": "error",
     "traceback": [
      "\u001b[1;36m  Cell \u001b[1;32mIn[31], line 1\u001b[1;36m\u001b[0m\n\u001b[1;33m    True = 30\u001b[0m\n\u001b[1;37m    ^\u001b[0m\n\u001b[1;31mSyntaxError\u001b[0m\u001b[1;31m:\u001b[0m cannot assign to True\n"
     ]
    }
   ],
   "source": [
    "True = 30"
   ]
  },
  {
   "cell_type": "markdown",
   "id": "45dd06d1-5455-400a-8c55-81934fa46889",
   "metadata": {},
   "source": [
    "### Assigning multiple values to multiple variables in a line"
   ]
  },
  {
   "cell_type": "code",
   "execution_count": 32,
   "id": "876b14d9-40fa-4fbc-bd9a-50e3fb771d00",
   "metadata": {
    "tags": []
   },
   "outputs": [],
   "source": [
    "a, b = 1, 100"
   ]
  },
  {
   "cell_type": "code",
   "execution_count": 33,
   "id": "b4314398-906b-4614-a176-31b1401eaf7f",
   "metadata": {
    "tags": []
   },
   "outputs": [
    {
     "data": {
      "text/plain": [
       "1"
      ]
     },
     "execution_count": 33,
     "metadata": {},
     "output_type": "execute_result"
    }
   ],
   "source": [
    "a"
   ]
  },
  {
   "cell_type": "code",
   "execution_count": 34,
   "id": "ce54f39d-9f06-4ee0-bfcb-7bfc618a354f",
   "metadata": {
    "tags": []
   },
   "outputs": [
    {
     "data": {
      "text/plain": [
       "100"
      ]
     },
     "execution_count": 34,
     "metadata": {},
     "output_type": "execute_result"
    }
   ],
   "source": [
    "b"
   ]
  },
  {
   "cell_type": "code",
   "execution_count": 35,
   "id": "89059012-f6b8-4f0e-9a36-55ee5181e58e",
   "metadata": {
    "tags": []
   },
   "outputs": [],
   "source": [
    "student, faculty = 'Sumanth', 'Vinay'"
   ]
  },
  {
   "cell_type": "code",
   "execution_count": 36,
   "id": "85db9382-398f-4c43-98ed-138658e17300",
   "metadata": {
    "tags": []
   },
   "outputs": [
    {
     "data": {
      "text/plain": [
       "'Sumanth'"
      ]
     },
     "execution_count": 36,
     "metadata": {},
     "output_type": "execute_result"
    }
   ],
   "source": [
    "student"
   ]
  },
  {
   "cell_type": "code",
   "execution_count": 37,
   "id": "7154b39a-0b4b-4271-875a-9c6f344e72ba",
   "metadata": {
    "tags": []
   },
   "outputs": [
    {
     "data": {
      "text/plain": [
       "'Vinay'"
      ]
     },
     "execution_count": 37,
     "metadata": {},
     "output_type": "execute_result"
    }
   ],
   "source": [
    "faculty"
   ]
  },
  {
   "cell_type": "code",
   "execution_count": 38,
   "id": "13274dac-033e-4633-88bf-e4bd7bf723c0",
   "metadata": {
    "tags": []
   },
   "outputs": [],
   "source": [
    "stu, rollno, orient = 'Sumanth', 45230, True"
   ]
  },
  {
   "cell_type": "code",
   "execution_count": 39,
   "id": "4f769ec4-fd99-468b-a21e-257a468964c2",
   "metadata": {
    "tags": []
   },
   "outputs": [
    {
     "data": {
      "text/plain": [
       "'Sumanth'"
      ]
     },
     "execution_count": 39,
     "metadata": {},
     "output_type": "execute_result"
    }
   ],
   "source": [
    "stu"
   ]
  },
  {
   "cell_type": "code",
   "execution_count": 40,
   "id": "9ed8d183-e0a7-44de-940a-229baf1de9e8",
   "metadata": {
    "tags": []
   },
   "outputs": [
    {
     "data": {
      "text/plain": [
       "45230"
      ]
     },
     "execution_count": 40,
     "metadata": {},
     "output_type": "execute_result"
    }
   ],
   "source": [
    "rollno"
   ]
  },
  {
   "cell_type": "code",
   "execution_count": 41,
   "id": "8ebbe0f9-f0e0-4ff6-84cd-95cbb61d4610",
   "metadata": {
    "tags": []
   },
   "outputs": [
    {
     "data": {
      "text/plain": [
       "True"
      ]
     },
     "execution_count": 41,
     "metadata": {},
     "output_type": "execute_result"
    }
   ],
   "source": [
    "orient"
   ]
  },
  {
   "cell_type": "code",
   "execution_count": 42,
   "id": "cce24fec-03d2-4914-b09e-b5d13e2e3eba",
   "metadata": {
    "tags": []
   },
   "outputs": [
    {
     "data": {
      "text/plain": [
       "str"
      ]
     },
     "execution_count": 42,
     "metadata": {},
     "output_type": "execute_result"
    }
   ],
   "source": [
    "type(stu)"
   ]
  },
  {
   "cell_type": "code",
   "execution_count": 43,
   "id": "8c9ba38a-a75b-43f4-a24b-8842b0804c62",
   "metadata": {
    "tags": []
   },
   "outputs": [
    {
     "data": {
      "text/plain": [
       "int"
      ]
     },
     "execution_count": 43,
     "metadata": {},
     "output_type": "execute_result"
    }
   ],
   "source": [
    "type(rollno)"
   ]
  },
  {
   "cell_type": "code",
   "execution_count": 44,
   "id": "33856e56-0e94-4929-a393-f2f37c2897d9",
   "metadata": {
    "tags": []
   },
   "outputs": [
    {
     "data": {
      "text/plain": [
       "bool"
      ]
     },
     "execution_count": 44,
     "metadata": {},
     "output_type": "execute_result"
    }
   ],
   "source": [
    "type(orient)"
   ]
  },
  {
   "cell_type": "markdown",
   "id": "f29b0ded-ca4c-429d-baf7-b29ece45035f",
   "metadata": {},
   "source": [
    "### Variable Styles"
   ]
  },
  {
   "cell_type": "markdown",
   "id": "b43827dd-46a3-49f6-93ed-e2a3a0b7a600",
   "metadata": {},
   "source": [
    "<div style='background:#B1F9E3; color:#000000' class= 'alert alert-box'>\n",
    "    <b>Style 1:</b> Flat case<br><br>\n",
    "\n",
    "Flat case is just a direct convention of writing the variable without any special cases\n",
    "</div>"
   ]
  },
  {
   "cell_type": "code",
   "execution_count": 45,
   "id": "7b47773b-4b97-43ad-88b7-995b4cda9c43",
   "metadata": {
    "tags": []
   },
   "outputs": [],
   "source": [
    "studentname = 'Sumanth'"
   ]
  },
  {
   "cell_type": "markdown",
   "id": "2a9ca7a2-aa5f-4883-a3b7-fa1a35b04653",
   "metadata": {},
   "source": [
    "<div style='background:#B1F9E3; color:#000000' class= 'alert alert-box'>\n",
    "    <b>Style 2:</b> Snake case<br><br>\n",
    "\n",
    "Snake case is use of underscore( _ ) between two words\n",
    "</div>"
   ]
  },
  {
   "cell_type": "code",
   "execution_count": 46,
   "id": "6c0b3c4d-3ac5-43dd-ad83-0926c140dc8b",
   "metadata": {
    "tags": []
   },
   "outputs": [],
   "source": [
    "student_name = 'Sumanth'"
   ]
  },
  {
   "cell_type": "markdown",
   "id": "078da3ac-3c1a-4cdb-86d7-7af56ed0d3a8",
   "metadata": {},
   "source": [
    "<div style='background:#B1F9E3; color:#000000' class= 'alert alert-box'>\n",
    "    <b>Style 3:</b> Camel case<br><br>\n",
    "\n",
    "Camel case first word start with small and second word starts with capital\n",
    "    </div>"
   ]
  },
  {
   "cell_type": "code",
   "execution_count": 47,
   "id": "76a5e847-f602-4715-ad8c-bc1d18def470",
   "metadata": {
    "tags": []
   },
   "outputs": [],
   "source": [
    "studentName = 'Sumanth'"
   ]
  },
  {
   "cell_type": "code",
   "execution_count": 48,
   "id": "ed9fb03d-f001-4311-8d34-7baf29ea2994",
   "metadata": {
    "tags": []
   },
   "outputs": [],
   "source": [
    "__stu__ = 'sanjay'"
   ]
  },
  {
   "cell_type": "code",
   "execution_count": 49,
   "id": "1915e231-bc12-45d3-ad6e-6b9649464542",
   "metadata": {
    "tags": []
   },
   "outputs": [
    {
     "data": {
      "text/plain": [
       "'sanjay'"
      ]
     },
     "execution_count": 49,
     "metadata": {},
     "output_type": "execute_result"
    }
   ],
   "source": [
    "__stu__"
   ]
  },
  {
   "cell_type": "markdown",
   "id": "71ff4a48-4d7d-4614-898a-a3f0ae80af35",
   "metadata": {},
   "source": [
    "### Interactive input of values to the variable using input() function"
   ]
  },
  {
   "cell_type": "code",
   "execution_count": 50,
   "id": "bdde7069-c9ff-4758-acaf-3b678128ff77",
   "metadata": {
    "tags": []
   },
   "outputs": [
    {
     "name": "stdin",
     "output_type": "stream",
     "text": [
      " Sagar\n"
     ]
    }
   ],
   "source": [
    "student = input() # input function by default accepts string"
   ]
  },
  {
   "cell_type": "code",
   "execution_count": 51,
   "id": "01fda0a5-4349-4f41-ae53-f0aaaebe4146",
   "metadata": {
    "tags": []
   },
   "outputs": [
    {
     "data": {
      "text/plain": [
       "'Sagar'"
      ]
     },
     "execution_count": 51,
     "metadata": {},
     "output_type": "execute_result"
    }
   ],
   "source": [
    "student"
   ]
  },
  {
   "cell_type": "code",
   "execution_count": 53,
   "id": "b9be0a05-3d84-4812-b590-ba352236207a",
   "metadata": {
    "tags": []
   },
   "outputs": [
    {
     "name": "stdin",
     "output_type": "stream",
     "text": [
      " 1253\n"
     ]
    }
   ],
   "source": [
    "student = input()"
   ]
  },
  {
   "cell_type": "code",
   "execution_count": 54,
   "id": "5d135c02-0977-4611-9a94-c328c9cf3ac8",
   "metadata": {
    "tags": []
   },
   "outputs": [
    {
     "data": {
      "text/plain": [
       "'1253'"
      ]
     },
     "execution_count": 54,
     "metadata": {},
     "output_type": "execute_result"
    }
   ],
   "source": [
    "student"
   ]
  },
  {
   "cell_type": "code",
   "execution_count": 55,
   "id": "6ca1633b-eba6-48f4-b936-9afbe4fa6c24",
   "metadata": {
    "tags": []
   },
   "outputs": [
    {
     "data": {
      "text/plain": [
       "str"
      ]
     },
     "execution_count": 55,
     "metadata": {},
     "output_type": "execute_result"
    }
   ],
   "source": [
    "type(student)"
   ]
  },
  {
   "cell_type": "markdown",
   "id": "439c2d32-b1c9-4b41-84fc-9db8dd4511ab",
   "metadata": {},
   "source": [
    "### Storing integer number inside the input() function"
   ]
  },
  {
   "cell_type": "code",
   "execution_count": 56,
   "id": "1db56b18-23d5-4b2e-b1d7-a56b900f3792",
   "metadata": {
    "tags": []
   },
   "outputs": [
    {
     "name": "stdin",
     "output_type": "stream",
     "text": [
      " 10\n"
     ]
    }
   ],
   "source": [
    "student = int(input())"
   ]
  },
  {
   "cell_type": "code",
   "execution_count": 57,
   "id": "12e1b914-e6ed-4ab3-a290-a8bf05ac5385",
   "metadata": {
    "tags": []
   },
   "outputs": [
    {
     "data": {
      "text/plain": [
       "10"
      ]
     },
     "execution_count": 57,
     "metadata": {},
     "output_type": "execute_result"
    }
   ],
   "source": [
    "student"
   ]
  },
  {
   "cell_type": "code",
   "execution_count": 58,
   "id": "7b0b969e-8d03-4049-bd6c-046e3d6f3533",
   "metadata": {
    "tags": []
   },
   "outputs": [
    {
     "name": "stdin",
     "output_type": "stream",
     "text": [
      " sumanth\n"
     ]
    },
    {
     "ename": "ValueError",
     "evalue": "invalid literal for int() with base 10: 'sumanth'",
     "output_type": "error",
     "traceback": [
      "\u001b[1;31m---------------------------------------------------------------------------\u001b[0m",
      "\u001b[1;31mValueError\u001b[0m                                Traceback (most recent call last)",
      "Cell \u001b[1;32mIn[58], line 1\u001b[0m\n\u001b[1;32m----> 1\u001b[0m student \u001b[38;5;241m=\u001b[39m \u001b[38;5;28mint\u001b[39m(\u001b[38;5;28minput\u001b[39m())\n",
      "\u001b[1;31mValueError\u001b[0m: invalid literal for int() with base 10: 'sumanth'"
     ]
    }
   ],
   "source": [
    "student = int(input())"
   ]
  },
  {
   "cell_type": "code",
   "execution_count": 59,
   "id": "b43eec21-d97f-4f33-861e-573125768fda",
   "metadata": {
    "tags": []
   },
   "outputs": [
    {
     "name": "stdin",
     "output_type": "stream",
     "text": [
      " 10.3\n"
     ]
    },
    {
     "ename": "ValueError",
     "evalue": "invalid literal for int() with base 10: '10.3'",
     "output_type": "error",
     "traceback": [
      "\u001b[1;31m---------------------------------------------------------------------------\u001b[0m",
      "\u001b[1;31mValueError\u001b[0m                                Traceback (most recent call last)",
      "Cell \u001b[1;32mIn[59], line 1\u001b[0m\n\u001b[1;32m----> 1\u001b[0m student \u001b[38;5;241m=\u001b[39m \u001b[38;5;28mint\u001b[39m(\u001b[38;5;28minput\u001b[39m())\n",
      "\u001b[1;31mValueError\u001b[0m: invalid literal for int() with base 10: '10.3'"
     ]
    }
   ],
   "source": [
    "student = int(input())"
   ]
  },
  {
   "cell_type": "markdown",
   "id": "ab4befac-f6d6-4fb8-87cc-9f14f7e827f2",
   "metadata": {},
   "source": [
    "### Storing float/decimal number inside the input() function"
   ]
  },
  {
   "cell_type": "code",
   "execution_count": 60,
   "id": "7e4e7291-2280-48e3-84b6-e360e9d0b00a",
   "metadata": {
    "tags": []
   },
   "outputs": [
    {
     "name": "stdin",
     "output_type": "stream",
     "text": [
      " 5.65\n"
     ]
    }
   ],
   "source": [
    "studentHeight = float(input())"
   ]
  },
  {
   "cell_type": "code",
   "execution_count": 61,
   "id": "57ffd5fe-27c1-4c57-a913-ca47fed303c4",
   "metadata": {
    "tags": []
   },
   "outputs": [
    {
     "data": {
      "text/plain": [
       "5.65"
      ]
     },
     "execution_count": 61,
     "metadata": {},
     "output_type": "execute_result"
    }
   ],
   "source": [
    "studentHeight"
   ]
  },
  {
   "cell_type": "code",
   "execution_count": 63,
   "id": "4442e0b4-dd9f-4480-833b-5238dde01532",
   "metadata": {
    "tags": []
   },
   "outputs": [
    {
     "name": "stdin",
     "output_type": "stream",
     "text": [
      " 6\n"
     ]
    }
   ],
   "source": [
    "studentHeight = float(input())"
   ]
  },
  {
   "cell_type": "code",
   "execution_count": 64,
   "id": "8d53653a-f8ee-49b3-b906-2216efbdd40c",
   "metadata": {
    "tags": []
   },
   "outputs": [
    {
     "data": {
      "text/plain": [
       "6.0"
      ]
     },
     "execution_count": 64,
     "metadata": {},
     "output_type": "execute_result"
    }
   ],
   "source": [
    "studentHeight"
   ]
  },
  {
   "cell_type": "markdown",
   "id": "682d9021-12c0-489e-bd66-e5ce0eb0cc3d",
   "metadata": {},
   "source": [
    "### Operands and Operators"
   ]
  },
  {
   "cell_type": "markdown",
   "id": "190f9f7e-aea7-4d0e-862c-87d5d1b738cf",
   "metadata": {},
   "source": [
    "<div style='background:#B1F9E3; color:#000000' class= 'alert alert-box'>\n",
    "Assignment operators (=)\n",
    "    </div>"
   ]
  },
  {
   "cell_type": "code",
   "execution_count": 65,
   "id": "1df30f46-eec9-43ee-8eba-f0f10e5a3326",
   "metadata": {
    "tags": []
   },
   "outputs": [],
   "source": [
    "x = 10\n",
    "y = 2"
   ]
  },
  {
   "cell_type": "markdown",
   "id": "e7b22146-7a4b-475c-a8f0-8073832aa109",
   "metadata": {},
   "source": [
    "<div style='background:#B1F9E3; color:#000000' class= 'alert alert-box'>\n",
    "Arithmetic operators\n",
    "    </div>"
   ]
  },
  {
   "cell_type": "code",
   "execution_count": 66,
   "id": "50ad7830-35db-4cbf-b3b2-a7f94b4373be",
   "metadata": {
    "tags": []
   },
   "outputs": [],
   "source": [
    "# Addition operator (+)\n",
    "addi = x + y\n",
    "\n",
    "# Subtraction operator (-)\n",
    "subt = x - y\n",
    "\n",
    "# Multiplication operator (*)\n",
    "mult = x * y\n",
    "\n",
    "# Expoential operator (**)\n",
    "powe = x ** y\n",
    "\n",
    "# Division operator (/)\n",
    "divi = x / y\n",
    "\n",
    "# Floor Division operator (//) \n",
    "floo = x // y\n",
    "\n",
    "# Modulus operator (%)\n",
    "modu = x % y"
   ]
  },
  {
   "cell_type": "code",
   "execution_count": 67,
   "id": "a42e5bc4-9f48-4c41-9395-5f60d7100674",
   "metadata": {
    "tags": []
   },
   "outputs": [
    {
     "name": "stdout",
     "output_type": "stream",
     "text": [
      "Addition is  12\n",
      "Subtraction is 8\n",
      "Multiplication is  20\n",
      "power is  100\n",
      "division is  5.0\n",
      "floor division is  5\n",
      "Modulous is  0\n"
     ]
    }
   ],
   "source": [
    "print(\"Addition is \",addi)\n",
    "print(\"Subtraction is\",subt)\n",
    "print(\"Multiplication is \",mult)\n",
    "print(\"power is \",powe)\n",
    "print(\"division is \",divi)\n",
    "print(\"floor division is \",floo)\n",
    "print(\"Modulous is \",modu)"
   ]
  },
  {
   "cell_type": "markdown",
   "id": "c9b7c1fa-509f-4221-a2b5-43a3d3ea4772",
   "metadata": {},
   "source": [
    "### Comparasion operator"
   ]
  },
  {
   "cell_type": "code",
   "execution_count": 68,
   "id": "dbbe1e4b-cf85-4eda-befb-f773c14dc77b",
   "metadata": {
    "tags": []
   },
   "outputs": [
    {
     "name": "stdout",
     "output_type": "stream",
     "text": [
      "10\n",
      "2\n"
     ]
    },
    {
     "data": {
      "text/plain": [
       "True"
      ]
     },
     "execution_count": 68,
     "metadata": {},
     "output_type": "execute_result"
    }
   ],
   "source": [
    "print(x)\n",
    "print(y)\n",
    "x > y"
   ]
  },
  {
   "cell_type": "code",
   "execution_count": 69,
   "id": "2378b440-1cc8-4bab-abb7-da5618ce1c17",
   "metadata": {
    "tags": []
   },
   "outputs": [
    {
     "name": "stdout",
     "output_type": "stream",
     "text": [
      "10\n",
      "2\n"
     ]
    },
    {
     "data": {
      "text/plain": [
       "False"
      ]
     },
     "execution_count": 69,
     "metadata": {},
     "output_type": "execute_result"
    }
   ],
   "source": [
    "print(x)\n",
    "print(y)\n",
    "x < y"
   ]
  },
  {
   "cell_type": "code",
   "execution_count": 70,
   "id": "b7c880b6-c146-403f-a388-e24314b38b67",
   "metadata": {
    "tags": []
   },
   "outputs": [
    {
     "name": "stdout",
     "output_type": "stream",
     "text": [
      "10\n",
      "2\n"
     ]
    },
    {
     "data": {
      "text/plain": [
       "False"
      ]
     },
     "execution_count": 70,
     "metadata": {},
     "output_type": "execute_result"
    }
   ],
   "source": [
    "print(x)\n",
    "print(y)\n",
    "x == y"
   ]
  },
  {
   "cell_type": "code",
   "execution_count": 72,
   "id": "c31c1c22-ebd0-4e22-9fc1-69116a054513",
   "metadata": {
    "tags": []
   },
   "outputs": [
    {
     "name": "stdout",
     "output_type": "stream",
     "text": [
      "5\n",
      "5\n"
     ]
    },
    {
     "data": {
      "text/plain": [
       "True"
      ]
     },
     "execution_count": 72,
     "metadata": {},
     "output_type": "execute_result"
    }
   ],
   "source": [
    "m = 5\n",
    "n = 5\n",
    "print(m)\n",
    "print(n)\n",
    "m == n"
   ]
  },
  {
   "cell_type": "code",
   "execution_count": 73,
   "id": "8856cc9e-7f09-45b0-8d74-9c6706c182fb",
   "metadata": {
    "tags": []
   },
   "outputs": [
    {
     "name": "stdout",
     "output_type": "stream",
     "text": [
      "5\n",
      "5\n"
     ]
    },
    {
     "data": {
      "text/plain": [
       "False"
      ]
     },
     "execution_count": 73,
     "metadata": {},
     "output_type": "execute_result"
    }
   ],
   "source": [
    "print(m)\n",
    "print(n)\n",
    "m != n"
   ]
  },
  {
   "cell_type": "code",
   "execution_count": 74,
   "id": "0a85f594-c013-4463-9783-1e57aa2cdb84",
   "metadata": {
    "tags": []
   },
   "outputs": [
    {
     "name": "stdout",
     "output_type": "stream",
     "text": [
      "5\n",
      "10\n"
     ]
    },
    {
     "data": {
      "text/plain": [
       "True"
      ]
     },
     "execution_count": 74,
     "metadata": {},
     "output_type": "execute_result"
    }
   ],
   "source": [
    "# != is used to compare if two values are not equal\n",
    "c = 5\n",
    "d = 10\n",
    "print(c)\n",
    "print(d)\n",
    "c != d"
   ]
  },
  {
   "cell_type": "markdown",
   "id": "82a4497a-6e7f-4475-9f20-f17a83de14c3",
   "metadata": {},
   "source": [
    "### Logical operator"
   ]
  },
  {
   "cell_type": "markdown",
   "id": "dabaab67-e921-44f0-a135-be7d38f80239",
   "metadata": {},
   "source": [
    "<div style='background:#B1F9E3; color:#000000' class= 'alert alert-box'>\n",
    "<b>and:</b> Returns True if both statements are true\n",
    "    </div>"
   ]
  },
  {
   "cell_type": "code",
   "execution_count": 75,
   "id": "4c0d12e5-8549-49fd-93c0-9fd47e90c162",
   "metadata": {
    "tags": []
   },
   "outputs": [
    {
     "data": {
      "text/plain": [
       "False"
      ]
     },
     "execution_count": 75,
     "metadata": {},
     "output_type": "execute_result"
    }
   ],
   "source": [
    "x = 11\n",
    "x < 5 and x < 10"
   ]
  },
  {
   "cell_type": "code",
   "execution_count": 78,
   "id": "cf2dfbeb-3b44-4dcd-b85d-57f3ce284249",
   "metadata": {
    "tags": []
   },
   "outputs": [
    {
     "data": {
      "text/plain": [
       "False"
      ]
     },
     "execution_count": 78,
     "metadata": {},
     "output_type": "execute_result"
    }
   ],
   "source": [
    "x = 9\n",
    "x < 5 and x < 10"
   ]
  },
  {
   "cell_type": "code",
   "execution_count": 77,
   "id": "1523203a-fb9d-44bf-8f67-25c15376b963",
   "metadata": {
    "tags": []
   },
   "outputs": [
    {
     "data": {
      "text/plain": [
       "True"
      ]
     },
     "execution_count": 77,
     "metadata": {},
     "output_type": "execute_result"
    }
   ],
   "source": [
    "x = 4\n",
    "x < 5 and x < 10"
   ]
  },
  {
   "cell_type": "markdown",
   "id": "9b47d08a-7080-4f3d-a661-5b843991c9b6",
   "metadata": {},
   "source": [
    "<div style='background:#B1F9E3; color:#000000' class= 'alert alert-box'>\n",
    "    <b>or:</b> Returns True if one of the statements is true\n",
    "</div>"
   ]
  },
  {
   "cell_type": "code",
   "execution_count": 79,
   "id": "be0fec8c-d170-4b90-b330-3dc8353055c8",
   "metadata": {
    "tags": []
   },
   "outputs": [
    {
     "data": {
      "text/plain": [
       "False"
      ]
     },
     "execution_count": 79,
     "metadata": {},
     "output_type": "execute_result"
    }
   ],
   "source": [
    "x = 11\n",
    "x < 5 or x < 10"
   ]
  },
  {
   "cell_type": "code",
   "execution_count": 80,
   "id": "59e2b7b3-b65c-4b0d-92b2-2b5495ecfc95",
   "metadata": {
    "tags": []
   },
   "outputs": [
    {
     "data": {
      "text/plain": [
       "True"
      ]
     },
     "execution_count": 80,
     "metadata": {},
     "output_type": "execute_result"
    }
   ],
   "source": [
    "x = 9\n",
    "x < 5 or x < 10"
   ]
  },
  {
   "cell_type": "code",
   "execution_count": 81,
   "id": "a50d5a27-d287-45d4-8731-8e477c36935c",
   "metadata": {
    "tags": []
   },
   "outputs": [
    {
     "data": {
      "text/plain": [
       "True"
      ]
     },
     "execution_count": 81,
     "metadata": {},
     "output_type": "execute_result"
    }
   ],
   "source": [
    "x = 4\n",
    "x < 5 or x < 10"
   ]
  },
  {
   "cell_type": "markdown",
   "id": "05874b4c-e1e3-41bc-84c3-30311eab85f3",
   "metadata": {},
   "source": [
    "<div style='background:#B1F9E3; color:#000000' class= 'alert alert-box'>\n",
    "    <b>not:</b> Reverse the result, returns False if the result is true\n",
    "    </div>"
   ]
  },
  {
   "cell_type": "code",
   "execution_count": 82,
   "id": "cfef4b6d-72a6-41a6-b3fb-33b08c7a2241",
   "metadata": {
    "tags": []
   },
   "outputs": [
    {
     "data": {
      "text/plain": [
       "False"
      ]
     },
     "execution_count": 82,
     "metadata": {},
     "output_type": "execute_result"
    }
   ],
   "source": [
    "x = 1\n",
    "not(x < 5 and x < 10)"
   ]
  },
  {
   "cell_type": "code",
   "execution_count": 83,
   "id": "f6bbed74-d344-4d59-874f-f4aa3dc59687",
   "metadata": {
    "tags": []
   },
   "outputs": [
    {
     "data": {
      "text/plain": [
       "True"
      ]
     },
     "execution_count": 83,
     "metadata": {},
     "output_type": "execute_result"
    }
   ],
   "source": [
    "x = 11\n",
    "not(x < 5 and x < 10)"
   ]
  },
  {
   "cell_type": "markdown",
   "id": "112e9c5a-1397-4a25-9c14-94106b50883a",
   "metadata": {},
   "source": [
    "### Identity operator\n",
    "<div style='background:#B1F9E3; color:#000000' class= 'alert alert-box'>\n",
    "    <b>is:</b> Returns True if both variables are the same object\n",
    "</div>"
   ]
  },
  {
   "cell_type": "code",
   "execution_count": null,
   "id": "2a9d669c-272f-43cd-b9fb-3db819cd3aed",
   "metadata": {},
   "outputs": [],
   "source": []
  },
  {
   "cell_type": "code",
   "execution_count": 84,
   "id": "8f82309d-6c1f-47ff-bdc3-b8be1eb3070f",
   "metadata": {
    "tags": []
   },
   "outputs": [
    {
     "data": {
      "text/plain": [
       "True"
      ]
     },
     "execution_count": 84,
     "metadata": {},
     "output_type": "execute_result"
    }
   ],
   "source": [
    "x = 5\n",
    "y = 5\n",
    "x is y"
   ]
  },
  {
   "cell_type": "code",
   "execution_count": 85,
   "id": "6117194e-c96d-4a42-9ae2-a5b455bc4bf0",
   "metadata": {
    "tags": []
   },
   "outputs": [
    {
     "data": {
      "text/plain": [
       "False"
      ]
     },
     "execution_count": 85,
     "metadata": {},
     "output_type": "execute_result"
    }
   ],
   "source": [
    "x = 5\n",
    "y = 6\n",
    "x is y"
   ]
  },
  {
   "cell_type": "code",
   "execution_count": 86,
   "id": "2c020ae6-3cd7-4c02-8cc2-2b2c4750f923",
   "metadata": {
    "tags": []
   },
   "outputs": [
    {
     "data": {
      "text/plain": [
       "True"
      ]
     },
     "execution_count": 86,
     "metadata": {},
     "output_type": "execute_result"
    }
   ],
   "source": [
    "x = \"Sumanth\"\n",
    "y = \"Sumanth\"\n",
    "x is y"
   ]
  },
  {
   "cell_type": "code",
   "execution_count": 87,
   "id": "ea0354f5-dc0b-4612-8638-c58ed5d22de4",
   "metadata": {
    "tags": []
   },
   "outputs": [
    {
     "data": {
      "text/plain": [
       "False"
      ]
     },
     "execution_count": 87,
     "metadata": {},
     "output_type": "execute_result"
    }
   ],
   "source": [
    "x = \"Sumanth\"\n",
    "y = \"sumanth\"\n",
    "x is y"
   ]
  },
  {
   "cell_type": "markdown",
   "id": "29a12360-ef7b-4570-a015-54e19eaa48b7",
   "metadata": {},
   "source": [
    "<div style='background:#B1F9E3; color:#000000' class= 'alert alert-box'>\n",
    "    <b>is not:</b> Returns True if both variables are not the same object\n",
    "    </div>"
   ]
  },
  {
   "cell_type": "code",
   "execution_count": 88,
   "id": "47a3946c-12fa-4f12-9de4-8ffed9d86abf",
   "metadata": {
    "tags": []
   },
   "outputs": [
    {
     "data": {
      "text/plain": [
       "False"
      ]
     },
     "execution_count": 88,
     "metadata": {},
     "output_type": "execute_result"
    }
   ],
   "source": [
    "x = \"Sumanth\"\n",
    "y = \"Sumanth\"\n",
    "x is not y"
   ]
  },
  {
   "cell_type": "code",
   "execution_count": 89,
   "id": "d289191d-a878-46d3-aee6-fe086a710a06",
   "metadata": {
    "tags": []
   },
   "outputs": [
    {
     "data": {
      "text/plain": [
       "True"
      ]
     },
     "execution_count": 89,
     "metadata": {},
     "output_type": "execute_result"
    }
   ],
   "source": [
    "x = \"Sumanth\"\n",
    "y = \"sumanth\"\n",
    "x is not y"
   ]
  },
  {
   "cell_type": "markdown",
   "id": "02bbecdf-7660-46a7-999f-765cdc252c8e",
   "metadata": {},
   "source": [
    "### Membership operator"
   ]
  },
  {
   "cell_type": "markdown",
   "id": "ae38c9b1-763f-43db-b33f-7610d5d138f9",
   "metadata": {},
   "source": [
    "<div style='background:#B1F9E3; color:#000000' class= 'alert alert-box'>\n",
    "    <b>in:</b>Returns True if a sequence with the specified value is present in the object\n",
    "</div>"
   ]
  },
  {
   "cell_type": "code",
   "execution_count": 90,
   "id": "6c19a5d6-e703-4592-b591-469807292399",
   "metadata": {
    "tags": []
   },
   "outputs": [
    {
     "data": {
      "text/plain": [
       "True"
      ]
     },
     "execution_count": 90,
     "metadata": {},
     "output_type": "execute_result"
    }
   ],
   "source": [
    "name = \"Sumanth\"\n",
    "'S' in name"
   ]
  },
  {
   "cell_type": "code",
   "execution_count": 91,
   "id": "6b80ff5f-7813-4bf2-ab1f-15ad7a9a09bd",
   "metadata": {
    "tags": []
   },
   "outputs": [
    {
     "data": {
      "text/plain": [
       "True"
      ]
     },
     "execution_count": 91,
     "metadata": {},
     "output_type": "execute_result"
    }
   ],
   "source": [
    "name = \"Sumanth\"\n",
    "'u' in name"
   ]
  },
  {
   "cell_type": "code",
   "execution_count": 92,
   "id": "b56f5b80-66b7-48a3-aa33-f8a2cd77b9f1",
   "metadata": {
    "tags": []
   },
   "outputs": [
    {
     "data": {
      "text/plain": [
       "False"
      ]
     },
     "execution_count": 92,
     "metadata": {},
     "output_type": "execute_result"
    }
   ],
   "source": [
    "name = \"Sumanth\"\n",
    "'U' in name"
   ]
  },
  {
   "cell_type": "code",
   "execution_count": 93,
   "id": "033f2b60-f0ff-4c77-9be9-0ca237454e57",
   "metadata": {
    "tags": []
   },
   "outputs": [
    {
     "data": {
      "text/plain": [
       "False"
      ]
     },
     "execution_count": 93,
     "metadata": {},
     "output_type": "execute_result"
    }
   ],
   "source": [
    "name = \"Sumanth\"\n",
    "'z' in name"
   ]
  },
  {
   "cell_type": "markdown",
   "id": "32ea9627-0abf-4696-a421-4565c2eecb5c",
   "metadata": {},
   "source": [
    "<div style='background:#B1F9E3; color:#000000' class= 'alert alert-box'>\n",
    "    <b>not in:</b> Returns True if a sequence with the specified value is not present in the object\n",
    "</div>"
   ]
  },
  {
   "cell_type": "code",
   "execution_count": 94,
   "id": "80ea1cb9-59ae-45f9-9770-10ab0d9566c5",
   "metadata": {
    "tags": []
   },
   "outputs": [
    {
     "data": {
      "text/plain": [
       "False"
      ]
     },
     "execution_count": 94,
     "metadata": {},
     "output_type": "execute_result"
    }
   ],
   "source": [
    "name = \"Sumanth\"\n",
    "'S' not in name"
   ]
  },
  {
   "cell_type": "code",
   "execution_count": 95,
   "id": "83ac206e-fce9-4d46-9f5b-9c879179d556",
   "metadata": {
    "tags": []
   },
   "outputs": [
    {
     "data": {
      "text/plain": [
       "True"
      ]
     },
     "execution_count": 95,
     "metadata": {},
     "output_type": "execute_result"
    }
   ],
   "source": [
    "name = \"Sumanth\"\n",
    "'z' not in name"
   ]
  },
  {
   "cell_type": "markdown",
   "id": "c16c5dc3-0a49-4df8-8361-534e14671499",
   "metadata": {},
   "source": [
    "### Operator Precedence\n",
    "<div style='background:#B1F9E3; color:#000000' class= 'alert alert-box'>\n",
    "P – Parentheses. E – Exponentiation. M – Multiplication. D – Division. A – Addition. S –Subtraction\n",
    "<br><br>\n",
    "PEMDAS is an acronym that stands for Parentheses, Exponents, Multiplication, Division,\n",
    "Addition, and Subtraction. It is used to remember the order of operations in mathematics. In\n",
    "Python, the order of operations is the same as PEMDAS.\n",
    "</div>"
   ]
  },
  {
   "cell_type": "code",
   "execution_count": 96,
   "id": "4c4a9580-1d27-4a3b-9fd7-a4d0fc346618",
   "metadata": {
    "tags": []
   },
   "outputs": [
    {
     "name": "stdout",
     "output_type": "stream",
     "text": [
      "0\n"
     ]
    }
   ],
   "source": [
    "print((6 + 3) - (6 + 3))"
   ]
  },
  {
   "cell_type": "code",
   "execution_count": 97,
   "id": "a84de385-57e7-4ca5-9c4f-1772aaf41638",
   "metadata": {
    "tags": []
   },
   "outputs": [
    {
     "name": "stdout",
     "output_type": "stream",
     "text": [
      "-7.0\n"
     ]
    }
   ],
   "source": [
    "print((6 / 3) - (6 + 3))"
   ]
  },
  {
   "cell_type": "code",
   "execution_count": 98,
   "id": "35c14d8b-e80a-44d5-b8f5-c3696e869c90",
   "metadata": {
    "tags": []
   },
   "outputs": [
    {
     "name": "stdout",
     "output_type": "stream",
     "text": [
      "0.2222222222222222\n"
     ]
    }
   ],
   "source": [
    "print((6 / 3) / (6 + 3))"
   ]
  }
 ],
 "metadata": {
  "kernelspec": {
   "display_name": "Python 3 (ipykernel)",
   "language": "python",
   "name": "python3"
  },
  "language_info": {
   "codemirror_mode": {
    "name": "ipython",
    "version": 3
   },
   "file_extension": ".py",
   "mimetype": "text/x-python",
   "name": "python",
   "nbconvert_exporter": "python",
   "pygments_lexer": "ipython3",
   "version": "3.9.18"
  }
 },
 "nbformat": 4,
 "nbformat_minor": 5
}
