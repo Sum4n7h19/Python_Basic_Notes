{
 "cells": [
  {
   "cell_type": "markdown",
   "id": "c85c25fd-d71b-4e97-8e64-cbd46be98bd7",
   "metadata": {},
   "source": [
    "**1. Write a program to print hello python?**"
   ]
  },
  {
   "cell_type": "code",
   "execution_count": 1,
   "id": "bab33dfc-18ac-4603-ba1c-2c3e7f49213d",
   "metadata": {},
   "outputs": [
    {
     "name": "stdout",
     "output_type": "stream",
     "text": [
      "Hello Python!\n"
     ]
    }
   ],
   "source": [
    "# Program to print hello python\n",
    "\n",
    "print('Hello Python!')"
   ]
  },
  {
   "cell_type": "markdown",
   "id": "b9a63ff8-c1ab-4d8c-b0d9-459497a8c2ed",
   "metadata": {},
   "source": [
    "**2. Write a program to calculate area of a triangle?**"
   ]
  },
  {
   "cell_type": "code",
   "execution_count": 2,
   "id": "21c95648-6870-46b1-9544-d840fb2fd05b",
   "metadata": {},
   "outputs": [
    {
     "name": "stdin",
     "output_type": "stream",
     "text": [
      "Enter breadth of the triangle:  3\n",
      "Enter height of the triangle:  6\n"
     ]
    },
    {
     "name": "stdout",
     "output_type": "stream",
     "text": [
      "Area of the triangle is: 9.0\n"
     ]
    }
   ],
   "source": [
    "# Python program to find the area of a triangle\n",
    "# Area of triangle = 1/2(B*H)\n",
    "\n",
    "breadth = float(input(\"Enter breadth of the triangle: \"))\n",
    "height = float(input(\"Enter height of the triangle: \"))\n",
    "\n",
    "area = 0.5*(breadth*height)\n",
    "\n",
    "print(f\"Area of the triangle is: {area}\")"
   ]
  },
  {
   "cell_type": "markdown",
   "id": "87c4a984-571c-41de-9b05-ecbb73277d4e",
   "metadata": {},
   "source": [
    "**3. Write a program to convert Kilometers to Miles and Miles to Kilometers ?**"
   ]
  },
  {
   "cell_type": "code",
   "execution_count": 3,
   "id": "3132fed2-ffb3-4ecd-9765-b768b6febea9",
   "metadata": {},
   "outputs": [
    {
     "name": "stdin",
     "output_type": "stream",
     "text": [
      "Enter value 1: To convert Km to Mile \n",
      "Enter value 2: To convert Mile to Km \n",
      " 2\n"
     ]
    },
    {
     "name": "stdout",
     "output_type": "stream",
     "text": [
      "You have Selected :: Mile to Km Conversion\n"
     ]
    },
    {
     "name": "stdin",
     "output_type": "stream",
     "text": [
      "Enter Mile:  3\n"
     ]
    },
    {
     "name": "stdout",
     "output_type": "stream",
     "text": [
      "Equivalent value of 3.0 miles is 4.83 Km\n"
     ]
    }
   ],
   "source": [
    "# Python program to convert kilometers to miles\n",
    "# 1 mile = 1.60934km\n",
    "\n",
    "value = int(input(\"Enter value 1: To convert Km to Mile \\nEnter value 2: To convert Mile to Km \\n\"))\n",
    "if value==1:\n",
    "    print(\"You have Selected :: Km to Mile Conversion\")\n",
    "    km = float(input(\"Enter Kilometer: \"))\n",
    "    km2mile = km / 1.609\n",
    "    print(f\"Equivalent value of {km} kms is {round(km2mile,2)} miles\")\n",
    "elif value==2:\n",
    "    print(\"You have Selected :: Mile to Km Conversion\")\n",
    "    mile = float(input(\"Enter Mile: \"))\n",
    "    mile2km = mile * 1.609\n",
    "    print(f\"Equivalent value of {mile} miles is {round(mile2km,2)} Km\")\n",
    "else:\n",
    "    print(\"You have entered invalid input\")"
   ]
  },
  {
   "cell_type": "markdown",
   "id": "4ee7bd26-e385-46f9-b762-e990da5ef435",
   "metadata": {},
   "source": [
    "**4. Write a program to convert Celsius to Fahrenheit ?**"
   ]
  },
  {
   "cell_type": "code",
   "execution_count": 4,
   "id": "be344a20-95a9-4e6a-896e-2aded4c4f304",
   "metadata": {},
   "outputs": [
    {
     "name": "stdin",
     "output_type": "stream",
     "text": [
      "Enter Celsius::  32\n"
     ]
    },
    {
     "name": "stdout",
     "output_type": "stream",
     "text": [
      "Celsius to Fahrenheit is 89.6F\n"
     ]
    }
   ],
   "source": [
    "# Python program to convert Celsius to Fahrenheit\n",
    "# Logic = (1°C × 9/5) + 32 = 33.8°F\n",
    "\n",
    "celsius = float(input(\"Enter Celsius:: \"))\n",
    "c2f = (celsius * (9/5)) + 32\n",
    "print(f\"Celsius to Fahrenheit is {c2f}F\")"
   ]
  },
  {
   "cell_type": "markdown",
   "id": "afe3429c-2323-48f6-8800-32a0582284e7",
   "metadata": {},
   "source": [
    "**5. Write a program to Check if a Number is Positive, Negative or Zero ?**"
   ]
  },
  {
   "cell_type": "code",
   "execution_count": 5,
   "id": "7e8912ac-b792-47fd-be27-ad56ecc83714",
   "metadata": {},
   "outputs": [
    {
     "name": "stdin",
     "output_type": "stream",
     "text": [
      "Enter a Number :::  -5\n"
     ]
    },
    {
     "name": "stdout",
     "output_type": "stream",
     "text": [
      "-5.0 is Negative Number\n"
     ]
    }
   ],
   "source": [
    "# Python Program to Check if a Number is Positive, Negative or Zero\n",
    "# Logic::: a > 0 = positive, a < 0 = Negative, a = 0 then Zero\n",
    "\n",
    "\n",
    "value = float(input(\"Enter a Number ::: \"))\n",
    "if value > 0:\n",
    "    print(f\"{value} is Positive Number\")\n",
    "elif value < 0:\n",
    "    print(f\"{value} is Negative Number\")\n",
    "else:\n",
    "    print(f\"{value} is Zero Number\")"
   ]
  },
  {
   "cell_type": "markdown",
   "id": "057fb061-db69-408b-abae-8859e81a83b6",
   "metadata": {},
   "source": [
    "**6.Write a  program to Check if a Number is Odd or Even ?**"
   ]
  },
  {
   "cell_type": "code",
   "execution_count": 6,
   "id": "dc2ecacc-d15e-48c8-bebe-9568f0162405",
   "metadata": {},
   "outputs": [
    {
     "name": "stdin",
     "output_type": "stream",
     "text": [
      "Enter a number :::  56\n"
     ]
    },
    {
     "name": "stdout",
     "output_type": "stream",
     "text": [
      "56 is Even\n"
     ]
    }
   ],
   "source": [
    "# Python Program to Check if a Number is Odd or Even\n",
    "# Logic:: number is divisible by 2 then it is even else odd\n",
    "\n",
    "a = int(input(\"Enter a number ::: \"))\n",
    "if a%2 == 0:\n",
    "    print(f\"{a} is Even\")\n",
    "else:\n",
    "    print(f\"{a} is Odd\")"
   ]
  },
  {
   "cell_type": "markdown",
   "id": "b05e7454-bafb-4142-b44b-e99a16065cb9",
   "metadata": {},
   "source": [
    "**7. Write a program to Check Leap Year ?**"
   ]
  },
  {
   "cell_type": "code",
   "execution_count": 7,
   "id": "9ca42061-2aeb-44cc-a05f-a753fa141cfe",
   "metadata": {},
   "outputs": [
    {
     "name": "stdin",
     "output_type": "stream",
     "text": [
      "Enter a Year to Check Leap or Not :::  1860\n"
     ]
    },
    {
     "name": "stdout",
     "output_type": "stream",
     "text": [
      "Leap\n"
     ]
    }
   ],
   "source": [
    "# Python Program to Check Leap Year\n",
    "\n",
    "'''\n",
    "A leap year is a year that contains an additional day,\n",
    "February 29th, making it 366 days long instead of the usual 365 days.\n",
    "Leap years are necessary to keep our calendar in alignment with the Earth’s revolutions around the Sun.\n",
    "A year is a leap year if the following conditions are satisfied: \n",
    "\n",
    "The year is multiple of 400.\n",
    "\n",
    "The year is a multiple of 4 and not a multiple of 100\n",
    "'''\n",
    "year = int(input(\"Enter a Year to Check Leap or Not ::: \"))\n",
    "if (year%400 == 0) or (year%4 == 0 and year%100 != 0):\n",
    "    print(\"Leap\")\n",
    "else:\n",
    "    print(\"Not Leap\")"
   ]
  },
  {
   "cell_type": "markdown",
   "id": "53feb3df-1f55-43a9-af57-62aabca2f720",
   "metadata": {},
   "source": [
    "**8. Write a program to Check Leap Year for given number of Years in a list ?**"
   ]
  },
  {
   "cell_type": "code",
   "execution_count": 8,
   "id": "42f03db6-4bec-4e25-a3d5-200ea405b052",
   "metadata": {},
   "outputs": [
    {
     "name": "stdout",
     "output_type": "stream",
     "text": [
      "2000 is Leap\n",
      "2001 is Not Leap\n",
      "2002 is Not Leap\n",
      "2003 is Not Leap\n",
      "2004 is Leap\n",
      "2005 is Not Leap\n",
      "2006 is Not Leap\n",
      "2007 is Not Leap\n",
      "2008 is Leap\n",
      "2009 is Not Leap\n",
      "2010 is Not Leap\n"
     ]
    }
   ],
   "source": [
    "# Python Program to Check Leap Year for given number of years\n",
    "\n",
    "'''\n",
    "A leap year is a year that contains an additional day,\n",
    "February 29th, making it 366 days long instead of the usual 365 days.\n",
    "Leap years are necessary to keep our calendar in alignment with the Earth’s revolutions around the Sun.\n",
    "A year is a leap year if the following conditions are satisfied: \n",
    "\n",
    "The year is multiple of 400.\n",
    "\n",
    "The year is a multiple of 4 and not a multiple of 100\n",
    "'''\n",
    "years_list = [2000,2001,2002,2003,2004,2005,2006,2007,2008,2009,2010]\n",
    "for year in years_list:\n",
    "    if (year%400 == 0) or (year%4 == 0 and year%100 != 0):\n",
    "        print(f\"{year} is Leap\")\n",
    "    else:\n",
    "        print(f\"{year} is Not Leap\")"
   ]
  },
  {
   "cell_type": "code",
   "execution_count": 9,
   "id": "10481a43-9859-4802-ba29-08186822d8a4",
   "metadata": {},
   "outputs": [
    {
     "name": "stdout",
     "output_type": "stream",
     "text": [
      "2000 is Leap\n",
      "2001 is Not Leap\n",
      "2002 is Not Leap\n",
      "2003 is Not Leap\n",
      "2004 is Leap\n",
      "2005 is Not Leap\n",
      "2006 is Not Leap\n",
      "2007 is Not Leap\n",
      "2008 is Leap\n",
      "2009 is Not Leap\n",
      "2010 is Not Leap\n"
     ]
    }
   ],
   "source": [
    "# Python Program to Check Leap Year using range() function\n",
    "\n",
    "'''\n",
    "A leap year is a year that contains an additional day,\n",
    "February 29th, making it 366 days long instead of the usual 365 days.\n",
    "Leap years are necessary to keep our calendar in alignment with the Earth’s revolutions around the Sun.\n",
    "A year is a leap year if the following conditions are satisfied: \n",
    "\n",
    "The year is multiple of 400.\n",
    "\n",
    "The year is a multiple of 4 and not a multiple of 100\n",
    "'''\n",
    "years_list = [i for i in range(2000,2011)]\n",
    "for year in years_list:\n",
    "    if (year%400 == 0) or (year%4 == 0 and year%100 != 0):\n",
    "        print(f\"{year} is Leap\")\n",
    "    else:\n",
    "        print(f\"{year} is Not Leap\")"
   ]
  },
  {
   "cell_type": "markdown",
   "id": "10681b7f-984f-44f0-8703-b7ebfe05d9c9",
   "metadata": {},
   "source": [
    "**9. Write a a program to calculate Simple interest ?**"
   ]
  },
  {
   "cell_type": "code",
   "execution_count": 10,
   "id": "97fa1fd5-a33f-4fa4-9a97-8bd0bb91751b",
   "metadata": {},
   "outputs": [
    {
     "name": "stdin",
     "output_type": "stream",
     "text": [
      "Enter Principal amount:  500\n",
      "Enter time in Years:  6\n",
      "Enter rate of interest:  4.5\n"
     ]
    },
    {
     "name": "stdout",
     "output_type": "stream",
     "text": [
      "Simple interest is 135.0\n"
     ]
    }
   ],
   "source": [
    "# Write a program to calculate Simple interest\n",
    "# simple Interst = principal amount * time * rate of interest / 100\n",
    "\n",
    "p =int(input('Enter Principal amount: '))\n",
    "t = int(input('Enter time in Years: '))\n",
    "r = float(input('Enter rate of interest: '))\n",
    "\n",
    "si = (p*t*r)/100\n",
    "print(f\"Simple interest is {si}\")"
   ]
  },
  {
   "cell_type": "markdown",
   "id": "92688bab-66c6-4eb0-b4f7-5b7c536413ca",
   "metadata": {},
   "source": [
    "**10.  Write a program to calculate Compound interest ?**"
   ]
  },
  {
   "cell_type": "code",
   "execution_count": 11,
   "id": "974b6b19-57c8-4ef0-9a12-a9d0349bd44b",
   "metadata": {},
   "outputs": [
    {
     "name": "stdin",
     "output_type": "stream",
     "text": [
      "Enter principal amount:  120030\n",
      "Enter rate of interest:  6.5\n",
      "Enter the overall tenure:  1\n"
     ]
    },
    {
     "name": "stdout",
     "output_type": "stream",
     "text": [
      "Compound interest is 7801.949999999997\n"
     ]
    }
   ],
   "source": [
    "# Write a program to calculate Compound interest\n",
    "# CI = P( 1 + r/n)^nt - P\n",
    "'''P is the principal amount\n",
    "r is the rate of interest(decimal obtained by dividing rate by 100)\n",
    "t is the overall tenure.'''\n",
    "\n",
    "p = int(input('Enter principal amount: '))\n",
    "r= float(input('Enter rate of interest: '))\n",
    "t = int(input('Enter the overall tenure: '))\n",
    "\n",
    "Amount = p* (pow((1 + r / 100), t))\n",
    "ci = Amount - p\n",
    "print(f\"Compound interest is {ci}\")"
   ]
  },
  {
   "cell_type": "markdown",
   "id": "55b5b149-2673-49b7-88ed-392f3e1027ab",
   "metadata": {},
   "source": [
    "**11. Write a program to calculate GST ?**"
   ]
  },
  {
   "cell_type": "code",
   "execution_count": 12,
   "id": "e76ea97a-f5a2-42d1-9f1b-8bd38b46d7aa",
   "metadata": {},
   "outputs": [
    {
     "name": "stdin",
     "output_type": "stream",
     "text": [
      "Enter total gold in grams:  12.5\n",
      "Enter gold rate per gram as on 2024-01-20:  6506\n"
     ]
    },
    {
     "name": "stdout",
     "output_type": "stream",
     "text": [
      "Total price for gold:81325.0\n",
      "GST for 81325.0 is: 2439.75\n",
      "Total invoice amount: 83764.75\n"
     ]
    }
   ],
   "source": [
    "# Write a program to calculate GST\n",
    "# GST for gold is 3%\n",
    "from datetime import date\n",
    "today = date.today()\n",
    "\n",
    "grams = float(input(\"Enter total gold in grams: \"))\n",
    "goldPrice = int(input(f\"Enter gold rate per gram as on {today}: \"))\n",
    "totalPrice = grams*goldPrice\n",
    "print(f'Total price for gold:{totalPrice}')\n",
    "gst= (totalPrice/100)*3\n",
    "print(f'GST for {totalPrice} is: {gst}')\n",
    "grandTotal = totalPrice + gst\n",
    "print(f'Total invoice amount: {grandTotal}')"
   ]
  },
  {
   "cell_type": "markdown",
   "id": "3b6b0c93-7084-4de9-9a27-82426e71289c",
   "metadata": {},
   "source": [
    "**12. Write a program to Calculate Body Mass Index(BMI) ?**"
   ]
  },
  {
   "cell_type": "code",
   "execution_count": 13,
   "id": "7d3f1d73-271c-480c-99a9-2b7ef576f037",
   "metadata": {},
   "outputs": [
    {
     "name": "stdin",
     "output_type": "stream",
     "text": [
      "Enter a name:  Sumanth\n",
      "Enter weight in kg of Sumanth:  65\n",
      "Enter height in meters of Sumanth:  1.73736\n"
     ]
    },
    {
     "name": "stdout",
     "output_type": "stream",
     "text": [
      "BMI value of Sumanth is 21.53444681705546\n",
      "Sumanth is normal weight\n"
     ]
    }
   ],
   "source": [
    "# Calculate the BMI of a person\n",
    "#  BMI = mass(kg)/height^2(m)\n",
    "\n",
    "name =input('Enter a name: ')\n",
    "weight = float(input(f'Enter weight in kg of {name}: '))\n",
    "height = float(input(f'Enter height in meters of {name}: '))\n",
    "\n",
    "bmi = weight/(height*height)\n",
    "print(f'BMI value of {name} is {bmi}')\n",
    "\n",
    "if bmi < 18.49:\n",
    "    print(f'{name} is underweight')\n",
    "elif bmi >= 18.49 and bmi < 24.99:\n",
    "    print(f'{name} is normal weight')\n",
    "elif bmi >= 24.99 and bmi <29.99:\n",
    "    print(f'{name} is overweight')\n",
    "else:\n",
    "    print(f'{name} is obese')"
   ]
  },
  {
   "cell_type": "markdown",
   "id": "c7b13d4d-27b9-498a-bdd3-4038e673cd89",
   "metadata": {},
   "source": [
    "**13. Write a program to convert degree,minutes,seconds into decimal degree ?**"
   ]
  },
  {
   "cell_type": "code",
   "execution_count": 14,
   "id": "3550dafd-2567-41ce-a232-16240091b8e3",
   "metadata": {},
   "outputs": [
    {
     "name": "stdin",
     "output_type": "stream",
     "text": [
      "Enter degree:  76\n",
      "Enter minutes:  45\n",
      "Enter seconds:  30\n"
     ]
    },
    {
     "name": "stdout",
     "output_type": "stream",
     "text": [
      "The Decimal degree is 76.75833333333334\n"
     ]
    }
   ],
   "source": [
    "# write a program to convert degree,minutes,seconds into decimal degree\n",
    "\n",
    "degree = int(input('Enter degree: '))\n",
    "minutes = int(input('Enter minutes: '))\n",
    "seconds = float(input('Enter seconds: '))\n",
    "\n",
    "if minutes < 60 and seconds < 60:\n",
    "    dd = degree + (minutes/60) + (seconds/3600)\n",
    "    print(f'The Decimal degree is {dd}')\n",
    "else:\n",
    "    print('Invalid input')"
   ]
  },
  {
   "cell_type": "markdown",
   "id": "dca47055-1483-4dc3-9b14-701d18156e9e",
   "metadata": {},
   "source": [
    "**14. Write a program to convert decimal degree into degree,minutes,seconds**"
   ]
  },
  {
   "cell_type": "code",
   "execution_count": 15,
   "id": "5651b83c-bf7a-4571-9adc-d8a1dfbf8f59",
   "metadata": {},
   "outputs": [
    {
     "name": "stdin",
     "output_type": "stream",
     "text": [
      "Enter decimal degree:  12.4568\n"
     ]
    },
    {
     "name": "stdout",
     "output_type": "stream",
     "text": [
      "D:: 12 ,M:: 27, S:: 24.479999999997943\n"
     ]
    }
   ],
   "source": [
    "# write a program to convert decimal degree into degree,minutes,seconds\n",
    "\n",
    "dd = float(input(\"Enter decimal degree: \"))\n",
    "degree = dd // 1\n",
    "temp = (dd % 1) * 60\n",
    "minutes = temp // 1\n",
    "seconds = (temp % 1) * 60\n",
    "print(f'D:: {int(degree)} ,M:: {int(minutes)}, S:: {seconds}')"
   ]
  },
  {
   "cell_type": "markdown",
   "id": "8c253070-f6ea-48d0-9691-c89d7af427c2",
   "metadata": {},
   "source": [
    "**15.Write a code to find utm zone of lat/long value ?**"
   ]
  },
  {
   "cell_type": "code",
   "execution_count": 16,
   "id": "9c65bf1a-c725-41da-84f0-8ea7390829af",
   "metadata": {},
   "outputs": [
    {
     "name": "stdout",
     "output_type": "stream",
     "text": [
      "South and Western hemisphere\n",
      "UTM zone 18S\n"
     ]
    }
   ],
   "source": [
    "# Write a code to find utm zone of lat/long value\n",
    "# utm = 31+long/6\n",
    "\n",
    "latitude = -12.9457\n",
    "longitude = -74.5474\n",
    "if longitude > 0 and latitude > 0:\n",
    "    print('North and Eastern hemisphere')\n",
    "    utmGrid = 'N'\n",
    "elif longitude > 0 and latitude < 0:\n",
    "    print('South and Eastern hemisphere')\n",
    "    utmGrid = 'S'\n",
    "elif longitude < 0  and latitude > 0:\n",
    "    print('North and Western hemisphere')\n",
    "    utmGrid = 'N'\n",
    "elif longitude < 0 and latitude <0 :\n",
    "    print('South and Western hemisphere')\n",
    "    utmGrid = 'S'\n",
    "elif longitude == 0 and latitude == 0:\n",
    "    print('Primemeridian and Equator intersecting point')\n",
    "else:\n",
    "    print('Invalid input')\n",
    "\n",
    "zone = 31 + (longitude/6)\n",
    "print(f'UTM zone {int(zone//1)}{utmGrid}')\n"
   ]
  },
  {
   "cell_type": "markdown",
   "id": "db360aba-5e74-4e20-a961-acac9bac51a2",
   "metadata": {},
   "source": [
    "**16.Write a Python Program to Display the multiplication Table ?**"
   ]
  },
  {
   "cell_type": "code",
   "execution_count": 17,
   "id": "e882e1ed-bc80-4cd6-a937-16a47293f118",
   "metadata": {},
   "outputs": [
    {
     "name": "stdin",
     "output_type": "stream",
     "text": [
      "Enter a number which you want to generate multiplication table:  19\n"
     ]
    },
    {
     "name": "stdout",
     "output_type": "stream",
     "text": [
      "19x1=19\n",
      "\n",
      "19x2=38\n",
      "\n",
      "19x3=57\n",
      "\n",
      "19x4=76\n",
      "\n",
      "19x5=95\n",
      "\n",
      "19x6=114\n",
      "\n",
      "19x7=133\n",
      "\n",
      "19x8=152\n",
      "\n",
      "19x9=171\n",
      "\n",
      "19x10=190\n",
      "\n"
     ]
    }
   ],
   "source": [
    "# Python Program to Display the multiplication Table\n",
    "num = int(input(\"Enter a number which you want to generate multiplication table: \"))\n",
    "\n",
    "for value in range(1,11):\n",
    "    print(f'{num}x{value}={num*value}\\n')"
   ]
  },
  {
   "cell_type": "markdown",
   "id": "e2a1399a-1651-4094-8e42-a42241d6dcf6",
   "metadata": {},
   "source": [
    "**17.Write a Python Program to Find the Factorial of a Number ?**"
   ]
  },
  {
   "cell_type": "code",
   "execution_count": 18,
   "id": "c1b57eb6-b4d6-47b9-9706-1d34681f54ad",
   "metadata": {},
   "outputs": [
    {
     "name": "stdin",
     "output_type": "stream",
     "text": [
      "Enter the factorial number:  8\n"
     ]
    },
    {
     "name": "stdout",
     "output_type": "stream",
     "text": [
      "40320\n"
     ]
    }
   ],
   "source": [
    "# Python Program to Find the Factorial of a Number\n",
    "# If input is 5 then 5x4x3x2x1 output 120\n",
    "\n",
    "num = int(input(\"Enter the factorial number: \"))\n",
    "product = 1\n",
    "\n",
    "for i in range(1,num+1):\n",
    "    product = i * product\n",
    "print(product)"
   ]
  },
  {
   "cell_type": "markdown",
   "id": "fefd7055-06b8-4c0c-b873-4c52aeae44dc",
   "metadata": {},
   "source": [
    "**18.Write a  Program to generate summation of number between two numbers ?**"
   ]
  },
  {
   "cell_type": "code",
   "execution_count": 19,
   "id": "6756b54f-551d-413a-9e5c-7f26f65e50ca",
   "metadata": {},
   "outputs": [
    {
     "name": "stdin",
     "output_type": "stream",
     "text": [
      "Enter lower value:  6\n",
      "Enter upper value:  19\n"
     ]
    },
    {
     "name": "stdout",
     "output_type": "stream",
     "text": [
      "175\n"
     ]
    }
   ],
   "source": [
    "# Program to generate summation of number between two numbers\n",
    "\n",
    "lowerValue = int(input('Enter lower value: '))\n",
    "upperValue = int(input('Enter upper value: '))\n",
    "sum = 0\n",
    "\n",
    "for num in range(lowerValue, upperValue+1):\n",
    "    sum = sum + num\n",
    "print(sum)"
   ]
  },
  {
   "cell_type": "markdown",
   "id": "2c217340-30c0-4b2f-8e96-d7c29eaa8069",
   "metadata": {},
   "source": [
    "**19.a) Write a Python program to swap two variables with temporary variable ?**"
   ]
  },
  {
   "cell_type": "code",
   "execution_count": 20,
   "id": "6465f2f0-d96f-4e52-b7eb-73af51227c39",
   "metadata": {},
   "outputs": [
    {
     "name": "stdout",
     "output_type": "stream",
     "text": [
      "Before swaping\n",
      "a is Juice\n",
      "b is Water\n",
      "After swaping using temporary variable\n",
      "a is Water\n",
      "b is Juice\n"
     ]
    }
   ],
   "source": [
    "# Python program to swap two variables with temporary variable\n",
    "\n",
    "a = 'Juice'\n",
    "b = 'Water'\n",
    "temp = ''\n",
    "print('Before swaping')\n",
    "print(f'a is {a}')\n",
    "print(f'b is {b}')\n",
    "\n",
    "temp = a\n",
    "a = b\n",
    "b = temp\n",
    "print('After swaping using temporary variable')\n",
    "print(f'a is {a}')\n",
    "print(f'b is {b}')\n"
   ]
  },
  {
   "cell_type": "markdown",
   "id": "6f2e66ce-7edf-43e7-83bb-d442570216b8",
   "metadata": {},
   "source": [
    "**19.b) Write a Python program to swap two variables without temporary variable ?**"
   ]
  },
  {
   "cell_type": "code",
   "execution_count": 21,
   "id": "9a6a8495-a87f-47c0-8eb7-2aa2a2d2927e",
   "metadata": {},
   "outputs": [
    {
     "name": "stdout",
     "output_type": "stream",
     "text": [
      "Before swaping\n",
      "a is Juice\n",
      "b is Water\n",
      "After swaping \n",
      "a is Water\n",
      "b is Juice\n"
     ]
    }
   ],
   "source": [
    "# Python program to swap two variables without temporary variable\n",
    "\n",
    "a = 'Juice'\n",
    "b = 'Water'\n",
    "print('Before swaping')\n",
    "print(f'a is {a}')\n",
    "print(f'b is {b}')\n",
    "\n",
    "a,b = b, a\n",
    "print('After swaping ')\n",
    "print(f'a is {a}')\n",
    "print(f'b is {b}')"
   ]
  },
  {
   "cell_type": "markdown",
   "id": "c0d4f01d-6661-4db3-8a30-6ff4e18e3a29",
   "metadata": {},
   "source": [
    "**20. Write a Python Program to Print the Fibonacci sequence ?**"
   ]
  },
  {
   "cell_type": "code",
   "execution_count": 22,
   "id": "72e92680-4683-46d5-9c28-e595edf6fd22",
   "metadata": {},
   "outputs": [
    {
     "name": "stdin",
     "output_type": "stream",
     "text": [
      "Enter a maximum value to stop fibonacci:  8\n"
     ]
    },
    {
     "name": "stdout",
     "output_type": "stream",
     "text": [
      "0\n",
      "1\n",
      "1\n",
      "2\n",
      "3\n",
      "5\n",
      "8\n",
      "13\n",
      "21\n"
     ]
    }
   ],
   "source": [
    "# Python Program to Print the Fibonacci sequence\n",
    "\n",
    "stop = int(input('Enter a maximum value to stop fibonacci: '))\n",
    "\n",
    "a = 0\n",
    "b = 1\n",
    "count = 0\n",
    "while count < stop+1:\n",
    "       print(a)\n",
    "       nextValue = a + b\n",
    "       # update values\n",
    "       a = b\n",
    "       b = nextValue\n",
    "       count = count + 1"
   ]
  },
  {
   "cell_type": "markdown",
   "id": "77061638-214d-424b-a713-a447da9ea036",
   "metadata": {},
   "source": [
    "**21.Python program to generate a random number**"
   ]
  },
  {
   "cell_type": "code",
   "execution_count": 23,
   "id": "6b9fc64b-33ea-4e8b-8418-b2ba44dc9e9b",
   "metadata": {},
   "outputs": [
    {
     "name": "stdin",
     "output_type": "stream",
     "text": [
      "Enter total number of random number you want to generate:  5\n"
     ]
    },
    {
     "name": "stdout",
     "output_type": "stream",
     "text": [
      "[44, 89, 50, 93, 36]\n"
     ]
    }
   ],
   "source": [
    "# Python program to generate a random number\n",
    "import random\n",
    "# Declaring variables\n",
    "num = int(input(\"Enter total number of random number you want to generate: \"))\n",
    "randomList = [] \n",
    "\n",
    "# Iterating through range of numbers\n",
    "for i in range(1,num+1):\n",
    "    rand = random.randint(1,100)\n",
    "    randomList.append(rand)\n",
    "print(randomList)"
   ]
  },
  {
   "cell_type": "markdown",
   "id": "911e7157-b237-4693-a58b-114ff0e1939a",
   "metadata": {},
   "source": [
    "**22. Write a Program to generate random choice ?**"
   ]
  },
  {
   "cell_type": "code",
   "execution_count": 24,
   "id": "88018b2d-a73f-4af0-bb68-265dfc60cdd1",
   "metadata": {},
   "outputs": [
    {
     "name": "stdout",
     "output_type": "stream",
     "text": [
      "Jack\n"
     ]
    }
   ],
   "source": [
    "import random\n",
    "\n",
    "# Declaring choices\n",
    "cards = ['king', 'Queen', 'Ace', 'Jack', 'Joker', 2,3,4,5,6,7,8,9,10]\n",
    "\n",
    "# Selecting random choice\n",
    "outCome = random.choice(cards)\n",
    "print(outCome)"
   ]
  },
  {
   "cell_type": "markdown",
   "id": "3e4808dc-ecc2-45fc-afba-736ff089fb92",
   "metadata": {},
   "source": [
    "**23.Program to create a guessing game**"
   ]
  },
  {
   "cell_type": "code",
   "execution_count": 25,
   "id": "fe589a8d-4273-434a-a6a5-80fa6815b109",
   "metadata": {},
   "outputs": [
    {
     "name": "stdin",
     "output_type": "stream",
     "text": [
      "Choose a number between 1 to 5: \n",
      " 4\n"
     ]
    },
    {
     "name": "stdout",
     "output_type": "stream",
     "text": [
      "System choice is 4\n",
      "Correctly guessed the number\n"
     ]
    }
   ],
   "source": [
    "# Program to create a guessing game\n",
    "import random\n",
    "\n",
    "myChoice = int(input('Choose a number between 1 to 5: \\n'))\n",
    "# Declaring choices\n",
    "cards = [1,2,3,4,5]\n",
    "\n",
    "# Selecting random choice\n",
    "systemChoice = random.choice(cards)\n",
    "if myChoice == systemChoice:\n",
    "    print(f\"System choice is {systemChoice}\")\n",
    "    print('Correctly guessed the number')\n",
    "else:\n",
    "    print(f\"System choice is {systemChoice}\")\n",
    "    print('Wrongly guessed the number')"
   ]
  },
  {
   "cell_type": "markdown",
   "id": "9ef35fd4-b4e9-480d-a27f-457ffaf3d368",
   "metadata": {},
   "source": [
    "**24. Write a python program to display calendar of the given month and year ?**"
   ]
  },
  {
   "cell_type": "code",
   "execution_count": 26,
   "id": "ce553255-1a46-4f63-b9f9-49277715ecd5",
   "metadata": {},
   "outputs": [
    {
     "name": "stdout",
     "output_type": "stream",
     "text": [
      "    January 2024\n",
      "Mo Tu We Th Fr Sa Su\n",
      " 1  2  3  4  5  6  7\n",
      " 8  9 10 11 12 13 14\n",
      "15 16 17 18 19 20 21\n",
      "22 23 24 25 26 27 28\n",
      "29 30 31\n",
      "\n"
     ]
    }
   ],
   "source": [
    "# Program to display calendar of the given month and year\n",
    "\n",
    "# importing calendar module\n",
    "import calendar\n",
    "\n",
    "yy = 2024  # year\n",
    "mm = 1    # month\n",
    "\n",
    "# display the calendar\n",
    "print(calendar.month(yy, mm))\n"
   ]
  },
  {
   "cell_type": "markdown",
   "id": "c690dbd5-8782-4e98-a2cf-3419ef73bfb0",
   "metadata": {},
   "source": [
    "**25. Write a Python program to print the elements of an array ?**"
   ]
  },
  {
   "cell_type": "code",
   "execution_count": 27,
   "id": "9b5b3a75-d09a-464f-8266-5388f7636be7",
   "metadata": {},
   "outputs": [
    {
     "name": "stdout",
     "output_type": "stream",
     "text": [
      "1\n",
      "2\n",
      "3\n",
      "4\n",
      "5\n",
      "6\n",
      "7\n",
      "8\n",
      "9\n"
     ]
    }
   ],
   "source": [
    "# Python program to print the elements of an array\n",
    "\n",
    "list_1 = [1,2,3,4,5,6,7,8,9]\n",
    "for i in list_1:\n",
    "    print(i)"
   ]
  },
  {
   "cell_type": "markdown",
   "id": "c17d82e7-ad66-4828-8bd7-8022e6ae8f28",
   "metadata": {},
   "source": [
    "**26. Write a Python program to broadcast matematical operation into an array ?**"
   ]
  },
  {
   "cell_type": "code",
   "execution_count": 28,
   "id": "e27e43e7-f0c0-49ed-ab7b-baa51e58b63d",
   "metadata": {},
   "outputs": [
    {
     "name": "stdout",
     "output_type": "stream",
     "text": [
      "[2, 4, 6, 8, 10, 12, 14, 16, 18]\n",
      "[3, 6, 9, 12, 15, 18, 21, 24, 27]\n"
     ]
    }
   ],
   "source": [
    "# Python program to broadcast matematical operation into an array\n",
    "\n",
    "list_1 = [1,2,3,4,5,6,7,8,9]\n",
    "list_2 = []\n",
    "for i in list_1:\n",
    "    temp = i*2\n",
    "    list_2.append(temp)\n",
    "print(list_2)\n",
    "# List comprehension\n",
    "list_3 = [i*3 for i in list_1]\n",
    "print(list_3)"
   ]
  },
  {
   "cell_type": "markdown",
   "id": "d0517d7f-b725-43e8-afc8-29be7a76c6e2",
   "metadata": {},
   "source": [
    "**27. Write a Python program to print the duplicate elements of an array ?**"
   ]
  },
  {
   "cell_type": "code",
   "execution_count": 29,
   "id": "753ddeab-735d-46fd-be32-7dc434ec3774",
   "metadata": {},
   "outputs": [
    {
     "name": "stdout",
     "output_type": "stream",
     "text": [
      "Counter({10: 2, 54: 2, 67: 2, 32: 1, 23: 1, 76: 1, 85: 1})\n",
      "[10, 54, 67]\n"
     ]
    }
   ],
   "source": [
    "# Python program to print the duplicate elements of an array\n",
    "# Array \n",
    "weight = [10, 32, 23, 54, 54, 67, 76, 85, 67, 10]\n",
    "# Importing counter module\n",
    "from collections import Counter\n",
    "# counting repeated numbers and storing in dictionary\n",
    "d = Counter(weight)\n",
    "print(d)\n",
    "# Then creating a new list only with the repeated numbers using list comprehension\n",
    "new_list = list([item for item in d if d[item]>1])\n",
    "print(new_list)"
   ]
  },
  {
   "cell_type": "markdown",
   "id": "950ebc0f-e3ce-4785-b537-aad9e2136390",
   "metadata": {},
   "source": [
    "**28. Write a Python program to print the largest element in an array with only with two numbers ?**"
   ]
  },
  {
   "cell_type": "code",
   "execution_count": 30,
   "id": "9402e90b-2a4e-40f1-878b-3a75e6e83c12",
   "metadata": {},
   "outputs": [
    {
     "name": "stdout",
     "output_type": "stream",
     "text": [
      "2 is greater\n"
     ]
    }
   ],
   "source": [
    "#Python program to print the largest element in an array with only with two numbers\n",
    "\n",
    "num_list = [1,2]\n",
    "\n",
    "if num_list[0] > num_list[1]:\n",
    "    print(num_list[0], 'is greater')\n",
    "else:\n",
    "    print(num_list[1],'is greater')"
   ]
  },
  {
   "cell_type": "markdown",
   "id": "12bd40e2-f240-4f3f-8ac7-7332f206f1ad",
   "metadata": {},
   "source": [
    "**29.Write a program to split odd and even numbers and store in a seperate list respectively?**"
   ]
  },
  {
   "cell_type": "code",
   "execution_count": 31,
   "id": "ca96bdbf-fbf3-44ed-91af-cc5b92716d8a",
   "metadata": {},
   "outputs": [
    {
     "name": "stdout",
     "output_type": "stream",
     "text": [
      "[43, 13, 71, 23, 15]\n",
      "[10, 32, 20, 46, 16, 82, 54]\n"
     ]
    }
   ],
   "source": [
    "#Write a program to split odd and even numbers and store in a seperate list respectively?\n",
    "\n",
    "age = [10,32,43,20,46,13,16,82,71,23,54,15]\n",
    "\n",
    "oddAge = []\n",
    "evenAge = []\n",
    "\n",
    "for i in age:\n",
    "    if i % 2 == 0:\n",
    "        evenAge.append(i)\n",
    "    else:\n",
    "        oddAge.append(i)\n",
    "\n",
    "print(oddAge)\n",
    "print(evenAge)"
   ]
  },
  {
   "cell_type": "markdown",
   "id": "cf636c08-04c5-4ae5-bd18-a925f153b0e5",
   "metadata": {},
   "source": [
    "**30.Write a program to identify matching value between two lists.**"
   ]
  },
  {
   "cell_type": "code",
   "execution_count": 32,
   "id": "e9a127fa-4f48-45d6-8756-f6af29f8cf93",
   "metadata": {},
   "outputs": [
    {
     "name": "stdout",
     "output_type": "stream",
     "text": [
      "['Divya']\n"
     ]
    }
   ],
   "source": [
    "# Write a program to identify matching value between two lists.\n",
    "\n",
    "group_A = ['Sumanth', 'Sanjay', 'Divya', 'Nithya']\n",
    "group_B = ['Divya', 'Harshitha', 'Sagar', 'Inchara']\n",
    "\n",
    "common = []\n",
    "\n",
    "for i in group_A:\n",
    "    if i in group_B:\n",
    "        common.append(i)\n",
    "    \n",
    "print(common)"
   ]
  },
  {
   "cell_type": "markdown",
   "id": "31576552-a1bb-488e-a9ad-802cecae26d5",
   "metadata": {},
   "source": [
    "**31. Write python program to Print characters from a string that are present at an even index number ?**\n",
    "\n",
    "**For example, str = \"python\" so you should display ‘p’, ‘t’, ‘n’**"
   ]
  },
  {
   "cell_type": "code",
   "execution_count": 33,
   "id": "3465b203-fe0e-492a-a6a7-8237b753d457",
   "metadata": {},
   "outputs": [
    {
     "name": "stdout",
     "output_type": "stream",
     "text": [
      "36\n",
      "C\n",
      "n\n",
      "e\n",
      " \n",
      "o\n",
      " \n",
      "e\n",
      "i\n",
      "f\n",
      "r\n",
      "a\n",
      "i\n",
      "s\n",
      "T\n",
      "c\n",
      "n\n",
      "l\n",
      "g\n"
     ]
    }
   ],
   "source": [
    "# Print characters from a string that are present at an even index number\n",
    "# For example, str = \"python\" so you should display ‘p’, ‘t’, ‘n’\n",
    "\n",
    "text = 'Center for Geoinformatics Technology'\n",
    "length = len(text)\n",
    "print(length)\n",
    "\n",
    "for index_pos in range(length):\n",
    "    if index_pos % 2 == 0:\n",
    "        print(text[index_pos])"
   ]
  },
  {
   "cell_type": "markdown",
   "id": "42598a7b-2248-41a9-9284-233ecbbbd86d",
   "metadata": {},
   "source": [
    "**32.Write a program to display numbers divisible by both 3 and 5 between the range of 0,100 ?**"
   ]
  },
  {
   "cell_type": "code",
   "execution_count": 34,
   "id": "0c03c07a-caed-4760-8119-e13bada09e95",
   "metadata": {},
   "outputs": [
    {
     "name": "stdout",
     "output_type": "stream",
     "text": [
      "0 is divisible by both 3 and 5\n",
      "15 is divisible by both 3 and 5\n",
      "30 is divisible by both 3 and 5\n",
      "45 is divisible by both 3 and 5\n",
      "60 is divisible by both 3 and 5\n",
      "75 is divisible by both 3 and 5\n",
      "90 is divisible by both 3 and 5\n"
     ]
    }
   ],
   "source": [
    "#Write a program to display numbers divisible by both 3 and 5 between the range of 0,100\n",
    "\n",
    "for i in range(0,101):\n",
    "    if i % 3 == 0 and i % 5 == 0:\n",
    "        print(f'{i} is divisible by both 3 and 5')"
   ]
  },
  {
   "cell_type": "markdown",
   "id": "dc1240da-71b7-4e5c-9c8c-ef68499c6de7",
   "metadata": {},
   "source": [
    "**33.Write a function to perform simple calculator using if-elif-else ?**"
   ]
  },
  {
   "cell_type": "code",
   "execution_count": 35,
   "id": "b8111310-d9cf-4f26-a3b0-6c53c0dd43eb",
   "metadata": {},
   "outputs": [
    {
     "name": "stdout",
     "output_type": "stream",
     "text": [
      "1.5\n"
     ]
    }
   ],
   "source": [
    "#Write a function to perform simple calculator using if-elif-else.\n",
    "\n",
    "# Function defination\n",
    "def calc(num1,num2,operator):\n",
    "    if operator == 'Sum':\n",
    "        print(num1 + num2)\n",
    "    elif operator == 'Sub':\n",
    "        print(num1 - num2)\n",
    "    elif operator == 'Prod':\n",
    "        print(num1 * num2)\n",
    "    elif operator == 'Divi':\n",
    "        print(num1 / num2)\n",
    "    else:\n",
    "        print('Enter valid operator')\n",
    "\n",
    "# Calling the function\n",
    "calc(33,22,'Divi')"
   ]
  },
  {
   "cell_type": "markdown",
   "id": "f5424fae-2740-4e67-808a-8e0de5cc40a4",
   "metadata": {},
   "source": [
    "**34.Write a program to print all key, value pairs in a dictionary ?**"
   ]
  },
  {
   "cell_type": "code",
   "execution_count": 36,
   "id": "1372150d-8655-49a1-8c54-6ccaedefa165",
   "metadata": {},
   "outputs": [
    {
     "name": "stdout",
     "output_type": "stream",
     "text": [
      "type FeatureCollection\n",
      "features [{'type': 'Feature', 'properties': {}, 'geometry': {'coordinates': [76.69196982581445, 12.420901771497341], 'type': 'Point'}}]\n"
     ]
    }
   ],
   "source": [
    "# Write a program to print all key, value pairs in a dictionary\n",
    "\n",
    "# Copied a dictionar form geojson.io\n",
    "point = {\n",
    "  \"type\": \"FeatureCollection\",\n",
    "  \"features\": [\n",
    "    {\n",
    "      \"type\": \"Feature\",\n",
    "      \"properties\": {},\n",
    "      \"geometry\": {\n",
    "        \"coordinates\": [\n",
    "          76.69196982581445,\n",
    "          12.420901771497341\n",
    "        ],\n",
    "        \"type\": \"Point\"\n",
    "      }\n",
    "    }\n",
    "  ]\n",
    "}\n",
    "\n",
    "for key in point:\n",
    "    print(key, point[key])"
   ]
  },
  {
   "cell_type": "markdown",
   "id": "9c1d40ca-b163-443f-b733-ccb69a1fe393",
   "metadata": {},
   "source": [
    "**35.Write a program to count the number of letter occurrences in a string ?**"
   ]
  },
  {
   "cell_type": "code",
   "execution_count": 37,
   "id": "2fc5886a-a688-48ea-b0c2-b1786d3bc585",
   "metadata": {},
   "outputs": [
    {
     "name": "stdout",
     "output_type": "stream",
     "text": [
      "4\n"
     ]
    }
   ],
   "source": [
    "# Write a program to count the number of letter occurrences in a string.\n",
    "\n",
    "text = 'mysore maharaja'\n",
    "\n",
    "search = 'a'\n",
    "\n",
    "counted = text.count(search)\n",
    "print(counted)"
   ]
  },
  {
   "cell_type": "markdown",
   "id": "9ce98c2e-8f7a-482f-8483-d2787a4a3ec5",
   "metadata": {},
   "source": [
    "**36.Write a program to print string “Character” as “CCChhhaaarrraaacccttteeerrr” ?**"
   ]
  },
  {
   "cell_type": "code",
   "execution_count": 38,
   "id": "319707aa-f078-45d5-a11e-2f7fdf7c14f2",
   "metadata": {},
   "outputs": [
    {
     "name": "stdout",
     "output_type": "stream",
     "text": [
      "CCChhhaaarrraaacccttteeerrr"
     ]
    }
   ],
   "source": [
    "# Write a program to print string “Character” as “CCChhhaaarrraaacccttteeerrr”\n",
    "\n",
    "text = 'Character'\n",
    "\n",
    "for letter in text:\n",
    "    print(letter*3,end='')"
   ]
  },
  {
   "cell_type": "markdown",
   "id": "408c3fd3-f8b2-4d72-a028-12c34054b7c7",
   "metadata": {},
   "source": [
    "**37.Write a program to print string “Python” as “Pyyttthhhhooooonnnnnn” ?**"
   ]
  },
  {
   "cell_type": "code",
   "execution_count": 39,
   "id": "891b2e1d-9ecc-45d5-b78d-4cd1024fd298",
   "metadata": {},
   "outputs": [
    {
     "name": "stdout",
     "output_type": "stream",
     "text": [
      "Pyyttthhhhooooonnnnnn"
     ]
    }
   ],
   "source": [
    "#Write a program to print string “Python” as “Pyyttthhhhooooonnnnnn”\n",
    "text = 'Python'\n",
    "length = len(text)\n",
    "\n",
    "\n",
    "for i in range(length):\n",
    "    print(text[i]*(i+1), end='')"
   ]
  },
  {
   "cell_type": "markdown",
   "id": "d40bf108-675a-4ab6-8051-b37d85c7bcde",
   "metadata": {},
   "source": [
    "**38.Write a program to ask user to input 5 name and store it in a list ?**"
   ]
  },
  {
   "cell_type": "code",
   "execution_count": 40,
   "id": "02939df9-4ae4-46b2-ae8c-918fad7262b8",
   "metadata": {},
   "outputs": [
    {
     "name": "stdin",
     "output_type": "stream",
     "text": [
      "Enter total item you want to purchase:  5\n",
      "Enter item 1 name:  orange\n",
      "Enter item 2 name:  milk\n",
      "Enter item 3 name:  apple\n",
      "Enter item 4 name:  icecream\n",
      "Enter item 5 name:  kiwi\n"
     ]
    },
    {
     "name": "stdout",
     "output_type": "stream",
     "text": [
      "['orange', 'milk', 'apple', 'icecream', 'kiwi']\n"
     ]
    }
   ],
   "source": [
    "# Write a program to ask user to input 5 name and store it in a list.\n",
    "\n",
    "totalItems = int(input('Enter total item you want to purchase: '))\n",
    "itemList = []\n",
    "for item in range(totalItems):\n",
    "    itemName = input(f\"Enter item {item + 1} name: \")\n",
    "    itemList.append(itemName)\n",
    "\n",
    "print(itemList)"
   ]
  },
  {
   "cell_type": "markdown",
   "id": "17991497-6723-4da7-a610-8b646fdbbd2f",
   "metadata": {},
   "source": [
    "**39.Write a program to convert two lists into a dictionary as Key Value pairs ?**"
   ]
  },
  {
   "cell_type": "code",
   "execution_count": 41,
   "id": "2cf9f807-c1b0-4e3f-a4cd-f89be56b9f6b",
   "metadata": {},
   "outputs": [
    {
     "name": "stdout",
     "output_type": "stream",
     "text": [
      "{'Name': 'Sumanth', 'Adress': 'Mysore', 'Age': 23}\n"
     ]
    }
   ],
   "source": [
    "# Write a program to convert two lists into a dictionary as Key Value pairs\n",
    "\n",
    "Keys = ['Name', 'Adress', 'Age']\n",
    "Values = ['Sumanth', 'Mysore', 23]\n",
    "\n",
    "INFO = {}\n",
    "\n",
    "if len(Keys) == len(Values):\n",
    "    list_length = len(Keys)\n",
    "    for i in range(list_length):\n",
    "        INFO[Keys[i]] = Values[i]\n",
    "\n",
    "print(INFO)"
   ]
  },
  {
   "cell_type": "markdown",
   "id": "81e94036-0d68-4237-8595-b889de93033a",
   "metadata": {},
   "source": [
    "**40.Python program to print the largest element in an array ?**"
   ]
  },
  {
   "cell_type": "code",
   "execution_count": 42,
   "id": "4878a951-3a7d-4ce2-8555-e223af0d9580",
   "metadata": {},
   "outputs": [
    {
     "name": "stdout",
     "output_type": "stream",
     "text": [
      "778\n"
     ]
    }
   ],
   "source": [
    "#Python program to print the largest element in an array\n",
    "\n",
    "list_1 = [3,4,6,76,22,65,778,334]\n",
    "\n",
    "large = 0\n",
    "\n",
    "for number in list_1:\n",
    "    if number > large:\n",
    "        large = number\n",
    "\n",
    "print(large)"
   ]
  },
  {
   "cell_type": "markdown",
   "id": "ff598f9a-af17-4435-bf38-f652a2e972df",
   "metadata": {},
   "source": [
    "**41.Python program to print the smallest element in an array ?**"
   ]
  },
  {
   "cell_type": "code",
   "execution_count": 43,
   "id": "14bb6bb6-4adf-4ea5-a940-3d5aa43c93de",
   "metadata": {},
   "outputs": [
    {
     "name": "stdout",
     "output_type": "stream",
     "text": [
      "1\n"
     ]
    }
   ],
   "source": [
    "#Python program to print the smallest element in an array\n",
    "\n",
    "list_1 = [3,6,8,2,45,8,23,89,12,87,1]\n",
    "\n",
    "small = list_1[0]\n",
    "\n",
    "for number in list_1:\n",
    "    if number < small:\n",
    "        small = number\n",
    "\n",
    "print(small)"
   ]
  },
  {
   "cell_type": "markdown",
   "id": "c3eaf3e7-784f-4dd3-8468-ed01916a99b1",
   "metadata": {},
   "source": [
    "**42.Create a list based on sum of two consecutive pairs ?**"
   ]
  },
  {
   "cell_type": "code",
   "execution_count": 44,
   "id": "81302e01-5541-441d-a83d-0dd958d75e50",
   "metadata": {},
   "outputs": [
    {
     "name": "stdout",
     "output_type": "stream",
     "text": [
      "1 consecutive sum is 3\n",
      "2 consecutive sum is 5\n",
      "3 consecutive sum is 7\n",
      "4 consecutive sum is 9\n",
      "5 consecutive sum is 11\n",
      "6 consecutive sum is 13\n",
      "7 consecutive sum is 15\n",
      "[3, 5, 7, 9, 11, 13, 15]\n"
     ]
    }
   ],
   "source": [
    "# Create a list based on sum of two consecutive pairs\n",
    "\n",
    "numList = [1,2,3,4,5,6,7,8]\n",
    "\n",
    "output = []\n",
    "\n",
    "if len(numList) % 2 == 0:\n",
    "    for i in range(0,len(numList)-1):\n",
    "        sum = numList[i] + numList[i+1]\n",
    "        output.append(sum)\n",
    "        print(f'{i+1} consecutive sum is {sum}')\n",
    "print(output)"
   ]
  },
  {
   "cell_type": "markdown",
   "id": "a75166ec-081e-4b4b-bd7a-1e41003aeaea",
   "metadata": {},
   "source": [
    "**43.Create a program to check Euclidean Distance between consecutive points ?**"
   ]
  },
  {
   "cell_type": "code",
   "execution_count": 45,
   "id": "ede25b99-b13d-4fcc-b759-e29014ded67f",
   "metadata": {},
   "outputs": [
    {
     "name": "stdout",
     "output_type": "stream",
     "text": [
      "9.899494936611665\n"
     ]
    }
   ],
   "source": [
    "# Create a program to check Euclidean Distance between consecutive points\n",
    "\n",
    "coordinate1 = (1,2)\n",
    "coordinate2 = (8,9)\n",
    "# Collecting coordinate x and y\n",
    "x1 = coordinate1[0]\n",
    "x2 = coordinate2[0]\n",
    "\n",
    "y1 = coordinate1[1]\n",
    "y2 = coordinate2[1]\n",
    "\n",
    "# Finding difference between coordinates x and y\n",
    "diff_x = (x2 - x1)**2\n",
    "diff_y = (y2 - y1)**2\n",
    "\n",
    "# Applying eucledian formula\n",
    "distance = (diff_x + diff_y)**0.5\n",
    "\n",
    "print(distance)"
   ]
  },
  {
   "cell_type": "markdown",
   "id": "fc2b64d5-f79b-4dcd-b7e5-2c1c167ddc08",
   "metadata": {},
   "source": [
    "**44.Create a program to find Distance between two geographical coordinate using Haversine formula ?**"
   ]
  },
  {
   "cell_type": "code",
   "execution_count": 46,
   "id": "28771f04-c670-4a05-b997-7a4a7d5a8172",
   "metadata": {},
   "outputs": [
    {
     "name": "stdout",
     "output_type": "stream",
     "text": [
      "2203.45794770425\n"
     ]
    }
   ],
   "source": [
    "# Create a program to find Distance between two geographical coordinate using Haversine formula\n",
    "\n",
    "'''\n",
    "a = sin²(diff_lat/2) + cos(lat1).cos(lt2).sin²(diff_long/2)\n",
    "c = 2.atan2(√a, √(1-a))\n",
    "d = R.c\n",
    "\n",
    "where,\n",
    "\n",
    "ΔlatDifference = lat1 - lat2 (difference of latitude)\n",
    "\n",
    "ΔlonDifference = lon1 - lon2 (difference of longitude)\n",
    "\n",
    "R is radius of earth i.e 6371 KM or 3961 miles\n",
    "\n",
    "and d is the distance computed between two points.\n",
    "1Deg × π/180 = 0.01745Rad\n",
    "\n",
    "'''\n",
    "from math import cos, sin, asin, sqrt, pi\n",
    "\n",
    "source = (12.314477, 76.646728)\n",
    "destination = (26.174387004022226, 91.70286580517384)\n",
    "\n",
    "# Calling the lat and long and coonverting degrees to radians\n",
    "lat1 = source[0]*(pi/180)\n",
    "lat2 = destination[0]*(pi/180)\n",
    "\n",
    "long1 = source[1]*(pi/180)\n",
    "long2 = destination[1]*(pi/180)\n",
    "\n",
    "# Findig difference between latitude and longitude\n",
    "dLat = lat2 - lat1\n",
    "dLong = long2 - long1\n",
    "\n",
    "# Applying Haversine formula\n",
    "a = sin(dLat/2)**2 + cos(lat1) * cos(lat2) * sin(dLong/2)**2\n",
    "c = 2 * asin(sqrt(a))\n",
    "r = 6371 # Earth radius in Kilometer\n",
    "# Calculating distance\n",
    "distance = r * c\n",
    "\n",
    "print(distance)"
   ]
  },
  {
   "cell_type": "markdown",
   "id": "423c89a4-5974-49f8-a11d-845656c6912a",
   "metadata": {},
   "source": [
    "**45.Module to convert lat and long to utm**"
   ]
  },
  {
   "cell_type": "code",
   "execution_count": 47,
   "id": "68b99271-a230-40b3-a2ce-8c6ac47517a4",
   "metadata": {},
   "outputs": [
    {
     "name": "stdin",
     "output_type": "stream",
     "text": [
      "Enter latitude:  12.5684\n",
      "Enter longitude:  76.1546\n"
     ]
    },
    {
     "name": "stdout",
     "output_type": "stream",
     "text": [
      "Easting is 625426.9597417652\n",
      "Northing is 1389682.5182148642\n",
      "Zone is 43N\n"
     ]
    }
   ],
   "source": [
    "# Module to convert lat and long to utm\n",
    "\n",
    "# pip install utm\n",
    "\n",
    "import utm\n",
    "\n",
    "lat = float(input('Enter latitude: '))\n",
    "long = float(input('Enter longitude: '))\n",
    "if lat > 0:\n",
    "    zone = 'N'\n",
    "else:\n",
    "    zone = 'S'\n",
    "output = utm.from_latlon(lat,long)\n",
    "print(f'Easting is {output[0]}')\n",
    "print(f'Northing is {output[1]}')\n",
    "print(f'Zone is {output[2]}{zone}')"
   ]
  },
  {
   "cell_type": "markdown",
   "id": "2e979953-73a1-4b5a-9f93-a6a519c53317",
   "metadata": {},
   "source": [
    "**46.Write a program to generate mean, median, mode, stdev using statistics module.**"
   ]
  },
  {
   "cell_type": "code",
   "execution_count": 48,
   "id": "cdcee187-67ad-4543-a4b1-39825b265ebf",
   "metadata": {},
   "outputs": [
    {
     "name": "stdout",
     "output_type": "stream",
     "text": [
      "7.5\n",
      "8.0\n",
      "11\n",
      "4.242640687119285\n"
     ]
    }
   ],
   "source": [
    "# Write a program to generate mean, median, mode, stdev using statistics module.\n",
    "\n",
    "import statistics as st\n",
    "data = [1, 3, 5, 7, 11, 9, 11, 13]\n",
    "\n",
    "# Calculating average\n",
    "print(st.mean(data))\n",
    "# Checking centerd value in a sorted list\n",
    "print(st.median(data))\n",
    "# Checking repeadted value\n",
    "print(st.mode(data))\n",
    "# Calculating standard deviation\n",
    "print(st.stdev(data))"
   ]
  },
  {
   "cell_type": "markdown",
   "id": "4d085ba5-efb6-4f9f-94e6-0655571bae56",
   "metadata": {},
   "source": [
    "**47.OS module**"
   ]
  },
  {
   "cell_type": "code",
   "execution_count": 49,
   "id": "30a0738f-acc8-41fd-8624-52f7494a43fc",
   "metadata": {},
   "outputs": [
    {
     "name": "stdout",
     "output_type": "stream",
     "text": [
      "C:\\Users\\wwwsu\\Pratical_Class\n"
     ]
    }
   ],
   "source": [
    "# OS module\n",
    "\n",
    "import os\n",
    "# Returns the current working directory\n",
    "dir = os.getcwd()\n",
    "print(dir)\n",
    "\n",
    "# os.mkdir(\"C:/Users/wwwsu/Documents/VSCODES/Test\")\n",
    "\n",
    "os.mkdir(f\"{dir}/Test1\")\n"
   ]
  },
  {
   "cell_type": "markdown",
   "id": "7cc9cf7c-ebf4-4a6f-a965-8d04f5633fb5",
   "metadata": {},
   "source": [
    "**48.Create 10 folders using OS module**"
   ]
  },
  {
   "cell_type": "code",
   "execution_count": 50,
   "id": "3effdbf0-a793-4ebd-a645-3836f024625f",
   "metadata": {},
   "outputs": [
    {
     "name": "stdout",
     "output_type": "stream",
     "text": [
      "C:\\Users\\wwwsu\\Pratical_Class\n"
     ]
    }
   ],
   "source": [
    "# Create 10 folders using OS module\n",
    "\n",
    "import os\n",
    "# Returns the current working directory\n",
    "dir = os.getcwd()\n",
    "print(dir)\n",
    "\n",
    "for i in range(1,11):\n",
    "    os.mkdir(f\"{dir}/Test_{i}\")"
   ]
  },
  {
   "cell_type": "markdown",
   "id": "ffd18f89-1c51-473e-a140-71ada1e6d471",
   "metadata": {},
   "source": [
    "**49.list all folders in current directory and rename it using OS module.**"
   ]
  },
  {
   "cell_type": "code",
   "execution_count": 51,
   "id": "50d89694-2d6c-4ab6-a1b1-898f096e9acd",
   "metadata": {},
   "outputs": [],
   "source": [
    "#  list all folders in current directory and rename it using OS module\n",
    "\n",
    "import os\n",
    "# Returns the current working directory\n",
    "dir = os.getcwd()\n",
    "list_dir = os.listdir(dir)\n",
    "\n",
    "for i in list_dir:\n",
    "    if i.startswith('Test'):\n",
    "        try:\n",
    "            temp = i[4:]\n",
    "            newName = 'mycode' + temp\n",
    "            os.rename(i, newName)\n",
    "        except:\n",
    "            pass"
   ]
  },
  {
   "cell_type": "markdown",
   "id": "33b04c51-1e35-4335-9515-38da60270c53",
   "metadata": {},
   "source": [
    "**50.list all folders in current directory and delete it using OS module.**"
   ]
  },
  {
   "cell_type": "code",
   "execution_count": 52,
   "id": "d13094dd-1e2a-42c7-84b3-7ad135574a6e",
   "metadata": {},
   "outputs": [],
   "source": [
    "# list all folders in current directory and delete it using OS module\n",
    "\n",
    "import os\n",
    "# Returns the current working directory\n",
    "dir = os.getcwd()\n",
    "list_dir = os.listdir(dir)\n",
    "\n",
    "for i in list_dir:\n",
    "    if i.startswith('mycode'):\n",
    "        try:\n",
    "            os.rmdir(i)\n",
    "        except:\n",
    "            pass"
   ]
  },
  {
   "cell_type": "code",
   "execution_count": null,
   "id": "2656fd36-bc53-4167-beba-dca038555289",
   "metadata": {},
   "outputs": [],
   "source": [
    "# Write a program to convert to raw thermal DN value to temperature\n",
    "# Landsat 5,7 and 8"
   ]
  }
 ],
 "metadata": {
  "kernelspec": {
   "display_name": "Python 3 (ipykernel)",
   "language": "python",
   "name": "python3"
  },
  "language_info": {
   "codemirror_mode": {
    "name": "ipython",
    "version": 3
   },
   "file_extension": ".py",
   "mimetype": "text/x-python",
   "name": "python",
   "nbconvert_exporter": "python",
   "pygments_lexer": "ipython3",
   "version": "3.12.4"
  }
 },
 "nbformat": 4,
 "nbformat_minor": 5
}
