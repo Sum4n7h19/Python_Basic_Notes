{
 "cells": [
  {
   "cell_type": "markdown",
   "id": "8c822dc7-0155-45c5-87a1-0320638831e4",
   "metadata": {},
   "source": [
    "# Sets"
   ]
  },
  {
   "cell_type": "markdown",
   "id": "4b4814b1-ce83-4809-b531-76e09d5c71c9",
   "metadata": {},
   "source": [
    "<div style='background:#B1F9E3; color:#000000' class= 'alert alert-box'>\n",
    "A Set in Python programming is an unordered collection data type that is iterable, mutable\n",
    "and has no duplicate elements.\n",
    "<li> Sets are unindexed.</li>\n",
    "<li>Sets are unordered.\n",
    "<li>Sets can be altered.\n",
    "<li>Sets do not allow duplicate.\n",
    "<li>Normal set is mutable.\n",
    "<li>Frozen set is immutable.\n",
    "<li>Set uses flower bracket/curly braces {}."
   ]
  },
  {
   "cell_type": "markdown",
   "id": "76e7350f-0f62-430b-a42e-745299c3b2d2",
   "metadata": {},
   "source": [
    "<div style='background:#B1F9E3; color:#000000' class= 'alert alert-box'>\n",
    "<b>Creating Python sets</b>\n",
    "\n",
    "A set is created by placing all the items (elements) inside curly braces {l, separated by a\n",
    "comma, or by using the built-in seto function. A set cannot have mutable items or a\n",
    "duplicate."
   ]
  },
  {
   "cell_type": "code",
   "execution_count": 1,
   "id": "7b8c3812-2868-41ff-996a-a6548bacb70b",
   "metadata": {},
   "outputs": [
    {
     "name": "stdout",
     "output_type": "stream",
     "text": [
      "{1, 2, 3}\n",
      "{1.0, (1, 2, 3), 'Hello'}\n"
     ]
    }
   ],
   "source": [
    "# Different types of sets in Python\n",
    "# set of integers\n",
    "my_set = {1, 2, 3}\n",
    "print(my_set)\n",
    "\n",
    "# set of mixed datatypes\n",
    "my_set = {1.0, \"Hello\", (1, 2, 3)}\n",
    "print(my_set)"
   ]
  },
  {
   "cell_type": "code",
   "execution_count": 2,
   "id": "be6bb242-3f9b-4d46-84e1-76a8739156e4",
   "metadata": {},
   "outputs": [
    {
     "name": "stdout",
     "output_type": "stream",
     "text": [
      "{1, 2, 3, 4}\n",
      "{1, 2, 3}\n"
     ]
    },
    {
     "ename": "TypeError",
     "evalue": "unhashable type: 'list'",
     "output_type": "error",
     "traceback": [
      "\u001b[1;31m---------------------------------------------------------------------------\u001b[0m",
      "\u001b[1;31mTypeError\u001b[0m                                 Traceback (most recent call last)",
      "Cell \u001b[1;32mIn[2], line 15\u001b[0m\n\u001b[0;32m      9\u001b[0m \u001b[38;5;28mprint\u001b[39m(my_set)\n\u001b[0;32m     11\u001b[0m \u001b[38;5;66;03m# set cannot have mutable items\u001b[39;00m\n\u001b[0;32m     12\u001b[0m \u001b[38;5;66;03m# here [3, 4] is a mutable list\u001b[39;00m\n\u001b[0;32m     13\u001b[0m \u001b[38;5;66;03m# this will cause an error.\u001b[39;00m\n\u001b[1;32m---> 15\u001b[0m my_set \u001b[38;5;241m=\u001b[39m {\u001b[38;5;241m1\u001b[39m, \u001b[38;5;241m2\u001b[39m, [\u001b[38;5;241m3\u001b[39m, \u001b[38;5;241m4\u001b[39m]}\n\u001b[0;32m     16\u001b[0m \u001b[38;5;28mprint\u001b[39m(my_set)\n",
      "\u001b[1;31mTypeError\u001b[0m: unhashable type: 'list'"
     ]
    }
   ],
   "source": [
    "# set cannot have duplicates\n",
    "# Output: {1, 2, 3, 4}\n",
    "my_set = {1, 2, 3, 4, 3, 2}\n",
    "print(my_set)\n",
    "\n",
    "# we can make set from a list\n",
    "# Output: {1, 2, 3}\n",
    "my_set = set([1, 2, 3, 2])\n",
    "print(my_set)\n",
    "\n",
    "# set cannot have mutable items\n",
    "# here [3, 4] is a mutable list\n",
    "# this will cause an error.\n",
    "\n",
    "my_set = {1, 2, [3, 4]}\n",
    "print(my_set)"
   ]
  },
  {
   "cell_type": "markdown",
   "id": "7312ba9c-caf0-4a16-98eb-26b2b828d660",
   "metadata": {},
   "source": [
    "<div style='background:#B1F9E3; color:#000000' class= 'alert alert-box'>\n",
    "<h4>Creating an Empty set"
   ]
  },
  {
   "cell_type": "code",
   "execution_count": 3,
   "id": "485ea9f0-bee8-4d73-a6ac-e65aeae8b6b6",
   "metadata": {},
   "outputs": [
    {
     "name": "stdout",
     "output_type": "stream",
     "text": [
      "<class 'dict'>\n",
      "<class 'set'>\n"
     ]
    }
   ],
   "source": [
    "# Distinguish set and dictionary while creating empty set\n",
    "\n",
    "# initialize a with {}\n",
    "a = {}\n",
    "\n",
    "# check data type of a\n",
    "print(type(a))\n",
    "\n",
    "# initialize a with set()\n",
    "a = set()\n",
    "\n",
    "# check data type of a\n",
    "print(type(a))"
   ]
  },
  {
   "cell_type": "markdown",
   "id": "b4c94325-78a0-4b93-aecc-993ae4946cce",
   "metadata": {},
   "source": [
    "<div style='background:#B1F9E3; color:#000000' class= 'alert alert-box'>\n",
    "<h4>Modifying a set</h4>\n",
    "\n",
    "Sets are mutable. However, since they are unordered, indexing has no meaning."
   ]
  },
  {
   "cell_type": "code",
   "execution_count": 4,
   "id": "ca33147f-5e66-4d88-84ef-ee64e8605f1c",
   "metadata": {},
   "outputs": [
    {
     "name": "stdout",
     "output_type": "stream",
     "text": [
      "{1, 3}\n",
      "{1, 2, 3}\n",
      "{1, 2, 3, 4}\n",
      "{1, 2, 3, 4, 5, 6, 8}\n"
     ]
    }
   ],
   "source": [
    "# initialize my_set\n",
    "my_set = {1, 3}\n",
    "print(my_set)\n",
    "\n",
    "# my_set[0]\n",
    "# if you uncomment the above line\n",
    "# you will get an error\n",
    "# TypeError: 'set' object does not support indexing\n",
    "\n",
    "# add an element\n",
    "# Output: {1, 2, 3}\n",
    "my_set.add(2)\n",
    "print(my_set)\n",
    "\n",
    "# add multiple elements\n",
    "# Output: {1, 2, 3, 4}\n",
    "my_set.update([2, 3, 4])\n",
    "print(my_set)\n",
    "\n",
    "# add list and set\n",
    "# Output: {1, 2, 3, 4, 5, 6, 8}\n",
    "my_set.update([4, 5], {1, 6, 8})\n",
    "print(my_set)"
   ]
  },
  {
   "cell_type": "markdown",
   "id": "266ffe27-c5c1-4804-b99e-0621e377ae27",
   "metadata": {},
   "source": [
    "<div style='background:#B1F9E3; color:#000000' class= 'alert alert-box'>\n",
    "<h4>Removing elements from a set</h4>\n",
    "\n",
    "\n",
    "A particular item can be removed from a set using the methods discard() and remove().\n",
    "The only difference between the two is that the discard() function leaves a set unchanged if the element is not present in the set. On the other hand, the remove() function will raise an error in such a condition (if element is not present in the set)."
   ]
  },
  {
   "cell_type": "code",
   "execution_count": 5,
   "id": "fed4feba-71a2-417a-8efe-8b7d9c8ae808",
   "metadata": {},
   "outputs": [
    {
     "name": "stdout",
     "output_type": "stream",
     "text": [
      "{1, 3, 4, 5, 6}\n",
      "{1, 3, 5, 6}\n",
      "{1, 3, 5}\n",
      "{1, 3, 5}\n"
     ]
    },
    {
     "ename": "KeyError",
     "evalue": "2",
     "output_type": "error",
     "traceback": [
      "\u001b[1;31m---------------------------------------------------------------------------\u001b[0m",
      "\u001b[1;31mKeyError\u001b[0m                                  Traceback (most recent call last)",
      "Cell \u001b[1;32mIn[5], line 28\u001b[0m\n\u001b[0;32m     21\u001b[0m \u001b[38;5;28mprint\u001b[39m(my_set)\n\u001b[0;32m     23\u001b[0m \u001b[38;5;66;03m# remove an element\u001b[39;00m\n\u001b[0;32m     24\u001b[0m \u001b[38;5;66;03m# not present in my_set\u001b[39;00m\n\u001b[0;32m     25\u001b[0m \u001b[38;5;66;03m# you will get an error.\u001b[39;00m\n\u001b[0;32m     26\u001b[0m \u001b[38;5;66;03m# Output: KeyError\u001b[39;00m\n\u001b[1;32m---> 28\u001b[0m \u001b[43mmy_set\u001b[49m\u001b[38;5;241;43m.\u001b[39;49m\u001b[43mremove\u001b[49m\u001b[43m(\u001b[49m\u001b[38;5;241;43m2\u001b[39;49m\u001b[43m)\u001b[49m\n",
      "\u001b[1;31mKeyError\u001b[0m: 2"
     ]
    }
   ],
   "source": [
    "# Difference between discard() and remove()\n",
    "\n",
    "# initialize my_set\n",
    "my_set = {1, 3, 4, 5, 6}\n",
    "print(my_set)\n",
    "\n",
    "# discard an element\n",
    "# Output: {1, 3, 5, 6}\n",
    "my_set.discard(4)\n",
    "print(my_set)\n",
    "\n",
    "# remove an element\n",
    "# Output: {1, 3, 5}\n",
    "my_set.remove(6)\n",
    "print(my_set)\n",
    "\n",
    "# discard an element\n",
    "# not present in my_set\n",
    "# Output: {1, 3, 5}\n",
    "my_set.discard(2)\n",
    "print(my_set)\n",
    "\n",
    "# remove an element\n",
    "# not present in my_set\n",
    "# you will get an error.\n",
    "# Output: KeyError\n",
    "\n",
    "my_set.remove(2)"
   ]
  },
  {
   "cell_type": "markdown",
   "id": "663599cd-5896-468d-81b7-ca06e0f05e43",
   "metadata": {},
   "source": [
    "<div style='background:#B1F9E3; color:#000000' class= 'alert alert-box'>\n",
    "\n",
    "    \n",
    "Similarly, we can remove and return an item using the `pop()` method.\n",
    "\n",
    "Since set is an unordered data type, there is no way of determining which item will be popped. It is completely arbitrary.\n",
    "\n",
    "We can also remove all the items from a set using the `clear()` method."
   ]
  },
  {
   "cell_type": "code",
   "execution_count": 6,
   "id": "2a931025-ace1-4527-a80b-e13d9eb422ee",
   "metadata": {},
   "outputs": [
    {
     "name": "stdout",
     "output_type": "stream",
     "text": [
      "{'H', 'W', 'r', 'd', 'l', 'o', 'e'}\n",
      "H\n",
      "{'r', 'd', 'l', 'o', 'e'}\n",
      "set()\n",
      "set()\n"
     ]
    }
   ],
   "source": [
    "# initialize my_set\n",
    "# Output: set of unique elements\n",
    "my_set = set(\"HelloWorld\")\n",
    "print(my_set)\n",
    "\n",
    "# pop an element\n",
    "# Output: random element\n",
    "print(my_set.pop())\n",
    "\n",
    "# pop another element\n",
    "\n",
    "my_set.pop()\n",
    "print(my_set)\n",
    "\n",
    "# clear my_set\n",
    "# Output: set()\n",
    "my_set.clear()\n",
    "print(my_set)\n",
    "\n",
    "print(my_set)"
   ]
  },
  {
   "cell_type": "markdown",
   "id": "65036ea5-a82d-40c8-b0b9-c1f24db6a86b",
   "metadata": {},
   "source": [
    "<div style='background:#B1F9E3; color:#000000' class= 'alert alert-box'>\n",
    "<h4>Python set methods</h4>\n",
    "\n",
    "Sets can be used to carry out mathematical set operations like union, intersection, difference and symmetric difference. We can do this with operators or methods\n",
    "\n",
    "<b>Set Union</b>\n",
    "\n",
    "Union of A and B is a set of all elements from both sets\n",
    "\n",
    "Union is performed using `|` operator. Same can be accomplished using the `union()` method.."
   ]
  },
  {
   "cell_type": "code",
   "execution_count": 7,
   "id": "df756103-6170-43b3-8c25-4ec7afdf1beb",
   "metadata": {},
   "outputs": [
    {
     "name": "stdout",
     "output_type": "stream",
     "text": [
      "{1, 2, 3, 4, 5, 6, 7, 8}\n"
     ]
    }
   ],
   "source": [
    "# Set union method\n",
    "# initialize A and B\n",
    "A = {1, 2, 3, 4, 5}\n",
    "B = {4, 5, 6, 7, 8}\n",
    "\n",
    "# use | operator\n",
    "# Output: {1, 2, 3, 4, 5, 6, 7, 8}\n",
    "print(A | B)"
   ]
  },
  {
   "cell_type": "code",
   "execution_count": 8,
   "id": "24141dfa-0215-4b16-853d-bddcedb49467",
   "metadata": {},
   "outputs": [
    {
     "data": {
      "text/plain": [
       "{1, 2, 3, 4, 5, 6, 7, 8}"
      ]
     },
     "execution_count": 8,
     "metadata": {},
     "output_type": "execute_result"
    }
   ],
   "source": [
    "# use union function\n",
    "A.union(B)\n",
    "{1, 2, 3, 4, 5, 6, 7, 8}\n",
    "\n",
    "# use union function on B\n",
    "B.union(A)\n",
    "{1, 2, 3, 4, 5, 6, 7, 8}"
   ]
  },
  {
   "cell_type": "markdown",
   "id": "e1061eb2-cd20-4702-84bd-f64aa39b1427",
   "metadata": {},
   "source": [
    "<div style='background:#B1F9E3; color:#000000' class= 'alert alert-box'>\n",
    "<b>Set Intersection</b>\n",
    "\n",
    "Intersection of A and B is a set of elements that are common in both the sets\n",
    "\n",
    "Intersection is performed using & operator. Same can be accomplished using the intersection() method."
   ]
  },
  {
   "cell_type": "code",
   "execution_count": 9,
   "id": "5c77d0ee-11d4-46f0-b4cd-a9b7d548a30d",
   "metadata": {},
   "outputs": [
    {
     "name": "stdout",
     "output_type": "stream",
     "text": [
      "{4, 5}\n"
     ]
    }
   ],
   "source": [
    "# Intersection of sets\n",
    "# initialize A and B\n",
    "A = {1, 2, 3, 4, 5}\n",
    "B = {4, 5, 6, 7, 8}\n",
    "\n",
    "# use & operator\n",
    "# Output: {4, 5}\n",
    "print(A & B)"
   ]
  },
  {
   "cell_type": "code",
   "execution_count": 10,
   "id": "c854f191-2cef-4643-91d8-b8208af8a3d9",
   "metadata": {},
   "outputs": [
    {
     "data": {
      "text/plain": [
       "{4, 5}"
      ]
     },
     "execution_count": 10,
     "metadata": {},
     "output_type": "execute_result"
    }
   ],
   "source": [
    "# use intersection function on A\n",
    "A.intersection(B)\n",
    "{4, 5}\n",
    "\n",
    "# use intersection function on B\n",
    "B.intersection(A)\n",
    "{4, 5}"
   ]
  },
  {
   "cell_type": "markdown",
   "id": "28697e96-461e-4600-8de3-036ba106b090",
   "metadata": {},
   "source": [
    "<div style='background:#B1F9E3; color:#000000' class= 'alert alert-box'>\n",
    "<b>Set Difference</b>\n",
    "\n",
    "Difference of the set B from set A(A - B) is a set of elements that are only in A but not in B. Similarly, B - A is a set of elements in B but not in A.\n",
    "\n",
    "Difference is performed using - operator. Same can be accomplished using the difference() method."
   ]
  },
  {
   "cell_type": "code",
   "execution_count": 11,
   "id": "dfb85ed8-57ab-4e97-9370-21edcf937b07",
   "metadata": {},
   "outputs": [
    {
     "name": "stdout",
     "output_type": "stream",
     "text": [
      "{1, 2, 3}\n"
     ]
    }
   ],
   "source": [
    "# Difference of two sets\n",
    "# initialize A and B\n",
    "A = {1, 2, 3, 4, 5}\n",
    "B = {4, 5, 6, 7, 8}\n",
    "\n",
    "# use - operator on A\n",
    "# Output: {1, 2, 3}\n",
    "print(A - B)"
   ]
  },
  {
   "cell_type": "code",
   "execution_count": 12,
   "id": "1130f672-645c-4eac-ae5b-a2b7b6989b0e",
   "metadata": {},
   "outputs": [
    {
     "data": {
      "text/plain": [
       "{6, 7, 8}"
      ]
     },
     "execution_count": 12,
     "metadata": {},
     "output_type": "execute_result"
    }
   ],
   "source": [
    "# use difference function on A\n",
    "A.difference(B)\n",
    "{1, 2, 3}\n",
    "\n",
    "# use - operator on B\n",
    "B - A\n",
    "{8, 6, 7}\n",
    "\n",
    "# use difference function on B\n",
    "B.difference(A)\n",
    "{8, 6, 7}"
   ]
  },
  {
   "cell_type": "markdown",
   "id": "d7eb4338-a206-4269-9db5-616f321c6950",
   "metadata": {},
   "source": [
    "<div style='background:#B1F9E3; color:#000000' class= 'alert alert-box'>\n",
    "<b>Set Symmetric Difference</b>\n",
    "\n",
    "Symmetric Difference of A and B is a set of elements in A and B but not in both (excluding the intersection).\n",
    "\n",
    "Symmetric difference is performed using ^ operator. Same can be accomplished using the method symmetric_difference()."
   ]
  },
  {
   "cell_type": "code",
   "execution_count": 13,
   "id": "8a8139ae-4dc9-48e4-be19-8728896f238d",
   "metadata": {},
   "outputs": [
    {
     "name": "stdout",
     "output_type": "stream",
     "text": [
      "{1, 2, 3, 6, 7, 8}\n"
     ]
    }
   ],
   "source": [
    "# Symmetric difference of two sets\n",
    "# initialize A and B\n",
    "A = {1, 2, 3, 4, 5}\n",
    "B = {4, 5, 6, 7, 8}\n",
    "\n",
    "# use ^ operator\n",
    "# Output: {1, 2, 3, 6, 7, 8}\n",
    "print(A ^ B)"
   ]
  },
  {
   "cell_type": "code",
   "execution_count": 14,
   "id": "5a4beca8-2d6a-496c-9146-2993c7e87c91",
   "metadata": {},
   "outputs": [
    {
     "data": {
      "text/plain": [
       "{1, 2, 3, 6, 7, 8}"
      ]
     },
     "execution_count": 14,
     "metadata": {},
     "output_type": "execute_result"
    }
   ],
   "source": [
    "# use symmetric_difference function on A\n",
    "A.symmetric_difference(B)\n",
    "{1, 2, 3, 6, 7, 8}\n",
    "\n",
    "# use symmetric_difference function on B\n",
    "B.symmetric_difference(A)\n",
    "{1, 2, 3, 6, 7, 8}"
   ]
  },
  {
   "cell_type": "markdown",
   "id": "5100fc01-8356-4da5-be45-c5d56b402908",
   "metadata": {},
   "source": [
    "**Subset and Superset**"
   ]
  },
  {
   "cell_type": "code",
   "execution_count": 15,
   "id": "734b3aa0-e54f-42a6-af58-f647066850d5",
   "metadata": {},
   "outputs": [],
   "source": [
    "x = {1,2,3,4,5,6,7,8}\n",
    "y = {1,2,3,4,5}\n",
    "z = {7,8,9,10}"
   ]
  },
  {
   "cell_type": "code",
   "execution_count": 16,
   "id": "a5b650ef-e53b-437d-a501-38ca1b163be6",
   "metadata": {},
   "outputs": [
    {
     "data": {
      "text/plain": [
       "True"
      ]
     },
     "execution_count": 16,
     "metadata": {},
     "output_type": "execute_result"
    }
   ],
   "source": [
    "y. issubset(x)"
   ]
  },
  {
   "cell_type": "code",
   "execution_count": 17,
   "id": "8066d1ae-ff9a-4066-8f83-ac5e475f9938",
   "metadata": {},
   "outputs": [
    {
     "data": {
      "text/plain": [
       "False"
      ]
     },
     "execution_count": 17,
     "metadata": {},
     "output_type": "execute_result"
    }
   ],
   "source": [
    "x. issubset(y)"
   ]
  },
  {
   "cell_type": "code",
   "execution_count": 18,
   "id": "8330e2bb-a312-4ad0-bb2b-bb5ed25b05a8",
   "metadata": {},
   "outputs": [
    {
     "data": {
      "text/plain": [
       "True"
      ]
     },
     "execution_count": 18,
     "metadata": {},
     "output_type": "execute_result"
    }
   ],
   "source": [
    "x. issuperset (y)"
   ]
  },
  {
   "cell_type": "markdown",
   "id": "322962b1-df5c-464e-bc95-f4a60d695f00",
   "metadata": {},
   "source": [
    "**Disjoint set**"
   ]
  },
  {
   "cell_type": "code",
   "execution_count": 19,
   "id": "acb76a6e-f2e2-4488-9564-063e010e45df",
   "metadata": {},
   "outputs": [],
   "source": [
    "M = {1,2,3,4,5,6}\n",
    "N = {7,8,9,10}\n",
    "O = {4,5}"
   ]
  },
  {
   "cell_type": "code",
   "execution_count": 20,
   "id": "242067ee-9c59-41e6-8812-adb192282adb",
   "metadata": {},
   "outputs": [
    {
     "data": {
      "text/plain": [
       "True"
      ]
     },
     "execution_count": 20,
     "metadata": {},
     "output_type": "execute_result"
    }
   ],
   "source": [
    "N. isdisjoint(M)"
   ]
  },
  {
   "cell_type": "code",
   "execution_count": 21,
   "id": "f035c764-ab6c-49c2-b588-009d10b93ada",
   "metadata": {},
   "outputs": [
    {
     "data": {
      "text/plain": [
       "True"
      ]
     },
     "execution_count": 21,
     "metadata": {},
     "output_type": "execute_result"
    }
   ],
   "source": [
    "M.isdisjoint(N)"
   ]
  },
  {
   "cell_type": "code",
   "execution_count": 22,
   "id": "7fe87325-73ef-43c6-958d-749346705fe2",
   "metadata": {},
   "outputs": [
    {
     "data": {
      "text/plain": [
       "False"
      ]
     },
     "execution_count": 22,
     "metadata": {},
     "output_type": "execute_result"
    }
   ],
   "source": [
    "O. isdisjoint(M)"
   ]
  },
  {
   "cell_type": "markdown",
   "id": "b47c6bfd-f912-468a-854a-01a0e0a038b2",
   "metadata": {},
   "source": [
    "<div style='background:#B1F9E3; color:#000000' class= 'alert alert-box'>\n",
    "<h5>Set membership test</h5>"
   ]
  },
  {
   "cell_type": "code",
   "execution_count": 23,
   "id": "ab00ac41-f8c4-4cd0-a309-857a9b091024",
   "metadata": {},
   "outputs": [
    {
     "name": "stdout",
     "output_type": "stream",
     "text": [
      "True\n",
      "False\n"
     ]
    }
   ],
   "source": [
    "# in keyword in a set\n",
    "# initialize my_set\n",
    "my_set = set(\"apple\")\n",
    "\n",
    "# check if 'a' is present\n",
    "# Output: True\n",
    "print('a' in my_set)\n",
    "\n",
    "# check if 'p' is present\n",
    "# Output: False\n",
    "print('p' not in my_set)"
   ]
  },
  {
   "cell_type": "markdown",
   "id": "59972e10-cf11-4b0f-a2b0-5918dfa275d4",
   "metadata": {},
   "source": [
    "<div style='background:#B1F9E3; color:#000000' class= 'alert alert-box'>\n",
    "<h5>Built in Functions of set</h5>"
   ]
  },
  {
   "cell_type": "code",
   "execution_count": 24,
   "id": "58d31ced-d1f0-4ced-a0ec-75929db0fd71",
   "metadata": {},
   "outputs": [
    {
     "data": {
      "text/plain": [
       "{1, 2, 3, 4, 5}"
      ]
     },
     "execution_count": 24,
     "metadata": {},
     "output_type": "execute_result"
    }
   ],
   "source": [
    "A"
   ]
  },
  {
   "cell_type": "code",
   "execution_count": 25,
   "id": "33712415-e9c9-4dfc-9634-b5e6c0e87a73",
   "metadata": {},
   "outputs": [
    {
     "name": "stdout",
     "output_type": "stream",
     "text": [
      "15\n",
      "5\n",
      "1\n",
      "5\n"
     ]
    }
   ],
   "source": [
    "# Print sum of a set A\n",
    "print (sum (A) )\n",
    "# Print Maximum value in A\n",
    "print (max(A))\n",
    "# Print Minimum value in A\n",
    "print (min (A) )\n",
    "# Gives the Length of the set A\n",
    "print( len (A) )"
   ]
  },
  {
   "cell_type": "markdown",
   "id": "af142c16-9037-4979-b044-86490e6db18a",
   "metadata": {},
   "source": [
    "<div style='background:#B1F9E3; color:#000000' class= 'alert alert-box'>\n",
    "<h5>Convertinq set to list</h5>"
   ]
  },
  {
   "cell_type": "code",
   "execution_count": 26,
   "id": "5b1eab1d-5947-44b1-875b-f5a91e5c7fe6",
   "metadata": {},
   "outputs": [
    {
     "name": "stdout",
     "output_type": "stream",
     "text": [
      "{1, 2, 3, 4, 5}\n",
      "<class 'list'>\n",
      "[1, 2, 3, 4, 5]\n"
     ]
    }
   ],
   "source": [
    "# Calling The set A\n",
    "print (A)\n",
    "A_list = sorted(A)\n",
    "print (type(A_list))\n",
    "print(A_list)"
   ]
  },
  {
   "cell_type": "markdown",
   "id": "6b5090e4-b2fd-41f0-9041-5477cbce79bc",
   "metadata": {},
   "source": [
    "<div style='background:#B1F9E3; color:#000000' class= 'alert alert-box'>\n",
    "<h5>Reversing a value</h5>"
   ]
  },
  {
   "cell_type": "code",
   "execution_count": 27,
   "id": "15b4e7d4-e9e0-491d-a633-42c65b5ae7e2",
   "metadata": {},
   "outputs": [
    {
     "data": {
      "text/plain": [
       "[5, 4, 3, 2, 1]"
      ]
     },
     "execution_count": 27,
     "metadata": {},
     "output_type": "execute_result"
    }
   ],
   "source": [
    "A_list= sorted(A, reverse = True)\n",
    "A_list"
   ]
  },
  {
   "cell_type": "markdown",
   "id": "b239561c-7dc6-44bf-8c08-0b6bcc6a9fe6",
   "metadata": {},
   "source": [
    "<div style='background:#B1F9E3; color:#000000' class= 'alert alert-box'>\n",
    "<h5>Converting list.tp set</h5>"
   ]
  },
  {
   "cell_type": "code",
   "execution_count": 28,
   "id": "1cb9a7fa-a96a-4956-9dab-8687014e863a",
   "metadata": {},
   "outputs": [
    {
     "name": "stdout",
     "output_type": "stream",
     "text": [
      "{1, 2, 3, 4, 5}\n"
     ]
    },
    {
     "data": {
      "text/plain": [
       "set"
      ]
     },
     "execution_count": 28,
     "metadata": {},
     "output_type": "execute_result"
    }
   ],
   "source": [
    "# Converting ISt to set\n",
    "z = set(A_list)\n",
    "print (z)\n",
    "type(z)"
   ]
  },
  {
   "cell_type": "markdown",
   "id": "0dc4746a-9012-41db-b516-028f761bb988",
   "metadata": {},
   "source": [
    "<div style='background:#B1F9E3; color:#000000' class= 'alert alert-box'>\n",
    "<h5>Frozen Set</h5>\n",
    "\n",
    "The frozenset() function returns an unchangeable frozenset object (which is like a set object.\n",
    "only unchangeable."
   ]
  },
  {
   "cell_type": "code",
   "execution_count": 29,
   "id": "e45bd9cd-445e-49fa-b1c7-a3bef6d698ca",
   "metadata": {},
   "outputs": [
    {
     "name": "stdout",
     "output_type": "stream",
     "text": [
      "frozenset({1, 2, 3, 4, 5})\n"
     ]
    }
   ],
   "source": [
    "frozenset_z = frozenset(z)\n",
    "print(frozenset_z)"
   ]
  },
  {
   "cell_type": "code",
   "execution_count": 30,
   "id": "348c5d87-06fd-4628-b0ea-fb5e43e645fb",
   "metadata": {},
   "outputs": [
    {
     "ename": "AttributeError",
     "evalue": "'frozenset' object has no attribute 'add'",
     "output_type": "error",
     "traceback": [
      "\u001b[1;31m---------------------------------------------------------------------------\u001b[0m",
      "\u001b[1;31mAttributeError\u001b[0m                            Traceback (most recent call last)",
      "Cell \u001b[1;32mIn[30], line 1\u001b[0m\n\u001b[1;32m----> 1\u001b[0m \u001b[43mfrozenset_z\u001b[49m\u001b[38;5;241;43m.\u001b[39;49m\u001b[43madd\u001b[49m(\u001b[38;5;241m10\u001b[39m)\n",
      "\u001b[1;31mAttributeError\u001b[0m: 'frozenset' object has no attribute 'add'"
     ]
    }
   ],
   "source": [
    "frozenset_z.add(10)"
   ]
  },
  {
   "cell_type": "markdown",
   "id": "c6d6d15e-b125-4002-a504-762595fd215b",
   "metadata": {},
   "source": [
    "<table>\n",
    "  <tr>\n",
    "    <th>Method</th>\n",
    "    <th>Description</th>\n",
    "  </tr>\n",
    "  <tr>\n",
    "    <td>add(element)</td>\n",
    "    <td>Adds an element to the set.</td>\n",
    "  </tr>\n",
    "  <tr>\n",
    "    <td>clear()</td>\n",
    "    <td>Removes all elements from the set.</td>\n",
    "  </tr>\n",
    "  <tr>\n",
    "    <td>copy()</td>\n",
    "    <td>Returns a copy of the set.</td>\n",
    "  </tr>\n",
    "  <tr>\n",
    "    <td>difference(*sets)</td>\n",
    "    <td>Returns a set containing the difference between sets.</td>\n",
    "  </tr>\n",
    "  <tr>\n",
    "    <td>difference_update(*sets)</td>\n",
    "    <td>Removes items in the set that are also in specified set(s).</td>\n",
    "  </tr>\n",
    "  <tr>\n",
    "    <td>discard(element)</td>\n",
    "    <td>Removes the specified element from the set.</td>\n",
    "  </tr>\n",
    "  <tr>\n",
    "    <td>intersection(*sets)</td>\n",
    "    <td>Returns a set that is the intersection of two or more sets.</td>\n",
    "  </tr>\n",
    "  <tr>\n",
    "    <td>intersection_update(*sets)</td>\n",
    "    <td>Removes items not present in other specified set(s).</td>\n",
    "  </tr>\n",
    "  <tr>\n",
    "    <td>isdisjoint(other_set)</td>\n",
    "    <td>Returns <code>True</code> if sets have no intersection, otherwise <code>False</code>.</td>\n",
    "  </tr>\n",
    "  <tr>\n",
    "    <td>issubset(other_set)</td>\n",
    "    <td>Returns <code>True</code> if set is a subset of another set, otherwise <code>False</code>.</td>\n",
    "  </tr>\n",
    "  <tr>\n",
    "    <td>issuperset(other_set)</td>\n",
    "    <td>Returns <code>True</code> if set is a superset of another set, otherwise <code>False</code>.</td>\n",
    "  </tr>\n",
    "  <tr>\n",
    "    <td>pop()</td>\n",
    "    <td>Removes and returns an arbitrary element from the set.</td>\n",
    "  </tr>\n",
    "  <tr>\n",
    "    <td>remove(element)</td>\n",
    "    <td>Removes the specified element from the set.</td>\n",
    "  </tr>\n",
    "  <tr>\n",
    "    <td>symmetric_difference(other_set)</td>\n",
    "    <td>Returns a set with the symmetric differences of two sets.</td>\n",
    "  </tr>\n",
    "  <tr>\n",
    "    <td>symmetric_difference_update(other_set)</td>\n",
    "    <td>Inserts symmetric differences from this set and another.</td>\n",
    "  </tr>\n",
    "  <tr>\n",
    "    <td>union(*sets)</td>\n",
    "    <td>Returns a set containing the union of sets.</td>\n",
    "  </tr>\n",
    "  <tr>\n",
    "    <td>update(*sets)</td>\n",
    "    <td>Updates the set with the union of this set and others.</td>\n",
    "  </tr>\n",
    "</table>\n"
   ]
  },
  {
   "cell_type": "markdown",
   "id": "7b4b59dd-a241-4c44-9628-e290e568a9bd",
   "metadata": {},
   "source": [
    "<div style='background:#B1F9E3; color:#000000' class= 'alert alert-box'>\n",
    "<b>refer:</b><a href =\"https://www.w3schools.com/python/python_sets_methods.asp\" > https://www.w3schools.com/python/python_sets_methods.asp</a>"
   ]
  }
 ],
 "metadata": {
  "kernelspec": {
   "display_name": "Python 3 (ipykernel)",
   "language": "python",
   "name": "python3"
  },
  "language_info": {
   "codemirror_mode": {
    "name": "ipython",
    "version": 3
   },
   "file_extension": ".py",
   "mimetype": "text/x-python",
   "name": "python",
   "nbconvert_exporter": "python",
   "pygments_lexer": "ipython3",
   "version": "3.12.4"
  }
 },
 "nbformat": 4,
 "nbformat_minor": 5
}
