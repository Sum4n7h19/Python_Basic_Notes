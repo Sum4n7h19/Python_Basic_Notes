{
 "cells": [
  {
   "cell_type": "markdown",
   "id": "781a0e2d-c82a-46d3-b6e1-4cf0b54dda0a",
   "metadata": {},
   "source": [
    "<div style='background:#B1F9E3; color:#000000' class='alert alert-box'>\n",
    "  <h3>Important Libraries in Python</h3>\n",
    "  <ul>\n",
    "    <li><strong>Numpy:</strong> The name “Numpy” stands for “Numerical Python”. It is a commonly used library and a popular machine learning library that supports large matrices and multi-dimensional data. It consists of in-built mathematical functions for easy computations. Even libraries like TensorFlow use Numpy internally to perform several operations on tensors. Array Interface is one of the key features of this library.</li>\n",
    "    <li><strong>Pandas:</strong> Pandas is an important library for data scientists. It is an open-source machine learning library that provides flexible high-level data structures and a variety of analysis tools. It eases data analysis, data manipulation, and cleaning of data. Pandas support operations like sorting, re-indexing, iteration, concatenation, conversion of data, visualizations, aggregations, etc.</li>\n",
    "    <li><strong>Matplotlib:</strong> This library is responsible for plotting numerical data and is used in data analysis. It is an open-source library that plots high-defined figures like pie charts, histograms, scatterplots, graphs, etc.</li>\n",
    "    <li><strong>Seaborn:</strong> Seaborn is a Python data visualization library based on Matplotlib. It provides a high-level interface for drawing attractive and informative statistical graphics.</li>\n",
    "  </ul>\n",
    "</div>\n"
   ]
  },
  {
   "cell_type": "markdown",
   "id": "b4893f0b-6ad2-4f6f-9ce7-6561bceee26b",
   "metadata": {},
   "source": [
    "<div style='background:#B1F9E3; color:#000000' class='alert alert-box'>\n",
    "  <h3>How to Check Whether the Library is Installed or Not?</h3>\n",
    "  <p>You can check whether a library is installed using the following methods:</p>\n",
    "  <ul>\n",
    "    <li>Try importing the library in a Python script or interactive session:</li>\n",
    "    <pre><code>import library_name</code></pre>\n",
    "    <li>Use the <code>pip show</code> command in the terminal to check if the library is installed:</li>\n",
    "    <pre><code>pip show library_name</code></pre>\n",
    "    <li>Check installed packages using the <code>pip list</code> command:</li>\n",
    "    <pre><code>pip list</code></pre>\n",
    "  </ul>\n",
    "</div>\n"
   ]
  },
  {
   "cell_type": "code",
   "execution_count": 1,
   "id": "f5d5a27a-dc27-4ae9-8a96-a8e325eea8be",
   "metadata": {},
   "outputs": [],
   "source": [
    "import numpy"
   ]
  },
  {
   "cell_type": "code",
   "execution_count": 2,
   "id": "5d4fbbd6-79e1-4757-abfb-ab37154592da",
   "metadata": {},
   "outputs": [],
   "source": [
    "import pandas"
   ]
  },
  {
   "cell_type": "code",
   "execution_count": 3,
   "id": "e857fc7b-b9c7-4eb9-a7df-073266907c1b",
   "metadata": {},
   "outputs": [],
   "source": [
    "import matplotlib"
   ]
  },
  {
   "cell_type": "code",
   "execution_count": 4,
   "id": "78ed550a-eab3-49bf-adf3-33d6c4dce297",
   "metadata": {},
   "outputs": [],
   "source": [
    "import seaborn"
   ]
  },
  {
   "cell_type": "code",
   "execution_count": 5,
   "id": "8872d619-97e8-4cf0-b109-3cdae87f1807",
   "metadata": {},
   "outputs": [
    {
     "ename": "ModuleNotFoundError",
     "evalue": "No module named 'geopandas'",
     "output_type": "error",
     "traceback": [
      "\u001b[1;31m---------------------------------------------------------------------------\u001b[0m",
      "\u001b[1;31mModuleNotFoundError\u001b[0m                       Traceback (most recent call last)",
      "Cell \u001b[1;32mIn[5], line 1\u001b[0m\n\u001b[1;32m----> 1\u001b[0m \u001b[38;5;28;01mimport\u001b[39;00m \u001b[38;5;21;01mgeopandas\u001b[39;00m\n",
      "\u001b[1;31mModuleNotFoundError\u001b[0m: No module named 'geopandas'"
     ]
    }
   ],
   "source": [
    "import geopandas"
   ]
  },
  {
   "cell_type": "code",
   "execution_count": 6,
   "id": "157a88c4-426a-49f6-9752-74d22fc4294b",
   "metadata": {},
   "outputs": [
    {
     "name": "stdout",
     "output_type": "stream",
     "text": [
      "Module not installed\n"
     ]
    }
   ],
   "source": [
    "try:\n",
    "    import geopandas\n",
    "except(ModuleNotFoundError):\n",
    "    print('Module not installed')"
   ]
  },
  {
   "cell_type": "code",
   "execution_count": 9,
   "id": "9a5144e9-7d76-4c34-be77-9dd04678933c",
   "metadata": {},
   "outputs": [],
   "source": [
    "# Installing a module through jupyter\n",
    "try:\n",
    "    import geopandas\n",
    "except(ModuleNotFoundError):\n",
    "    print('Module not installed')\n",
    "    !pip install geopandas"
   ]
  },
  {
   "cell_type": "code",
   "execution_count": 10,
   "id": "7b04e09b-d31b-470c-92c3-29420caf463c",
   "metadata": {},
   "outputs": [],
   "source": [
    "# Aliasing the module\n",
    "import numpy as np"
   ]
  },
  {
   "cell_type": "code",
   "execution_count": 11,
   "id": "e9b09357-a430-40f6-b62f-2ea5f443ebe2",
   "metadata": {},
   "outputs": [],
   "source": [
    "import pandas as pd"
   ]
  },
  {
   "cell_type": "code",
   "execution_count": 12,
   "id": "822c62a3-c225-49a6-bf65-c287a43001d9",
   "metadata": {},
   "outputs": [],
   "source": [
    "import matplotlib.pyplot as plt"
   ]
  },
  {
   "cell_type": "code",
   "execution_count": 13,
   "id": "a6ce4075-d8f7-4e9e-b72d-3ea982dcd6e7",
   "metadata": {},
   "outputs": [],
   "source": [
    "import seaborn as sns"
   ]
  },
  {
   "cell_type": "code",
   "execution_count": 14,
   "id": "88f1a5c6-58af-4303-9d9f-908baed58d77",
   "metadata": {},
   "outputs": [],
   "source": [
    "import geopandas as gpd"
   ]
  }
 ],
 "metadata": {
  "kernelspec": {
   "display_name": "Python 3 (ipykernel)",
   "language": "python",
   "name": "python3"
  },
  "language_info": {
   "codemirror_mode": {
    "name": "ipython",
    "version": 3
   },
   "file_extension": ".py",
   "mimetype": "text/x-python",
   "name": "python",
   "nbconvert_exporter": "python",
   "pygments_lexer": "ipython3",
   "version": "3.12.4"
  }
 },
 "nbformat": 4,
 "nbformat_minor": 5
}
