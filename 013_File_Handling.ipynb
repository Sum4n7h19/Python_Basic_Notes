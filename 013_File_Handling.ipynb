{
 "cells": [
  {
   "cell_type": "markdown",
   "id": "ad088ca2-bf55-478d-b4cd-6453e6ca3e7e",
   "metadata": {},
   "source": [
    "<div style='background:#B1F9E3; color:#000000' class='alert alert-box'>\n",
    "  <h1>File Handling</h1>\n",
    "  <p>File handling is an important part of any web application, data analysis, or data science project.</p>\n",
    "  <p>Python has several functions for creating, reading, updating, and deleting (CRUD operations) files.</p>\n",
    "</div>\n"
   ]
  },
  {
   "cell_type": "markdown",
   "id": "432d1821-41e6-466c-8750-6c55c9438c20",
   "metadata": {},
   "source": [
    "<div style='background:#B1F9E3; color:#000000' class='alert alert-box'>\n",
    "  <h3>Creating a New File</h3>\n",
    "</div>\n"
   ]
  },
  {
   "cell_type": "code",
   "execution_count": 1,
   "id": "8eb7e3b6-0aba-4327-becc-086c4d1ca5c8",
   "metadata": {},
   "outputs": [
    {
     "name": "stdout",
     "output_type": "stream",
     "text": [
      "File sucessfully created\n"
     ]
    }
   ],
   "source": [
    "try:\n",
    "    myfile = open(\"students1.txt\", \"x\")\n",
    "    print('File sucessfully created')\n",
    "except(FileExistsError):\n",
    "    print('File already exists')"
   ]
  },
  {
   "cell_type": "code",
   "execution_count": 2,
   "id": "94d62c06-7077-4f12-a4dd-096dbe40cd6c",
   "metadata": {},
   "outputs": [
    {
     "name": "stdout",
     "output_type": "stream",
     "text": [
      "File closed\n"
     ]
    }
   ],
   "source": [
    "myfile.close()\n",
    "print('File closed')"
   ]
  },
  {
   "cell_type": "markdown",
   "id": "cac28eab-ad77-413b-acf1-bbd5bb120398",
   "metadata": {},
   "source": [
    "<div style='background:#B1F9E3; color:#000000' class='alert alert-box'>\n",
    "  <h3>Listing the File</h3>\n",
    "</div>\n"
   ]
  },
  {
   "cell_type": "code",
   "execution_count": 3,
   "id": "9b0e3ec3-2e1e-42b3-9353-22bdd47fb3ec",
   "metadata": {},
   "outputs": [
    {
     "data": {
      "text/plain": [
       "['.ipynb_checkpoints',\n",
       " 'c873d90fabaa95f3726772e831428c5a.jpg',\n",
       " 'Class_001.ipynb',\n",
       " 'Class_002.ipynb',\n",
       " 'Class_003.ipynb',\n",
       " 'Class_004.ipynb',\n",
       " 'Class_005.ipynb',\n",
       " 'Class_006.ipynb',\n",
       " 'Class_007.ipynb',\n",
       " 'Class_009.ipynb',\n",
       " 'Class_010.ipynb',\n",
       " 'Class_011.ipynb',\n",
       " 'Class_012.ipynb',\n",
       " 'Class_013.ipynb',\n",
       " 'Function.ipynb',\n",
       " 'OIP.jpg',\n",
       " 'positive-indexes.png',\n",
       " 'python-string.png',\n",
       " 'students1.txt',\n",
       " 'Untitled.ipynb']"
      ]
     },
     "execution_count": 3,
     "metadata": {},
     "output_type": "execute_result"
    }
   ],
   "source": [
    "import os\n",
    "os.listdir()"
   ]
  },
  {
   "cell_type": "code",
   "execution_count": 4,
   "id": "af23f88e-2f7b-4ad3-9aaa-e5ae9bf27d33",
   "metadata": {},
   "outputs": [
    {
     "name": "stdout",
     "output_type": "stream",
     "text": [
      "students1.txt\n"
     ]
    }
   ],
   "source": [
    "for file in os.listdir():\n",
    "    if file.endswith('.txt'):\n",
    "        print(file)"
   ]
  },
  {
   "cell_type": "markdown",
   "id": "b92fbc40-9356-4c76-9684-a7fd472bd62c",
   "metadata": {},
   "source": [
    "<div style='background:#B1F9E3; color:#000000' class='alert alert-box'>\n",
    "  <h3>Deleting a File</h3>\n",
    "</div>\n"
   ]
  },
  {
   "cell_type": "code",
   "execution_count": 5,
   "id": "d575b895-3cf4-4da6-8b02-8dd856219c3d",
   "metadata": {},
   "outputs": [
    {
     "name": "stdout",
     "output_type": "stream",
     "text": [
      "File sucessfully deleted\n"
     ]
    }
   ],
   "source": [
    "if os.path.exists(\"students1.txt\"):\n",
    "    os.remove(\"students1.txt\")\n",
    "    print('File sucessfully deleted')\n",
    "else:\n",
    "    print(\"The file does not exist\")"
   ]
  },
  {
   "cell_type": "code",
   "execution_count": 6,
   "id": "09deac31-46c7-40a7-b1ad-4be76d2ff738",
   "metadata": {},
   "outputs": [],
   "source": [
    "for file in os.listdir():\n",
    "    if file.endswith('.txt'):\n",
    "        print(file)"
   ]
  },
  {
   "cell_type": "code",
   "execution_count": 7,
   "id": "1584d1fc-926e-4e69-a3b3-039342ff2ab2",
   "metadata": {},
   "outputs": [],
   "source": [
    "# Create a new file called employee.txt and store five employee names"
   ]
  },
  {
   "cell_type": "code",
   "execution_count": 8,
   "id": "fdc8e7a9-a72d-4f3c-90bb-f3bdd93538cf",
   "metadata": {},
   "outputs": [],
   "source": [
    "# Write to an existing file using append (a) parameter\n",
    "myfile = open(\"employee.txt\",'a')\n",
    "myfile.write(\"Sumanth,Sanjay,Divya,Nithya,Sharath\")\n",
    "myfile.close()"
   ]
  },
  {
   "cell_type": "code",
   "execution_count": 9,
   "id": "2e08aefd-4a10-466c-8fba-2aa6982aaae6",
   "metadata": {},
   "outputs": [
    {
     "name": "stdout",
     "output_type": "stream",
     "text": [
      "Sumanth,Sanjay,Divya,Nithya,Sharath\n"
     ]
    }
   ],
   "source": [
    "# Open and read the existing file using read (r) parameter\n",
    "myfile = open(\"employee.txt\",'r')\n",
    "print(myfile.read())\n",
    "myfile.close()"
   ]
  },
  {
   "cell_type": "code",
   "execution_count": 10,
   "id": "1e8486d9-eb4e-4699-ba07-52d0da9d973e",
   "metadata": {},
   "outputs": [],
   "source": [
    "# Overwrite a content using write (w) parameter\n",
    "myfile = open(\"employee.txt\",'w')\n",
    "myfile.write('Sumanth,Sanjay,Inchara,Harshitha,Manoj')\n",
    "myfile.close()"
   ]
  },
  {
   "cell_type": "code",
   "execution_count": 11,
   "id": "16dd437b-39bf-4859-9681-f336b09071b8",
   "metadata": {},
   "outputs": [
    {
     "name": "stdout",
     "output_type": "stream",
     "text": [
      "Sumanth,Sanjay,Inchara,Harshitha,Manoj\n"
     ]
    }
   ],
   "source": [
    "myfile = open(\"employee.txt\",'r')\n",
    "print(myfile.read())\n",
    "myfile.close()"
   ]
  },
  {
   "cell_type": "code",
   "execution_count": 13,
   "id": "296e2f9c-29ba-49a2-8dac-cc990bdaee64",
   "metadata": {},
   "outputs": [],
   "source": [
    "# Writing to file\n",
    "with open(\"veggies.txt\", \"w\") as myfile:\n",
    "    # Writing data to a file\n",
    "    myfile.write(\"Hello \\n\")\n",
    "    myfile.write(\"Hello python \\n\")"
   ]
  },
  {
   "cell_type": "code",
   "execution_count": 14,
   "id": "3a0a30f4-5239-44f3-8875-4e27a4bb8160",
   "metadata": {},
   "outputs": [],
   "source": [
    "myfile.close()"
   ]
  },
  {
   "cell_type": "code",
   "execution_count": 15,
   "id": "e1dd8bf1-4c60-45e7-8a86-4cee19911846",
   "metadata": {},
   "outputs": [
    {
     "name": "stdin",
     "output_type": "stream",
     "text": [
      "Enter total names you want to add:  3\n",
      "Enter name:  Sumanth\n",
      "Enter name:  Sanjay\n",
      "Enter name:  Sharath\n"
     ]
    }
   ],
   "source": [
    "totalNames = int(input('Enter total names you want to add: '))\n",
    "with open(\"classmates.txt\", \"w\") as myfile:\n",
    "    for i in range(totalNames):\n",
    "        names = input(\"Enter name: \")\n",
    "        myfile.write(f'{names}\\n')"
   ]
  },
  {
   "cell_type": "code",
   "execution_count": 16,
   "id": "0d1d37f2-a162-44ac-8c8d-6f4977dac087",
   "metadata": {},
   "outputs": [
    {
     "name": "stdout",
     "output_type": "stream",
     "text": [
      "Sumanth\n",
      "Sanjay\n",
      "Sharath\n",
      "\n"
     ]
    }
   ],
   "source": [
    "# Reading from file\n",
    "with open(\"classmates.txt\", \"r+\") as myfile:\n",
    "    # Reading form a file\n",
    "    print(myfile.read())"
   ]
  },
  {
   "cell_type": "code",
   "execution_count": 18,
   "id": "38366c03-427a-4778-a04d-df490088a097",
   "metadata": {},
   "outputs": [
    {
     "name": "stdout",
     "output_type": "stream",
     "text": [
      "['Sumanth\\n']\n"
     ]
    }
   ],
   "source": [
    "# Read only first line from the text file\n",
    "# Reading from file\n",
    "with open(\"classmates.txt\", \"r+\") as myfile:\n",
    "    # Reading form a file\n",
    "    print(myfile.readlines(1))"
   ]
  },
  {
   "cell_type": "code",
   "execution_count": 23,
   "id": "cb912a1f-034c-40c9-b35d-5087dd258810",
   "metadata": {},
   "outputs": [
    {
     "name": "stdout",
     "output_type": "stream",
     "text": [
      "Sumanth\n",
      "\n"
     ]
    }
   ],
   "source": [
    "# Read only first line based on slicing method from the text file\n",
    "# Reading from file\n",
    "with open(\"classmates.txt\", \"r+\") as myfile:\n",
    "    # Reading form a file\n",
    "    print(myfile.readlines()[0])"
   ]
  },
  {
   "cell_type": "code",
   "execution_count": 24,
   "id": "e4c9bdf1-e8ec-46ea-8ca3-f5f74673d80b",
   "metadata": {},
   "outputs": [
    {
     "name": "stdout",
     "output_type": "stream",
     "text": [
      "Sharath\n",
      "\n"
     ]
    }
   ],
   "source": [
    "# Read only third line based on slicing method from the text file\n",
    "# Reading from file\n",
    "with open(\"classmates.txt\", \"r+\") as myfile:\n",
    "    # Reading form a file\n",
    "    print(myfile.readlines()[2])"
   ]
  },
  {
   "cell_type": "code",
   "execution_count": 25,
   "id": "e40887d8-d30c-4b8e-b32e-7f8820685633",
   "metadata": {},
   "outputs": [],
   "source": [
    "myfile.close()"
   ]
  },
  {
   "cell_type": "code",
   "execution_count": 26,
   "id": "50b1d4a0-8929-4807-b28e-c39989448b69",
   "metadata": {},
   "outputs": [
    {
     "name": "stdout",
     "output_type": "stream",
     "text": [
      "classmates.txt\n",
      "employee.txt\n",
      "veggies.txt\n"
     ]
    }
   ],
   "source": [
    "for file in os.listdir():\n",
    "    if file.endswith('.txt'):\n",
    "        print(file)"
   ]
  },
  {
   "cell_type": "code",
   "execution_count": 27,
   "id": "611da3ee-438e-401a-83c8-b0f80606722a",
   "metadata": {},
   "outputs": [
    {
     "name": "stdout",
     "output_type": "stream",
     "text": [
      "The file does not exist\n"
     ]
    }
   ],
   "source": [
    "if os.path.exists(\"students1.txt\"):\n",
    "    os.remove(\"students1.txt\")\n",
    "    print('File sucessfully deleted')\n",
    "else:\n",
    "    print(\"The file does not exist\")"
   ]
  },
  {
   "cell_type": "code",
   "execution_count": 28,
   "id": "110b6593-ec8a-4492-8120-f1eb6048186b",
   "metadata": {},
   "outputs": [
    {
     "name": "stdout",
     "output_type": "stream",
     "text": [
      "['classmates.txt', 'employee.txt', 'veggies.txt']\n"
     ]
    }
   ],
   "source": [
    "delFile = []\n",
    "for file in os.listdir():\n",
    "    if file.endswith('.txt'):\n",
    "        delFile.append(file)\n",
    "print(delFile)"
   ]
  },
  {
   "cell_type": "code",
   "execution_count": 29,
   "id": "fd073b8c-1af2-4b59-b942-63fb395261d0",
   "metadata": {},
   "outputs": [
    {
     "name": "stdout",
     "output_type": "stream",
     "text": [
      "File sucessfully deleted\n",
      "File sucessfully deleted\n",
      "File sucessfully deleted\n"
     ]
    }
   ],
   "source": [
    "for i in delFile:\n",
    "    if os.path.exists(f\"{i}\"):\n",
    "        os.remove(f'{i}')\n",
    "        print('File sucessfully deleted')\n",
    "    else:\n",
    "        print(\"The file does not exist\")"
   ]
  }
 ],
 "metadata": {
  "kernelspec": {
   "display_name": "Python 3 (ipykernel)",
   "language": "python",
   "name": "python3"
  },
  "language_info": {
   "codemirror_mode": {
    "name": "ipython",
    "version": 3
   },
   "file_extension": ".py",
   "mimetype": "text/x-python",
   "name": "python",
   "nbconvert_exporter": "python",
   "pygments_lexer": "ipython3",
   "version": "3.12.4"
  }
 },
 "nbformat": 4,
 "nbformat_minor": 5
}
