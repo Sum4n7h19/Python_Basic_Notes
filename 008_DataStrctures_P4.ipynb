{
 "cells": [
  {
   "cell_type": "markdown",
   "id": "47d89030-d513-4355-b98e-3322a20b2cdf",
   "metadata": {},
   "source": [
    "<div style='background:#B1F9E3; color:#000000' class='alert alert-box'>\n",
    "  <h2>4. Dictionary</h2>\n",
    "  <p>Python <code>dictionary</code> is an <em>unordered collection of items</em>. Each item of a dictionary has a <strong>key/value</strong> pair.</p>\n",
    "  <p>Dictionaries are optimized to retrieve values when the key is known.</p>\n",
    "</div>\n"
   ]
  },
  {
   "cell_type": "markdown",
   "id": "444d2410-f6ff-48a4-91a3-65ab5bbe10fc",
   "metadata": {},
   "source": [
    "<div style='background:#B1F9E3; color:#000000' class='alert alert-box'>\n",
    "  <p><strong>Example:</strong></p>\n",
    "  <p><code>'key':'value'</code> pair</p>\n",
    "  <p><strong>Person Database</strong></p>\n",
    "  <ul>\n",
    "    <li><code>studen_nam</code>: Sumanth</li>\n",
    "    <li><code>ag</code>: 23</li>\n",
    "    <li><code>heighti</code>: 5.6</li>\n",
    "    <li><code>father_nam:e</code>: Maheshkumar</li>\n",
    "    <li><code>mother_na:e</code>: Saritha</li>\n",
    "  </ul>\n",
    "  <p><code>'key':'value'</code> pair</p>\n",
    "  <p><strong>Books</strong></p>\n",
    "  <ul>\n",
    "    <li><code>book_na</code>: python programming</li>\n",
    "    <li><code>aut:or</code>: Guido van Rossum</li>\n",
    "    <li><code>publisr</code>: Wiley</li>\n",
    "    <li><code>year</code>: 2024</li>\n",
    "    <li><code>np</code>: 400</li>\n",
    "    <li><code>i:n</code>: 217280202434</li>\n",
    "    <li><code>s i</code>: 2637828</li>\n",
    "  </ul>\n",
    "  <p>Called as <em>mapping</em>.</p>\n",
    "</div>\n"
   ]
  },
  {
   "cell_type": "markdown",
   "id": "4c114b9a-953a-4538-9c46-c230de309d69",
   "metadata": {},
   "source": [
    "<div style='background:#B1F9E3; color:#000000' class='alert alert-box'>\n",
    "  <ul>\n",
    "    <li>Dictionaries are also called mappings.</li>\n",
    "    <li>Dictionaries are unordered <code>key: value</code> pairs.</li>\n",
    "    <li>Dictionaries use a colon (<code>:</code>) to separate keys and values.</li>\n",
    "    <li>Dictionaries use curly brackets (<code>{}</code>) to enclose the dictionary's key-value pairs.</li>\n",
    "    <li>Keys must be unique in a dictionary.</li>\n",
    "    <li>Keys are immutable (key names cannot be changed).</li>\n",
    "    <li>Values are mutable (we can modify the values).</li>\n",
    "    <li>Duplicate values are allowed.</li>\n",
    "    <li>Dictionaries are accessed via keys (not based on index values like lists).</li>\n",
    "    <li>Dictionaries do not have indexes like lists or tuples.</li>\n",
    "    <li>A dictionary is an associative array, also called hashes.</li>\n",
    "    <li>Any key in a dictionary is associated or mapped to a value.</li>\n",
    "    <li>Since each key is mapped to a value, dictionaries are also called mappings.</li>\n",
    "  </ul>\n",
    "</div>\n"
   ]
  },
  {
   "cell_type": "markdown",
   "id": "c8ee2bf8-2c3f-4da4-a842-241a8f698ee6",
   "metadata": {},
   "source": [
    "<div style='background:#B1F9E3; color:#000000' class='alert alert-box'>\n",
    "  <h3>Creating a Python Dictionary</h3>\n",
    "  <p>Creating a dictionary is as simple as placing items inside curly braces <code>{}</code> separated by commas.</p>\n",
    "</div>\n"
   ]
  },
  {
   "cell_type": "code",
   "execution_count": 1,
   "id": "9ac1d58e-93ea-4a50-b7a9-c6f8c1bb3654",
   "metadata": {},
   "outputs": [],
   "source": [
    "# empty dictionary\n",
    "my_dict = {}\n",
    "\n",
    "# dictionary with integer keys\n",
    "my_dict = {1: 'apple', 2: 'ball'}\n",
    "\n",
    "# dictionary with mixed keys\n",
    "my_dict = {'name': 'John', 1: [2, 4, 3]}\n",
    "\n",
    "# using dict()\n",
    "my_dict = dict({1:'apple', 2:'ball'})\n",
    "\n",
    "# from sequence having each item as a pair\n",
    "my_dict = dict([(1,'apple'), (2,'ball')])"
   ]
  },
  {
   "cell_type": "markdown",
   "id": "1b8fe885-00d6-40c8-8eed-c00de1de9d54",
   "metadata": {},
   "source": [
    "<div style='background:#B1F9E3; color:#000000' class='alert alert-box'>\n",
    "  <h3>Accessing Elements from Dictionary</h3>\n",
    "  <p>While indexing is used with other data types to access values, a dictionary uses keys. Keys can be used either inside square brackets <code>[]</code> or with the <code>get()</code> method.</p>\n",
    "  <p>If we use the square brackets <code>[]</code>, a <code>KeyError</code> is raised if a key is not found in the dictionary. On the other hand, the <code>get()</code> method returns <code>None</code> if the key is not found.</p>\n",
    "</div>\n"
   ]
  },
  {
   "cell_type": "code",
   "execution_count": 2,
   "id": "5bcadadd-86c1-4beb-8570-f26386031f34",
   "metadata": {},
   "outputs": [
    {
     "name": "stdout",
     "output_type": "stream",
     "text": [
      "Jack\n",
      "26\n",
      "None\n"
     ]
    },
    {
     "ename": "KeyError",
     "evalue": "'address'",
     "output_type": "error",
     "traceback": [
      "\u001b[1;31m---------------------------------------------------------------------------\u001b[0m",
      "\u001b[1;31mKeyError\u001b[0m                                  Traceback (most recent call last)",
      "Cell \u001b[1;32mIn[2], line 15\u001b[0m\n\u001b[0;32m     12\u001b[0m \u001b[38;5;28mprint\u001b[39m(my_dict\u001b[38;5;241m.\u001b[39mget(\u001b[38;5;124m'\u001b[39m\u001b[38;5;124maddress\u001b[39m\u001b[38;5;124m'\u001b[39m))\n\u001b[0;32m     14\u001b[0m \u001b[38;5;66;03m# KeyError\u001b[39;00m\n\u001b[1;32m---> 15\u001b[0m \u001b[38;5;28mprint\u001b[39m(\u001b[43mmy_dict\u001b[49m\u001b[43m[\u001b[49m\u001b[38;5;124;43m'\u001b[39;49m\u001b[38;5;124;43maddress\u001b[39;49m\u001b[38;5;124;43m'\u001b[39;49m\u001b[43m]\u001b[49m)\n",
      "\u001b[1;31mKeyError\u001b[0m: 'address'"
     ]
    }
   ],
   "source": [
    "# get vs [] for retrieving elements\n",
    "my_dict = {'name': 'Jack', 'age': 26}\n",
    "\n",
    "# Output: Jack\n",
    "print(my_dict['name'])\n",
    "\n",
    "# Output: 26\n",
    "print(my_dict.get('age'))\n",
    "\n",
    "# Trying to access keys which doesn't exist throws error\n",
    "# Output None\n",
    "print(my_dict.get('address'))\n",
    "\n",
    "# KeyError\n",
    "print(my_dict['address'])"
   ]
  },
  {
   "cell_type": "markdown",
   "id": "02a8b6af-9571-4f99-99a8-9c771ede7943",
   "metadata": {},
   "source": [
    "<div style='background:#B1F9E3; color:#000000' class='alert alert-box'>\n",
    "  <h3>Changing and Adding Dictionary Elements</h3>\n",
    "  <p>Dictionaries are mutable. We can add new items or change the value of existing items using an assignment operator.</p>\n",
    "  <p>If the key is already present, the existing value gets updated. If the key is not present, a new <code>(key: value)</code> pair is added to the dictionary.</p>\n",
    "</div>\n"
   ]
  },
  {
   "cell_type": "code",
   "execution_count": 3,
   "id": "1c2de137-5375-4b6f-b2ac-38b5be79fdda",
   "metadata": {},
   "outputs": [
    {
     "name": "stdout",
     "output_type": "stream",
     "text": [
      "{'name': 'Jack', 'age': 27}\n",
      "{'name': 'Jack', 'age': 27, 'address': 'Downtown '}\n"
     ]
    }
   ],
   "source": [
    "# Changing and adding Dictionary ELements\n",
    "my_dict ={'name': 'Jack', 'age':26}\n",
    "# update value\n",
    "my_dict['age'] = 27\n",
    "\n",
    "#0utput: {'name' :'Jack','age':27,}\n",
    "print(my_dict)\n",
    "\n",
    "# add item\n",
    "my_dict[ 'address'] = 'Downtown '\n",
    "\n",
    "\n",
    "# Output: {'name': 'Jack' ,'age ' :27, 'address': 'Downtown'}\n",
    "print (my_dict)"
   ]
  },
  {
   "cell_type": "markdown",
   "id": "a4c75a1a-0c22-496d-8662-72c746893450",
   "metadata": {},
   "source": [
    "<div style='background:#B1F9E3; color:#000000' class='alert alert-box'>\n",
    "  <h3>Removing Elements from Dictionary</h3>\n",
    "  <p>We can remove a particular item in a dictionary by using the <code>pop()</code> method. This method removes an item with the provided key and returns the value.</p>\n",
    "  <p>The <code>popitem()</code> method can be used to remove and return an arbitrary <code>(key, value)</code> item pair from the dictionary. All the items can be removed at once using the <code>clear()</code> method.</p>\n",
    "  <p>We can also use the <code>del</code> keyword to remove individual items or the entire dictionary itself.</p>\n",
    "</div>\n"
   ]
  },
  {
   "cell_type": "code",
   "execution_count": 4,
   "id": "65acc2b2-7b19-4916-bc01-43aa58598960",
   "metadata": {
    "tags": []
   },
   "outputs": [
    {
     "name": "stdout",
     "output_type": "stream",
     "text": [
      "16\n",
      "{1: 1, 2: 4, 3: 9, 5: 25}\n",
      "(5, 25)\n",
      "{1: 1, 2: 4, 3: 9}\n",
      "{}\n"
     ]
    },
    {
     "ename": "NameError",
     "evalue": "name 'squares' is not defined",
     "output_type": "error",
     "traceback": [
      "\u001b[1;31m---------------------------------------------------------------------------\u001b[0m",
      "\u001b[1;31mNameError\u001b[0m                                 Traceback (most recent call last)",
      "Cell \u001b[1;32mIn[4], line 28\u001b[0m\n\u001b[0;32m     25\u001b[0m \u001b[38;5;28;01mdel\u001b[39;00m squares\n\u001b[0;32m     27\u001b[0m \u001b[38;5;66;03m# Throws Error\u001b[39;00m\n\u001b[1;32m---> 28\u001b[0m \u001b[38;5;28mprint\u001b[39m (\u001b[43msquares\u001b[49m)\n",
      "\u001b[1;31mNameError\u001b[0m: name 'squares' is not defined"
     ]
    }
   ],
   "source": [
    "# Removing elements from a dictionary\n",
    "# create a dictionary\n",
    "squares= {1: 1, 2: 4, 3: 9, 4: 16, 5: 25}\n",
    "\n",
    "# remove a particular item, returns its value\n",
    "# Output: 16\n",
    "print (squares. pop (4) )\n",
    "\n",
    "# Output: {1: 1, 2: 4, 3: 9, 5: 25}\n",
    "print (squares)\n",
    "\n",
    "# remove an arbitrary item, return (key, value)\n",
    "# Output: (5, 25)\n",
    "print (squares. popitem())\n",
    "\n",
    "# Output: {1: 1, 2: 4, 3: 9}\n",
    "print (squares)\n",
    "# remove all items\n",
    "\n",
    "squares. clear()\n",
    "# Output: { }\n",
    "print (squares)\n",
    "\n",
    "# delete the dictionary itself\n",
    "del squares\n",
    "\n",
    "# Throws Error\n",
    "print (squares)"
   ]
  },
  {
   "cell_type": "markdown",
   "id": "8e93aa0a-114f-4be1-978a-4f74147e4766",
   "metadata": {},
   "source": [
    "**Deleting a key:value in dictionary.**"
   ]
  },
  {
   "cell_type": "code",
   "execution_count": 5,
   "id": "1de977d9-ba35-438b-80f6-b49f91f19aa6",
   "metadata": {
    "tags": []
   },
   "outputs": [],
   "source": [
    "dlData1 = {'Name': 'Sharath',\n",
    "           'DOB': '01-09-2001' ,\n",
    "           'Place': 'Mysore' ,\n",
    "           'father name': 'Chandrashekar' ,\n",
    "           'Blood_group': 'B positive' ,\n",
    "           'Vehicle': 'LMV' }"
   ]
  },
  {
   "cell_type": "code",
   "execution_count": 6,
   "id": "a2a307c3-e80e-4433-aeaa-06ee5beed56b",
   "metadata": {
    "tags": []
   },
   "outputs": [
    {
     "name": "stdout",
     "output_type": "stream",
     "text": [
      "{'Name': 'Sharath', 'DOB': '01-09-2001', 'Place': 'Mysore', 'father name': 'Chandrashekar', 'Blood_group': 'B positive'}\n"
     ]
    }
   ],
   "source": [
    "del dlData1['Vehicle']\n",
    "print(dlData1)"
   ]
  },
  {
   "cell_type": "code",
   "execution_count": 7,
   "id": "d4001176-ac3a-4ba5-8ffb-5bf5ca593f89",
   "metadata": {
    "tags": []
   },
   "outputs": [
    {
     "name": "stdout",
     "output_type": "stream",
     "text": [
      "{'Name': 'Sharath', 'DOB': '01-09-2001', 'father name': 'Chandrashekar', 'Blood_group': 'B positive'}\n"
     ]
    }
   ],
   "source": [
    "del dlData1['Place']\n",
    "print(dlData1)"
   ]
  },
  {
   "cell_type": "markdown",
   "id": "5308e343-6d8f-40c2-a3f0-88c64801a50d",
   "metadata": {},
   "source": [
    "**Dictiona with eogra hical data.**"
   ]
  },
  {
   "cell_type": "code",
   "execution_count": 8,
   "id": "ef8e862a-5640-432e-b0a9-7dcaf490a915",
   "metadata": {
    "tags": []
   },
   "outputs": [],
   "source": [
    "point = {\n",
    "  \"type\": \"FeatureCollection\",\n",
    "  \"features\": [\n",
    "    {\n",
    "      \"type\": \"Feature\",\n",
    "      \"properties\": {},\n",
    "      \"geometry\": {\n",
    "        \"coordinates\": [\n",
    "          76.65577234323422,\n",
    "          12.311264457924779\n",
    "        ],\n",
    "        \"type\": \"Point\"\n",
    "      }\n",
    "    }\n",
    "  ]\n",
    "}"
   ]
  },
  {
   "cell_type": "code",
   "execution_count": 9,
   "id": "a05d3dca-be05-4490-b292-c8aabdeb9b12",
   "metadata": {
    "tags": []
   },
   "outputs": [
    {
     "data": {
      "text/plain": [
       "dict_keys(['type', 'features'])"
      ]
     },
     "execution_count": 9,
     "metadata": {},
     "output_type": "execute_result"
    }
   ],
   "source": [
    "point.keys()"
   ]
  },
  {
   "cell_type": "code",
   "execution_count": 10,
   "id": "5bde4934-fcd0-4105-991b-321e5c56d8b5",
   "metadata": {
    "tags": []
   },
   "outputs": [
    {
     "data": {
      "text/plain": [
       "{'type': 'Feature',\n",
       " 'properties': {},\n",
       " 'geometry': {'coordinates': [76.65577234323422, 12.311264457924779],\n",
       "  'type': 'Point'}}"
      ]
     },
     "execution_count": 10,
     "metadata": {},
     "output_type": "execute_result"
    }
   ],
   "source": [
    "point['features'][0]"
   ]
  },
  {
   "cell_type": "code",
   "execution_count": 11,
   "id": "0d89cc2b-056c-4aa5-9663-4604f827d06f",
   "metadata": {
    "tags": []
   },
   "outputs": [
    {
     "data": {
      "text/plain": [
       "{'coordinates': [76.65577234323422, 12.311264457924779], 'type': 'Point'}"
      ]
     },
     "execution_count": 11,
     "metadata": {},
     "output_type": "execute_result"
    }
   ],
   "source": [
    "point['features'][0]['geometry']"
   ]
  },
  {
   "cell_type": "code",
   "execution_count": 12,
   "id": "c4227fd4-e627-4903-a3a3-35fea535f6a0",
   "metadata": {
    "tags": []
   },
   "outputs": [
    {
     "data": {
      "text/plain": [
       "[76.65577234323422, 12.311264457924779]"
      ]
     },
     "execution_count": 12,
     "metadata": {},
     "output_type": "execute_result"
    }
   ],
   "source": [
    "point['features'][0]['geometry']['coordinates']"
   ]
  },
  {
   "cell_type": "markdown",
   "id": "fff68631-a23b-43d4-a1c2-aab69e5e9a7a",
   "metadata": {},
   "source": [
    "**Deleting a dictionary**"
   ]
  },
  {
   "cell_type": "code",
   "execution_count": 13,
   "id": "31982012-9324-411a-8a01-1e7601cd97d6",
   "metadata": {
    "tags": []
   },
   "outputs": [],
   "source": [
    "del dlData1"
   ]
  },
  {
   "cell_type": "code",
   "execution_count": 14,
   "id": "544057dd-c7fa-4f52-b341-e76ce3d8e568",
   "metadata": {
    "tags": []
   },
   "outputs": [
    {
     "ename": "NameError",
     "evalue": "name 'dlData1' is not defined",
     "output_type": "error",
     "traceback": [
      "\u001b[1;31m---------------------------------------------------------------------------\u001b[0m",
      "\u001b[1;31mNameError\u001b[0m                                 Traceback (most recent call last)",
      "Cell \u001b[1;32mIn[14], line 1\u001b[0m\n\u001b[1;32m----> 1\u001b[0m \u001b[43mdlData1\u001b[49m\n",
      "\u001b[1;31mNameError\u001b[0m: name 'dlData1' is not defined"
     ]
    }
   ],
   "source": [
    "dlData1"
   ]
  },
  {
   "cell_type": "markdown",
   "id": "04102dac-5607-433e-9909-985fecd21357",
   "metadata": {},
   "source": [
    "**Copying a dictionary**"
   ]
  },
  {
   "cell_type": "code",
   "execution_count": 15,
   "id": "e556441e-8d3b-4312-9c0b-afb31d7c3546",
   "metadata": {
    "tags": []
   },
   "outputs": [
    {
     "data": {
      "text/plain": [
       "{'type': 'FeatureCollection',\n",
       " 'features': [{'type': 'Feature',\n",
       "   'properties': {},\n",
       "   'geometry': {'coordinates': [76.65577234323422, 12.311264457924779],\n",
       "    'type': 'Point'}}]}"
      ]
     },
     "execution_count": 15,
     "metadata": {},
     "output_type": "execute_result"
    }
   ],
   "source": [
    "point"
   ]
  },
  {
   "cell_type": "code",
   "execution_count": 16,
   "id": "5ebd80ee-1fcf-41a6-914e-b10610f3e70f",
   "metadata": {
    "tags": []
   },
   "outputs": [
    {
     "name": "stdout",
     "output_type": "stream",
     "text": [
      "{'type': 'FeatureCollection', 'features': [{'type': 'Feature', 'properties': {}, 'geometry': {'coordinates': [76.65577234323422, 12.311264457924779], 'type': 'Point'}}]}\n"
     ]
    }
   ],
   "source": [
    "M2B =point.copy()\n",
    "print (M2B)"
   ]
  },
  {
   "cell_type": "code",
   "execution_count": 17,
   "id": "dca49c60-2aa7-4507-961b-33bcc44f5536",
   "metadata": {
    "tags": []
   },
   "outputs": [
    {
     "data": {
      "text/plain": [
       "1290748970688"
      ]
     },
     "execution_count": 17,
     "metadata": {},
     "output_type": "execute_result"
    }
   ],
   "source": [
    "id(M2B)"
   ]
  },
  {
   "cell_type": "markdown",
   "id": "272328b8-734f-4556-83cc-7619ca768ba4",
   "metadata": {},
   "source": [
    "**Dictionary Membership Test**\n",
    "\n",
    "We can test if a key is in a dictionary or not using the keyword in. Notice that the\n",
    "membership test is only for the keys and not for the values."
   ]
  },
  {
   "cell_type": "code",
   "execution_count": 18,
   "id": "d9094b1c-e902-41ec-a94d-e16fc6146aa8",
   "metadata": {
    "tags": []
   },
   "outputs": [
    {
     "name": "stdout",
     "output_type": "stream",
     "text": [
      "True\n",
      "True\n",
      "False\n"
     ]
    }
   ],
   "source": [
    "# Membership Test for Dictionary Keys\n",
    "squares ={1:1,3:9,5:25,7:49,9:81}\n",
    "\n",
    "# Output: True\n",
    "print(1 in squares)\n",
    "\n",
    "# Output: True\n",
    "print(2 not in squares)\n",
    "\n",
    "# membership tests for key only not value\n",
    "# Output: False\n",
    "print(49 in squares)"
   ]
  },
  {
   "cell_type": "markdown",
   "id": "38ce5860-4286-470a-a21f-5e6777128ec9",
   "metadata": {},
   "source": [
    "<table>\n",
    "  <tr>\n",
    "    <th>Method</th>\n",
    "    <th>Description</th>\n",
    "  </tr>\n",
    "  <tr>\n",
    "    <td><code>clear()</code></td>\n",
    "    <td>Removes all the elements from the dictionary.</td>\n",
    "  </tr>\n",
    "  <tr>\n",
    "    <td><code>copy()</code></td>\n",
    "    <td>Returns a copy of the dictionary.</td>\n",
    "  </tr>\n",
    "  <tr>\n",
    "    <td><code>fromkeys()</code></td>\n",
    "    <td>Returns a dictionary with the specified keys and value.</td>\n",
    "  </tr>\n",
    "  <tr>\n",
    "    <td><code>get()</code></td>\n",
    "    <td>Returns the value of the specified key.</td>\n",
    "  </tr>\n",
    "  <tr>\n",
    "    <td><code>items()</code></td>\n",
    "    <td>Returns a list containing a tuple for each key-value pair.</td>\n",
    "  </tr>\n",
    "  <tr>\n",
    "    <td><code>keys()</code></td>\n",
    "    <td>Returns a list containing the dictionary's keys.</td>\n",
    "  </tr>\n",
    "  <tr>\n",
    "    <td><code>pop()</code></td>\n",
    "    <td>Removes the element with the specified key.</td>\n",
    "  </tr>\n",
    "  <tr>\n",
    "    <td><code>popitem()</code></td>\n",
    "    <td>Removes the last inserted key-value pair.</td>\n",
    "  </tr>\n",
    "  <tr>\n",
    "    <td><code>setdefault()</code></td>\n",
    "    <td>Returns the value of the specified key. If the key does not exist, insert the key with the specified value.</td>\n",
    "  </tr>\n",
    "  <tr>\n",
    "    <td><code>update()</code></td>\n",
    "    <td>Updates the dictionary with the specified key-value pairs.</td>\n",
    "  </tr>\n",
    "  <tr>\n",
    "    <td><code>values()</code></td>\n",
    "    <td>Returns a list of all the values in the dictionary.</td>\n",
    "  </tr>\n",
    "</table>\n"
   ]
  }
 ],
 "metadata": {
  "kernelspec": {
   "display_name": "Python 3 (ipykernel)",
   "language": "python",
   "name": "python3"
  },
  "language_info": {
   "codemirror_mode": {
    "name": "ipython",
    "version": 3
   },
   "file_extension": ".py",
   "mimetype": "text/x-python",
   "name": "python",
   "nbconvert_exporter": "python",
   "pygments_lexer": "ipython3",
   "version": "3.12.4"
  }
 },
 "nbformat": 4,
 "nbformat_minor": 5
}
