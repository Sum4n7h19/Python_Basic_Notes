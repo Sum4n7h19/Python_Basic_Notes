{
 "cells": [
  {
   "cell_type": "markdown",
   "id": "c85b0a0d-6208-4055-9918-e64565a901ae",
   "metadata": {},
   "source": [
    "# Sequences - Tuple"
   ]
  },
  {
   "cell_type": "markdown",
   "id": "f1350931-a84d-4a6f-808e-ac50d4f6b142",
   "metadata": {},
   "source": [
    "<div style='background:#B1F9E3; color:#000000' class= 'alert alert-box'>\n",
    "<li>Tuples are used to store multiple items in a single variable.</li>\n",
    "<li>Tuple is one of 4 built-in data types in Python used to store collections of data, the\n",
    "other 3 are List, Set, and Dictionary, all with different qualities and usage.</li>\n",
    "<li>A tuple is a collection which is ordered and unchangeable.</li>\n",
    "<li>Tuples are written with round brackets.</li>\n",
    "<li>Benefits of Tuple</li>\n",
    "    <ul>\n",
    "    <li>faster than the list.</li>\n",
    "    <li>we can protect the data accidental changes.</li>\n",
    "    <li>tuples are immutable (once created we cannot able to edit it).</li>\n",
    "    </ul>\n",
    "<li>When we do not want to change the data overtime tuple is preferred data type.</li>\n",
    "</div>"
   ]
  },
  {
   "cell_type": "markdown",
   "id": "75422cc4-07b8-47b9-a75c-27bd876c2510",
   "metadata": {},
   "source": [
    "<div style='background:#B1F9E3; color:#000000' class= 'alert alert-box'>\n",
    "<h4>Creating a Tuple</h4>\n",
    "</div>"
   ]
  },
  {
   "cell_type": "code",
   "execution_count": 1,
   "id": "1639d123-278f-4b57-b3cd-db5be5ce7cd6",
   "metadata": {},
   "outputs": [
    {
     "name": "stdout",
     "output_type": "stream",
     "text": [
      "()\n"
     ]
    }
   ],
   "source": [
    "#Empty tuple\n",
    "# use of parentheses\n",
    "family = ()\n",
    "print(family)"
   ]
  },
  {
   "cell_type": "code",
   "execution_count": 2,
   "id": "0f5ff403-f002-4d7f-8fd7-57432b6ed9f7",
   "metadata": {},
   "outputs": [
    {
     "name": "stdout",
     "output_type": "stream",
     "text": [
      "(20240001, 20240002, 20240003)\n"
     ]
    }
   ],
   "source": [
    "# Tuple with integer\n",
    "aadharNo = (20240001, 20240002, 20240003)\n",
    "print(aadharNo)"
   ]
  },
  {
   "cell_type": "code",
   "execution_count": 3,
   "id": "d0e7cb13-9ba6-4f36-a444-a0c408cbaa56",
   "metadata": {},
   "outputs": [
    {
     "name": "stdout",
     "output_type": "stream",
     "text": [
      "(12.3122, 76.8341)\n"
     ]
    }
   ],
   "source": [
    "# Tuple with floating numbers\n",
    "latLon = (12.3122, 76.8341)\n",
    "print(latLon)"
   ]
  },
  {
   "cell_type": "code",
   "execution_count": 4,
   "id": "6e561e84-a12b-4e8c-8687-f4a20cc51dc6",
   "metadata": {},
   "outputs": [
    {
     "name": "stdout",
     "output_type": "stream",
     "text": [
      "(20.3, 21.3, 22.4, 21.8, 20.8, 19.6)\n"
     ]
    }
   ],
   "source": [
    "temp = (20.3, 21.3, 22.4, 21.8, 20.8, 19.6)\n",
    "print(temp)"
   ]
  },
  {
   "cell_type": "code",
   "execution_count": 5,
   "id": "4bbff014-0a7b-4fe9-ac51-0b318976076a",
   "metadata": {},
   "outputs": [
    {
     "name": "stdout",
     "output_type": "stream",
     "text": [
      "('mercury', 'venus', 'earth', 'mars', 'jupiter', 'saturn', 'uranus', 'neptune', 'pluto')\n"
     ]
    }
   ],
   "source": [
    "# Tuple with strings\n",
    "# if the tuple data is very long then make it in multiple line\n",
    "planets = (\"mercury\",\n",
    "           \"venus\",\n",
    "           \"earth\",\n",
    "           \"mars\",\n",
    "           \"jupiter\",\n",
    "           \"saturn\",\n",
    "           \"uranus\",\n",
    "           \"neptune\",\n",
    "           \"pluto\")\n",
    "print(planets)"
   ]
  },
  {
   "cell_type": "code",
   "execution_count": 6,
   "id": "1177acb0-1ff9-4067-a985-f5b8dbfe7404",
   "metadata": {},
   "outputs": [
    {
     "name": "stdout",
     "output_type": "stream",
     "text": [
      "('Sumanth M', 208951841426, 'AB+', 20010419, 'Mysore', 'karnataka')\n"
     ]
    }
   ],
   "source": [
    "# Tuple with mixed data\n",
    "aadharData = (\"Sumanth M\", 208951841426, \"AB+\", 20010419, \"Mysore\", \"karnataka\")\n",
    "print(aadharData)"
   ]
  },
  {
   "cell_type": "code",
   "execution_count": 7,
   "id": "fe55e738-d6a4-486b-bc18-a10c95fc2160",
   "metadata": {},
   "outputs": [
    {
     "name": "stdout",
     "output_type": "stream",
     "text": [
      "(('Shivakumar', 'Leelavathi'), 'Saritha', 'Shilpa', 'Sheela')\n",
      "(('Maheshkumar', 'Saritha'), 'Sumanth', ('Shivashankar', 'Shilpa'), 'Tejaswini', 'Vedika', ('Shubakar', 'Sheela'), 'Lohith')\n"
     ]
    }
   ],
   "source": [
    "# Nested tuple (tuple inside a tuple)\n",
    "familyTreeGen1 = ((\"Shivakumar\", \"Leelavathi\"), \"Saritha\", \"Shilpa\", \"Sheela\")\n",
    "familyTreeGen2 = ((\"Maheshkumar\", \"Saritha\"), \"Sumanth\",\n",
    "(\"Shivashankar\", \"Shilpa\"), \"Tejaswini\", \"Vedika\",\n",
    "(\"Shubakar\",\"Sheela\"), \"Lohith\")\n",
    "print(familyTreeGen1)\n",
    "print(familyTreeGen2)"
   ]
  },
  {
   "cell_type": "code",
   "execution_count": 8,
   "id": "ddc0d8fd-1d3b-4acb-98d2-0330febb3271",
   "metadata": {},
   "outputs": [
    {
     "name": "stdout",
     "output_type": "stream",
     "text": [
      "('Sumanth', ('Maheshkumar', 'Saritha'), ['TV', 'Fridge', 'AC', 'Bike', 'Car'])\n"
     ]
    }
   ],
   "source": [
    "# List inside a tuple\n",
    "# We can modify list inside a tuple but we can't modify tuple inside a tuple\n",
    "home = (\"Sumanth\", (\"Maheshkumar\", \"Saritha\"), [\"TV\", \"Fridge\", \"AC\", \"Bike\", \"Car\"])\n",
    "print(home)"
   ]
  },
  {
   "cell_type": "code",
   "execution_count": 9,
   "id": "9b04a562-9c1c-4874-88a7-49ba7510a18f",
   "metadata": {},
   "outputs": [
    {
     "name": "stdout",
     "output_type": "stream",
     "text": [
      "('mercury', 'venus', 'earth', 'mars', 'jupiter', 'saturn', 'uranus', 'neptune', 'pluto')\n"
     ]
    }
   ],
   "source": [
    "# Indexing a tuple\n",
    "print(planets)"
   ]
  },
  {
   "cell_type": "code",
   "execution_count": 10,
   "id": "1a6946a0-c1aa-4ebc-99de-c591281d2790",
   "metadata": {},
   "outputs": [
    {
     "data": {
      "text/plain": [
       "'mercury'"
      ]
     },
     "execution_count": 10,
     "metadata": {},
     "output_type": "execute_result"
    }
   ],
   "source": [
    "planets[0]"
   ]
  },
  {
   "cell_type": "code",
   "execution_count": 11,
   "id": "01355f06-a170-417a-9536-9b98cdcadd8c",
   "metadata": {},
   "outputs": [
    {
     "data": {
      "text/plain": [
       "'pluto'"
      ]
     },
     "execution_count": 11,
     "metadata": {},
     "output_type": "execute_result"
    }
   ],
   "source": [
    "planets[-1]"
   ]
  },
  {
   "cell_type": "code",
   "execution_count": 12,
   "id": "dd833b8b-06e2-48f2-877b-256b8d482d32",
   "metadata": {},
   "outputs": [
    {
     "name": "stdout",
     "output_type": "stream",
     "text": [
      "('Sumanth', ('Maheshkumar', 'Saritha'), ['TV', 'Fridge', 'AC', 'Bike', 'Car'])\n"
     ]
    }
   ],
   "source": [
    "# indexing a nested tuple\n",
    "print(home)"
   ]
  },
  {
   "cell_type": "code",
   "execution_count": 13,
   "id": "9da56502-c1c8-4303-aa6f-c4f2995d4014",
   "metadata": {},
   "outputs": [
    {
     "data": {
      "text/plain": [
       "'Sumanth'"
      ]
     },
     "execution_count": 13,
     "metadata": {},
     "output_type": "execute_result"
    }
   ],
   "source": [
    "# Accessing elements inside a tuple\n",
    "home[0]"
   ]
  },
  {
   "cell_type": "code",
   "execution_count": 14,
   "id": "6b34807f-c951-4c93-8590-4cff8a6e0d4b",
   "metadata": {},
   "outputs": [
    {
     "data": {
      "text/plain": [
       "'Maheshkumar'"
      ]
     },
     "execution_count": 14,
     "metadata": {},
     "output_type": "execute_result"
    }
   ],
   "source": [
    "# Accessing a items inside a nested tuple\n",
    "home[1][0]"
   ]
  },
  {
   "cell_type": "code",
   "execution_count": 15,
   "id": "6f55fcc6-823a-45e0-a8e8-926f7fd81c5a",
   "metadata": {},
   "outputs": [
    {
     "data": {
      "text/plain": [
       "'TV'"
      ]
     },
     "execution_count": 15,
     "metadata": {},
     "output_type": "execute_result"
    }
   ],
   "source": [
    "# Accessing a items inside a nested list\n",
    "home[2][0]"
   ]
  },
  {
   "cell_type": "code",
   "execution_count": 16,
   "id": "cb7682aa-ac29-44a4-b22b-f1ca4fa02f63",
   "metadata": {},
   "outputs": [
    {
     "name": "stdout",
     "output_type": "stream",
     "text": [
      "('mercury', 'venus', 'earth', 'mars', 'jupiter', 'saturn', 'uranus', 'neptune', 'pluto')\n"
     ]
    }
   ],
   "source": [
    "# Tuple slicing\n",
    "print(planets)"
   ]
  },
  {
   "cell_type": "code",
   "execution_count": 17,
   "id": "b1c034b3-6cf9-45cd-b197-2e28640bd9bd",
   "metadata": {},
   "outputs": [
    {
     "data": {
      "text/plain": [
       "('mercury', 'venus', 'earth')"
      ]
     },
     "execution_count": 17,
     "metadata": {},
     "output_type": "execute_result"
    }
   ],
   "source": [
    "# Extracting specific items in a tuple\n",
    "planets[0:3]"
   ]
  },
  {
   "cell_type": "code",
   "execution_count": 18,
   "id": "7984fbd3-0734-4dfc-af49-d479ca958182",
   "metadata": {},
   "outputs": [
    {
     "data": {
      "text/plain": [
       "('pluto',\n",
       " 'neptune',\n",
       " 'uranus',\n",
       " 'saturn',\n",
       " 'jupiter',\n",
       " 'mars',\n",
       " 'earth',\n",
       " 'venus',\n",
       " 'mercury')"
      ]
     },
     "execution_count": 18,
     "metadata": {},
     "output_type": "execute_result"
    }
   ],
   "source": [
    "# Reversing a Tuple\n",
    "planets[::-1]"
   ]
  },
  {
   "cell_type": "code",
   "execution_count": 19,
   "id": "78f4c9f7-09b8-4b68-8f62-4c592f866096",
   "metadata": {},
   "outputs": [],
   "source": [
    "# updating a tuple\n",
    "student = (\"Sharath\", \"Harshitha\", \"Nithya\")\n",
    "Faculty = (\"Vinay\", \"Rekha\", \"Papanna\", \"Ramu\")"
   ]
  },
  {
   "cell_type": "code",
   "execution_count": 20,
   "id": "a40c00a4-2ab2-4fcc-9907-f4837fdf7c37",
   "metadata": {},
   "outputs": [
    {
     "name": "stdout",
     "output_type": "stream",
     "text": [
      "('Sharath', 'Harshitha', 'Nithya', 'Vinay', 'Rekha', 'Papanna', 'Ramu')\n"
     ]
    }
   ],
   "source": [
    "total = student + Faculty\n",
    "print(total)"
   ]
  },
  {
   "cell_type": "code",
   "execution_count": 21,
   "id": "99b4368b-00a1-42bb-8648-7d430b7ee049",
   "metadata": {},
   "outputs": [
    {
     "name": "stdout",
     "output_type": "stream",
     "text": [
      "('mercury', 'venus', 'earth', 'mars', 'jupiter', 'saturn', 'uranus', 'neptune', 'pluto')\n"
     ]
    }
   ],
   "source": [
    "# Updating a tuple\n",
    "print(planets)"
   ]
  },
  {
   "cell_type": "markdown",
   "id": "b94fea68-be62-4ff5-bb14-5a04e4abdded",
   "metadata": {},
   "source": [
    "```\n",
    "Python code to update tuple index value 0 to the string sun\n",
    "planets[0] = \"Sun\"\n",
    "```\n",
    "this will throw an error: TypeError: 'tuple' object does not support item assignment"
   ]
  },
  {
   "cell_type": "code",
   "execution_count": 22,
   "id": "c2e7aa48-1994-48fc-b4c1-1de6b1f15f35",
   "metadata": {},
   "outputs": [
    {
     "data": {
      "text/plain": [
       "list"
      ]
     },
     "execution_count": 22,
     "metadata": {},
     "output_type": "execute_result"
    }
   ],
   "source": [
    "# Converting a list to tuple\n",
    "office_Staff = [\"Guru\", \"Kumari\", \"Chetan\", \"Apoorva\", \"Vishakanta\"]\n",
    "type(office_Staff)"
   ]
  },
  {
   "cell_type": "code",
   "execution_count": 23,
   "id": "148ac9a4-d30f-4903-8e7a-f9297be01a35",
   "metadata": {},
   "outputs": [
    {
     "name": "stdout",
     "output_type": "stream",
     "text": [
      "('Guru', 'Kumari', 'Chetan', 'Apoorva', 'Vishakanta')\n"
     ]
    },
    {
     "data": {
      "text/plain": [
       "tuple"
      ]
     },
     "execution_count": 23,
     "metadata": {},
     "output_type": "execute_result"
    }
   ],
   "source": [
    "officeStaff_permanent = tuple(office_Staff)\n",
    "print(officeStaff_permanent)\n",
    "type(officeStaff_permanent)"
   ]
  },
  {
   "cell_type": "code",
   "execution_count": 24,
   "id": "f7380192-bb86-444f-8753-2d993c9a4164",
   "metadata": {},
   "outputs": [
    {
     "name": "stdout",
     "output_type": "stream",
     "text": [
      "('mercury', 'venus', 'earth', 'mars', 'jupiter', 'saturn', 'uranus', 'neptune', 'pluto')\n"
     ]
    },
    {
     "data": {
      "text/plain": [
       "tuple"
      ]
     },
     "execution_count": 24,
     "metadata": {},
     "output_type": "execute_result"
    }
   ],
   "source": [
    "# Converting tuple to list\n",
    "print(planets)\n",
    "type(planets)"
   ]
  },
  {
   "cell_type": "code",
   "execution_count": 25,
   "id": "138f77c4-df7a-4477-8af6-fc380e75a80b",
   "metadata": {},
   "outputs": [
    {
     "name": "stdout",
     "output_type": "stream",
     "text": [
      "['mercury', 'venus', 'earth', 'mars', 'jupiter', 'saturn', 'uranus', 'neptune', 'pluto']\n"
     ]
    },
    {
     "data": {
      "text/plain": [
       "list"
      ]
     },
     "execution_count": 25,
     "metadata": {},
     "output_type": "execute_result"
    }
   ],
   "source": [
    "planetsList = list(planets)\n",
    "print(planetsList)\n",
    "type(planetsList)"
   ]
  },
  {
   "cell_type": "code",
   "execution_count": 26,
   "id": "6d53699f-77b9-4702-a896-9c6ca354be3c",
   "metadata": {},
   "outputs": [],
   "source": [
    "# Deleting a tuple\n",
    "del planets"
   ]
  },
  {
   "cell_type": "markdown",
   "id": "99e688d1-a4de-40d3-a515-112dee6a86d2",
   "metadata": {},
   "source": [
    "```Python code \n",
    "print(planets)\n",
    "```\n",
    "this will throw an error: NameError: name 'planets' is not defined"
   ]
  },
  {
   "cell_type": "markdown",
   "id": "c01d8584-33f1-47e6-aa5a-ffd04dcdfca8",
   "metadata": {},
   "source": [
    "<div style='background:#B1F9E3; color:#000000' class= 'alert alert-box'>\n",
    "<h4>Tuple Functions</h4>\n",
    "</div>"
   ]
  },
  {
   "cell_type": "markdown",
   "id": "97bef874-a018-478c-b022-2b114aafc887",
   "metadata": {},
   "source": [
    "<table>\n",
    "        <tr>\n",
    "<th>Metho</th> <th>Description</th>\n",
    "            </tr>\n",
    "<tr>\n",
    "<td>count()</td> <td>Returns the number of times a specified value occurs in a tuple</td>\n",
    "    </tr>\n",
    "<td>index()</td> <td> Searches the tuple for a specified value and returns the position of where it\n",
    "was found</td>\n",
    "</table>"
   ]
  },
  {
   "cell_type": "code",
   "execution_count": 27,
   "id": "0a7a9e4b-3ded-4137-a168-edc9412108e3",
   "metadata": {},
   "outputs": [
    {
     "name": "stdout",
     "output_type": "stream",
     "text": [
      "('Guru', 'Kumari', 'Chetan', 'Apoorva', 'Vishakanta')\n"
     ]
    }
   ],
   "source": [
    "# Counting an item inside a tuple\n",
    "print(officeStaff_permanent)"
   ]
  },
  {
   "cell_type": "code",
   "execution_count": 28,
   "id": "4e4f15fc-0797-4255-abbf-1689e7b6c30e",
   "metadata": {},
   "outputs": [
    {
     "data": {
      "text/plain": [
       "1"
      ]
     },
     "execution_count": 28,
     "metadata": {},
     "output_type": "execute_result"
    }
   ],
   "source": [
    "officeStaff_permanent.count(\"Guru\")"
   ]
  },
  {
   "cell_type": "code",
   "execution_count": 29,
   "id": "3796fc3b-3c9e-4ca9-976e-ff0d34ea407d",
   "metadata": {},
   "outputs": [
    {
     "data": {
      "text/plain": [
       "0"
      ]
     },
     "execution_count": 29,
     "metadata": {},
     "output_type": "execute_result"
    }
   ],
   "source": [
    "# Python is case sensitive\n",
    "officeStaff_permanent.count(\"guru\")"
   ]
  },
  {
   "cell_type": "code",
   "execution_count": 30,
   "id": "dc7f2aa8-8585-4061-b8a1-642fc813a7da",
   "metadata": {},
   "outputs": [
    {
     "data": {
      "text/plain": [
       "2"
      ]
     },
     "execution_count": 30,
     "metadata": {},
     "output_type": "execute_result"
    }
   ],
   "source": [
    "# Finding an index of an item\n",
    "officeStaff_permanent.index(\"Chetan\")"
   ]
  },
  {
   "cell_type": "markdown",
   "id": "15161bc3-1506-4b44-a239-c89749c58855",
   "metadata": {},
   "source": [
    "``` python code\n",
    "officeStaff_permanent.index(\"vinay\")\n",
    "```\n",
    "this will throw an error: ValueError: tuple.index(x): x not in tuple"
   ]
  },
  {
   "cell_type": "code",
   "execution_count": 31,
   "id": "23b89ad9-24e7-4079-a53a-4374bd0ed316",
   "metadata": {},
   "outputs": [
    {
     "name": "stdout",
     "output_type": "stream",
     "text": [
      "('Guru', 'Kumari', 'Chetan', 'Apoorva', 'Vishakanta')\n"
     ]
    }
   ],
   "source": [
    "# Tuple membership\n",
    "print(officeStaff_permanent)"
   ]
  },
  {
   "cell_type": "code",
   "execution_count": 32,
   "id": "8e34c91d-264f-4e9e-bfc9-40866df56813",
   "metadata": {},
   "outputs": [
    {
     "data": {
      "text/plain": [
       "False"
      ]
     },
     "execution_count": 32,
     "metadata": {},
     "output_type": "execute_result"
    }
   ],
   "source": [
    "\"Vinay\" in officeStaff_permanent"
   ]
  },
  {
   "cell_type": "code",
   "execution_count": 33,
   "id": "f39aa47f-24ff-4e4e-b39e-9e6c690535b9",
   "metadata": {},
   "outputs": [
    {
     "data": {
      "text/plain": [
       "True"
      ]
     },
     "execution_count": 33,
     "metadata": {},
     "output_type": "execute_result"
    }
   ],
   "source": [
    "\"Apoorva\" in officeStaff_permanent"
   ]
  },
  {
   "cell_type": "code",
   "execution_count": 34,
   "id": "f9f4736c-39b4-4bc6-9d7f-5fc3d7d30325",
   "metadata": {},
   "outputs": [
    {
     "name": "stdout",
     "output_type": "stream",
     "text": [
      "(5.7, 5.6, 5.4, 4.1, 5.1, 5.4, 5.2, 4.8, 6.0)\n"
     ]
    }
   ],
   "source": [
    "# Sorting a tuple\n",
    "height = (5.7, 5.6, 5.4, 4.10, 5.10, 5.4, 5.2, 4.8, 6.0)\n",
    "print(height)"
   ]
  },
  {
   "cell_type": "code",
   "execution_count": 35,
   "id": "67eebb3a-863b-4aa6-8220-ce8082d611b6",
   "metadata": {},
   "outputs": [
    {
     "data": {
      "text/plain": [
       "[4.1, 4.8, 5.1, 5.2, 5.4, 5.4, 5.6, 5.7, 6.0]"
      ]
     },
     "execution_count": 35,
     "metadata": {},
     "output_type": "execute_result"
    }
   ],
   "source": [
    "sorted(height)"
   ]
  },
  {
   "cell_type": "code",
   "execution_count": 36,
   "id": "d8276b53-13d7-48d1-ac00-0d10540bfe98",
   "metadata": {},
   "outputs": [
    {
     "data": {
      "text/plain": [
       "[6.0, 5.7, 5.6, 5.4, 5.4, 5.2, 5.1, 4.8, 4.1]"
      ]
     },
     "execution_count": 36,
     "metadata": {},
     "output_type": "execute_result"
    }
   ],
   "source": [
    "sorted(height, reverse= True)"
   ]
  },
  {
   "cell_type": "code",
   "execution_count": 37,
   "id": "07eb8a50-8170-4b2d-90bd-220730006b00",
   "metadata": {},
   "outputs": [
    {
     "name": "stdout",
     "output_type": "stream",
     "text": [
      "(4.1, 4.8, 5.1, 5.2, 5.4, 5.4, 5.6, 5.7, 6.0)\n"
     ]
    }
   ],
   "source": [
    "height_ascending = tuple(sorted(height))\n",
    "print(height_ascending)"
   ]
  },
  {
   "cell_type": "code",
   "execution_count": 38,
   "id": "5f1c2b40-d935-4890-b21d-fce4c6128997",
   "metadata": {},
   "outputs": [
    {
     "name": "stdout",
     "output_type": "stream",
     "text": [
      "(6.0, 5.7, 5.6, 5.4, 5.4, 5.2, 5.1, 4.8, 4.1)\n"
     ]
    }
   ],
   "source": [
    "height_decending = tuple(sorted(height, reverse = True))\n",
    "print(height_decending)"
   ]
  }
 ],
 "metadata": {
  "kernelspec": {
   "display_name": "Python 3 (ipykernel)",
   "language": "python",
   "name": "python3"
  },
  "language_info": {
   "codemirror_mode": {
    "name": "ipython",
    "version": 3
   },
   "file_extension": ".py",
   "mimetype": "text/x-python",
   "name": "python",
   "nbconvert_exporter": "python",
   "pygments_lexer": "ipython3",
   "version": "3.12.4"
  }
 },
 "nbformat": 4,
 "nbformat_minor": 5
}
