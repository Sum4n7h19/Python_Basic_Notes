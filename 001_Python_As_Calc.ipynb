{
 "cells": [
  {
   "cell_type": "markdown",
   "id": "99d689f8-6f2a-4624-84ea-994aed27d1d0",
   "metadata": {},
   "source": [
    "# Python as a Calculator"
   ]
  },
  {
   "cell_type": "code",
   "execution_count": 1,
   "id": "ae498262-2bdf-4767-9473-42a4aaf4acd5",
   "metadata": {
    "tags": []
   },
   "outputs": [
    {
     "data": {
      "text/plain": [
       "3"
      ]
     },
     "execution_count": 1,
     "metadata": {},
     "output_type": "execute_result"
    }
   ],
   "source": [
    "#Addition of two Numbers\n",
    "2+1"
   ]
  },
  {
   "cell_type": "code",
   "execution_count": 2,
   "id": "b2e017a6-00d1-4a94-8fa6-50fad760ef68",
   "metadata": {
    "tags": []
   },
   "outputs": [
    {
     "data": {
      "text/plain": [
       "3"
      ]
     },
     "execution_count": 2,
     "metadata": {},
     "output_type": "execute_result"
    }
   ],
   "source": [
    "#Addition of two Numbers\n",
    "2+1"
   ]
  },
  {
   "cell_type": "code",
   "execution_count": 3,
   "id": "2eace1f0-fd4e-4560-b35d-86644ecfb0a8",
   "metadata": {
    "tags": []
   },
   "outputs": [
    {
     "data": {
      "text/plain": [
       "69"
      ]
     },
     "execution_count": 3,
     "metadata": {},
     "output_type": "execute_result"
    }
   ],
   "source": [
    "#Subtraction of two numbers\n",
    "192-123"
   ]
  },
  {
   "cell_type": "code",
   "execution_count": 4,
   "id": "64715f79-46c7-4d1b-be41-0ba04f6da67b",
   "metadata": {
    "tags": []
   },
   "outputs": [
    {
     "data": {
      "text/plain": [
       "1476"
      ]
     },
     "execution_count": 4,
     "metadata": {},
     "output_type": "execute_result"
    }
   ],
   "source": [
    "#Multiplictaion of Two numbers\n",
    "12*123"
   ]
  },
  {
   "cell_type": "code",
   "execution_count": 5,
   "id": "b29452f4-83b3-495d-875b-459b1ca38078",
   "metadata": {
    "tags": []
   },
   "outputs": [
    {
     "data": {
      "text/plain": [
       "10.173913043478262"
      ]
     },
     "execution_count": 5,
     "metadata": {},
     "output_type": "execute_result"
    }
   ],
   "source": [
    "#Division of two numbers\n",
    "234/23"
   ]
  },
  {
   "cell_type": "code",
   "execution_count": 6,
   "id": "64196679-8556-4b94-9ff9-efe22a8672b3",
   "metadata": {
    "tags": []
   },
   "outputs": [
    {
     "data": {
      "text/plain": [
       "10"
      ]
     },
     "execution_count": 6,
     "metadata": {},
     "output_type": "execute_result"
    }
   ],
   "source": [
    "#Floor Division of two numbers\n",
    "234//23"
   ]
  },
  {
   "cell_type": "code",
   "execution_count": 7,
   "id": "3a4dc768-d6db-454c-9828-399aa84257ed",
   "metadata": {
    "tags": []
   },
   "outputs": [
    {
     "data": {
      "text/plain": [
       "4"
      ]
     },
     "execution_count": 7,
     "metadata": {},
     "output_type": "execute_result"
    }
   ],
   "source": [
    "#Modolus of Two numbers\n",
    "234%23"
   ]
  },
  {
   "cell_type": "code",
   "execution_count": 8,
   "id": "04f6b686-4a94-4d65-807c-a66a10851fde",
   "metadata": {
    "tags": []
   },
   "outputs": [
    {
     "data": {
      "text/plain": [
       "65536"
      ]
     },
     "execution_count": 8,
     "metadata": {},
     "output_type": "execute_result"
    }
   ],
   "source": [
    "# Exponent of Two numbers\n",
    "4**8"
   ]
  },
  {
   "cell_type": "markdown",
   "id": "2c8cd9ad-ab0c-4544-8a92-4bebc3b48d40",
   "metadata": {},
   "source": [
    "## Type Checking"
   ]
  },
  {
   "cell_type": "code",
   "execution_count": 11,
   "id": "45566de9-697b-4865-be87-3f05a0c431a6",
   "metadata": {
    "tags": []
   },
   "outputs": [
    {
     "data": {
      "text/plain": [
       "int"
      ]
     },
     "execution_count": 11,
     "metadata": {},
     "output_type": "execute_result"
    }
   ],
   "source": [
    "#Checking data type\n",
    "# int\n",
    "type(3)"
   ]
  },
  {
   "cell_type": "code",
   "execution_count": 12,
   "id": "5dcd847e-054a-4b3a-ae7d-2f932be8c84e",
   "metadata": {
    "tags": []
   },
   "outputs": [
    {
     "data": {
      "text/plain": [
       "float"
      ]
     },
     "execution_count": 12,
     "metadata": {},
     "output_type": "execute_result"
    }
   ],
   "source": [
    "# float\n",
    "type(3.1)"
   ]
  },
  {
   "cell_type": "code",
   "execution_count": 13,
   "id": "3b7d436b-2444-4000-88bc-df2d1b95ba5b",
   "metadata": {
    "tags": []
   },
   "outputs": [
    {
     "data": {
      "text/plain": [
       "complex"
      ]
     },
     "execution_count": 13,
     "metadata": {},
     "output_type": "execute_result"
    }
   ],
   "source": [
    "# Complex\n",
    "type(3j)"
   ]
  },
  {
   "cell_type": "code",
   "execution_count": 14,
   "id": "8169fed4-74b6-4e8b-b120-059b6436c76d",
   "metadata": {
    "tags": []
   },
   "outputs": [
    {
     "data": {
      "text/plain": [
       "int"
      ]
     },
     "execution_count": 14,
     "metadata": {},
     "output_type": "execute_result"
    }
   ],
   "source": [
    "type(0x3122)"
   ]
  },
  {
   "cell_type": "code",
   "execution_count": 15,
   "id": "7427bad3-32e6-4bd7-883b-7b7f1953ff3c",
   "metadata": {
    "tags": []
   },
   "outputs": [
    {
     "data": {
      "text/plain": [
       "'0x3'"
      ]
     },
     "execution_count": 15,
     "metadata": {},
     "output_type": "execute_result"
    }
   ],
   "source": [
    "hex(3)"
   ]
  },
  {
   "cell_type": "code",
   "execution_count": 19,
   "id": "8fefcf26-d16a-4ec8-843e-e9466dfd28fb",
   "metadata": {
    "tags": []
   },
   "outputs": [
    {
     "data": {
      "text/plain": [
       "str"
      ]
     },
     "execution_count": 19,
     "metadata": {},
     "output_type": "execute_result"
    }
   ],
   "source": [
    "# String\n",
    "type(hex(3))"
   ]
  },
  {
   "cell_type": "code",
   "execution_count": 20,
   "id": "9ab64dc5-36a6-4313-9623-ebf303df221d",
   "metadata": {
    "tags": []
   },
   "outputs": [
    {
     "data": {
      "text/plain": [
       "str"
      ]
     },
     "execution_count": 20,
     "metadata": {},
     "output_type": "execute_result"
    }
   ],
   "source": [
    "type('sumant')"
   ]
  },
  {
   "cell_type": "code",
   "execution_count": 21,
   "id": "c3a3586c-1c8c-486b-a65c-4c74ba1d05c1",
   "metadata": {
    "tags": []
   },
   "outputs": [
    {
     "data": {
      "text/plain": [
       "bool"
      ]
     },
     "execution_count": 21,
     "metadata": {},
     "output_type": "execute_result"
    }
   ],
   "source": [
    "# Boolean\n",
    "type(True)"
   ]
  },
  {
   "cell_type": "code",
   "execution_count": 22,
   "id": "b54352d6-ddec-4ae8-8227-6531140c1f0c",
   "metadata": {
    "tags": []
   },
   "outputs": [
    {
     "data": {
      "text/plain": [
       "bool"
      ]
     },
     "execution_count": 22,
     "metadata": {},
     "output_type": "execute_result"
    }
   ],
   "source": [
    "type(False)"
   ]
  },
  {
   "cell_type": "code",
   "execution_count": 23,
   "id": "77be37bf-fa5d-4cb6-a878-7dfdf6c452ca",
   "metadata": {
    "tags": []
   },
   "outputs": [
    {
     "data": {
      "text/plain": [
       "'0b101'"
      ]
     },
     "execution_count": 23,
     "metadata": {},
     "output_type": "execute_result"
    }
   ],
   "source": [
    "bin(5)"
   ]
  },
  {
   "cell_type": "markdown",
   "id": "63df884f-1d7c-4445-83d6-cba33f51dce6",
   "metadata": {},
   "source": [
    "## Type Casting"
   ]
  },
  {
   "cell_type": "code",
   "execution_count": 24,
   "id": "8fb36f70-a65e-4ab3-9b94-bffd8df4cf70",
   "metadata": {
    "tags": []
   },
   "outputs": [
    {
     "data": {
      "text/plain": [
       "3.0"
      ]
     },
     "execution_count": 24,
     "metadata": {},
     "output_type": "execute_result"
    }
   ],
   "source": [
    "#Type Casting = converting integer(int) to float\n",
    "float(3)"
   ]
  },
  {
   "cell_type": "code",
   "execution_count": 25,
   "id": "505b15dc-867a-440d-b76a-b74b57265f8c",
   "metadata": {
    "tags": []
   },
   "outputs": [
    {
     "data": {
      "text/plain": [
       "3"
      ]
     },
     "execution_count": 25,
     "metadata": {},
     "output_type": "execute_result"
    }
   ],
   "source": [
    "#Type Casting = converting float to integer\n",
    "int(3.0)"
   ]
  },
  {
   "cell_type": "markdown",
   "id": "5e86eb11-c4ee-4630-b1e6-e2e2857b64a7",
   "metadata": {},
   "source": [
    "### Zen of Python"
   ]
  },
  {
   "cell_type": "code",
   "execution_count": 26,
   "id": "302e60a2-f2b5-473d-a6fe-178a03ad4610",
   "metadata": {
    "tags": []
   },
   "outputs": [
    {
     "name": "stdout",
     "output_type": "stream",
     "text": [
      "The Zen of Python, by Tim Peters\n",
      "\n",
      "Beautiful is better than ugly.\n",
      "Explicit is better than implicit.\n",
      "Simple is better than complex.\n",
      "Complex is better than complicated.\n",
      "Flat is better than nested.\n",
      "Sparse is better than dense.\n",
      "Readability counts.\n",
      "Special cases aren't special enough to break the rules.\n",
      "Although practicality beats purity.\n",
      "Errors should never pass silently.\n",
      "Unless explicitly silenced.\n",
      "In the face of ambiguity, refuse the temptation to guess.\n",
      "There should be one-- and preferably only one --obvious way to do it.\n",
      "Although that way may not be obvious at first unless you're Dutch.\n",
      "Now is better than never.\n",
      "Although never is often better than *right* now.\n",
      "If the implementation is hard to explain, it's a bad idea.\n",
      "If the implementation is easy to explain, it may be a good idea.\n",
      "Namespaces are one honking great idea -- let's do more of those!\n"
     ]
    }
   ],
   "source": [
    "import this"
   ]
  },
  {
   "cell_type": "code",
   "execution_count": 27,
   "id": "2425a92b-3249-438a-b363-f16c6459f20b",
   "metadata": {
    "tags": []
   },
   "outputs": [],
   "source": [
    "import __hello__"
   ]
  },
  {
   "cell_type": "code",
   "execution_count": 28,
   "id": "aab07cb9-1bc3-4d0a-8734-d9f89998a221",
   "metadata": {
    "tags": []
   },
   "outputs": [],
   "source": [
    "import antigravity"
   ]
  },
  {
   "cell_type": "markdown",
   "id": "9ef2710a-c890-4c5e-81d4-064caf0e78f7",
   "metadata": {},
   "source": [
    "### Keywords in Python\n",
    "\n",
    "Python keywords are special reserved words that have specific meanings and purposes and\n",
    "can't be used for anything but those specific purposes."
   ]
  },
  {
   "cell_type": "markdown",
   "id": "ff053d4e-cffc-4933-95e5-b7ccabc865d7",
   "metadata": {},
   "source": [
    "#### Printing List of Keywords in Python"
   ]
  },
  {
   "cell_type": "code",
   "execution_count": 29,
   "id": "2de4c950-1787-41c9-8c49-b2279e85b1f2",
   "metadata": {
    "tags": []
   },
   "outputs": [
    {
     "name": "stdout",
     "output_type": "stream",
     "text": [
      "['False', 'None', 'True', 'and', 'as', 'assert', 'async', 'await', 'break', 'class', 'continue', 'def', 'del', 'elif', 'else', 'except', 'finally', 'for', 'from', 'global', 'if', 'import', 'in', 'is', 'lambda', 'nonlocal', 'not', 'or', 'pass', 'raise', 'return', 'try', 'while', 'with', 'yield']\n"
     ]
    }
   ],
   "source": [
    "import keyword\n",
    "print(keyword.kwlist)"
   ]
  },
  {
   "cell_type": "code",
   "execution_count": 30,
   "id": "10d5bc20-594b-4c5e-ab02-58dc693f109a",
   "metadata": {
    "tags": []
   },
   "outputs": [
    {
     "data": {
      "text/plain": [
       "35"
      ]
     },
     "execution_count": 30,
     "metadata": {},
     "output_type": "execute_result"
    }
   ],
   "source": [
    "len(keyword.kwlist)"
   ]
  },
  {
   "cell_type": "markdown",
   "id": "585cdf29-7f1e-4f52-9563-72e84f1bd33c",
   "metadata": {},
   "source": [
    "**Conclusion:** There are 36 keywords in python."
   ]
  }
 ],
 "metadata": {
  "kernelspec": {
   "display_name": "Python 3 (ipykernel)",
   "language": "python",
   "name": "python3"
  },
  "language_info": {
   "codemirror_mode": {
    "name": "ipython",
    "version": 3
   },
   "file_extension": ".py",
   "mimetype": "text/x-python",
   "name": "python",
   "nbconvert_exporter": "python",
   "pygments_lexer": "ipython3",
   "version": "3.9.18"
  }
 },
 "nbformat": 4,
 "nbformat_minor": 5
}
