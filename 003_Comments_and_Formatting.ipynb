{
 "cells": [
  {
   "cell_type": "markdown",
   "id": "31841f65-0428-4283-9b06-17b34d08b8c3",
   "metadata": {},
   "source": [
    "# Comments in Python\n",
    "<div style='background:#B1F9E3; color:#000000' class= 'alert alert-box'>\n",
    "    <li>Comments can be used to explain Python code.</li>\n",
    "    <li>Comments can be used to make the code more readable.</li>\n",
    "    <li>Comments can be used to prevent execution when testing code.</li>\n",
    "</div>"
   ]
  },
  {
   "cell_type": "markdown",
   "id": "e7ec8020-86ad-4b82-99bb-611e566e8b1b",
   "metadata": {},
   "source": [
    "<div style='background:#B1F9E3; color:#000000' class= 'alert alert-box'>\n",
    "<h5>Single line comment\n",
    "    </div>"
   ]
  },
  {
   "cell_type": "code",
   "execution_count": 1,
   "id": "8af403a6-4f95-4640-a792-cd6d36565621",
   "metadata": {
    "tags": []
   },
   "outputs": [],
   "source": [
    "# make use of hash(#) symbol to comment a line."
   ]
  },
  {
   "cell_type": "code",
   "execution_count": 2,
   "id": "ccd0268c-ef4d-40f5-ba75-a0e3e238d26f",
   "metadata": {
    "tags": []
   },
   "outputs": [],
   "source": [
    "# the following code explains about assigning a numerical value to the variable\n",
    "a = 100"
   ]
  },
  {
   "cell_type": "code",
   "execution_count": 3,
   "id": "184bfe60-a386-41aa-a51c-3e7849bdb6b0",
   "metadata": {
    "tags": []
   },
   "outputs": [],
   "source": [
    "# Code written by sumanth\n",
    "# code executed on 15/12/2023\n",
    "# code is a part of programming for GIS\n",
    "# we can use multiple hash(#) at multiple lines"
   ]
  },
  {
   "cell_type": "code",
   "execution_count": 4,
   "id": "dc43d1a0-4f7a-4575-8c69-54aff37e7fd1",
   "metadata": {
    "tags": []
   },
   "outputs": [
    {
     "name": "stdout",
     "output_type": "stream",
     "text": [
      "100\n"
     ]
    }
   ],
   "source": [
    "a = 100 # the following code explains about assigning a numerical value to the vari\n",
    "print(a)"
   ]
  },
  {
   "cell_type": "code",
   "execution_count": 5,
   "id": "d9019b2c-1a32-4ba9-8974-be8348afa870",
   "metadata": {
    "tags": []
   },
   "outputs": [],
   "source": [
    "# a = 100 the following code explains about assigning a numerical value to the variable a"
   ]
  },
  {
   "cell_type": "markdown",
   "id": "28fe5838-8664-439a-937e-fd36c20b0958",
   "metadata": {},
   "source": [
    "<div style='background:#B1F9E3; color:#000000' class= 'alert alert-box'>\n",
    "In the above cell the description of the code doesn't have any significance whhile execution\n",
    "of the code.\n",
    "</div>"
   ]
  },
  {
   "cell_type": "markdown",
   "id": "076be012-a098-4ae9-b682-264264bc89a4",
   "metadata": {},
   "source": [
    "<div style='background:#B1F9E3; color:#000000' class= 'alert alert-box'>\n",
    "<h5>Multiple line comment\n",
    "</div>"
   ]
  },
  {
   "cell_type": "code",
   "execution_count": 6,
   "id": "df6f9e1d-4c9e-44ff-90d4-82e6dcbe2388",
   "metadata": {
    "tags": []
   },
   "outputs": [
    {
     "data": {
      "text/plain": [
       "'\\nUse of three single/double quote\\ni am a multi line comment,\\ni can be used to write a paragraph to \\n'"
      ]
     },
     "execution_count": 6,
     "metadata": {},
     "output_type": "execute_result"
    }
   ],
   "source": [
    " \"\"\"\n",
    "Use of three single/double quote\n",
    "i am a multi line comment,\n",
    "i can be used to write a paragraph to \n",
    "\"\"\""
   ]
  },
  {
   "cell_type": "code",
   "execution_count": 7,
   "id": "9a48277f-dc1b-42fd-a82f-36bb8272aef2",
   "metadata": {
    "tags": []
   },
   "outputs": [
    {
     "name": "stdout",
     "output_type": "stream",
     "text": [
      "Hello, World!\n"
     ]
    }
   ],
   "source": [
    "\"\"\"\n",
    "Use of three single/double quote\n",
    "i am a multi line comment,\n",
    "i can be used to write a paragraph to \n",
    "\"\"\"\n",
    "print(\"Hello, World!\")"
   ]
  },
  {
   "cell_type": "markdown",
   "id": "bd7276ad-99b3-499b-b915-aaf80b238c81",
   "metadata": {},
   "source": [
    "<div style='background:#B1F9E3; color:#000000' class= 'alert alert-box'>\n",
    "    <h5>Strings in Python</h5><br>\n",
    "\n",
    "A string is a data type used in programming, that is used to represent text rather than\n",
    "numbers. A string is a sequence of characters and can contain letters, numbers, symbols and\n",
    "even spaces. It must be enclosed in quotation marks for it to be recognized as a string.\n",
    "</div>"
   ]
  },
  {
   "cell_type": "code",
   "execution_count": 8,
   "id": "a4b2dc45-9ad4-4ec5-bd35-954f3d25a928",
   "metadata": {
    "tags": []
   },
   "outputs": [
    {
     "name": "stdout",
     "output_type": "stream",
     "text": [
      "INDIA\n"
     ]
    }
   ],
   "source": [
    "# String with letters\n",
    "country = \"INDIA\"\n",
    "# INDIA is a string assigned to variable country.\n",
    "print(country)"
   ]
  },
  {
   "cell_type": "code",
   "execution_count": 9,
   "id": "18494969-9a74-496e-8e45-85a5d2507f49",
   "metadata": {
    "tags": []
   },
   "outputs": [
    {
     "name": "stdout",
     "output_type": "stream",
     "text": [
      "08212420241\n"
     ]
    },
    {
     "data": {
      "text/plain": [
       "str"
      ]
     },
     "execution_count": 9,
     "metadata": {},
     "output_type": "execute_result"
    }
   ],
   "source": [
    "## String with numbers\n",
    "landline = \"08212420241\"\n",
    "# 08212420241 is a string assigned to variable landline.\n",
    "print(landline)\n",
    "type(landline)"
   ]
  },
  {
   "cell_type": "code",
   "execution_count": 10,
   "id": "f0845192-085f-4a03-a8e3-b054132a5618",
   "metadata": {
    "tags": []
   },
   "outputs": [
    {
     "name": "stdout",
     "output_type": "stream",
     "text": [
      "sumanth2023\n"
     ]
    },
    {
     "data": {
      "text/plain": [
       "str"
      ]
     },
     "execution_count": 10,
     "metadata": {},
     "output_type": "execute_result"
    }
   ],
   "source": [
    "## String with both letters and numbers\n",
    "username = \"sumanth2023\"\n",
    "# sumanth2023 is a string assigned to variable username.\n",
    "print(username)\n",
    "type(username)"
   ]
  },
  {
   "cell_type": "code",
   "execution_count": 11,
   "id": "2f24e307-e778-49ce-b163-044d9f37a858",
   "metadata": {
    "tags": []
   },
   "outputs": [
    {
     "name": "stdout",
     "output_type": "stream",
     "text": [
      "##@$_-#@\n"
     ]
    },
    {
     "data": {
      "text/plain": [
       "str"
      ]
     },
     "execution_count": 11,
     "metadata": {},
     "output_type": "execute_result"
    }
   ],
   "source": [
    "## String with special characters\n",
    "password = \"##@$_-#@\"\n",
    "# ##@$_-#@ is a string assigned to variable password.\n",
    "print(password)\n",
    "type(password)"
   ]
  },
  {
   "cell_type": "code",
   "execution_count": 12,
   "id": "c804af9a-c208-4ca6-8f62-dc66c5e7627c",
   "metadata": {
    "tags": []
   },
   "outputs": [
    {
     "name": "stdout",
     "output_type": "stream",
     "text": [
      "sumanth2023@gmail.com\n"
     ]
    },
    {
     "data": {
      "text/plain": [
       "str"
      ]
     },
     "execution_count": 12,
     "metadata": {},
     "output_type": "execute_result"
    }
   ],
   "source": [
    "## String with letter,number and special characters\n",
    "mailId = \"sumanth2023@gmail.com\"\n",
    "# sumanth2023@gmail.com is a string assigned to variable mailId.\n",
    "print(mailId)\n",
    "type(mailId)"
   ]
  },
  {
   "cell_type": "markdown",
   "id": "8c131cfe-6bc5-4957-ac42-c8e33d3d6cad",
   "metadata": {},
   "source": [
    "<div style='background:#B1F9E3; color:#000000' class= 'alert alert-box'>\n",
    "    <h5>Docstring in python</h5><br>\n",
    "\n",
    "Python documentation strings (or docstrings) provide a convenient way of associating\n",
    "documentation with Python modules, functions, classes, and methods. It’s specified in\n",
    "source code that is used, like a comment, to document a specific segment of code. Unlike\n",
    "conventional source code comments, the docstring should describe what the function does,\n",
    "not how.\n",
    "</div>"
   ]
  },
  {
   "cell_type": "code",
   "execution_count": 13,
   "id": "73f3c176-555c-4540-95ab-110c6b06397f",
   "metadata": {
    "tags": []
   },
   "outputs": [
    {
     "data": {
      "text/plain": [
       "\u001b[1;31mSignature:\u001b[0m \u001b[0mprint\u001b[0m\u001b[1;33m(\u001b[0m\u001b[1;33m*\u001b[0m\u001b[0margs\u001b[0m\u001b[1;33m,\u001b[0m \u001b[0msep\u001b[0m\u001b[1;33m=\u001b[0m\u001b[1;34m' '\u001b[0m\u001b[1;33m,\u001b[0m \u001b[0mend\u001b[0m\u001b[1;33m=\u001b[0m\u001b[1;34m'\\n'\u001b[0m\u001b[1;33m,\u001b[0m \u001b[0mfile\u001b[0m\u001b[1;33m=\u001b[0m\u001b[1;32mNone\u001b[0m\u001b[1;33m,\u001b[0m \u001b[0mflush\u001b[0m\u001b[1;33m=\u001b[0m\u001b[1;32mFalse\u001b[0m\u001b[1;33m)\u001b[0m\u001b[1;33m\u001b[0m\u001b[1;33m\u001b[0m\u001b[0m\n",
       "\u001b[1;31mDocstring:\u001b[0m\n",
       "Prints the values to a stream, or to sys.stdout by default.\n",
       "\n",
       "sep\n",
       "  string inserted between values, default a space.\n",
       "end\n",
       "  string appended after the last value, default a newline.\n",
       "file\n",
       "  a file-like object (stream); defaults to the current sys.stdout.\n",
       "flush\n",
       "  whether to forcibly flush the stream.\n",
       "\u001b[1;31mType:\u001b[0m      builtin_function_or_method"
      ]
     },
     "metadata": {},
     "output_type": "display_data"
    }
   ],
   "source": [
    "# Method 1: put question (?) mark at the end of the code\n",
    "print?"
   ]
  },
  {
   "cell_type": "code",
   "execution_count": 14,
   "id": "c11f00fa-f2f9-47bc-9b12-0c3ef23fa50a",
   "metadata": {
    "tags": []
   },
   "outputs": [],
   "source": [
    "#Method 2: type the partial or full code and press shift + tab"
   ]
  },
  {
   "cell_type": "markdown",
   "id": "0a4a979e-c8a7-4f13-b255-048d6bafc918",
   "metadata": {},
   "source": [
    "### Creating Strings in Python\n"
   ]
  },
  {
   "cell_type": "code",
   "execution_count": 15,
   "id": "8275b9f5-f95b-4249-8cf1-7776fc2c6166",
   "metadata": {
    "tags": []
   },
   "outputs": [
    {
     "name": "stdout",
     "output_type": "stream",
     "text": [
      "Twinkle twinkle little star\n"
     ]
    },
    {
     "data": {
      "text/plain": [
       "str"
      ]
     },
     "execution_count": 15,
     "metadata": {},
     "output_type": "execute_result"
    }
   ],
   "source": [
    "# creating string using single quote\n",
    "poem = 'Twinkle twinkle little star'\n",
    "print(poem)\n",
    "type(poem)"
   ]
  },
  {
   "cell_type": "code",
   "execution_count": 16,
   "id": "f043ed01-66c2-4747-a9d0-d08e9e218a1f",
   "metadata": {
    "tags": []
   },
   "outputs": [
    {
     "name": "stdout",
     "output_type": "stream",
     "text": [
      "johny johny yes pappa\n"
     ]
    },
    {
     "data": {
      "text/plain": [
       "str"
      ]
     },
     "execution_count": 16,
     "metadata": {},
     "output_type": "execute_result"
    }
   ],
   "source": [
    "# creating string using double quote\n",
    "poem1 = \"johny johny yes pappa\"\n",
    "print(poem1)\n",
    "type(poem1)"
   ]
  },
  {
   "cell_type": "code",
   "execution_count": 17,
   "id": "4547e054-d9c3-4aa3-9b3f-9261366f8508",
   "metadata": {
    "tags": []
   },
   "outputs": [
    {
     "name": "stdout",
     "output_type": "stream",
     "text": [
      "Ba ba black sheep\n"
     ]
    },
    {
     "data": {
      "text/plain": [
       "str"
      ]
     },
     "execution_count": 17,
     "metadata": {},
     "output_type": "execute_result"
    }
   ],
   "source": [
    "# creating string using single triple quote\n",
    "poem2 = '''Ba ba black sheep'''\n",
    "print(poem2)\n",
    "type(poem2)"
   ]
  },
  {
   "cell_type": "code",
   "execution_count": 18,
   "id": "666c98fd-8e22-4810-b41a-138686ee791d",
   "metadata": {
    "tags": []
   },
   "outputs": [
    {
     "name": "stdout",
     "output_type": "stream",
     "text": [
      "\n",
      "Ba\n",
      "ba\n",
      "black\n",
      "sheep\n",
      "\n"
     ]
    },
    {
     "data": {
      "text/plain": [
       "str"
      ]
     },
     "execution_count": 18,
     "metadata": {},
     "output_type": "execute_result"
    }
   ],
   "source": [
    "# bringing string to multiple lines using single triple quote \n",
    "poem2 = '''\n",
    "Ba\n",
    "ba\n",
    "black\n",
    "sheep\n",
    "'''\n",
    "print(poem2)\n",
    "type(poem2)"
   ]
  },
  {
   "cell_type": "code",
   "execution_count": 19,
   "id": "bacf33d5-a9fc-4308-b511-eb4cfec1950b",
   "metadata": {
    "tags": []
   },
   "outputs": [
    {
     "ename": "SyntaxError",
     "evalue": "unterminated string literal (detected at line 2) (1519728036.py, line 2)",
     "output_type": "error",
     "traceback": [
      "\u001b[1;36m  Cell \u001b[1;32mIn[19], line 2\u001b[1;36m\u001b[0m\n\u001b[1;33m    poem2 = \"\u001b[0m\n\u001b[1;37m            ^\u001b[0m\n\u001b[1;31mSyntaxError\u001b[0m\u001b[1;31m:\u001b[0m unterminated string literal (detected at line 2)\n"
     ]
    }
   ],
   "source": [
    "# we cannot able to bring string to multiple lines using single/double quote it wil\n",
    "poem2 = \"\n",
    "Ba\n",
    "ba\n",
    "black\n",
    "sheep\n",
    "\"\n",
    "print(poem2)\n",
    "type(poem2)\n"
   ]
  },
  {
   "cell_type": "code",
   "execution_count": 20,
   "id": "047ac198-17f5-49dc-adf0-56cf8af50bd9",
   "metadata": {
    "tags": []
   },
   "outputs": [
    {
     "name": "stdout",
     "output_type": "stream",
     "text": [
      "\n",
      "Ba\n",
      "ba\n",
      "black\n",
      "sheep\n",
      "\n"
     ]
    },
    {
     "data": {
      "text/plain": [
       "str"
      ]
     },
     "execution_count": 20,
     "metadata": {},
     "output_type": "execute_result"
    }
   ],
   "source": [
    "# bringing string to multiple lines using doubled triple quote \n",
    "poem3 = \"\"\"\n",
    "Ba\n",
    "ba\n",
    "black\n",
    "sheep\n",
    "\"\"\"\n",
    "print(poem3)\n",
    "type(poem3)"
   ]
  },
  {
   "cell_type": "markdown",
   "id": "58143a32-f2f7-4c75-bc26-2fba5380b66b",
   "metadata": {},
   "source": [
    "<div style='background:#B1F9E3; color:#000000' class= 'alert alert-box'>\n",
    "<h5>Replicating strings</div>"
   ]
  },
  {
   "cell_type": "code",
   "execution_count": 21,
   "id": "56113eb8-bba2-4543-825d-b146e02bbbdc",
   "metadata": {
    "tags": []
   },
   "outputs": [
    {
     "data": {
      "text/plain": [
       "'twinkling twinkling twinkling twinkling twinkling '"
      ]
     },
     "execution_count": 21,
     "metadata": {},
     "output_type": "execute_result"
    }
   ],
   "source": [
    "star = \"twinkling \"\n",
    "star * 5"
   ]
  },
  {
   "cell_type": "code",
   "execution_count": 22,
   "id": "362359ca-0c46-43d3-a65b-1a59e2f24eed",
   "metadata": {
    "tags": []
   },
   "outputs": [
    {
     "name": "stdout",
     "output_type": "stream",
     "text": [
      "twinkling twinkling twinkling twinkling twinkling \n"
     ]
    }
   ],
   "source": [
    "star = \"twinkling \"\n",
    "replicated = star * 5\n",
    "print(replicated)"
   ]
  },
  {
   "cell_type": "markdown",
   "id": "d4fcf562-0c43-4899-b998-152a6bcd4aa0",
   "metadata": {},
   "source": [
    "<div style='background:#B1F9E3; color:#000000' class= 'alert alert-box'>\n",
    "    <h5>Escape Characters in Python</h5>\n",
    "\n",
    "To insert characters that are illegal in a string, use an escape character.\n",
    "\n",
    "An escape character is a backslash \\ followed by the character you want to insert.\n",
    "\n",
    "An example of an illegal character is a double quote inside a string that is surrounded by\n",
    "double quotes:\n",
    "</div> "
   ]
  },
  {
   "cell_type": "code",
   "execution_count": 23,
   "id": "8a004e14-7076-4a1e-bdd2-a7984245b3b1",
   "metadata": {
    "tags": []
   },
   "outputs": [
    {
     "name": "stdout",
     "output_type": "stream",
     "text": [
      "Twinkle twinkle little star how i wonder what you are\n"
     ]
    }
   ],
   "source": [
    "poem4 = 'Twinkle twinkle little star how i wonder what you are'\n",
    "print(poem4)"
   ]
  },
  {
   "cell_type": "code",
   "execution_count": 24,
   "id": "a0e45279-b69e-4ebc-aca7-7b89ab60b1f5",
   "metadata": {
    "tags": []
   },
   "outputs": [
    {
     "name": "stdout",
     "output_type": "stream",
     "text": [
      "Twinkle twinkle little star\n",
      "how i wonder what you are\n"
     ]
    }
   ],
   "source": [
    "#Bringing the above poem4 to the two lines using \\n as a escape sequence/character\n",
    "poem4 = 'Twinkle twinkle little star\\nhow i wonder what you are'\n",
    "print(poem4)"
   ]
  },
  {
   "cell_type": "code",
   "execution_count": 25,
   "id": "5e912626-d8b0-459a-8a38-e1ed7b114b3a",
   "metadata": {
    "tags": []
   },
   "outputs": [
    {
     "name": "stdout",
     "output_type": "stream",
     "text": [
      "Twinkle twinkle little star\t how i wonder what you are\n"
     ]
    }
   ],
   "source": [
    "#inserting tab between two lines of the poem4 \\t as a escape sequence/character\n",
    "poem4 = 'Twinkle twinkle little star\\t how i wonder what you are'\n",
    "print(poem4)"
   ]
  },
  {
   "cell_type": "code",
   "execution_count": 26,
   "id": "f160d02a-5c05-48cc-b487-732905c80a23",
   "metadata": {
    "tags": []
   },
   "outputs": [
    {
     "name": "stdout",
     "output_type": "stream",
     "text": [
      "Twinkle\n",
      "twinkle\n",
      "little\n",
      "star\n",
      "how\n",
      "i\n",
      "wonder\n",
      "what\n",
      "you\n",
      "are\n"
     ]
    }
   ],
   "source": [
    "#Making every word to new line \\n as a escape sequence/character\n",
    "poem4 = 'Twinkle\\ntwinkle\\nlittle\\nstar\\nhow\\ni\\nwonder\\nwhat\\nyou\\nare'\n",
    "print(poem4)"
   ]
  },
  {
   "cell_type": "code",
   "execution_count": 27,
   "id": "c2e0538c-8920-4088-b548-d84cec178593",
   "metadata": {
    "tags": []
   },
   "outputs": [
    {
     "ename": "SyntaxError",
     "evalue": "invalid syntax. Perhaps you forgot a comma? (1999531233.py, line 4)",
     "output_type": "error",
     "traceback": [
      "\u001b[1;36m  Cell \u001b[1;32mIn[27], line 4\u001b[1;36m\u001b[0m\n\u001b[1;33m    print(\"India capital is \"New delhi\"\")\u001b[0m\n\u001b[1;37m          ^\u001b[0m\n\u001b[1;31mSyntaxError\u001b[0m\u001b[1;31m:\u001b[0m invalid syntax. Perhaps you forgot a comma?\n"
     ]
    }
   ],
   "source": [
    "# Some strings contain double quote within it\n",
    "# here there is an illegal entry of character with quote\n",
    "#this triggers the error and print function cannot able to read the line\n",
    "print(\"India capital is \"New delhi\"\")"
   ]
  },
  {
   "cell_type": "code",
   "execution_count": 28,
   "id": "2afebc9a-e9df-42eb-9f98-fc071e052903",
   "metadata": {
    "tags": []
   },
   "outputs": [
    {
     "name": "stdout",
     "output_type": "stream",
     "text": [
      "India capital is \"New delhi\"\n"
     ]
    }
   ],
   "source": [
    "#Solution is we have to feed escape character/sequence\n",
    "# Insert backslash(\\) before starting of illegal entry and \n",
    "#insert backslash(\\) before ending of illegal entry\n",
    "print(\"India capital is \\\"New delhi\\\"\")"
   ]
  },
  {
   "cell_type": "code",
   "execution_count": 29,
   "id": "c02e12ec-7647-478c-8f93-123a90b75623",
   "metadata": {
    "tags": []
   },
   "outputs": [
    {
     "name": "stdout",
     "output_type": "stream",
     "text": [
      "India capital is 'New delhi'\n"
     ]
    }
   ],
   "source": [
    "#Alternative method\n",
    "print(\"India capital is 'New delhi'\")"
   ]
  },
  {
   "cell_type": "code",
   "execution_count": 30,
   "id": "e5da0315-3db7-49f0-aa1d-49049add711c",
   "metadata": {
    "tags": []
   },
   "outputs": [
    {
     "ename": "SyntaxError",
     "evalue": "invalid syntax (3964979287.py, line 2)",
     "output_type": "error",
     "traceback": [
      "\u001b[1;36m  Cell \u001b[1;32mIn[30], line 2\u001b[1;36m\u001b[0m\n\u001b[1;33m    Five Little \"Ducks\" Ten \"Little\" Buses This \"Little\" Piggy Went to \"Market\" Head \"Shoulders\" Knees and Toes\u001b[0m\n\u001b[1;37m         ^\u001b[0m\n\u001b[1;31mSyntaxError\u001b[0m\u001b[1;31m:\u001b[0m invalid syntax\n"
     ]
    }
   ],
   "source": [
    "#more examples\n",
    "Five Little \"Ducks\" Ten \"Little\" Buses This \"Little\" Piggy Went to \"Market\" Head \"Shoulders\" Knees and Toes"
   ]
  },
  {
   "cell_type": "code",
   "execution_count": 31,
   "id": "fa176e8c-8a41-46c0-8df5-9b2ab0fd91ee",
   "metadata": {
    "tags": []
   },
   "outputs": [
    {
     "name": "stdout",
     "output_type": "stream",
     "text": [
      "Five Little \"Ducks\" Ten \"Little\" Buses This \"Little\" Piggy Went to \"Market\" Head \"Shoulders\" Knees and Toes\n"
     ]
    }
   ],
   "source": [
    "print(\"Five Little \\\"Ducks\\\" Ten \\\"Little\\\" Buses This \\\"Little\\\" Piggy Went to \\\"Market\\\" Head \\\"Shoulders\\\" Knees and Toes\")"
   ]
  },
  {
   "cell_type": "code",
   "execution_count": 32,
   "id": "585c12d6-57da-49c4-a00b-88e563e8b75b",
   "metadata": {
    "tags": []
   },
   "outputs": [
    {
     "name": "stdout",
     "output_type": "stream",
     "text": [
      "Five Little \"Ducks\"\n",
      " Ten \"Little\" Buses\n",
      " This \"Little\" Piggy Went to \"Market\"\n",
      " Head \"Shoulders\" Knees and Toes\n"
     ]
    }
   ],
   "source": [
    "print(\"Five Little \\\"Ducks\\\"\\n Ten \\\"Little\\\" Buses\\n This \\\"Little\\\" Piggy Went to \\\"Market\\\"\\n Head \\\"Shoulders\\\" Knees and Toes\")"
   ]
  },
  {
   "cell_type": "code",
   "execution_count": 33,
   "id": "d31bddc7-f291-4edd-bbab-ad4f79a1c5a0",
   "metadata": {
    "tags": []
   },
   "outputs": [
    {
     "name": "stdout",
     "output_type": "stream",
     "text": [
      "Five Little\n",
      " \"Ducks\"\n",
      " Ten \"Little\" Buses\n",
      " This \"Little\" Piggy\n",
      " Went to \"Market\"\n",
      " Head \"Shoulders\"\n",
      " Knees and Toes\n"
     ]
    }
   ],
   "source": [
    "print(\"Five Little\\n \\\"Ducks\\\"\\n Ten \\\"Little\\\" Buses\\n This \\\"Little\\\" Piggy\\n Went to \\\"Market\\\"\\n Head \\\"Shoulders\\\"\\n Knees and Toes\")"
   ]
  },
  {
   "cell_type": "markdown",
   "id": "1aec2b1b-c487-415f-8ad8-e578f50e1a6a",
   "metadata": {},
   "source": [
    "<div style='background:#B1F9E3; color:#000000' class= 'alert alert-box'>\n",
    "<h5>Finding the length of the string in python\n",
    "</div>"
   ]
  },
  {
   "cell_type": "code",
   "execution_count": 34,
   "id": "052fa5fa-9a26-420b-92c1-dc6cc5d10413",
   "metadata": {
    "tags": []
   },
   "outputs": [
    {
     "data": {
      "text/plain": [
       "5"
      ]
     },
     "execution_count": 34,
     "metadata": {},
     "output_type": "execute_result"
    }
   ],
   "source": [
    "#Checking length of characters in a string using len() function\n",
    "name = \"vinay\"\n",
    "len(name)"
   ]
  },
  {
   "cell_type": "code",
   "execution_count": 35,
   "id": "9c92cf8f-655e-4462-a712-036e5f53b140",
   "metadata": {
    "tags": []
   },
   "outputs": [
    {
     "data": {
      "text/plain": [
       "53"
      ]
     },
     "execution_count": 35,
     "metadata": {},
     "output_type": "execute_result"
    }
   ],
   "source": [
    "len(poem4)"
   ]
  },
  {
   "cell_type": "code",
   "execution_count": 36,
   "id": "af65fb12-3720-49f9-98e7-4ab63e2bd00d",
   "metadata": {
    "tags": []
   },
   "outputs": [
    {
     "data": {
      "text/plain": [
       "19"
      ]
     },
     "execution_count": 36,
     "metadata": {},
     "output_type": "execute_result"
    }
   ],
   "source": [
    "len(poem3)"
   ]
  },
  {
   "cell_type": "code",
   "execution_count": 37,
   "id": "a20d15ec-05cc-4fdd-a678-c7f3d419cd19",
   "metadata": {
    "tags": []
   },
   "outputs": [
    {
     "data": {
      "text/plain": [
       "21"
      ]
     },
     "execution_count": 37,
     "metadata": {},
     "output_type": "execute_result"
    }
   ],
   "source": [
    "len(poem1)"
   ]
  },
  {
   "cell_type": "markdown",
   "id": "924248df-1a23-4338-a8d2-4491fa5fd50b",
   "metadata": {},
   "source": [
    "<div style='background:#B1F9E3; color:#000000' class= 'alert alert-box'>\n",
    "    <h5>Stylizing print function and different ways of printing the content</h5>\n",
    "<i>Method 1: direct method of invoking variable</i>\n",
    "</div>"
   ]
  },
  {
   "cell_type": "code",
   "execution_count": 38,
   "id": "87c114d1-1b8e-4864-8cc5-0571d7f452de",
   "metadata": {
    "tags": []
   },
   "outputs": [
    {
     "name": "stdout",
     "output_type": "stream",
     "text": [
      "Addition of a and b is:  15\n"
     ]
    }
   ],
   "source": [
    "\n",
    "#Method 1: direct method of invoking variable\n",
    "a = 10\n",
    "b = 5\n",
    "c = a + b\n",
    "print(\"Addition of a and b is: \",c)\n"
   ]
  },
  {
   "cell_type": "code",
   "execution_count": 39,
   "id": "efe957a9-d2a0-4b1c-b150-b394e753c2d6",
   "metadata": {
    "tags": []
   },
   "outputs": [
    {
     "name": "stdout",
     "output_type": "stream",
     "text": [
      "Addition of 10 and 5 is:  15\n"
     ]
    }
   ],
   "source": [
    "a = 10\n",
    "b = 5\n",
    "c = a + b\n",
    "print(\"Addition of\", a ,\"and\", b, \"is: \",c)"
   ]
  },
  {
   "cell_type": "markdown",
   "id": "738639e3-5006-44a9-a659-22867f929ee6",
   "metadata": {},
   "source": [
    "<div style='background:#B1F9E3; color:#000000' class= 'alert alert-box'>\n",
    "    <i>Method 2: make use of % formatting</i>\n",
    "</div>"
   ]
  },
  {
   "cell_type": "code",
   "execution_count": 40,
   "id": "4c474a40-d152-44e2-9e94-06e91e5a9969",
   "metadata": {
    "tags": []
   },
   "outputs": [
    {
     "name": "stdout",
     "output_type": "stream",
     "text": [
      "Addition of 10 and 5 is: 15\n"
     ]
    }
   ],
   "source": [
    "# Method 2: make use of % formatting\n",
    "print(\"Addition of %s and %s is: %s\" %(a,b,c))"
   ]
  },
  {
   "cell_type": "code",
   "execution_count": 41,
   "id": "161f067d-1179-4f28-9421-fec791c01c54",
   "metadata": {
    "tags": []
   },
   "outputs": [
    {
     "name": "stdout",
     "output_type": "stream",
     "text": [
      "Addition of 10 and 5 is: 15\n"
     ]
    }
   ],
   "source": [
    "#more example\n",
    "#use of %s to read value as string\n",
    "addi = a + b\n",
    "print(\"Addition of %s and %s is: %s\" %(a,b,addi))"
   ]
  },
  {
   "cell_type": "code",
   "execution_count": 42,
   "id": "ae92794b-77e3-46d7-b3f0-e09abbed76fe",
   "metadata": {
    "tags": []
   },
   "outputs": [
    {
     "name": "stdout",
     "output_type": "stream",
     "text": [
      "Addition of 10 and 5 is: 15\n"
     ]
    }
   ],
   "source": [
    "# use of %d to read value as integer\n",
    "addi = a + b\n",
    "print(\"Addition of %d and %d is: %d\" %(a,b,addi))"
   ]
  },
  {
   "cell_type": "code",
   "execution_count": 43,
   "id": "32c01586-10b3-4df6-bf97-e0ccbe153e89",
   "metadata": {
    "tags": []
   },
   "outputs": [
    {
     "name": "stdout",
     "output_type": "stream",
     "text": [
      "Addition of 10.000000 and 5.000000 is: 15.000000\n"
     ]
    }
   ],
   "source": [
    "#use %f to read value as float\n",
    "addi = a + b\n",
    "print(\"Addition of %f and %f is: %f\" %(a,b,addi))"
   ]
  },
  {
   "cell_type": "code",
   "execution_count": 44,
   "id": "0e9f1e41-20df-4229-872b-3dab6d1373d5",
   "metadata": {
    "tags": []
   },
   "outputs": [
    {
     "name": "stdout",
     "output_type": "stream",
     "text": [
      "Addition of 10.00 and 5.00 is: 15.00\n"
     ]
    }
   ],
   "source": [
    "#use %.2f to read and round value as float with 2 decimal values\n",
    "addi = a + b\n",
    "print(\"Addition of %.2f and %.2f is: %.2f\" %(a,b,addi))"
   ]
  },
  {
   "cell_type": "code",
   "execution_count": 45,
   "id": "f8e9e0f0-08b8-4de3-b492-2d259961a3d7",
   "metadata": {
    "tags": []
   },
   "outputs": [
    {
     "name": "stdout",
     "output_type": "stream",
     "text": [
      "Addition of 10.000 and 5.000 is: 15.000\n"
     ]
    }
   ],
   "source": [
    "#use %.3f to read and round value as float with 3 decimal values\n",
    "addi = a + b\n",
    "print(\"Addition of %.3f and %.3f is: %.3f\" %(a,b,addi))"
   ]
  },
  {
   "cell_type": "markdown",
   "id": "e1329e97-f41c-4515-bb47-ef60a8b0fa51",
   "metadata": {},
   "source": [
    "<div style='background:#B1F9E3; color:#000000' class= 'alert alert-box'>\n",
    "    <i>Method 3: string formatting</i>\n",
    "</div>"
   ]
  },
  {
   "cell_type": "code",
   "execution_count": 46,
   "id": "8ffa99a3-bf71-43c6-b87f-5a6a2639a364",
   "metadata": {
    "tags": []
   },
   "outputs": [
    {
     "name": "stdout",
     "output_type": "stream",
     "text": [
      "Addition of 10 and 5 is: 15\n"
     ]
    }
   ],
   "source": [
    "#string formatting without positions\n",
    "print(\"Addition of {} and {} is: {}\".format(a,b,addi))"
   ]
  },
  {
   "cell_type": "code",
   "execution_count": 47,
   "id": "191b7caa-3a30-4de7-9ca7-e5500acb14dd",
   "metadata": {
    "tags": []
   },
   "outputs": [
    {
     "name": "stdout",
     "output_type": "stream",
     "text": [
      "Addition of 10 and 5 is: 15\n"
     ]
    }
   ],
   "source": [
    "#string formatting with positions\n",
    "print(\"Addition of {2} and {1} is: {0}\".format(addi,b,a))"
   ]
  },
  {
   "cell_type": "code",
   "execution_count": 48,
   "id": "c3a733e4-9c92-453a-b0e4-5ab1503c493b",
   "metadata": {
    "tags": []
   },
   "outputs": [
    {
     "name": "stdout",
     "output_type": "stream",
     "text": [
      "Addition of 10 and 5 is: 15\n"
     ]
    }
   ],
   "source": [
    "print(\"Addition of {1} and {2} is: {0}\".format(addi,a,b))"
   ]
  },
  {
   "cell_type": "code",
   "execution_count": 49,
   "id": "16cb99c7-445e-4b8c-adf1-7b1f155c3691",
   "metadata": {
    "tags": []
   },
   "outputs": [
    {
     "name": "stdout",
     "output_type": "stream",
     "text": [
      "Addition of 10 and 5 is: 15\n"
     ]
    }
   ],
   "source": [
    "print(\"Addition of {0} and {2} is: {1}\".format(a,addi,b))"
   ]
  },
  {
   "cell_type": "markdown",
   "id": "4c312672-56c9-4a70-9755-876de45d5f05",
   "metadata": {},
   "source": [
    "<div style='background:#B1F9E3; color:#000000' class= 'alert alert-box'>\n",
    "<i>Method 4: Formatting with f string</i>\n",
    "</div>"
   ]
  },
  {
   "cell_type": "code",
   "execution_count": 50,
   "id": "7abbe87e-119e-43d5-b654-77be19eebdea",
   "metadata": {
    "tags": []
   },
   "outputs": [
    {
     "name": "stdout",
     "output_type": "stream",
     "text": [
      "Addition of 10 and 5 is: 15\n"
     ]
    }
   ],
   "source": [
    "print(f\"Addition of {a} and {b} is: {addi}\")"
   ]
  },
  {
   "cell_type": "code",
   "execution_count": 51,
   "id": "df5bc136-bc8b-4248-baed-c001a80866c0",
   "metadata": {
    "tags": []
   },
   "outputs": [],
   "source": [
    "# more example\n",
    "x = 89\n",
    "y = 31\n",
    "addi = x + y\n",
    "subt = x - y\n",
    "mult = x * y\n",
    "powe = x ** y\n",
    "divi = x / y\n",
    "floo = x // y\n",
    "modu = x % y"
   ]
  },
  {
   "cell_type": "code",
   "execution_count": 52,
   "id": "656ea4a0-009c-4ef4-9581-50cf2e6cf4e5",
   "metadata": {
    "tags": []
   },
   "outputs": [
    {
     "name": "stdout",
     "output_type": "stream",
     "text": [
      "Addition of 89 and 31 is: 120\n",
      "subtraction of 89 and 31 is: 58\n",
      "Multiplication of 89 and 31 is: 2759\n",
      "Power of 89 and 31 is: 2698299829934026858188701891291272124537823795259869647341289\n",
      "Division of 89 and 31 is: 2.870967741935484\n",
      "Floor division of 89 and 31 is: 2\n",
      "Modulus of 89 and 31 is: 27\n"
     ]
    }
   ],
   "source": [
    "print(f\"Addition of {x} and {y} is: {addi}\")\n",
    "print(f\"subtraction of {x} and {y} is: {subt}\")\n",
    "print(f\"Multiplication of {x} and {y} is: {mult}\")\n",
    "print(f\"Power of {x} and {y} is: {powe}\")\n",
    "print(f\"Division of {x} and {y} is: {divi}\")\n",
    "print(f\"Floor division of {x} and {y} is: {floo}\")\n",
    "print(f\"Modulus of {x} and {y} is: {modu}\")"
   ]
  },
  {
   "cell_type": "markdown",
   "id": "b56ac8da-080b-42b5-b36c-55489d0747f8",
   "metadata": {},
   "source": [
    "<div style='background:#B1F9E3; color:#000000' class= 'alert alert-box'>\n",
    "    <h5>To check current files parent path</h5>\n",
    "</div>"
   ]
  },
  {
   "cell_type": "code",
   "execution_count": 53,
   "id": "d21907ac-1935-4363-b306-744cd9247da6",
   "metadata": {},
   "outputs": [
    {
     "name": "stdout",
     "output_type": "stream",
     "text": [
      "C:\\Users\\wwwsu\\Pratical_Class\n"
     ]
    }
   ],
   "source": [
    "# To check current files parent path\n",
    "import os\n",
    "print(os.getcwd())"
   ]
  },
  {
   "cell_type": "markdown",
   "id": "39d37954-c173-4e85-80f0-872461137198",
   "metadata": {},
   "source": [
    "<div style='background:#B1F9E3; color:#000000' class= 'alert alert-box'>\n",
    "    <h5>Attaching the image to the notebook.</h5>\n",
    "    <i>use markdown cell and drag and drop the image.</i>\n",
    "</div> "
   ]
  },
  {
   "attachments": {
    "d802e7b9-f9bf-4429-867c-49a488c1b659.jpg": {
     "image/jpeg": "[encoded data removed]"
    }
   },
   "cell_type": "markdown",
   "id": "f7227a3f-4790-435e-9b12-69a30c942a6d",
   "metadata": {},
   "source": [
    "![OIP.jpg](attachment:d802e7b9-f9bf-4429-867c-49a488c1b659.jpg)"
   ]
  },
  {
   "cell_type": "code",
   "execution_count": 54,
   "id": "a01bbe25-53ab-4f57-bab6-d38a6ed348c5",
   "metadata": {},
   "outputs": [
    {
     "data": {
      "image/jpeg": "[encoded data removed]",
      "text/plain": [
       "<IPython.core.display.Image object>"
      ]
     },
     "execution_count": 54,
     "metadata": {},
     "output_type": "execute_result"
    }
   ],
   "source": [
    "# Alternate method to insert image to notebook\n",
    "from IPython import display\n",
    "display.Image(\"OIP.jpg\")"
   ]
  }
 ],
 "metadata": {
  "kernelspec": {
   "display_name": "Python 3 (ipykernel)",
   "language": "python",
   "name": "python3"
  },
  "language_info": {
   "codemirror_mode": {
    "name": "ipython",
    "version": 3
   },
   "file_extension": ".py",
   "mimetype": "text/x-python",
   "name": "python",
   "nbconvert_exporter": "python",
   "pygments_lexer": "ipython3",
   "version": "3.12.4"
  }
 },
 "nbformat": 4,
 "nbformat_minor": 5
}
